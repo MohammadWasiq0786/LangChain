{
  "nbformat": 4,
  "nbformat_minor": 0,
  "metadata": {
    "colab": {
      "provenance": [],
      "gpuType": "T4"
    },
    "kernelspec": {
      "name": "python3",
      "display_name": "Python 3"
    },
    "language_info": {
      "name": "python"
    },
    "accelerator": "GPU",
    "widgets": {
      "application/vnd.jupyter.widget-state+json": {
        "9798a128d637417aa74584fb92af73f3": {
          "model_module": "@jupyter-widgets/controls",
          "model_name": "HBoxModel",
          "model_module_version": "1.5.0",
          "state": {
            "_dom_classes": [],
            "_model_module": "@jupyter-widgets/controls",
            "_model_module_version": "1.5.0",
            "_model_name": "HBoxModel",
            "_view_count": null,
            "_view_module": "@jupyter-widgets/controls",
            "_view_module_version": "1.5.0",
            "_view_name": "HBoxView",
            "box_style": "",
            "children": [
              "IPY_MODEL_a32538b6a097454fb0844c1c10a06ade",
              "IPY_MODEL_977b18d5601a4f53bf2bb2dc72832bfe",
              "IPY_MODEL_6f886424a55241269750558436b966fd"
            ],
            "layout": "IPY_MODEL_cbf0e3fd5e31468885c2ccb9657fef56"
          }
        },
        "a32538b6a097454fb0844c1c10a06ade": {
          "model_module": "@jupyter-widgets/controls",
          "model_name": "HTMLModel",
          "model_module_version": "1.5.0",
          "state": {
            "_dom_classes": [],
            "_model_module": "@jupyter-widgets/controls",
            "_model_module_version": "1.5.0",
            "_model_name": "HTMLModel",
            "_view_count": null,
            "_view_module": "@jupyter-widgets/controls",
            "_view_module_version": "1.5.0",
            "_view_name": "HTMLView",
            "description": "",
            "description_tooltip": null,
            "layout": "IPY_MODEL_4adb8d273fd04c5689d80781d1c42f32",
            "placeholder": "​",
            "style": "IPY_MODEL_776fe7f4548f4260b727c51244e741a0",
            "value": "config.json: 100%"
          }
        },
        "977b18d5601a4f53bf2bb2dc72832bfe": {
          "model_module": "@jupyter-widgets/controls",
          "model_name": "FloatProgressModel",
          "model_module_version": "1.5.0",
          "state": {
            "_dom_classes": [],
            "_model_module": "@jupyter-widgets/controls",
            "_model_module_version": "1.5.0",
            "_model_name": "FloatProgressModel",
            "_view_count": null,
            "_view_module": "@jupyter-widgets/controls",
            "_view_module_version": "1.5.0",
            "_view_name": "ProgressView",
            "bar_style": "success",
            "description": "",
            "description_tooltip": null,
            "layout": "IPY_MODEL_9e8c4652768442a3b69ebb97890e1337",
            "max": 877,
            "min": 0,
            "orientation": "horizontal",
            "style": "IPY_MODEL_c07a4ca5527349d08d69fc1e4c258233",
            "value": 877
          }
        },
        "6f886424a55241269750558436b966fd": {
          "model_module": "@jupyter-widgets/controls",
          "model_name": "HTMLModel",
          "model_module_version": "1.5.0",
          "state": {
            "_dom_classes": [],
            "_model_module": "@jupyter-widgets/controls",
            "_model_module_version": "1.5.0",
            "_model_name": "HTMLModel",
            "_view_count": null,
            "_view_module": "@jupyter-widgets/controls",
            "_view_module_version": "1.5.0",
            "_view_name": "HTMLView",
            "description": "",
            "description_tooltip": null,
            "layout": "IPY_MODEL_b07ce33249bc47caba29faa3c81a16b7",
            "placeholder": "​",
            "style": "IPY_MODEL_0c0097d365584fc1999f1138da7cd548",
            "value": " 877/877 [00:00&lt;00:00, 48.5kB/s]"
          }
        },
        "cbf0e3fd5e31468885c2ccb9657fef56": {
          "model_module": "@jupyter-widgets/base",
          "model_name": "LayoutModel",
          "model_module_version": "1.2.0",
          "state": {
            "_model_module": "@jupyter-widgets/base",
            "_model_module_version": "1.2.0",
            "_model_name": "LayoutModel",
            "_view_count": null,
            "_view_module": "@jupyter-widgets/base",
            "_view_module_version": "1.2.0",
            "_view_name": "LayoutView",
            "align_content": null,
            "align_items": null,
            "align_self": null,
            "border": null,
            "bottom": null,
            "display": null,
            "flex": null,
            "flex_flow": null,
            "grid_area": null,
            "grid_auto_columns": null,
            "grid_auto_flow": null,
            "grid_auto_rows": null,
            "grid_column": null,
            "grid_gap": null,
            "grid_row": null,
            "grid_template_areas": null,
            "grid_template_columns": null,
            "grid_template_rows": null,
            "height": null,
            "justify_content": null,
            "justify_items": null,
            "left": null,
            "margin": null,
            "max_height": null,
            "max_width": null,
            "min_height": null,
            "min_width": null,
            "object_fit": null,
            "object_position": null,
            "order": null,
            "overflow": null,
            "overflow_x": null,
            "overflow_y": null,
            "padding": null,
            "right": null,
            "top": null,
            "visibility": null,
            "width": null
          }
        },
        "4adb8d273fd04c5689d80781d1c42f32": {
          "model_module": "@jupyter-widgets/base",
          "model_name": "LayoutModel",
          "model_module_version": "1.2.0",
          "state": {
            "_model_module": "@jupyter-widgets/base",
            "_model_module_version": "1.2.0",
            "_model_name": "LayoutModel",
            "_view_count": null,
            "_view_module": "@jupyter-widgets/base",
            "_view_module_version": "1.2.0",
            "_view_name": "LayoutView",
            "align_content": null,
            "align_items": null,
            "align_self": null,
            "border": null,
            "bottom": null,
            "display": null,
            "flex": null,
            "flex_flow": null,
            "grid_area": null,
            "grid_auto_columns": null,
            "grid_auto_flow": null,
            "grid_auto_rows": null,
            "grid_column": null,
            "grid_gap": null,
            "grid_row": null,
            "grid_template_areas": null,
            "grid_template_columns": null,
            "grid_template_rows": null,
            "height": null,
            "justify_content": null,
            "justify_items": null,
            "left": null,
            "margin": null,
            "max_height": null,
            "max_width": null,
            "min_height": null,
            "min_width": null,
            "object_fit": null,
            "object_position": null,
            "order": null,
            "overflow": null,
            "overflow_x": null,
            "overflow_y": null,
            "padding": null,
            "right": null,
            "top": null,
            "visibility": null,
            "width": null
          }
        },
        "776fe7f4548f4260b727c51244e741a0": {
          "model_module": "@jupyter-widgets/controls",
          "model_name": "DescriptionStyleModel",
          "model_module_version": "1.5.0",
          "state": {
            "_model_module": "@jupyter-widgets/controls",
            "_model_module_version": "1.5.0",
            "_model_name": "DescriptionStyleModel",
            "_view_count": null,
            "_view_module": "@jupyter-widgets/base",
            "_view_module_version": "1.2.0",
            "_view_name": "StyleView",
            "description_width": ""
          }
        },
        "9e8c4652768442a3b69ebb97890e1337": {
          "model_module": "@jupyter-widgets/base",
          "model_name": "LayoutModel",
          "model_module_version": "1.2.0",
          "state": {
            "_model_module": "@jupyter-widgets/base",
            "_model_module_version": "1.2.0",
            "_model_name": "LayoutModel",
            "_view_count": null,
            "_view_module": "@jupyter-widgets/base",
            "_view_module_version": "1.2.0",
            "_view_name": "LayoutView",
            "align_content": null,
            "align_items": null,
            "align_self": null,
            "border": null,
            "bottom": null,
            "display": null,
            "flex": null,
            "flex_flow": null,
            "grid_area": null,
            "grid_auto_columns": null,
            "grid_auto_flow": null,
            "grid_auto_rows": null,
            "grid_column": null,
            "grid_gap": null,
            "grid_row": null,
            "grid_template_areas": null,
            "grid_template_columns": null,
            "grid_template_rows": null,
            "height": null,
            "justify_content": null,
            "justify_items": null,
            "left": null,
            "margin": null,
            "max_height": null,
            "max_width": null,
            "min_height": null,
            "min_width": null,
            "object_fit": null,
            "object_position": null,
            "order": null,
            "overflow": null,
            "overflow_x": null,
            "overflow_y": null,
            "padding": null,
            "right": null,
            "top": null,
            "visibility": null,
            "width": null
          }
        },
        "c07a4ca5527349d08d69fc1e4c258233": {
          "model_module": "@jupyter-widgets/controls",
          "model_name": "ProgressStyleModel",
          "model_module_version": "1.5.0",
          "state": {
            "_model_module": "@jupyter-widgets/controls",
            "_model_module_version": "1.5.0",
            "_model_name": "ProgressStyleModel",
            "_view_count": null,
            "_view_module": "@jupyter-widgets/base",
            "_view_module_version": "1.2.0",
            "_view_name": "StyleView",
            "bar_color": null,
            "description_width": ""
          }
        },
        "b07ce33249bc47caba29faa3c81a16b7": {
          "model_module": "@jupyter-widgets/base",
          "model_name": "LayoutModel",
          "model_module_version": "1.2.0",
          "state": {
            "_model_module": "@jupyter-widgets/base",
            "_model_module_version": "1.2.0",
            "_model_name": "LayoutModel",
            "_view_count": null,
            "_view_module": "@jupyter-widgets/base",
            "_view_module_version": "1.2.0",
            "_view_name": "LayoutView",
            "align_content": null,
            "align_items": null,
            "align_self": null,
            "border": null,
            "bottom": null,
            "display": null,
            "flex": null,
            "flex_flow": null,
            "grid_area": null,
            "grid_auto_columns": null,
            "grid_auto_flow": null,
            "grid_auto_rows": null,
            "grid_column": null,
            "grid_gap": null,
            "grid_row": null,
            "grid_template_areas": null,
            "grid_template_columns": null,
            "grid_template_rows": null,
            "height": null,
            "justify_content": null,
            "justify_items": null,
            "left": null,
            "margin": null,
            "max_height": null,
            "max_width": null,
            "min_height": null,
            "min_width": null,
            "object_fit": null,
            "object_position": null,
            "order": null,
            "overflow": null,
            "overflow_x": null,
            "overflow_y": null,
            "padding": null,
            "right": null,
            "top": null,
            "visibility": null,
            "width": null
          }
        },
        "0c0097d365584fc1999f1138da7cd548": {
          "model_module": "@jupyter-widgets/controls",
          "model_name": "DescriptionStyleModel",
          "model_module_version": "1.5.0",
          "state": {
            "_model_module": "@jupyter-widgets/controls",
            "_model_module_version": "1.5.0",
            "_model_name": "DescriptionStyleModel",
            "_view_count": null,
            "_view_module": "@jupyter-widgets/base",
            "_view_module_version": "1.2.0",
            "_view_name": "StyleView",
            "description_width": ""
          }
        },
        "b19031a776454a39ba3ec16ec51556a2": {
          "model_module": "@jupyter-widgets/controls",
          "model_name": "HBoxModel",
          "model_module_version": "1.5.0",
          "state": {
            "_dom_classes": [],
            "_model_module": "@jupyter-widgets/controls",
            "_model_module_version": "1.5.0",
            "_model_name": "HBoxModel",
            "_view_count": null,
            "_view_module": "@jupyter-widgets/controls",
            "_view_module_version": "1.5.0",
            "_view_name": "HBoxView",
            "box_style": "",
            "children": [
              "IPY_MODEL_c5e6d304be474cc1a8dbe2423edb5b7f",
              "IPY_MODEL_e1048b0709464ad1be95e41a862ab5a1",
              "IPY_MODEL_2ed5d5bdd17c4d87b35e21b274204668"
            ],
            "layout": "IPY_MODEL_3446a5219313456eb221e69d3b623615"
          }
        },
        "c5e6d304be474cc1a8dbe2423edb5b7f": {
          "model_module": "@jupyter-widgets/controls",
          "model_name": "HTMLModel",
          "model_module_version": "1.5.0",
          "state": {
            "_dom_classes": [],
            "_model_module": "@jupyter-widgets/controls",
            "_model_module_version": "1.5.0",
            "_model_name": "HTMLModel",
            "_view_count": null,
            "_view_module": "@jupyter-widgets/controls",
            "_view_module_version": "1.5.0",
            "_view_name": "HTMLView",
            "description": "",
            "description_tooltip": null,
            "layout": "IPY_MODEL_347568f9dc1540eb9c011b6fff36559c",
            "placeholder": "​",
            "style": "IPY_MODEL_587072b3f81c452d95c12751c6b2931d",
            "value": "model.safetensors: 100%"
          }
        },
        "e1048b0709464ad1be95e41a862ab5a1": {
          "model_module": "@jupyter-widgets/controls",
          "model_name": "FloatProgressModel",
          "model_module_version": "1.5.0",
          "state": {
            "_dom_classes": [],
            "_model_module": "@jupyter-widgets/controls",
            "_model_module_version": "1.5.0",
            "_model_name": "FloatProgressModel",
            "_view_count": null,
            "_view_module": "@jupyter-widgets/controls",
            "_view_module_version": "1.5.0",
            "_view_name": "ProgressView",
            "bar_style": "success",
            "description": "",
            "description_tooltip": null,
            "layout": "IPY_MODEL_1f9f068b3eef4b7e9bc8db4e419dc044",
            "max": 2471645608,
            "min": 0,
            "orientation": "horizontal",
            "style": "IPY_MODEL_18a6e9d8397e45bf8de6a9d595a40a26",
            "value": 2471645608
          }
        },
        "2ed5d5bdd17c4d87b35e21b274204668": {
          "model_module": "@jupyter-widgets/controls",
          "model_name": "HTMLModel",
          "model_module_version": "1.5.0",
          "state": {
            "_dom_classes": [],
            "_model_module": "@jupyter-widgets/controls",
            "_model_module_version": "1.5.0",
            "_model_name": "HTMLModel",
            "_view_count": null,
            "_view_module": "@jupyter-widgets/controls",
            "_view_module_version": "1.5.0",
            "_view_name": "HTMLView",
            "description": "",
            "description_tooltip": null,
            "layout": "IPY_MODEL_1307e70d62924b019d6d389f2834f21b",
            "placeholder": "​",
            "style": "IPY_MODEL_8b86f2a6d0bf465888d52e0876ea5f40",
            "value": " 2.47G/2.47G [00:58&lt;00:00, 42.4MB/s]"
          }
        },
        "3446a5219313456eb221e69d3b623615": {
          "model_module": "@jupyter-widgets/base",
          "model_name": "LayoutModel",
          "model_module_version": "1.2.0",
          "state": {
            "_model_module": "@jupyter-widgets/base",
            "_model_module_version": "1.2.0",
            "_model_name": "LayoutModel",
            "_view_count": null,
            "_view_module": "@jupyter-widgets/base",
            "_view_module_version": "1.2.0",
            "_view_name": "LayoutView",
            "align_content": null,
            "align_items": null,
            "align_self": null,
            "border": null,
            "bottom": null,
            "display": null,
            "flex": null,
            "flex_flow": null,
            "grid_area": null,
            "grid_auto_columns": null,
            "grid_auto_flow": null,
            "grid_auto_rows": null,
            "grid_column": null,
            "grid_gap": null,
            "grid_row": null,
            "grid_template_areas": null,
            "grid_template_columns": null,
            "grid_template_rows": null,
            "height": null,
            "justify_content": null,
            "justify_items": null,
            "left": null,
            "margin": null,
            "max_height": null,
            "max_width": null,
            "min_height": null,
            "min_width": null,
            "object_fit": null,
            "object_position": null,
            "order": null,
            "overflow": null,
            "overflow_x": null,
            "overflow_y": null,
            "padding": null,
            "right": null,
            "top": null,
            "visibility": null,
            "width": null
          }
        },
        "347568f9dc1540eb9c011b6fff36559c": {
          "model_module": "@jupyter-widgets/base",
          "model_name": "LayoutModel",
          "model_module_version": "1.2.0",
          "state": {
            "_model_module": "@jupyter-widgets/base",
            "_model_module_version": "1.2.0",
            "_model_name": "LayoutModel",
            "_view_count": null,
            "_view_module": "@jupyter-widgets/base",
            "_view_module_version": "1.2.0",
            "_view_name": "LayoutView",
            "align_content": null,
            "align_items": null,
            "align_self": null,
            "border": null,
            "bottom": null,
            "display": null,
            "flex": null,
            "flex_flow": null,
            "grid_area": null,
            "grid_auto_columns": null,
            "grid_auto_flow": null,
            "grid_auto_rows": null,
            "grid_column": null,
            "grid_gap": null,
            "grid_row": null,
            "grid_template_areas": null,
            "grid_template_columns": null,
            "grid_template_rows": null,
            "height": null,
            "justify_content": null,
            "justify_items": null,
            "left": null,
            "margin": null,
            "max_height": null,
            "max_width": null,
            "min_height": null,
            "min_width": null,
            "object_fit": null,
            "object_position": null,
            "order": null,
            "overflow": null,
            "overflow_x": null,
            "overflow_y": null,
            "padding": null,
            "right": null,
            "top": null,
            "visibility": null,
            "width": null
          }
        },
        "587072b3f81c452d95c12751c6b2931d": {
          "model_module": "@jupyter-widgets/controls",
          "model_name": "DescriptionStyleModel",
          "model_module_version": "1.5.0",
          "state": {
            "_model_module": "@jupyter-widgets/controls",
            "_model_module_version": "1.5.0",
            "_model_name": "DescriptionStyleModel",
            "_view_count": null,
            "_view_module": "@jupyter-widgets/base",
            "_view_module_version": "1.2.0",
            "_view_name": "StyleView",
            "description_width": ""
          }
        },
        "1f9f068b3eef4b7e9bc8db4e419dc044": {
          "model_module": "@jupyter-widgets/base",
          "model_name": "LayoutModel",
          "model_module_version": "1.2.0",
          "state": {
            "_model_module": "@jupyter-widgets/base",
            "_model_module_version": "1.2.0",
            "_model_name": "LayoutModel",
            "_view_count": null,
            "_view_module": "@jupyter-widgets/base",
            "_view_module_version": "1.2.0",
            "_view_name": "LayoutView",
            "align_content": null,
            "align_items": null,
            "align_self": null,
            "border": null,
            "bottom": null,
            "display": null,
            "flex": null,
            "flex_flow": null,
            "grid_area": null,
            "grid_auto_columns": null,
            "grid_auto_flow": null,
            "grid_auto_rows": null,
            "grid_column": null,
            "grid_gap": null,
            "grid_row": null,
            "grid_template_areas": null,
            "grid_template_columns": null,
            "grid_template_rows": null,
            "height": null,
            "justify_content": null,
            "justify_items": null,
            "left": null,
            "margin": null,
            "max_height": null,
            "max_width": null,
            "min_height": null,
            "min_width": null,
            "object_fit": null,
            "object_position": null,
            "order": null,
            "overflow": null,
            "overflow_x": null,
            "overflow_y": null,
            "padding": null,
            "right": null,
            "top": null,
            "visibility": null,
            "width": null
          }
        },
        "18a6e9d8397e45bf8de6a9d595a40a26": {
          "model_module": "@jupyter-widgets/controls",
          "model_name": "ProgressStyleModel",
          "model_module_version": "1.5.0",
          "state": {
            "_model_module": "@jupyter-widgets/controls",
            "_model_module_version": "1.5.0",
            "_model_name": "ProgressStyleModel",
            "_view_count": null,
            "_view_module": "@jupyter-widgets/base",
            "_view_module_version": "1.2.0",
            "_view_name": "StyleView",
            "bar_color": null,
            "description_width": ""
          }
        },
        "1307e70d62924b019d6d389f2834f21b": {
          "model_module": "@jupyter-widgets/base",
          "model_name": "LayoutModel",
          "model_module_version": "1.2.0",
          "state": {
            "_model_module": "@jupyter-widgets/base",
            "_model_module_version": "1.2.0",
            "_model_name": "LayoutModel",
            "_view_count": null,
            "_view_module": "@jupyter-widgets/base",
            "_view_module_version": "1.2.0",
            "_view_name": "LayoutView",
            "align_content": null,
            "align_items": null,
            "align_self": null,
            "border": null,
            "bottom": null,
            "display": null,
            "flex": null,
            "flex_flow": null,
            "grid_area": null,
            "grid_auto_columns": null,
            "grid_auto_flow": null,
            "grid_auto_rows": null,
            "grid_column": null,
            "grid_gap": null,
            "grid_row": null,
            "grid_template_areas": null,
            "grid_template_columns": null,
            "grid_template_rows": null,
            "height": null,
            "justify_content": null,
            "justify_items": null,
            "left": null,
            "margin": null,
            "max_height": null,
            "max_width": null,
            "min_height": null,
            "min_width": null,
            "object_fit": null,
            "object_position": null,
            "order": null,
            "overflow": null,
            "overflow_x": null,
            "overflow_y": null,
            "padding": null,
            "right": null,
            "top": null,
            "visibility": null,
            "width": null
          }
        },
        "8b86f2a6d0bf465888d52e0876ea5f40": {
          "model_module": "@jupyter-widgets/controls",
          "model_name": "DescriptionStyleModel",
          "model_module_version": "1.5.0",
          "state": {
            "_model_module": "@jupyter-widgets/controls",
            "_model_module_version": "1.5.0",
            "_model_name": "DescriptionStyleModel",
            "_view_count": null,
            "_view_module": "@jupyter-widgets/base",
            "_view_module_version": "1.2.0",
            "_view_name": "StyleView",
            "description_width": ""
          }
        },
        "0a1e01defe0747f28f45d51fe276019d": {
          "model_module": "@jupyter-widgets/controls",
          "model_name": "HBoxModel",
          "model_module_version": "1.5.0",
          "state": {
            "_dom_classes": [],
            "_model_module": "@jupyter-widgets/controls",
            "_model_module_version": "1.5.0",
            "_model_name": "HBoxModel",
            "_view_count": null,
            "_view_module": "@jupyter-widgets/controls",
            "_view_module_version": "1.5.0",
            "_view_name": "HBoxView",
            "box_style": "",
            "children": [
              "IPY_MODEL_4f571738e7e647a583fbf2a76eb774a3",
              "IPY_MODEL_99153ac4be314ebd82b2ee2c1ddc88f7",
              "IPY_MODEL_91df89f9e1fa47ed881dbe4d56c57062"
            ],
            "layout": "IPY_MODEL_92ff5c9f29f8436d804ae75422cfb4d2"
          }
        },
        "4f571738e7e647a583fbf2a76eb774a3": {
          "model_module": "@jupyter-widgets/controls",
          "model_name": "HTMLModel",
          "model_module_version": "1.5.0",
          "state": {
            "_dom_classes": [],
            "_model_module": "@jupyter-widgets/controls",
            "_model_module_version": "1.5.0",
            "_model_name": "HTMLModel",
            "_view_count": null,
            "_view_module": "@jupyter-widgets/controls",
            "_view_module_version": "1.5.0",
            "_view_name": "HTMLView",
            "description": "",
            "description_tooltip": null,
            "layout": "IPY_MODEL_062f110365124b6d881060d4735acf67",
            "placeholder": "​",
            "style": "IPY_MODEL_5cb39bc520e14829828bb5431c7d9255",
            "value": "generation_config.json: 100%"
          }
        },
        "99153ac4be314ebd82b2ee2c1ddc88f7": {
          "model_module": "@jupyter-widgets/controls",
          "model_name": "FloatProgressModel",
          "model_module_version": "1.5.0",
          "state": {
            "_dom_classes": [],
            "_model_module": "@jupyter-widgets/controls",
            "_model_module_version": "1.5.0",
            "_model_name": "FloatProgressModel",
            "_view_count": null,
            "_view_module": "@jupyter-widgets/controls",
            "_view_module_version": "1.5.0",
            "_view_name": "ProgressView",
            "bar_style": "success",
            "description": "",
            "description_tooltip": null,
            "layout": "IPY_MODEL_e1120d21a4ed4ca0a9d7cd52c4e4c046",
            "max": 189,
            "min": 0,
            "orientation": "horizontal",
            "style": "IPY_MODEL_09ab331a79e3490e9e6e1850dc253f80",
            "value": 189
          }
        },
        "91df89f9e1fa47ed881dbe4d56c57062": {
          "model_module": "@jupyter-widgets/controls",
          "model_name": "HTMLModel",
          "model_module_version": "1.5.0",
          "state": {
            "_dom_classes": [],
            "_model_module": "@jupyter-widgets/controls",
            "_model_module_version": "1.5.0",
            "_model_name": "HTMLModel",
            "_view_count": null,
            "_view_module": "@jupyter-widgets/controls",
            "_view_module_version": "1.5.0",
            "_view_name": "HTMLView",
            "description": "",
            "description_tooltip": null,
            "layout": "IPY_MODEL_55db977eb2b0485086345280174d17ce",
            "placeholder": "​",
            "style": "IPY_MODEL_eaa34a051fca4c66a06ef3324d1949f8",
            "value": " 189/189 [00:00&lt;00:00, 9.99kB/s]"
          }
        },
        "92ff5c9f29f8436d804ae75422cfb4d2": {
          "model_module": "@jupyter-widgets/base",
          "model_name": "LayoutModel",
          "model_module_version": "1.2.0",
          "state": {
            "_model_module": "@jupyter-widgets/base",
            "_model_module_version": "1.2.0",
            "_model_name": "LayoutModel",
            "_view_count": null,
            "_view_module": "@jupyter-widgets/base",
            "_view_module_version": "1.2.0",
            "_view_name": "LayoutView",
            "align_content": null,
            "align_items": null,
            "align_self": null,
            "border": null,
            "bottom": null,
            "display": null,
            "flex": null,
            "flex_flow": null,
            "grid_area": null,
            "grid_auto_columns": null,
            "grid_auto_flow": null,
            "grid_auto_rows": null,
            "grid_column": null,
            "grid_gap": null,
            "grid_row": null,
            "grid_template_areas": null,
            "grid_template_columns": null,
            "grid_template_rows": null,
            "height": null,
            "justify_content": null,
            "justify_items": null,
            "left": null,
            "margin": null,
            "max_height": null,
            "max_width": null,
            "min_height": null,
            "min_width": null,
            "object_fit": null,
            "object_position": null,
            "order": null,
            "overflow": null,
            "overflow_x": null,
            "overflow_y": null,
            "padding": null,
            "right": null,
            "top": null,
            "visibility": null,
            "width": null
          }
        },
        "062f110365124b6d881060d4735acf67": {
          "model_module": "@jupyter-widgets/base",
          "model_name": "LayoutModel",
          "model_module_version": "1.2.0",
          "state": {
            "_model_module": "@jupyter-widgets/base",
            "_model_module_version": "1.2.0",
            "_model_name": "LayoutModel",
            "_view_count": null,
            "_view_module": "@jupyter-widgets/base",
            "_view_module_version": "1.2.0",
            "_view_name": "LayoutView",
            "align_content": null,
            "align_items": null,
            "align_self": null,
            "border": null,
            "bottom": null,
            "display": null,
            "flex": null,
            "flex_flow": null,
            "grid_area": null,
            "grid_auto_columns": null,
            "grid_auto_flow": null,
            "grid_auto_rows": null,
            "grid_column": null,
            "grid_gap": null,
            "grid_row": null,
            "grid_template_areas": null,
            "grid_template_columns": null,
            "grid_template_rows": null,
            "height": null,
            "justify_content": null,
            "justify_items": null,
            "left": null,
            "margin": null,
            "max_height": null,
            "max_width": null,
            "min_height": null,
            "min_width": null,
            "object_fit": null,
            "object_position": null,
            "order": null,
            "overflow": null,
            "overflow_x": null,
            "overflow_y": null,
            "padding": null,
            "right": null,
            "top": null,
            "visibility": null,
            "width": null
          }
        },
        "5cb39bc520e14829828bb5431c7d9255": {
          "model_module": "@jupyter-widgets/controls",
          "model_name": "DescriptionStyleModel",
          "model_module_version": "1.5.0",
          "state": {
            "_model_module": "@jupyter-widgets/controls",
            "_model_module_version": "1.5.0",
            "_model_name": "DescriptionStyleModel",
            "_view_count": null,
            "_view_module": "@jupyter-widgets/base",
            "_view_module_version": "1.2.0",
            "_view_name": "StyleView",
            "description_width": ""
          }
        },
        "e1120d21a4ed4ca0a9d7cd52c4e4c046": {
          "model_module": "@jupyter-widgets/base",
          "model_name": "LayoutModel",
          "model_module_version": "1.2.0",
          "state": {
            "_model_module": "@jupyter-widgets/base",
            "_model_module_version": "1.2.0",
            "_model_name": "LayoutModel",
            "_view_count": null,
            "_view_module": "@jupyter-widgets/base",
            "_view_module_version": "1.2.0",
            "_view_name": "LayoutView",
            "align_content": null,
            "align_items": null,
            "align_self": null,
            "border": null,
            "bottom": null,
            "display": null,
            "flex": null,
            "flex_flow": null,
            "grid_area": null,
            "grid_auto_columns": null,
            "grid_auto_flow": null,
            "grid_auto_rows": null,
            "grid_column": null,
            "grid_gap": null,
            "grid_row": null,
            "grid_template_areas": null,
            "grid_template_columns": null,
            "grid_template_rows": null,
            "height": null,
            "justify_content": null,
            "justify_items": null,
            "left": null,
            "margin": null,
            "max_height": null,
            "max_width": null,
            "min_height": null,
            "min_width": null,
            "object_fit": null,
            "object_position": null,
            "order": null,
            "overflow": null,
            "overflow_x": null,
            "overflow_y": null,
            "padding": null,
            "right": null,
            "top": null,
            "visibility": null,
            "width": null
          }
        },
        "09ab331a79e3490e9e6e1850dc253f80": {
          "model_module": "@jupyter-widgets/controls",
          "model_name": "ProgressStyleModel",
          "model_module_version": "1.5.0",
          "state": {
            "_model_module": "@jupyter-widgets/controls",
            "_model_module_version": "1.5.0",
            "_model_name": "ProgressStyleModel",
            "_view_count": null,
            "_view_module": "@jupyter-widgets/base",
            "_view_module_version": "1.2.0",
            "_view_name": "StyleView",
            "bar_color": null,
            "description_width": ""
          }
        },
        "55db977eb2b0485086345280174d17ce": {
          "model_module": "@jupyter-widgets/base",
          "model_name": "LayoutModel",
          "model_module_version": "1.2.0",
          "state": {
            "_model_module": "@jupyter-widgets/base",
            "_model_module_version": "1.2.0",
            "_model_name": "LayoutModel",
            "_view_count": null,
            "_view_module": "@jupyter-widgets/base",
            "_view_module_version": "1.2.0",
            "_view_name": "LayoutView",
            "align_content": null,
            "align_items": null,
            "align_self": null,
            "border": null,
            "bottom": null,
            "display": null,
            "flex": null,
            "flex_flow": null,
            "grid_area": null,
            "grid_auto_columns": null,
            "grid_auto_flow": null,
            "grid_auto_rows": null,
            "grid_column": null,
            "grid_gap": null,
            "grid_row": null,
            "grid_template_areas": null,
            "grid_template_columns": null,
            "grid_template_rows": null,
            "height": null,
            "justify_content": null,
            "justify_items": null,
            "left": null,
            "margin": null,
            "max_height": null,
            "max_width": null,
            "min_height": null,
            "min_width": null,
            "object_fit": null,
            "object_position": null,
            "order": null,
            "overflow": null,
            "overflow_x": null,
            "overflow_y": null,
            "padding": null,
            "right": null,
            "top": null,
            "visibility": null,
            "width": null
          }
        },
        "eaa34a051fca4c66a06ef3324d1949f8": {
          "model_module": "@jupyter-widgets/controls",
          "model_name": "DescriptionStyleModel",
          "model_module_version": "1.5.0",
          "state": {
            "_model_module": "@jupyter-widgets/controls",
            "_model_module_version": "1.5.0",
            "_model_name": "DescriptionStyleModel",
            "_view_count": null,
            "_view_module": "@jupyter-widgets/base",
            "_view_module_version": "1.2.0",
            "_view_name": "StyleView",
            "description_width": ""
          }
        },
        "8a0293a746fa4a169567347aa4dc1d16": {
          "model_module": "@jupyter-widgets/controls",
          "model_name": "HBoxModel",
          "model_module_version": "1.5.0",
          "state": {
            "_dom_classes": [],
            "_model_module": "@jupyter-widgets/controls",
            "_model_module_version": "1.5.0",
            "_model_name": "HBoxModel",
            "_view_count": null,
            "_view_module": "@jupyter-widgets/controls",
            "_view_module_version": "1.5.0",
            "_view_name": "HBoxView",
            "box_style": "",
            "children": [
              "IPY_MODEL_46bedb3ab8eb4c369289665bf8baa85b",
              "IPY_MODEL_b2760195fd6647d3a3350a1c0c82c1e5",
              "IPY_MODEL_dfe969201ffe4635a04bd714bbb6b049"
            ],
            "layout": "IPY_MODEL_eeefe1a4485c4f03b8085086d9cdc62e"
          }
        },
        "46bedb3ab8eb4c369289665bf8baa85b": {
          "model_module": "@jupyter-widgets/controls",
          "model_name": "HTMLModel",
          "model_module_version": "1.5.0",
          "state": {
            "_dom_classes": [],
            "_model_module": "@jupyter-widgets/controls",
            "_model_module_version": "1.5.0",
            "_model_name": "HTMLModel",
            "_view_count": null,
            "_view_module": "@jupyter-widgets/controls",
            "_view_module_version": "1.5.0",
            "_view_name": "HTMLView",
            "description": "",
            "description_tooltip": null,
            "layout": "IPY_MODEL_c2978ded62794a129d7c7891c7ed75e9",
            "placeholder": "​",
            "style": "IPY_MODEL_18a807cae204429087c407f0945d939c",
            "value": "tokenizer_config.json: 100%"
          }
        },
        "b2760195fd6647d3a3350a1c0c82c1e5": {
          "model_module": "@jupyter-widgets/controls",
          "model_name": "FloatProgressModel",
          "model_module_version": "1.5.0",
          "state": {
            "_dom_classes": [],
            "_model_module": "@jupyter-widgets/controls",
            "_model_module_version": "1.5.0",
            "_model_name": "FloatProgressModel",
            "_view_count": null,
            "_view_module": "@jupyter-widgets/controls",
            "_view_module_version": "1.5.0",
            "_view_name": "ProgressView",
            "bar_style": "success",
            "description": "",
            "description_tooltip": null,
            "layout": "IPY_MODEL_21544c8960df463bbc91ee975954e2af",
            "max": 54528,
            "min": 0,
            "orientation": "horizontal",
            "style": "IPY_MODEL_a5f2a437488a4476a9615d5c91fa9730",
            "value": 54528
          }
        },
        "dfe969201ffe4635a04bd714bbb6b049": {
          "model_module": "@jupyter-widgets/controls",
          "model_name": "HTMLModel",
          "model_module_version": "1.5.0",
          "state": {
            "_dom_classes": [],
            "_model_module": "@jupyter-widgets/controls",
            "_model_module_version": "1.5.0",
            "_model_name": "HTMLModel",
            "_view_count": null,
            "_view_module": "@jupyter-widgets/controls",
            "_view_module_version": "1.5.0",
            "_view_name": "HTMLView",
            "description": "",
            "description_tooltip": null,
            "layout": "IPY_MODEL_4fe1705315ea451cba1c9dd3d8e26703",
            "placeholder": "​",
            "style": "IPY_MODEL_5c68952810e741a09b6e0c2dcf657f55",
            "value": " 54.5k/54.5k [00:00&lt;00:00, 3.57MB/s]"
          }
        },
        "eeefe1a4485c4f03b8085086d9cdc62e": {
          "model_module": "@jupyter-widgets/base",
          "model_name": "LayoutModel",
          "model_module_version": "1.2.0",
          "state": {
            "_model_module": "@jupyter-widgets/base",
            "_model_module_version": "1.2.0",
            "_model_name": "LayoutModel",
            "_view_count": null,
            "_view_module": "@jupyter-widgets/base",
            "_view_module_version": "1.2.0",
            "_view_name": "LayoutView",
            "align_content": null,
            "align_items": null,
            "align_self": null,
            "border": null,
            "bottom": null,
            "display": null,
            "flex": null,
            "flex_flow": null,
            "grid_area": null,
            "grid_auto_columns": null,
            "grid_auto_flow": null,
            "grid_auto_rows": null,
            "grid_column": null,
            "grid_gap": null,
            "grid_row": null,
            "grid_template_areas": null,
            "grid_template_columns": null,
            "grid_template_rows": null,
            "height": null,
            "justify_content": null,
            "justify_items": null,
            "left": null,
            "margin": null,
            "max_height": null,
            "max_width": null,
            "min_height": null,
            "min_width": null,
            "object_fit": null,
            "object_position": null,
            "order": null,
            "overflow": null,
            "overflow_x": null,
            "overflow_y": null,
            "padding": null,
            "right": null,
            "top": null,
            "visibility": null,
            "width": null
          }
        },
        "c2978ded62794a129d7c7891c7ed75e9": {
          "model_module": "@jupyter-widgets/base",
          "model_name": "LayoutModel",
          "model_module_version": "1.2.0",
          "state": {
            "_model_module": "@jupyter-widgets/base",
            "_model_module_version": "1.2.0",
            "_model_name": "LayoutModel",
            "_view_count": null,
            "_view_module": "@jupyter-widgets/base",
            "_view_module_version": "1.2.0",
            "_view_name": "LayoutView",
            "align_content": null,
            "align_items": null,
            "align_self": null,
            "border": null,
            "bottom": null,
            "display": null,
            "flex": null,
            "flex_flow": null,
            "grid_area": null,
            "grid_auto_columns": null,
            "grid_auto_flow": null,
            "grid_auto_rows": null,
            "grid_column": null,
            "grid_gap": null,
            "grid_row": null,
            "grid_template_areas": null,
            "grid_template_columns": null,
            "grid_template_rows": null,
            "height": null,
            "justify_content": null,
            "justify_items": null,
            "left": null,
            "margin": null,
            "max_height": null,
            "max_width": null,
            "min_height": null,
            "min_width": null,
            "object_fit": null,
            "object_position": null,
            "order": null,
            "overflow": null,
            "overflow_x": null,
            "overflow_y": null,
            "padding": null,
            "right": null,
            "top": null,
            "visibility": null,
            "width": null
          }
        },
        "18a807cae204429087c407f0945d939c": {
          "model_module": "@jupyter-widgets/controls",
          "model_name": "DescriptionStyleModel",
          "model_module_version": "1.5.0",
          "state": {
            "_model_module": "@jupyter-widgets/controls",
            "_model_module_version": "1.5.0",
            "_model_name": "DescriptionStyleModel",
            "_view_count": null,
            "_view_module": "@jupyter-widgets/base",
            "_view_module_version": "1.2.0",
            "_view_name": "StyleView",
            "description_width": ""
          }
        },
        "21544c8960df463bbc91ee975954e2af": {
          "model_module": "@jupyter-widgets/base",
          "model_name": "LayoutModel",
          "model_module_version": "1.2.0",
          "state": {
            "_model_module": "@jupyter-widgets/base",
            "_model_module_version": "1.2.0",
            "_model_name": "LayoutModel",
            "_view_count": null,
            "_view_module": "@jupyter-widgets/base",
            "_view_module_version": "1.2.0",
            "_view_name": "LayoutView",
            "align_content": null,
            "align_items": null,
            "align_self": null,
            "border": null,
            "bottom": null,
            "display": null,
            "flex": null,
            "flex_flow": null,
            "grid_area": null,
            "grid_auto_columns": null,
            "grid_auto_flow": null,
            "grid_auto_rows": null,
            "grid_column": null,
            "grid_gap": null,
            "grid_row": null,
            "grid_template_areas": null,
            "grid_template_columns": null,
            "grid_template_rows": null,
            "height": null,
            "justify_content": null,
            "justify_items": null,
            "left": null,
            "margin": null,
            "max_height": null,
            "max_width": null,
            "min_height": null,
            "min_width": null,
            "object_fit": null,
            "object_position": null,
            "order": null,
            "overflow": null,
            "overflow_x": null,
            "overflow_y": null,
            "padding": null,
            "right": null,
            "top": null,
            "visibility": null,
            "width": null
          }
        },
        "a5f2a437488a4476a9615d5c91fa9730": {
          "model_module": "@jupyter-widgets/controls",
          "model_name": "ProgressStyleModel",
          "model_module_version": "1.5.0",
          "state": {
            "_model_module": "@jupyter-widgets/controls",
            "_model_module_version": "1.5.0",
            "_model_name": "ProgressStyleModel",
            "_view_count": null,
            "_view_module": "@jupyter-widgets/base",
            "_view_module_version": "1.2.0",
            "_view_name": "StyleView",
            "bar_color": null,
            "description_width": ""
          }
        },
        "4fe1705315ea451cba1c9dd3d8e26703": {
          "model_module": "@jupyter-widgets/base",
          "model_name": "LayoutModel",
          "model_module_version": "1.2.0",
          "state": {
            "_model_module": "@jupyter-widgets/base",
            "_model_module_version": "1.2.0",
            "_model_name": "LayoutModel",
            "_view_count": null,
            "_view_module": "@jupyter-widgets/base",
            "_view_module_version": "1.2.0",
            "_view_name": "LayoutView",
            "align_content": null,
            "align_items": null,
            "align_self": null,
            "border": null,
            "bottom": null,
            "display": null,
            "flex": null,
            "flex_flow": null,
            "grid_area": null,
            "grid_auto_columns": null,
            "grid_auto_flow": null,
            "grid_auto_rows": null,
            "grid_column": null,
            "grid_gap": null,
            "grid_row": null,
            "grid_template_areas": null,
            "grid_template_columns": null,
            "grid_template_rows": null,
            "height": null,
            "justify_content": null,
            "justify_items": null,
            "left": null,
            "margin": null,
            "max_height": null,
            "max_width": null,
            "min_height": null,
            "min_width": null,
            "object_fit": null,
            "object_position": null,
            "order": null,
            "overflow": null,
            "overflow_x": null,
            "overflow_y": null,
            "padding": null,
            "right": null,
            "top": null,
            "visibility": null,
            "width": null
          }
        },
        "5c68952810e741a09b6e0c2dcf657f55": {
          "model_module": "@jupyter-widgets/controls",
          "model_name": "DescriptionStyleModel",
          "model_module_version": "1.5.0",
          "state": {
            "_model_module": "@jupyter-widgets/controls",
            "_model_module_version": "1.5.0",
            "_model_name": "DescriptionStyleModel",
            "_view_count": null,
            "_view_module": "@jupyter-widgets/base",
            "_view_module_version": "1.2.0",
            "_view_name": "StyleView",
            "description_width": ""
          }
        },
        "064913703e444910a9ff20dd5c1de37f": {
          "model_module": "@jupyter-widgets/controls",
          "model_name": "HBoxModel",
          "model_module_version": "1.5.0",
          "state": {
            "_dom_classes": [],
            "_model_module": "@jupyter-widgets/controls",
            "_model_module_version": "1.5.0",
            "_model_name": "HBoxModel",
            "_view_count": null,
            "_view_module": "@jupyter-widgets/controls",
            "_view_module_version": "1.5.0",
            "_view_name": "HBoxView",
            "box_style": "",
            "children": [
              "IPY_MODEL_f4e9c87786ab4252a61e20aaa0caa5dc",
              "IPY_MODEL_2858a2cf63e1437e9abaef63c45c041e",
              "IPY_MODEL_f8d0903f21dd4090900cfe3cc802e39f"
            ],
            "layout": "IPY_MODEL_dfc66e03e36049679c363b0cb4086dad"
          }
        },
        "f4e9c87786ab4252a61e20aaa0caa5dc": {
          "model_module": "@jupyter-widgets/controls",
          "model_name": "HTMLModel",
          "model_module_version": "1.5.0",
          "state": {
            "_dom_classes": [],
            "_model_module": "@jupyter-widgets/controls",
            "_model_module_version": "1.5.0",
            "_model_name": "HTMLModel",
            "_view_count": null,
            "_view_module": "@jupyter-widgets/controls",
            "_view_module_version": "1.5.0",
            "_view_name": "HTMLView",
            "description": "",
            "description_tooltip": null,
            "layout": "IPY_MODEL_94713ce449094f7fba8524f426af28fd",
            "placeholder": "​",
            "style": "IPY_MODEL_8aa707d92a6949beb1eca11d0d1621cc",
            "value": "tokenizer.json: 100%"
          }
        },
        "2858a2cf63e1437e9abaef63c45c041e": {
          "model_module": "@jupyter-widgets/controls",
          "model_name": "FloatProgressModel",
          "model_module_version": "1.5.0",
          "state": {
            "_dom_classes": [],
            "_model_module": "@jupyter-widgets/controls",
            "_model_module_version": "1.5.0",
            "_model_name": "FloatProgressModel",
            "_view_count": null,
            "_view_module": "@jupyter-widgets/controls",
            "_view_module_version": "1.5.0",
            "_view_name": "ProgressView",
            "bar_style": "success",
            "description": "",
            "description_tooltip": null,
            "layout": "IPY_MODEL_b605ce75060a4e2b921036f45b4c8c89",
            "max": 9085657,
            "min": 0,
            "orientation": "horizontal",
            "style": "IPY_MODEL_1615a7f31b2b4e5d8dbabeb250022aac",
            "value": 9085657
          }
        },
        "f8d0903f21dd4090900cfe3cc802e39f": {
          "model_module": "@jupyter-widgets/controls",
          "model_name": "HTMLModel",
          "model_module_version": "1.5.0",
          "state": {
            "_dom_classes": [],
            "_model_module": "@jupyter-widgets/controls",
            "_model_module_version": "1.5.0",
            "_model_name": "HTMLModel",
            "_view_count": null,
            "_view_module": "@jupyter-widgets/controls",
            "_view_module_version": "1.5.0",
            "_view_name": "HTMLView",
            "description": "",
            "description_tooltip": null,
            "layout": "IPY_MODEL_c924d150a25d4e2f8a18f1ddfd4477d9",
            "placeholder": "​",
            "style": "IPY_MODEL_8105468197b64392b826a7770fbd019d",
            "value": " 9.09M/9.09M [00:00&lt;00:00, 31.7MB/s]"
          }
        },
        "dfc66e03e36049679c363b0cb4086dad": {
          "model_module": "@jupyter-widgets/base",
          "model_name": "LayoutModel",
          "model_module_version": "1.2.0",
          "state": {
            "_model_module": "@jupyter-widgets/base",
            "_model_module_version": "1.2.0",
            "_model_name": "LayoutModel",
            "_view_count": null,
            "_view_module": "@jupyter-widgets/base",
            "_view_module_version": "1.2.0",
            "_view_name": "LayoutView",
            "align_content": null,
            "align_items": null,
            "align_self": null,
            "border": null,
            "bottom": null,
            "display": null,
            "flex": null,
            "flex_flow": null,
            "grid_area": null,
            "grid_auto_columns": null,
            "grid_auto_flow": null,
            "grid_auto_rows": null,
            "grid_column": null,
            "grid_gap": null,
            "grid_row": null,
            "grid_template_areas": null,
            "grid_template_columns": null,
            "grid_template_rows": null,
            "height": null,
            "justify_content": null,
            "justify_items": null,
            "left": null,
            "margin": null,
            "max_height": null,
            "max_width": null,
            "min_height": null,
            "min_width": null,
            "object_fit": null,
            "object_position": null,
            "order": null,
            "overflow": null,
            "overflow_x": null,
            "overflow_y": null,
            "padding": null,
            "right": null,
            "top": null,
            "visibility": null,
            "width": null
          }
        },
        "94713ce449094f7fba8524f426af28fd": {
          "model_module": "@jupyter-widgets/base",
          "model_name": "LayoutModel",
          "model_module_version": "1.2.0",
          "state": {
            "_model_module": "@jupyter-widgets/base",
            "_model_module_version": "1.2.0",
            "_model_name": "LayoutModel",
            "_view_count": null,
            "_view_module": "@jupyter-widgets/base",
            "_view_module_version": "1.2.0",
            "_view_name": "LayoutView",
            "align_content": null,
            "align_items": null,
            "align_self": null,
            "border": null,
            "bottom": null,
            "display": null,
            "flex": null,
            "flex_flow": null,
            "grid_area": null,
            "grid_auto_columns": null,
            "grid_auto_flow": null,
            "grid_auto_rows": null,
            "grid_column": null,
            "grid_gap": null,
            "grid_row": null,
            "grid_template_areas": null,
            "grid_template_columns": null,
            "grid_template_rows": null,
            "height": null,
            "justify_content": null,
            "justify_items": null,
            "left": null,
            "margin": null,
            "max_height": null,
            "max_width": null,
            "min_height": null,
            "min_width": null,
            "object_fit": null,
            "object_position": null,
            "order": null,
            "overflow": null,
            "overflow_x": null,
            "overflow_y": null,
            "padding": null,
            "right": null,
            "top": null,
            "visibility": null,
            "width": null
          }
        },
        "8aa707d92a6949beb1eca11d0d1621cc": {
          "model_module": "@jupyter-widgets/controls",
          "model_name": "DescriptionStyleModel",
          "model_module_version": "1.5.0",
          "state": {
            "_model_module": "@jupyter-widgets/controls",
            "_model_module_version": "1.5.0",
            "_model_name": "DescriptionStyleModel",
            "_view_count": null,
            "_view_module": "@jupyter-widgets/base",
            "_view_module_version": "1.2.0",
            "_view_name": "StyleView",
            "description_width": ""
          }
        },
        "b605ce75060a4e2b921036f45b4c8c89": {
          "model_module": "@jupyter-widgets/base",
          "model_name": "LayoutModel",
          "model_module_version": "1.2.0",
          "state": {
            "_model_module": "@jupyter-widgets/base",
            "_model_module_version": "1.2.0",
            "_model_name": "LayoutModel",
            "_view_count": null,
            "_view_module": "@jupyter-widgets/base",
            "_view_module_version": "1.2.0",
            "_view_name": "LayoutView",
            "align_content": null,
            "align_items": null,
            "align_self": null,
            "border": null,
            "bottom": null,
            "display": null,
            "flex": null,
            "flex_flow": null,
            "grid_area": null,
            "grid_auto_columns": null,
            "grid_auto_flow": null,
            "grid_auto_rows": null,
            "grid_column": null,
            "grid_gap": null,
            "grid_row": null,
            "grid_template_areas": null,
            "grid_template_columns": null,
            "grid_template_rows": null,
            "height": null,
            "justify_content": null,
            "justify_items": null,
            "left": null,
            "margin": null,
            "max_height": null,
            "max_width": null,
            "min_height": null,
            "min_width": null,
            "object_fit": null,
            "object_position": null,
            "order": null,
            "overflow": null,
            "overflow_x": null,
            "overflow_y": null,
            "padding": null,
            "right": null,
            "top": null,
            "visibility": null,
            "width": null
          }
        },
        "1615a7f31b2b4e5d8dbabeb250022aac": {
          "model_module": "@jupyter-widgets/controls",
          "model_name": "ProgressStyleModel",
          "model_module_version": "1.5.0",
          "state": {
            "_model_module": "@jupyter-widgets/controls",
            "_model_module_version": "1.5.0",
            "_model_name": "ProgressStyleModel",
            "_view_count": null,
            "_view_module": "@jupyter-widgets/base",
            "_view_module_version": "1.2.0",
            "_view_name": "StyleView",
            "bar_color": null,
            "description_width": ""
          }
        },
        "c924d150a25d4e2f8a18f1ddfd4477d9": {
          "model_module": "@jupyter-widgets/base",
          "model_name": "LayoutModel",
          "model_module_version": "1.2.0",
          "state": {
            "_model_module": "@jupyter-widgets/base",
            "_model_module_version": "1.2.0",
            "_model_name": "LayoutModel",
            "_view_count": null,
            "_view_module": "@jupyter-widgets/base",
            "_view_module_version": "1.2.0",
            "_view_name": "LayoutView",
            "align_content": null,
            "align_items": null,
            "align_self": null,
            "border": null,
            "bottom": null,
            "display": null,
            "flex": null,
            "flex_flow": null,
            "grid_area": null,
            "grid_auto_columns": null,
            "grid_auto_flow": null,
            "grid_auto_rows": null,
            "grid_column": null,
            "grid_gap": null,
            "grid_row": null,
            "grid_template_areas": null,
            "grid_template_columns": null,
            "grid_template_rows": null,
            "height": null,
            "justify_content": null,
            "justify_items": null,
            "left": null,
            "margin": null,
            "max_height": null,
            "max_width": null,
            "min_height": null,
            "min_width": null,
            "object_fit": null,
            "object_position": null,
            "order": null,
            "overflow": null,
            "overflow_x": null,
            "overflow_y": null,
            "padding": null,
            "right": null,
            "top": null,
            "visibility": null,
            "width": null
          }
        },
        "8105468197b64392b826a7770fbd019d": {
          "model_module": "@jupyter-widgets/controls",
          "model_name": "DescriptionStyleModel",
          "model_module_version": "1.5.0",
          "state": {
            "_model_module": "@jupyter-widgets/controls",
            "_model_module_version": "1.5.0",
            "_model_name": "DescriptionStyleModel",
            "_view_count": null,
            "_view_module": "@jupyter-widgets/base",
            "_view_module_version": "1.2.0",
            "_view_name": "StyleView",
            "description_width": ""
          }
        },
        "1e6929dfeb234a71ae1b47392c85c7ec": {
          "model_module": "@jupyter-widgets/controls",
          "model_name": "HBoxModel",
          "model_module_version": "1.5.0",
          "state": {
            "_dom_classes": [],
            "_model_module": "@jupyter-widgets/controls",
            "_model_module_version": "1.5.0",
            "_model_name": "HBoxModel",
            "_view_count": null,
            "_view_module": "@jupyter-widgets/controls",
            "_view_module_version": "1.5.0",
            "_view_name": "HBoxView",
            "box_style": "",
            "children": [
              "IPY_MODEL_cae26b5650084941ae2f67310a561aa8",
              "IPY_MODEL_ddfd34e17b114f5cba94e173db75f1f0",
              "IPY_MODEL_ed9849cbf4d34a4eacef6c87c4310701"
            ],
            "layout": "IPY_MODEL_58c7762badfe4654b1d707e2c7b0bdf8"
          }
        },
        "cae26b5650084941ae2f67310a561aa8": {
          "model_module": "@jupyter-widgets/controls",
          "model_name": "HTMLModel",
          "model_module_version": "1.5.0",
          "state": {
            "_dom_classes": [],
            "_model_module": "@jupyter-widgets/controls",
            "_model_module_version": "1.5.0",
            "_model_name": "HTMLModel",
            "_view_count": null,
            "_view_module": "@jupyter-widgets/controls",
            "_view_module_version": "1.5.0",
            "_view_name": "HTMLView",
            "description": "",
            "description_tooltip": null,
            "layout": "IPY_MODEL_fbca92fd191c4643a9ace35298dc8512",
            "placeholder": "​",
            "style": "IPY_MODEL_dbfe86a4cf9c49bcb22b7a90c661bb85",
            "value": "special_tokens_map.json: 100%"
          }
        },
        "ddfd34e17b114f5cba94e173db75f1f0": {
          "model_module": "@jupyter-widgets/controls",
          "model_name": "FloatProgressModel",
          "model_module_version": "1.5.0",
          "state": {
            "_dom_classes": [],
            "_model_module": "@jupyter-widgets/controls",
            "_model_module_version": "1.5.0",
            "_model_name": "FloatProgressModel",
            "_view_count": null,
            "_view_module": "@jupyter-widgets/controls",
            "_view_module_version": "1.5.0",
            "_view_name": "ProgressView",
            "bar_style": "success",
            "description": "",
            "description_tooltip": null,
            "layout": "IPY_MODEL_e9c2dfd55f8843e397922fd7cec6987f",
            "max": 296,
            "min": 0,
            "orientation": "horizontal",
            "style": "IPY_MODEL_ff89cf49af1c411b8e42131d0822effb",
            "value": 296
          }
        },
        "ed9849cbf4d34a4eacef6c87c4310701": {
          "model_module": "@jupyter-widgets/controls",
          "model_name": "HTMLModel",
          "model_module_version": "1.5.0",
          "state": {
            "_dom_classes": [],
            "_model_module": "@jupyter-widgets/controls",
            "_model_module_version": "1.5.0",
            "_model_name": "HTMLModel",
            "_view_count": null,
            "_view_module": "@jupyter-widgets/controls",
            "_view_module_version": "1.5.0",
            "_view_name": "HTMLView",
            "description": "",
            "description_tooltip": null,
            "layout": "IPY_MODEL_5935ccb20e834e04b7dcea71cd439d8b",
            "placeholder": "​",
            "style": "IPY_MODEL_fb68158bde8e46b398c4287a7bc5a2cf",
            "value": " 296/296 [00:00&lt;00:00, 20.3kB/s]"
          }
        },
        "58c7762badfe4654b1d707e2c7b0bdf8": {
          "model_module": "@jupyter-widgets/base",
          "model_name": "LayoutModel",
          "model_module_version": "1.2.0",
          "state": {
            "_model_module": "@jupyter-widgets/base",
            "_model_module_version": "1.2.0",
            "_model_name": "LayoutModel",
            "_view_count": null,
            "_view_module": "@jupyter-widgets/base",
            "_view_module_version": "1.2.0",
            "_view_name": "LayoutView",
            "align_content": null,
            "align_items": null,
            "align_self": null,
            "border": null,
            "bottom": null,
            "display": null,
            "flex": null,
            "flex_flow": null,
            "grid_area": null,
            "grid_auto_columns": null,
            "grid_auto_flow": null,
            "grid_auto_rows": null,
            "grid_column": null,
            "grid_gap": null,
            "grid_row": null,
            "grid_template_areas": null,
            "grid_template_columns": null,
            "grid_template_rows": null,
            "height": null,
            "justify_content": null,
            "justify_items": null,
            "left": null,
            "margin": null,
            "max_height": null,
            "max_width": null,
            "min_height": null,
            "min_width": null,
            "object_fit": null,
            "object_position": null,
            "order": null,
            "overflow": null,
            "overflow_x": null,
            "overflow_y": null,
            "padding": null,
            "right": null,
            "top": null,
            "visibility": null,
            "width": null
          }
        },
        "fbca92fd191c4643a9ace35298dc8512": {
          "model_module": "@jupyter-widgets/base",
          "model_name": "LayoutModel",
          "model_module_version": "1.2.0",
          "state": {
            "_model_module": "@jupyter-widgets/base",
            "_model_module_version": "1.2.0",
            "_model_name": "LayoutModel",
            "_view_count": null,
            "_view_module": "@jupyter-widgets/base",
            "_view_module_version": "1.2.0",
            "_view_name": "LayoutView",
            "align_content": null,
            "align_items": null,
            "align_self": null,
            "border": null,
            "bottom": null,
            "display": null,
            "flex": null,
            "flex_flow": null,
            "grid_area": null,
            "grid_auto_columns": null,
            "grid_auto_flow": null,
            "grid_auto_rows": null,
            "grid_column": null,
            "grid_gap": null,
            "grid_row": null,
            "grid_template_areas": null,
            "grid_template_columns": null,
            "grid_template_rows": null,
            "height": null,
            "justify_content": null,
            "justify_items": null,
            "left": null,
            "margin": null,
            "max_height": null,
            "max_width": null,
            "min_height": null,
            "min_width": null,
            "object_fit": null,
            "object_position": null,
            "order": null,
            "overflow": null,
            "overflow_x": null,
            "overflow_y": null,
            "padding": null,
            "right": null,
            "top": null,
            "visibility": null,
            "width": null
          }
        },
        "dbfe86a4cf9c49bcb22b7a90c661bb85": {
          "model_module": "@jupyter-widgets/controls",
          "model_name": "DescriptionStyleModel",
          "model_module_version": "1.5.0",
          "state": {
            "_model_module": "@jupyter-widgets/controls",
            "_model_module_version": "1.5.0",
            "_model_name": "DescriptionStyleModel",
            "_view_count": null,
            "_view_module": "@jupyter-widgets/base",
            "_view_module_version": "1.2.0",
            "_view_name": "StyleView",
            "description_width": ""
          }
        },
        "e9c2dfd55f8843e397922fd7cec6987f": {
          "model_module": "@jupyter-widgets/base",
          "model_name": "LayoutModel",
          "model_module_version": "1.2.0",
          "state": {
            "_model_module": "@jupyter-widgets/base",
            "_model_module_version": "1.2.0",
            "_model_name": "LayoutModel",
            "_view_count": null,
            "_view_module": "@jupyter-widgets/base",
            "_view_module_version": "1.2.0",
            "_view_name": "LayoutView",
            "align_content": null,
            "align_items": null,
            "align_self": null,
            "border": null,
            "bottom": null,
            "display": null,
            "flex": null,
            "flex_flow": null,
            "grid_area": null,
            "grid_auto_columns": null,
            "grid_auto_flow": null,
            "grid_auto_rows": null,
            "grid_column": null,
            "grid_gap": null,
            "grid_row": null,
            "grid_template_areas": null,
            "grid_template_columns": null,
            "grid_template_rows": null,
            "height": null,
            "justify_content": null,
            "justify_items": null,
            "left": null,
            "margin": null,
            "max_height": null,
            "max_width": null,
            "min_height": null,
            "min_width": null,
            "object_fit": null,
            "object_position": null,
            "order": null,
            "overflow": null,
            "overflow_x": null,
            "overflow_y": null,
            "padding": null,
            "right": null,
            "top": null,
            "visibility": null,
            "width": null
          }
        },
        "ff89cf49af1c411b8e42131d0822effb": {
          "model_module": "@jupyter-widgets/controls",
          "model_name": "ProgressStyleModel",
          "model_module_version": "1.5.0",
          "state": {
            "_model_module": "@jupyter-widgets/controls",
            "_model_module_version": "1.5.0",
            "_model_name": "ProgressStyleModel",
            "_view_count": null,
            "_view_module": "@jupyter-widgets/base",
            "_view_module_version": "1.2.0",
            "_view_name": "StyleView",
            "bar_color": null,
            "description_width": ""
          }
        },
        "5935ccb20e834e04b7dcea71cd439d8b": {
          "model_module": "@jupyter-widgets/base",
          "model_name": "LayoutModel",
          "model_module_version": "1.2.0",
          "state": {
            "_model_module": "@jupyter-widgets/base",
            "_model_module_version": "1.2.0",
            "_model_name": "LayoutModel",
            "_view_count": null,
            "_view_module": "@jupyter-widgets/base",
            "_view_module_version": "1.2.0",
            "_view_name": "LayoutView",
            "align_content": null,
            "align_items": null,
            "align_self": null,
            "border": null,
            "bottom": null,
            "display": null,
            "flex": null,
            "flex_flow": null,
            "grid_area": null,
            "grid_auto_columns": null,
            "grid_auto_flow": null,
            "grid_auto_rows": null,
            "grid_column": null,
            "grid_gap": null,
            "grid_row": null,
            "grid_template_areas": null,
            "grid_template_columns": null,
            "grid_template_rows": null,
            "height": null,
            "justify_content": null,
            "justify_items": null,
            "left": null,
            "margin": null,
            "max_height": null,
            "max_width": null,
            "min_height": null,
            "min_width": null,
            "object_fit": null,
            "object_position": null,
            "order": null,
            "overflow": null,
            "overflow_x": null,
            "overflow_y": null,
            "padding": null,
            "right": null,
            "top": null,
            "visibility": null,
            "width": null
          }
        },
        "fb68158bde8e46b398c4287a7bc5a2cf": {
          "model_module": "@jupyter-widgets/controls",
          "model_name": "DescriptionStyleModel",
          "model_module_version": "1.5.0",
          "state": {
            "_model_module": "@jupyter-widgets/controls",
            "_model_module_version": "1.5.0",
            "_model_name": "DescriptionStyleModel",
            "_view_count": null,
            "_view_module": "@jupyter-widgets/base",
            "_view_module_version": "1.2.0",
            "_view_name": "StyleView",
            "description_width": ""
          }
        }
      }
    }
  },
  "cells": [
    {
      "cell_type": "markdown",
      "source": [
        "# LangChain\n",
        "\n",
        "# 1. Models- Input and Outputs (Model IO)"
      ],
      "metadata": {
        "id": "GNPqjD_H18qC"
      }
    },
    {
      "cell_type": "code",
      "source": [
        "pip install -U langchain-community"
      ],
      "metadata": {
        "id": "PyDKz3Cno825"
      },
      "execution_count": null,
      "outputs": []
    },
    {
      "cell_type": "code",
      "source": [
        "%pip install --upgrade --quiet  langchain-huggingface text-generation transformers google-search-results numexpr langchainhub sentencepiece jinja2 bitsandbytes accelerate"
      ],
      "metadata": {
        "colab": {
          "base_uri": "https://localhost:8080/"
        },
        "id": "SgpXOHpy25ng",
        "outputId": "f64108e8-f421-4d1c-e837-19a3779f34a6"
      },
      "execution_count": 5,
      "outputs": [
        {
          "output_type": "stream",
          "name": "stdout",
          "text": [
            "\u001b[?25l     \u001b[90m━━━━━━━━━━━━━━━━━━━━━━━━━━━━━━━━━━━━━━━━\u001b[0m \u001b[32m0.0/44.1 kB\u001b[0m \u001b[31m?\u001b[0m eta \u001b[36m-:--:--\u001b[0m\r\u001b[2K     \u001b[90m━━━━━━━━━━━━━━━━━━━━━━━━━━━━━━━━━━━━━━━━\u001b[0m \u001b[32m44.1/44.1 kB\u001b[0m \u001b[31m2.3 MB/s\u001b[0m eta \u001b[36m0:00:00\u001b[0m\n",
            "\u001b[?25h  Preparing metadata (setup.py) ... \u001b[?25l\u001b[?25hdone\n",
            "\u001b[2K   \u001b[90m━━━━━━━━━━━━━━━━━━━━━━━━━━━━━━━━━━━━━━━━\u001b[0m \u001b[32m10.0/10.0 MB\u001b[0m \u001b[31m91.4 MB/s\u001b[0m eta \u001b[36m0:00:00\u001b[0m\n",
            "\u001b[2K   \u001b[90m━━━━━━━━━━━━━━━━━━━━━━━━━━━━━━━━━━━━━━━━\u001b[0m \u001b[32m397.3/397.3 kB\u001b[0m \u001b[31m30.5 MB/s\u001b[0m eta \u001b[36m0:00:00\u001b[0m\n",
            "\u001b[2K   \u001b[90m━━━━━━━━━━━━━━━━━━━━━━━━━━━━━━━━━━━━━━━━\u001b[0m \u001b[32m122.4/122.4 MB\u001b[0m \u001b[31m7.7 MB/s\u001b[0m eta \u001b[36m0:00:00\u001b[0m\n",
            "\u001b[?25h  Building wheel for google-search-results (setup.py) ... \u001b[?25l\u001b[?25hdone\n"
          ]
        }
      ]
    },
    {
      "cell_type": "code",
      "source": [
        "from google.colab import userdata\n",
        "HUGGINGFACEHUB_API_TOKEN= userdata.get('HUGGING_FACE_API_KEY')"
      ],
      "metadata": {
        "id": "DFUa7y4xQ8o1"
      },
      "execution_count": 1,
      "outputs": []
    },
    {
      "cell_type": "markdown",
      "source": [
        "## 1.1 Using LLMs with LangChain"
      ],
      "metadata": {
        "id": "kBJGBbQyoZ_c"
      }
    },
    {
      "cell_type": "code",
      "source": [],
      "metadata": {
        "id": "TZ-VBQawZJxA"
      },
      "execution_count": 1,
      "outputs": []
    },
    {
      "cell_type": "code",
      "source": [
        "from huggingface_hub import login"
      ],
      "metadata": {
        "id": "tMhc8GBPSC52"
      },
      "execution_count": 2,
      "outputs": []
    },
    {
      "cell_type": "code",
      "source": [
        "login(token = HUGGINGFACEHUB_API_TOKEN)"
      ],
      "metadata": {
        "id": "2xiG5n_NZbV-"
      },
      "execution_count": 3,
      "outputs": []
    },
    {
      "cell_type": "code",
      "source": [
        "import transformers, torch\n",
        "from langchain_huggingface import ChatHuggingFace, HuggingFacePipeline\n",
        "\n",
        "model_id = \"meta-llama/Llama-3.2-1B-Instruct\"\n",
        "# model_id= \"Qwen/Qwen2.5-Coder-3B-Instruct\"\n",
        "pipe = transformers.pipeline(\n",
        "    \"text-generation\",\n",
        "    model=model_id,\n",
        "    torch_dtype=torch.bfloat16,\n",
        "    device_map=\"auto\",\n",
        "    max_new_tokens=2048,\n",
        "    do_sample=False,\n",
        "    repetition_penalty=1.03\n",
        ")\n",
        "pipe.tokenizer.pad_token_id = pipe.model.config.eos_token_id\n",
        "\n",
        "model_kwargs = {'temperature':0.3}\n",
        "llm = HuggingFacePipeline(pipeline = pipe, model_kwargs = model_kwargs)\n"
      ],
      "metadata": {
        "colab": {
          "base_uri": "https://localhost:8080/",
          "height": 333,
          "referenced_widgets": [
            "9798a128d637417aa74584fb92af73f3",
            "a32538b6a097454fb0844c1c10a06ade",
            "977b18d5601a4f53bf2bb2dc72832bfe",
            "6f886424a55241269750558436b966fd",
            "cbf0e3fd5e31468885c2ccb9657fef56",
            "4adb8d273fd04c5689d80781d1c42f32",
            "776fe7f4548f4260b727c51244e741a0",
            "9e8c4652768442a3b69ebb97890e1337",
            "c07a4ca5527349d08d69fc1e4c258233",
            "b07ce33249bc47caba29faa3c81a16b7",
            "0c0097d365584fc1999f1138da7cd548",
            "b19031a776454a39ba3ec16ec51556a2",
            "c5e6d304be474cc1a8dbe2423edb5b7f",
            "e1048b0709464ad1be95e41a862ab5a1",
            "2ed5d5bdd17c4d87b35e21b274204668",
            "3446a5219313456eb221e69d3b623615",
            "347568f9dc1540eb9c011b6fff36559c",
            "587072b3f81c452d95c12751c6b2931d",
            "1f9f068b3eef4b7e9bc8db4e419dc044",
            "18a6e9d8397e45bf8de6a9d595a40a26",
            "1307e70d62924b019d6d389f2834f21b",
            "8b86f2a6d0bf465888d52e0876ea5f40",
            "0a1e01defe0747f28f45d51fe276019d",
            "4f571738e7e647a583fbf2a76eb774a3",
            "99153ac4be314ebd82b2ee2c1ddc88f7",
            "91df89f9e1fa47ed881dbe4d56c57062",
            "92ff5c9f29f8436d804ae75422cfb4d2",
            "062f110365124b6d881060d4735acf67",
            "5cb39bc520e14829828bb5431c7d9255",
            "e1120d21a4ed4ca0a9d7cd52c4e4c046",
            "09ab331a79e3490e9e6e1850dc253f80",
            "55db977eb2b0485086345280174d17ce",
            "eaa34a051fca4c66a06ef3324d1949f8",
            "8a0293a746fa4a169567347aa4dc1d16",
            "46bedb3ab8eb4c369289665bf8baa85b",
            "b2760195fd6647d3a3350a1c0c82c1e5",
            "dfe969201ffe4635a04bd714bbb6b049",
            "eeefe1a4485c4f03b8085086d9cdc62e",
            "c2978ded62794a129d7c7891c7ed75e9",
            "18a807cae204429087c407f0945d939c",
            "21544c8960df463bbc91ee975954e2af",
            "a5f2a437488a4476a9615d5c91fa9730",
            "4fe1705315ea451cba1c9dd3d8e26703",
            "5c68952810e741a09b6e0c2dcf657f55",
            "064913703e444910a9ff20dd5c1de37f",
            "f4e9c87786ab4252a61e20aaa0caa5dc",
            "2858a2cf63e1437e9abaef63c45c041e",
            "f8d0903f21dd4090900cfe3cc802e39f",
            "dfc66e03e36049679c363b0cb4086dad",
            "94713ce449094f7fba8524f426af28fd",
            "8aa707d92a6949beb1eca11d0d1621cc",
            "b605ce75060a4e2b921036f45b4c8c89",
            "1615a7f31b2b4e5d8dbabeb250022aac",
            "c924d150a25d4e2f8a18f1ddfd4477d9",
            "8105468197b64392b826a7770fbd019d",
            "1e6929dfeb234a71ae1b47392c85c7ec",
            "cae26b5650084941ae2f67310a561aa8",
            "ddfd34e17b114f5cba94e173db75f1f0",
            "ed9849cbf4d34a4eacef6c87c4310701",
            "58c7762badfe4654b1d707e2c7b0bdf8",
            "fbca92fd191c4643a9ace35298dc8512",
            "dbfe86a4cf9c49bcb22b7a90c661bb85",
            "e9c2dfd55f8843e397922fd7cec6987f",
            "ff89cf49af1c411b8e42131d0822effb",
            "5935ccb20e834e04b7dcea71cd439d8b",
            "fb68158bde8e46b398c4287a7bc5a2cf"
          ]
        },
        "id": "zOGg8PL8SDDM",
        "outputId": "cbdce1b9-3a94-4d64-ba55-9d2c8643aa16"
      },
      "execution_count": 6,
      "outputs": [
        {
          "output_type": "stream",
          "name": "stderr",
          "text": [
            "/usr/local/lib/python3.10/dist-packages/huggingface_hub/utils/_auth.py:94: UserWarning: \n",
            "The secret `HF_TOKEN` does not exist in your Colab secrets.\n",
            "To authenticate with the Hugging Face Hub, create a token in your settings tab (https://huggingface.co/settings/tokens), set it as secret in your Google Colab and restart your session.\n",
            "You will be able to reuse this secret in all of your notebooks.\n",
            "Please note that authentication is recommended but still optional to access public models or datasets.\n",
            "  warnings.warn(\n"
          ]
        },
        {
          "output_type": "display_data",
          "data": {
            "text/plain": [
              "config.json:   0%|          | 0.00/877 [00:00<?, ?B/s]"
            ],
            "application/vnd.jupyter.widget-view+json": {
              "version_major": 2,
              "version_minor": 0,
              "model_id": "9798a128d637417aa74584fb92af73f3"
            }
          },
          "metadata": {}
        },
        {
          "output_type": "display_data",
          "data": {
            "text/plain": [
              "model.safetensors:   0%|          | 0.00/2.47G [00:00<?, ?B/s]"
            ],
            "application/vnd.jupyter.widget-view+json": {
              "version_major": 2,
              "version_minor": 0,
              "model_id": "b19031a776454a39ba3ec16ec51556a2"
            }
          },
          "metadata": {}
        },
        {
          "output_type": "display_data",
          "data": {
            "text/plain": [
              "generation_config.json:   0%|          | 0.00/189 [00:00<?, ?B/s]"
            ],
            "application/vnd.jupyter.widget-view+json": {
              "version_major": 2,
              "version_minor": 0,
              "model_id": "0a1e01defe0747f28f45d51fe276019d"
            }
          },
          "metadata": {}
        },
        {
          "output_type": "display_data",
          "data": {
            "text/plain": [
              "tokenizer_config.json:   0%|          | 0.00/54.5k [00:00<?, ?B/s]"
            ],
            "application/vnd.jupyter.widget-view+json": {
              "version_major": 2,
              "version_minor": 0,
              "model_id": "8a0293a746fa4a169567347aa4dc1d16"
            }
          },
          "metadata": {}
        },
        {
          "output_type": "display_data",
          "data": {
            "text/plain": [
              "tokenizer.json:   0%|          | 0.00/9.09M [00:00<?, ?B/s]"
            ],
            "application/vnd.jupyter.widget-view+json": {
              "version_major": 2,
              "version_minor": 0,
              "model_id": "064913703e444910a9ff20dd5c1de37f"
            }
          },
          "metadata": {}
        },
        {
          "output_type": "display_data",
          "data": {
            "text/plain": [
              "special_tokens_map.json:   0%|          | 0.00/296 [00:00<?, ?B/s]"
            ],
            "application/vnd.jupyter.widget-view+json": {
              "version_major": 2,
              "version_minor": 0,
              "model_id": "1e6929dfeb234a71ae1b47392c85c7ec"
            }
          },
          "metadata": {}
        }
      ]
    },
    {
      "cell_type": "code",
      "source": [
        "print(llm(\"What is Machine Learning?\"))"
      ],
      "metadata": {
        "colab": {
          "base_uri": "https://localhost:8080/"
        },
        "id": "AGCM788sSDJ-",
        "outputId": "1ee8da7a-fd7c-4e0a-b4ab-fcb6f39f5498"
      },
      "execution_count": 7,
      "outputs": [
        {
          "output_type": "stream",
          "name": "stderr",
          "text": [
            "<ipython-input-7-172c7ec8bd1e>:1: LangChainDeprecationWarning: The method `BaseLLM.__call__` was deprecated in langchain-core 0.1.7 and will be removed in 1.0. Use :meth:`~invoke` instead.\n",
            "  print(llm(\"What is Machine Learning?\"))\n",
            "/usr/local/lib/python3.10/dist-packages/transformers/generation/configuration_utils.py:590: UserWarning: `do_sample` is set to `False`. However, `temperature` is set to `0.6` -- this flag is only used in sample-based generation modes. You should set `do_sample=True` or unset `temperature`.\n",
            "  warnings.warn(\n",
            "/usr/local/lib/python3.10/dist-packages/transformers/generation/configuration_utils.py:595: UserWarning: `do_sample` is set to `False`. However, `top_p` is set to `0.9` -- this flag is only used in sample-based generation modes. You should set `do_sample=True` or unset `top_p`.\n",
            "  warnings.warn(\n",
            "Setting `pad_token_id` to `eos_token_id`:None for open-end generation.\n"
          ]
        },
        {
          "output_type": "stream",
          "name": "stdout",
          "text": [
            "What is Machine Learning? and How Does it Work?\n",
            "Machine learning is a subset of artificial intelligence (AI) that involves training algorithms to learn from data, without being explicitly programmed. The goal of machine learning is to enable computers to automatically improve their performance on a task over time, based on the data they are given.\n",
            "\n",
            "Here's a simplified explanation of how machine learning works:\n",
            "\n",
            "**Step 1: Data Collection**\n",
            "\n",
            "The first step in machine learning is to collect data. This can be in the form of text, images, audio, or any other type of data that can be used to train a model.\n",
            "\n",
            "**Step 2: Data Preprocessing**\n",
            "\n",
            "Once the data is collected, it needs to be preprocessed. This involves cleaning, transforming, and formatting the data into a usable format for the machine learning algorithm.\n",
            "\n",
            "**Step 3: Model Selection**\n",
            "\n",
            "The next step is to select a machine learning algorithm that best fits the problem at hand. There are many different types of machine learning algorithms, including supervised, unsupervised, and reinforcement learning.\n",
            "\n",
            "**Step 4: Training**\n",
            "\n",
            "The trained model is then used to make predictions on new, unseen data. This process is called training the model.\n",
            "\n",
            "**Step 5: Testing**\n",
            "\n",
            "After training the model, it is tested on a separate dataset to evaluate its performance.\n",
            "\n",
            "**Step 6: Deployment**\n",
            "\n",
            "Once the model is trained and tested, it can be deployed in a real-world application, such as a web application or a mobile app.\n",
            "\n",
            "**Types of Machine Learning**\n",
            "\n",
            "There are several types of machine learning, including:\n",
            "\n",
            "* **Supervised Learning**: The model is trained on labeled data, where the correct output is already known.\n",
            "* **Unsupervised Learning**: The model is trained on unlabeled data, and it must find patterns or structure on its own.\n",
            "* **Reinforcement Learning**: The model learns by interacting with an environment and receiving feedback in the form of rewards or penalties.\n",
            "\n",
            "**Machine Learning Algorithms**\n",
            "\n",
            "Some common machine learning algorithms include:\n",
            "\n",
            "* **Linear Regression**: A linear model that predicts a continuous output variable.\n",
            "* **Decision Trees**: A tree-like model that splits data into subsets based on features.\n",
            "* **Neural Networks**: A complex model that uses multiple layers of interconnected nodes (neurons) to learn patterns in data.\n",
            "* **Support Vector Machines (SVMs)**: A model that finds the best hyperplane to separate classes in data.\n",
            "\n",
            "**Real-World Applications**\n",
            "\n",
            "Machine learning has many real-world applications, including:\n",
            "\n",
            "* **Image Recognition**: Facial recognition, object detection, and image classification.\n",
            "* **Natural Language Processing**: Sentiment analysis, language translation, and text summarization.\n",
            "* **Predictive Maintenance**: Predicting when equipment will fail, and scheduling maintenance accordingly.\n",
            "* **Recommendation Systems**: Personalized product recommendations based on user behavior.\n",
            "\n",
            "I hope this helps! Let me know if you have any questions or need further clarification.\n"
          ]
        }
      ]
    },
    {
      "cell_type": "code",
      "source": [
        "result= llm.generate([\"What is AI?\", \"What is Generative AI?\"])\n",
        "result.llm_output"
      ],
      "metadata": {
        "colab": {
          "base_uri": "https://localhost:8080/"
        },
        "id": "ELf5h_nz5bFI",
        "outputId": "b587e1f3-ee88-4147-9eb4-04ee4206dd46"
      },
      "execution_count": 8,
      "outputs": [
        {
          "output_type": "stream",
          "name": "stderr",
          "text": [
            "/usr/local/lib/python3.10/dist-packages/transformers/generation/configuration_utils.py:590: UserWarning: `do_sample` is set to `False`. However, `temperature` is set to `0.6` -- this flag is only used in sample-based generation modes. You should set `do_sample=True` or unset `temperature`.\n",
            "  warnings.warn(\n",
            "/usr/local/lib/python3.10/dist-packages/transformers/generation/configuration_utils.py:595: UserWarning: `do_sample` is set to `False`. However, `top_p` is set to `0.9` -- this flag is only used in sample-based generation modes. You should set `do_sample=True` or unset `top_p`.\n",
            "  warnings.warn(\n",
            "Setting `pad_token_id` to `eos_token_id`:None for open-end generation.\n",
            "Setting `pad_token_id` to `eos_token_id`:None for open-end generation.\n"
          ]
        }
      ]
    },
    {
      "cell_type": "code",
      "source": [
        "print(result.generations[0][0].text)"
      ],
      "metadata": {
        "colab": {
          "base_uri": "https://localhost:8080/"
        },
        "id": "p62HAEo0e1Xz",
        "outputId": "4663657d-db48-4f48-a6ff-6ee898ad7bcc"
      },
      "execution_count": 9,
      "outputs": [
        {
          "output_type": "stream",
          "name": "stdout",
          "text": [
            "What is AI? Artificial Intelligence (AI) refers to the development of computer systems that can perform tasks that would typically require human intelligence, such as learning, problem-solving, decision-making, and perception. AI systems can be categorized into two main types: narrow or weak AI and general or strong AI.\n",
            "\n",
            "Narrow or Weak AI:\n",
            "Narrow or weak AI refers to the development of computer systems that can perform a specific task, such as:\n",
            "\n",
            "* Image recognition\n",
            "* Speech recognition\n",
            "* Natural language processing\n",
            "* Predictive maintenance\n",
            "* Recommendation systems\n",
            "\n",
            "These systems are designed to mimic human intelligence in a specific domain, but they are not capable of general reasoning or problem-solving.\n",
            "\n",
            "General or Strong AI:\n",
            "General or strong AI refers to the development of a computer system that can perform any intellectual task that a human being can, including:\n",
            "\n",
            "* Reasoning and problem-solving\n",
            "* Learning and adaptation\n",
            "* Perception and understanding\n",
            "* Creativity and innovation\n",
            "* Self-awareness and consciousness\n",
            "\n",
            "The development of general AI is still a topic of ongoing research and debate, with many experts considering it to be a distant goal that may not be achievable in the near future.\n",
            "\n",
            "Types of AI:\n",
            "\n",
            "1. **Machine Learning**: A type of AI that enables computers to learn from data and improve their performance over time.\n",
            "2. **Deep Learning**: A type of machine learning that uses neural networks to analyze data and make predictions.\n",
            "3. **Natural Language Processing (NLP)**: A type of AI that enables computers to understand and generate human language.\n",
            "4. **Computer Vision**: A type of AI that enables computers to interpret and understand visual data from images and videos.\n",
            "5. **Robotics**: A type of AI that enables robots to perform tasks autonomously and interact with their environment.\n",
            "\n",
            "Applications of AI:\n",
            "\n",
            "1. **Virtual Assistants**: AI-powered virtual assistants, such as Siri, Alexa, and Google Assistant, can perform tasks such as scheduling appointments, sending messages, and making calls.\n",
            "2. **Image Recognition**: AI-powered image recognition systems can be used in applications such as facial recognition, object detection, and image classification.\n",
            "3. **Predictive Maintenance**: AI-powered predictive maintenance systems can predict when equipment is likely to fail, reducing downtime and increasing efficiency.\n",
            "4. **Personalized Recommendations**: AI-powered recommendation systems can suggest products or services based on individual preferences and behavior.\n",
            "5. **Autonomous Vehicles**: AI-powered autonomous vehicles can navigate roads and avoid obstacles, reducing the risk of accidents.\n",
            "\n",
            "In conclusion, AI is a rapidly evolving field that has the potential to transform various industries and aspects of our lives. While narrow or weak AI has many practical applications, general or strong AI remains a distant goal that requires significant scientific breakthroughs and technological advancements.\n"
          ]
        }
      ]
    },
    {
      "cell_type": "code",
      "source": [
        "print(result.generations[1][0].text)"
      ],
      "metadata": {
        "colab": {
          "base_uri": "https://localhost:8080/"
        },
        "id": "lmIjhioue8vl",
        "outputId": "39c7c721-d666-4448-b476-43546caf99e9"
      },
      "execution_count": 10,
      "outputs": [
        {
          "output_type": "stream",
          "name": "stdout",
          "text": [
            "What is Generative AI? Generative AI refers to the use of artificial intelligence (AI) to create new content, such as text, images, or music, that is similar in style or quality to existing content. This can be achieved through various techniques, including but not limited to, generative models, neural networks, and deep learning algorithms.\n",
            "\n",
            "Generative AI has many applications across various industries, including:\n",
            "\n",
            "1. **Content creation**: Generative AI can be used to generate high-quality content, such as articles, social media posts, or even entire books.\n",
            "2. **Art and design**: Generative AI can be used to create original artwork, music, or even entire designs.\n",
            "3. **Product design**: Generative AI can be used to generate product designs, prototypes, or even entire product lines.\n",
            "4. **Marketing and advertising**: Generative AI can be used to generate personalized marketing messages, product descriptions, or even entire ad campaigns.\n",
            "5. **Education and research**: Generative AI can be used to generate educational content, such as lesson plans, study materials, or even entire courses.\n",
            "\n",
            "Some of the key benefits of Generative AI include:\n",
            "\n",
            "* **Increased efficiency**: Generative AI can automate many tasks, freeing up human resources for more creative and strategic work.\n",
            "* **Improved accuracy**: Generative AI can generate high-quality content that is often indistinguishable from human-created content.\n",
            "* **New creative possibilities**: Generative AI can open up new creative possibilities for artists, designers, and writers.\n",
            "\n",
            "However, Generative AI also raises several concerns, including:\n",
            "\n",
            "* **Job displacement**: Generative AI may displace certain jobs, particularly those that involve repetitive or routine tasks.\n",
            "* **Bias and fairness**: Generative AI can perpetuate biases and unfairness if it is trained on biased data or designed with a particular worldview.\n",
            "* **Intellectual property**: Generative AI raises questions about ownership and intellectual property rights for generated content.\n",
            "\n",
            "Overall, Generative AI has the potential to revolutionize many industries and create new opportunities for creativity and innovation. However, it is essential to address the concerns and challenges associated with its development and deployment.\n"
          ]
        }
      ]
    },
    {
      "cell_type": "markdown",
      "source": [
        "# 1.2 Chat Models with LangChain"
      ],
      "metadata": {
        "id": "Hs6WKsC9fUJy"
      }
    },
    {
      "cell_type": "code",
      "source": [
        "chat = ChatHuggingFace(llm=llm)"
      ],
      "metadata": {
        "id": "KED7Q_4LfCj5"
      },
      "execution_count": 11,
      "outputs": []
    },
    {
      "cell_type": "code",
      "source": [
        "chat(\"What is Correlation\")"
      ],
      "metadata": {
        "colab": {
          "base_uri": "https://localhost:8080/",
          "height": 341
        },
        "id": "x_AmUVfNfW2a",
        "outputId": "102e612e-b744-464f-d592-8827537b9ff7"
      },
      "execution_count": 12,
      "outputs": [
        {
          "output_type": "stream",
          "name": "stderr",
          "text": [
            "<ipython-input-12-8fb8fc00a44a>:1: LangChainDeprecationWarning: The method `BaseChatModel.__call__` was deprecated in langchain-core 0.1.7 and will be removed in 1.0. Use :meth:`~invoke` instead.\n",
            "  chat(\"What is Correlation\")\n"
          ]
        },
        {
          "output_type": "error",
          "ename": "ValueError",
          "evalue": "Last message must be a HumanMessage!",
          "traceback": [
            "\u001b[0;31m---------------------------------------------------------------------------\u001b[0m",
            "\u001b[0;31mValueError\u001b[0m                                Traceback (most recent call last)",
            "\u001b[0;32m<ipython-input-12-8fb8fc00a44a>\u001b[0m in \u001b[0;36m<cell line: 1>\u001b[0;34m()\u001b[0m\n\u001b[0;32m----> 1\u001b[0;31m \u001b[0mchat\u001b[0m\u001b[0;34m(\u001b[0m\u001b[0;34m\"What is Correlation\"\u001b[0m\u001b[0;34m)\u001b[0m\u001b[0;34m\u001b[0m\u001b[0;34m\u001b[0m\u001b[0m\n\u001b[0m",
            "\u001b[0;32m/usr/local/lib/python3.10/dist-packages/langchain_core/_api/deprecation.py\u001b[0m in \u001b[0;36mwarning_emitting_wrapper\u001b[0;34m(*args, **kwargs)\u001b[0m\n\u001b[1;32m    180\u001b[0m                 \u001b[0mwarned\u001b[0m \u001b[0;34m=\u001b[0m \u001b[0;32mTrue\u001b[0m\u001b[0;34m\u001b[0m\u001b[0;34m\u001b[0m\u001b[0m\n\u001b[1;32m    181\u001b[0m                 \u001b[0memit_warning\u001b[0m\u001b[0;34m(\u001b[0m\u001b[0;34m)\u001b[0m\u001b[0;34m\u001b[0m\u001b[0;34m\u001b[0m\u001b[0m\n\u001b[0;32m--> 182\u001b[0;31m             \u001b[0;32mreturn\u001b[0m \u001b[0mwrapped\u001b[0m\u001b[0;34m(\u001b[0m\u001b[0;34m*\u001b[0m\u001b[0margs\u001b[0m\u001b[0;34m,\u001b[0m \u001b[0;34m**\u001b[0m\u001b[0mkwargs\u001b[0m\u001b[0;34m)\u001b[0m\u001b[0;34m\u001b[0m\u001b[0;34m\u001b[0m\u001b[0m\n\u001b[0m\u001b[1;32m    183\u001b[0m \u001b[0;34m\u001b[0m\u001b[0m\n\u001b[1;32m    184\u001b[0m         \u001b[0;32masync\u001b[0m \u001b[0;32mdef\u001b[0m \u001b[0mawarning_emitting_wrapper\u001b[0m\u001b[0;34m(\u001b[0m\u001b[0;34m*\u001b[0m\u001b[0margs\u001b[0m\u001b[0;34m:\u001b[0m \u001b[0mAny\u001b[0m\u001b[0;34m,\u001b[0m \u001b[0;34m**\u001b[0m\u001b[0mkwargs\u001b[0m\u001b[0;34m:\u001b[0m \u001b[0mAny\u001b[0m\u001b[0;34m)\u001b[0m \u001b[0;34m->\u001b[0m \u001b[0mAny\u001b[0m\u001b[0;34m:\u001b[0m\u001b[0;34m\u001b[0m\u001b[0;34m\u001b[0m\u001b[0m\n",
            "\u001b[0;32m/usr/local/lib/python3.10/dist-packages/langchain_core/language_models/chat_models.py\u001b[0m in \u001b[0;36m__call__\u001b[0;34m(self, messages, stop, callbacks, **kwargs)\u001b[0m\n\u001b[1;32m   1015\u001b[0m         \u001b[0;34m**\u001b[0m\u001b[0mkwargs\u001b[0m\u001b[0;34m:\u001b[0m \u001b[0mAny\u001b[0m\u001b[0;34m,\u001b[0m\u001b[0;34m\u001b[0m\u001b[0;34m\u001b[0m\u001b[0m\n\u001b[1;32m   1016\u001b[0m     ) -> BaseMessage:\n\u001b[0;32m-> 1017\u001b[0;31m         generation = self.generate(\n\u001b[0m\u001b[1;32m   1018\u001b[0m             \u001b[0;34m[\u001b[0m\u001b[0mmessages\u001b[0m\u001b[0;34m]\u001b[0m\u001b[0;34m,\u001b[0m \u001b[0mstop\u001b[0m\u001b[0;34m=\u001b[0m\u001b[0mstop\u001b[0m\u001b[0;34m,\u001b[0m \u001b[0mcallbacks\u001b[0m\u001b[0;34m=\u001b[0m\u001b[0mcallbacks\u001b[0m\u001b[0;34m,\u001b[0m \u001b[0;34m**\u001b[0m\u001b[0mkwargs\u001b[0m\u001b[0;34m\u001b[0m\u001b[0;34m\u001b[0m\u001b[0m\n\u001b[1;32m   1019\u001b[0m         ).generations[0][0]\n",
            "\u001b[0;32m/usr/local/lib/python3.10/dist-packages/langchain_core/language_models/chat_models.py\u001b[0m in \u001b[0;36mgenerate\u001b[0;34m(self, messages, stop, callbacks, tags, metadata, run_name, run_id, **kwargs)\u001b[0m\n\u001b[1;32m    641\u001b[0m                 \u001b[0;32mif\u001b[0m \u001b[0mrun_managers\u001b[0m\u001b[0;34m:\u001b[0m\u001b[0;34m\u001b[0m\u001b[0;34m\u001b[0m\u001b[0m\n\u001b[1;32m    642\u001b[0m                     \u001b[0mrun_managers\u001b[0m\u001b[0;34m[\u001b[0m\u001b[0mi\u001b[0m\u001b[0;34m]\u001b[0m\u001b[0;34m.\u001b[0m\u001b[0mon_llm_error\u001b[0m\u001b[0;34m(\u001b[0m\u001b[0me\u001b[0m\u001b[0;34m,\u001b[0m \u001b[0mresponse\u001b[0m\u001b[0;34m=\u001b[0m\u001b[0mLLMResult\u001b[0m\u001b[0;34m(\u001b[0m\u001b[0mgenerations\u001b[0m\u001b[0;34m=\u001b[0m\u001b[0;34m[\u001b[0m\u001b[0;34m]\u001b[0m\u001b[0;34m)\u001b[0m\u001b[0;34m)\u001b[0m\u001b[0;34m\u001b[0m\u001b[0;34m\u001b[0m\u001b[0m\n\u001b[0;32m--> 643\u001b[0;31m                 \u001b[0;32mraise\u001b[0m \u001b[0me\u001b[0m\u001b[0;34m\u001b[0m\u001b[0;34m\u001b[0m\u001b[0m\n\u001b[0m\u001b[1;32m    644\u001b[0m         flattened_outputs = [\n\u001b[1;32m    645\u001b[0m             \u001b[0mLLMResult\u001b[0m\u001b[0;34m(\u001b[0m\u001b[0mgenerations\u001b[0m\u001b[0;34m=\u001b[0m\u001b[0;34m[\u001b[0m\u001b[0mres\u001b[0m\u001b[0;34m.\u001b[0m\u001b[0mgenerations\u001b[0m\u001b[0;34m]\u001b[0m\u001b[0;34m,\u001b[0m \u001b[0mllm_output\u001b[0m\u001b[0;34m=\u001b[0m\u001b[0mres\u001b[0m\u001b[0;34m.\u001b[0m\u001b[0mllm_output\u001b[0m\u001b[0;34m)\u001b[0m  \u001b[0;31m# type: ignore[list-item]\u001b[0m\u001b[0;34m\u001b[0m\u001b[0;34m\u001b[0m\u001b[0m\n",
            "\u001b[0;32m/usr/local/lib/python3.10/dist-packages/langchain_core/language_models/chat_models.py\u001b[0m in \u001b[0;36mgenerate\u001b[0;34m(self, messages, stop, callbacks, tags, metadata, run_name, run_id, **kwargs)\u001b[0m\n\u001b[1;32m    631\u001b[0m             \u001b[0;32mtry\u001b[0m\u001b[0;34m:\u001b[0m\u001b[0;34m\u001b[0m\u001b[0;34m\u001b[0m\u001b[0m\n\u001b[1;32m    632\u001b[0m                 results.append(\n\u001b[0;32m--> 633\u001b[0;31m                     self._generate_with_cache(\n\u001b[0m\u001b[1;32m    634\u001b[0m                         \u001b[0mm\u001b[0m\u001b[0;34m,\u001b[0m\u001b[0;34m\u001b[0m\u001b[0;34m\u001b[0m\u001b[0m\n\u001b[1;32m    635\u001b[0m                         \u001b[0mstop\u001b[0m\u001b[0;34m=\u001b[0m\u001b[0mstop\u001b[0m\u001b[0;34m,\u001b[0m\u001b[0;34m\u001b[0m\u001b[0;34m\u001b[0m\u001b[0m\n",
            "\u001b[0;32m/usr/local/lib/python3.10/dist-packages/langchain_core/language_models/chat_models.py\u001b[0m in \u001b[0;36m_generate_with_cache\u001b[0;34m(self, messages, stop, run_manager, **kwargs)\u001b[0m\n\u001b[1;32m    849\u001b[0m         \u001b[0;32melse\u001b[0m\u001b[0;34m:\u001b[0m\u001b[0;34m\u001b[0m\u001b[0;34m\u001b[0m\u001b[0m\n\u001b[1;32m    850\u001b[0m             \u001b[0;32mif\u001b[0m \u001b[0minspect\u001b[0m\u001b[0;34m.\u001b[0m\u001b[0msignature\u001b[0m\u001b[0;34m(\u001b[0m\u001b[0mself\u001b[0m\u001b[0;34m.\u001b[0m\u001b[0m_generate\u001b[0m\u001b[0;34m)\u001b[0m\u001b[0;34m.\u001b[0m\u001b[0mparameters\u001b[0m\u001b[0;34m.\u001b[0m\u001b[0mget\u001b[0m\u001b[0;34m(\u001b[0m\u001b[0;34m\"run_manager\"\u001b[0m\u001b[0;34m)\u001b[0m\u001b[0;34m:\u001b[0m\u001b[0;34m\u001b[0m\u001b[0;34m\u001b[0m\u001b[0m\n\u001b[0;32m--> 851\u001b[0;31m                 result = self._generate(\n\u001b[0m\u001b[1;32m    852\u001b[0m                     \u001b[0mmessages\u001b[0m\u001b[0;34m,\u001b[0m \u001b[0mstop\u001b[0m\u001b[0;34m=\u001b[0m\u001b[0mstop\u001b[0m\u001b[0;34m,\u001b[0m \u001b[0mrun_manager\u001b[0m\u001b[0;34m=\u001b[0m\u001b[0mrun_manager\u001b[0m\u001b[0;34m,\u001b[0m \u001b[0;34m**\u001b[0m\u001b[0mkwargs\u001b[0m\u001b[0;34m\u001b[0m\u001b[0;34m\u001b[0m\u001b[0m\n\u001b[1;32m    853\u001b[0m                 )\n",
            "\u001b[0;32m/usr/local/lib/python3.10/dist-packages/langchain_huggingface/chat_models/huggingface.py\u001b[0m in \u001b[0;36m_generate\u001b[0;34m(self, messages, stop, run_manager, **kwargs)\u001b[0m\n\u001b[1;32m    371\u001b[0m             \u001b[0;32mreturn\u001b[0m \u001b[0mself\u001b[0m\u001b[0;34m.\u001b[0m\u001b[0m_create_chat_result\u001b[0m\u001b[0;34m(\u001b[0m\u001b[0manswer\u001b[0m\u001b[0;34m)\u001b[0m\u001b[0;34m\u001b[0m\u001b[0;34m\u001b[0m\u001b[0m\n\u001b[1;32m    372\u001b[0m         \u001b[0;32melse\u001b[0m\u001b[0;34m:\u001b[0m\u001b[0;34m\u001b[0m\u001b[0;34m\u001b[0m\u001b[0m\n\u001b[0;32m--> 373\u001b[0;31m             \u001b[0mllm_input\u001b[0m \u001b[0;34m=\u001b[0m \u001b[0mself\u001b[0m\u001b[0;34m.\u001b[0m\u001b[0m_to_chat_prompt\u001b[0m\u001b[0;34m(\u001b[0m\u001b[0mmessages\u001b[0m\u001b[0;34m)\u001b[0m\u001b[0;34m\u001b[0m\u001b[0;34m\u001b[0m\u001b[0m\n\u001b[0m\u001b[1;32m    374\u001b[0m             llm_result = self.llm._generate(\n\u001b[1;32m    375\u001b[0m                 \u001b[0mprompts\u001b[0m\u001b[0;34m=\u001b[0m\u001b[0;34m[\u001b[0m\u001b[0mllm_input\u001b[0m\u001b[0;34m]\u001b[0m\u001b[0;34m,\u001b[0m \u001b[0mstop\u001b[0m\u001b[0;34m=\u001b[0m\u001b[0mstop\u001b[0m\u001b[0;34m,\u001b[0m \u001b[0mrun_manager\u001b[0m\u001b[0;34m=\u001b[0m\u001b[0mrun_manager\u001b[0m\u001b[0;34m,\u001b[0m \u001b[0;34m**\u001b[0m\u001b[0mkwargs\u001b[0m\u001b[0;34m\u001b[0m\u001b[0;34m\u001b[0m\u001b[0m\n",
            "\u001b[0;32m/usr/local/lib/python3.10/dist-packages/langchain_huggingface/chat_models/huggingface.py\u001b[0m in \u001b[0;36m_to_chat_prompt\u001b[0;34m(self, messages)\u001b[0m\n\u001b[1;32m    404\u001b[0m \u001b[0;34m\u001b[0m\u001b[0m\n\u001b[1;32m    405\u001b[0m         \u001b[0;32mif\u001b[0m \u001b[0;32mnot\u001b[0m \u001b[0misinstance\u001b[0m\u001b[0;34m(\u001b[0m\u001b[0mmessages\u001b[0m\u001b[0;34m[\u001b[0m\u001b[0;34m-\u001b[0m\u001b[0;36m1\u001b[0m\u001b[0;34m]\u001b[0m\u001b[0;34m,\u001b[0m \u001b[0mHumanMessage\u001b[0m\u001b[0;34m)\u001b[0m\u001b[0;34m:\u001b[0m\u001b[0;34m\u001b[0m\u001b[0;34m\u001b[0m\u001b[0m\n\u001b[0;32m--> 406\u001b[0;31m             \u001b[0;32mraise\u001b[0m \u001b[0mValueError\u001b[0m\u001b[0;34m(\u001b[0m\u001b[0;34m\"Last message must be a HumanMessage!\"\u001b[0m\u001b[0;34m)\u001b[0m\u001b[0;34m\u001b[0m\u001b[0;34m\u001b[0m\u001b[0m\n\u001b[0m\u001b[1;32m    407\u001b[0m \u001b[0;34m\u001b[0m\u001b[0m\n\u001b[1;32m    408\u001b[0m         \u001b[0mmessages_dicts\u001b[0m \u001b[0;34m=\u001b[0m \u001b[0;34m[\u001b[0m\u001b[0mself\u001b[0m\u001b[0;34m.\u001b[0m\u001b[0m_to_chatml_format\u001b[0m\u001b[0;34m(\u001b[0m\u001b[0mm\u001b[0m\u001b[0;34m)\u001b[0m \u001b[0;32mfor\u001b[0m \u001b[0mm\u001b[0m \u001b[0;32min\u001b[0m \u001b[0mmessages\u001b[0m\u001b[0;34m]\u001b[0m\u001b[0;34m\u001b[0m\u001b[0;34m\u001b[0m\u001b[0m\n",
            "\u001b[0;31mValueError\u001b[0m: Last message must be a HumanMessage!"
          ]
        }
      ]
    },
    {
      "cell_type": "code",
      "source": [
        "# from langchain.chat_models import ChatOpenAI\n",
        "from langchain.schema import HumanMessage, SystemMessage, AIMessage"
      ],
      "metadata": {
        "id": "CE4UzUAxgFKG"
      },
      "execution_count": 13,
      "outputs": []
    },
    {
      "cell_type": "code",
      "source": [
        "result1= chat([HumanMessage(content= \"What is Correlation\")])\n",
        "result1"
      ],
      "metadata": {
        "colab": {
          "base_uri": "https://localhost:8080/"
        },
        "id": "6kfo5GCmgclO",
        "outputId": "42a3a7ac-e64e-4664-9b39-86bb64058d7f"
      },
      "execution_count": 14,
      "outputs": [
        {
          "output_type": "stream",
          "name": "stderr",
          "text": [
            "/usr/local/lib/python3.10/dist-packages/transformers/generation/configuration_utils.py:590: UserWarning: `do_sample` is set to `False`. However, `temperature` is set to `0.6` -- this flag is only used in sample-based generation modes. You should set `do_sample=True` or unset `temperature`.\n",
            "  warnings.warn(\n",
            "/usr/local/lib/python3.10/dist-packages/transformers/generation/configuration_utils.py:595: UserWarning: `do_sample` is set to `False`. However, `top_p` is set to `0.9` -- this flag is only used in sample-based generation modes. You should set `do_sample=True` or unset `top_p`.\n",
            "  warnings.warn(\n",
            "Setting `pad_token_id` to `eos_token_id`:None for open-end generation.\n"
          ]
        },
        {
          "output_type": "execute_result",
          "data": {
            "text/plain": [
              "AIMessage(content=\"<|begin_of_text|><|start_header_id|>system<|end_header_id|>\\n\\nCutting Knowledge Date: December 2023\\nToday Date: 05 Dec 2024\\n\\n<|eot_id|><|start_header_id|>user<|end_header_id|>\\n\\nWhat is Correlation<|eot_id|><|start_header_id|>assistant<|end_header_id|>\\n\\nCorrelation is a statistical term that refers to the relationship or connection between two or more variables. It measures how closely two or more variables are related to each other, with a positive correlation indicating a strong positive relationship, a negative correlation indicating a strong negative relationship, and no correlation indicating no relationship.\\n\\nIn statistics, correlation can be calculated using various methods, including:\\n\\n1. Pearson's r: This is one of the most commonly used correlation coefficients, which ranges from -1 to 1. A value of 1 indicates a perfect positive correlation, while a value of -1 indicates a perfect negative correlation.\\n2. Spearman's rho: This coefficient is used for non-normal data and is less sensitive to outliers than Pearson's r.\\n3. Kendall's tau: This coefficient is used for ordinal data and is less sensitive to outliers than Pearson's r.\\n\\nCorrelation can be used in various fields, including:\\n\\n1. Social sciences: To analyze the relationship between variables such as income, education level, and job satisfaction.\\n2. Business: To analyze the relationship between marketing variables such as advertising spend and sales.\\n3. Medicine: To analyze the relationship between variables such as blood pressure and heart rate.\\n4. Finance: To analyze the relationship between stock prices and market trends.\\n\\nCorrelation can be used to:\\n\\n1. Identify patterns and trends in data.\\n2. Predict future outcomes based on past data.\\n3. Inform decision-making in business and finance.\\n4. Analyze the relationship between variables and identify potential risks or opportunities.\\n\\nHowever, correlation does not imply causation. Just because two variables are correlated, it does not mean that one causes the other. For example, a correlation between high blood pressure and heart disease may be due to a combination of genetic and environmental factors, rather than a direct causal relationship.\\n\\nHere are some common types of correlations:\\n\\n1. Positive correlation: A relationship where an increase in one variable leads to an increase in the other variable.\\nExample: As income increases, so does the likelihood of owning a car.\\n2. Negative correlation: A relationship where an increase in one variable leads to a decrease in the other variable.\\nExample: As the temperature increases, so does the risk of drought.\\n3. No correlation: A relationship where there is no apparent connection between two variables.\\nExample: There is no apparent relationship between the number of hours worked and job satisfaction.\\n\\nIn conclusion, correlation is a statistical measure that helps us understand the relationship between variables, but it does not imply causation.\", additional_kwargs={}, response_metadata={}, id='run-b435bb96-ac74-4dd8-856a-d62276393c3f-0')"
            ]
          },
          "metadata": {},
          "execution_count": 14
        }
      ]
    },
    {
      "cell_type": "code",
      "source": [
        "print(result1.content)"
      ],
      "metadata": {
        "colab": {
          "base_uri": "https://localhost:8080/"
        },
        "id": "03oDikebgzTv",
        "outputId": "ca18177d-b56c-4644-890a-27b0fa255276"
      },
      "execution_count": 15,
      "outputs": [
        {
          "output_type": "stream",
          "name": "stdout",
          "text": [
            "<|begin_of_text|><|start_header_id|>system<|end_header_id|>\n",
            "\n",
            "Cutting Knowledge Date: December 2023\n",
            "Today Date: 05 Dec 2024\n",
            "\n",
            "<|eot_id|><|start_header_id|>user<|end_header_id|>\n",
            "\n",
            "What is Correlation<|eot_id|><|start_header_id|>assistant<|end_header_id|>\n",
            "\n",
            "Correlation is a statistical term that refers to the relationship or connection between two or more variables. It measures how closely two or more variables are related to each other, with a positive correlation indicating a strong positive relationship, a negative correlation indicating a strong negative relationship, and no correlation indicating no relationship.\n",
            "\n",
            "In statistics, correlation can be calculated using various methods, including:\n",
            "\n",
            "1. Pearson's r: This is one of the most commonly used correlation coefficients, which ranges from -1 to 1. A value of 1 indicates a perfect positive correlation, while a value of -1 indicates a perfect negative correlation.\n",
            "2. Spearman's rho: This coefficient is used for non-normal data and is less sensitive to outliers than Pearson's r.\n",
            "3. Kendall's tau: This coefficient is used for ordinal data and is less sensitive to outliers than Pearson's r.\n",
            "\n",
            "Correlation can be used in various fields, including:\n",
            "\n",
            "1. Social sciences: To analyze the relationship between variables such as income, education level, and job satisfaction.\n",
            "2. Business: To analyze the relationship between marketing variables such as advertising spend and sales.\n",
            "3. Medicine: To analyze the relationship between variables such as blood pressure and heart rate.\n",
            "4. Finance: To analyze the relationship between stock prices and market trends.\n",
            "\n",
            "Correlation can be used to:\n",
            "\n",
            "1. Identify patterns and trends in data.\n",
            "2. Predict future outcomes based on past data.\n",
            "3. Inform decision-making in business and finance.\n",
            "4. Analyze the relationship between variables and identify potential risks or opportunities.\n",
            "\n",
            "However, correlation does not imply causation. Just because two variables are correlated, it does not mean that one causes the other. For example, a correlation between high blood pressure and heart disease may be due to a combination of genetic and environmental factors, rather than a direct causal relationship.\n",
            "\n",
            "Here are some common types of correlations:\n",
            "\n",
            "1. Positive correlation: A relationship where an increase in one variable leads to an increase in the other variable.\n",
            "Example: As income increases, so does the likelihood of owning a car.\n",
            "2. Negative correlation: A relationship where an increase in one variable leads to a decrease in the other variable.\n",
            "Example: As the temperature increases, so does the risk of drought.\n",
            "3. No correlation: A relationship where there is no apparent connection between two variables.\n",
            "Example: There is no apparent relationship between the number of hours worked and job satisfaction.\n",
            "\n",
            "In conclusion, correlation is a statistical measure that helps us understand the relationship between variables, but it does not imply causation.\n"
          ]
        }
      ]
    },
    {
      "cell_type": "code",
      "source": [
        "result1= chat([SystemMessage(content=\"What is Regression?\"),\n",
        "               HumanMessage(content= \"What is Correlation?\")])"
      ],
      "metadata": {
        "colab": {
          "base_uri": "https://localhost:8080/"
        },
        "id": "MLhSVpjCg-fo",
        "outputId": "286120e6-15f8-4b41-8148-d70173a68e6a"
      },
      "execution_count": 16,
      "outputs": [
        {
          "output_type": "stream",
          "name": "stderr",
          "text": [
            "/usr/local/lib/python3.10/dist-packages/transformers/generation/configuration_utils.py:590: UserWarning: `do_sample` is set to `False`. However, `temperature` is set to `0.6` -- this flag is only used in sample-based generation modes. You should set `do_sample=True` or unset `temperature`.\n",
            "  warnings.warn(\n",
            "/usr/local/lib/python3.10/dist-packages/transformers/generation/configuration_utils.py:595: UserWarning: `do_sample` is set to `False`. However, `top_p` is set to `0.9` -- this flag is only used in sample-based generation modes. You should set `do_sample=True` or unset `top_p`.\n",
            "  warnings.warn(\n",
            "Setting `pad_token_id` to `eos_token_id`:None for open-end generation.\n"
          ]
        }
      ]
    },
    {
      "cell_type": "code",
      "source": [
        "print(result1.content)"
      ],
      "metadata": {
        "colab": {
          "base_uri": "https://localhost:8080/"
        },
        "id": "J6yF3jXThqgy",
        "outputId": "a578a62d-8361-41fc-bb29-22ffa51a0f20"
      },
      "execution_count": 18,
      "outputs": [
        {
          "output_type": "stream",
          "name": "stdout",
          "text": [
            "<|begin_of_text|><|start_header_id|>system<|end_header_id|>\n",
            "\n",
            "Cutting Knowledge Date: December 2023\n",
            "Today Date: 05 Dec 2024\n",
            "\n",
            "What is Regression?<|eot_id|><|start_header_id|>user<|end_header_id|>\n",
            "\n",
            "What is Correlation?<|eot_id|><|start_header_id|>assistant<|end_header_id|>\n",
            "\n",
            "Correlation is a statistical term that refers to the relationship between two or more variables. It measures how closely two or more variables are related to each other, with a positive correlation indicating a positive relationship, a negative correlation indicating a negative relationship, and no correlation indicating no relationship.\n",
            "\n",
            "In other words, correlation is a measure of how much two variables tend to change together. The strength of the correlation can be expressed as a coefficient, which ranges from -1 (perfect negative correlation) to 1 (perfect positive correlation), and 0 (no correlation).\n",
            "\n",
            "For example:\n",
            "\n",
            "* A strong positive correlation would mean that as one variable increases, the other variable also tends to increase.\n",
            "* A weak positive correlation would mean that as one variable increases, the other variable tends to increase, but not as strongly.\n",
            "* A weak negative correlation would mean that as one variable increases, the other variable tends to decrease.\n",
            "* A strong negative correlation would mean that as one variable increases, the other variable tends to decrease.\n",
            "\n",
            "Correlation is often used in various fields, including:\n",
            "\n",
            "1. **Economics**: To analyze the relationship between economic indicators, such as GDP and inflation.\n",
            "2. **Social sciences**: To study the relationship between variables like crime rates and population density.\n",
            "3. **Business**: To analyze the relationship between sales and market trends.\n",
            "4. **Health**: To study the relationship between physical activity and health outcomes.\n",
            "\n",
            "There are different types of correlation, including:\n",
            "\n",
            "1. **Simple correlation**: A basic measure of correlation where the relationship is assumed to be linear.\n",
            "2. **Multiple correlation**: A measure of correlation where the relationship is assumed to be non-linear.\n",
            "3. **Partial correlation**: A measure of correlation where only one variable is considered in the analysis.\n",
            "\n",
            "Understanding correlation is essential in data analysis, as it helps researchers and analysts to identify patterns and relationships between variables, which can inform decision-making and policy development.\n"
          ]
        }
      ]
    },
    {
      "cell_type": "code",
      "source": [
        "results= chat.generate([\n",
        "    [SystemMessage(content=\"What is Regression?\"),\n",
        "    HumanMessage(content= \"What is Correlation?\")]\n",
        "    ])\n",
        "\n",
        "# results= chat.generate([\n",
        "#     [SystemMessage(content=\"What is Regression?\"),\n",
        "#     HumanMessage(content= \"What is Correlation?\")],\n",
        "#     [SystemMessage(content=\"What is Regression?\"),\n",
        "#     HumanMessage(content= \"What is Correlation?\")]\n",
        "#     ])"
      ],
      "metadata": {
        "colab": {
          "base_uri": "https://localhost:8080/"
        },
        "id": "_sOX-Ch_h3fm",
        "outputId": "6ce58bf3-88a4-481a-fd8c-87815c182e77"
      },
      "execution_count": 21,
      "outputs": [
        {
          "output_type": "stream",
          "name": "stderr",
          "text": [
            "/usr/local/lib/python3.10/dist-packages/transformers/generation/configuration_utils.py:590: UserWarning: `do_sample` is set to `False`. However, `temperature` is set to `0.6` -- this flag is only used in sample-based generation modes. You should set `do_sample=True` or unset `temperature`.\n",
            "  warnings.warn(\n",
            "/usr/local/lib/python3.10/dist-packages/transformers/generation/configuration_utils.py:595: UserWarning: `do_sample` is set to `False`. However, `top_p` is set to `0.9` -- this flag is only used in sample-based generation modes. You should set `do_sample=True` or unset `top_p`.\n",
            "  warnings.warn(\n",
            "Setting `pad_token_id` to `eos_token_id`:None for open-end generation.\n"
          ]
        }
      ]
    },
    {
      "cell_type": "code",
      "source": [
        "results.llm_output"
      ],
      "metadata": {
        "colab": {
          "base_uri": "https://localhost:8080/"
        },
        "id": "jgWgH4vAiPra",
        "outputId": "3d063ac6-7ca8-44e9-cbea-8fa2575e4ee9"
      },
      "execution_count": 25,
      "outputs": [
        {
          "output_type": "execute_result",
          "data": {
            "text/plain": [
              "{}"
            ]
          },
          "metadata": {},
          "execution_count": 25
        }
      ]
    },
    {
      "cell_type": "code",
      "source": [
        "results.generations"
      ],
      "metadata": {
        "colab": {
          "base_uri": "https://localhost:8080/"
        },
        "id": "TvCQykkXiynQ",
        "outputId": "3059d21b-69df-46df-cc2f-4ec380969e31"
      },
      "execution_count": 24,
      "outputs": [
        {
          "output_type": "execute_result",
          "data": {
            "text/plain": [
              "[[ChatGeneration(text='<|begin_of_text|><|start_header_id|>system<|end_header_id|>\\n\\nCutting Knowledge Date: December 2023\\nToday Date: 05 Dec 2024\\n\\nWhat is Regression?<|eot_id|><|start_header_id|>user<|end_header_id|>\\n\\nWhat is Correlation?<|eot_id|><|start_header_id|>assistant<|end_header_id|>\\n\\nCorrelation is a statistical term that refers to the relationship between two or more variables. It measures how closely two or more variables are related to each other, with a positive correlation indicating a positive relationship, a negative correlation indicating a negative relationship, and no correlation indicating no relationship.\\n\\nIn other words, correlation is a measure of how much two variables tend to change together. The strength of the correlation can be expressed as a coefficient, which ranges from -1 (perfect negative correlation) to 1 (perfect positive correlation), and 0 (no correlation).\\n\\nFor example:\\n\\n* A strong positive correlation would mean that as one variable increases, the other variable also tends to increase.\\n* A weak positive correlation would mean that as one variable increases, the other variable tends to increase, but not as strongly.\\n* A weak negative correlation would mean that as one variable increases, the other variable tends to decrease.\\n* A strong negative correlation would mean that as one variable increases, the other variable tends to decrease.\\n\\nCorrelation is often used in various fields, including:\\n\\n1. **Economics**: To analyze the relationship between economic indicators, such as GDP and inflation.\\n2. **Social sciences**: To study the relationship between variables like crime rates and population density.\\n3. **Business**: To analyze the relationship between sales and market trends.\\n4. **Health**: To study the relationship between physical activity and health outcomes.\\n\\nThere are different types of correlation, including:\\n\\n1. **Simple correlation**: A basic measure of correlation where the relationship is assumed to be linear.\\n2. **Multiple correlation**: A measure of correlation where the relationship is assumed to be non-linear.\\n3. **Partial correlation**: A measure of correlation where only one variable is considered in the analysis.\\n\\nUnderstanding correlation is essential in data analysis, as it helps researchers and analysts to identify patterns and relationships between variables, which can inform decision-making and policy development.', message=AIMessage(content='<|begin_of_text|><|start_header_id|>system<|end_header_id|>\\n\\nCutting Knowledge Date: December 2023\\nToday Date: 05 Dec 2024\\n\\nWhat is Regression?<|eot_id|><|start_header_id|>user<|end_header_id|>\\n\\nWhat is Correlation?<|eot_id|><|start_header_id|>assistant<|end_header_id|>\\n\\nCorrelation is a statistical term that refers to the relationship between two or more variables. It measures how closely two or more variables are related to each other, with a positive correlation indicating a positive relationship, a negative correlation indicating a negative relationship, and no correlation indicating no relationship.\\n\\nIn other words, correlation is a measure of how much two variables tend to change together. The strength of the correlation can be expressed as a coefficient, which ranges from -1 (perfect negative correlation) to 1 (perfect positive correlation), and 0 (no correlation).\\n\\nFor example:\\n\\n* A strong positive correlation would mean that as one variable increases, the other variable also tends to increase.\\n* A weak positive correlation would mean that as one variable increases, the other variable tends to increase, but not as strongly.\\n* A weak negative correlation would mean that as one variable increases, the other variable tends to decrease.\\n* A strong negative correlation would mean that as one variable increases, the other variable tends to decrease.\\n\\nCorrelation is often used in various fields, including:\\n\\n1. **Economics**: To analyze the relationship between economic indicators, such as GDP and inflation.\\n2. **Social sciences**: To study the relationship between variables like crime rates and population density.\\n3. **Business**: To analyze the relationship between sales and market trends.\\n4. **Health**: To study the relationship between physical activity and health outcomes.\\n\\nThere are different types of correlation, including:\\n\\n1. **Simple correlation**: A basic measure of correlation where the relationship is assumed to be linear.\\n2. **Multiple correlation**: A measure of correlation where the relationship is assumed to be non-linear.\\n3. **Partial correlation**: A measure of correlation where only one variable is considered in the analysis.\\n\\nUnderstanding correlation is essential in data analysis, as it helps researchers and analysts to identify patterns and relationships between variables, which can inform decision-making and policy development.', additional_kwargs={}, response_metadata={}, id='run-7c823b42-d7e7-4ba5-87a7-ee02d89f8c23-0'))]]"
            ]
          },
          "metadata": {},
          "execution_count": 24
        }
      ]
    },
    {
      "cell_type": "code",
      "source": [
        "results.generations[0]"
      ],
      "metadata": {
        "colab": {
          "base_uri": "https://localhost:8080/"
        },
        "id": "dFI2FuGui7Ml",
        "outputId": "e24470e6-a0c5-4f89-eeb2-ebd9be340743"
      },
      "execution_count": 26,
      "outputs": [
        {
          "output_type": "execute_result",
          "data": {
            "text/plain": [
              "[ChatGeneration(text='<|begin_of_text|><|start_header_id|>system<|end_header_id|>\\n\\nCutting Knowledge Date: December 2023\\nToday Date: 05 Dec 2024\\n\\nWhat is Regression?<|eot_id|><|start_header_id|>user<|end_header_id|>\\n\\nWhat is Correlation?<|eot_id|><|start_header_id|>assistant<|end_header_id|>\\n\\nCorrelation is a statistical term that refers to the relationship between two or more variables. It measures how closely two or more variables are related to each other, with a positive correlation indicating a positive relationship, a negative correlation indicating a negative relationship, and no correlation indicating no relationship.\\n\\nIn other words, correlation is a measure of how much two variables tend to change together. The strength of the correlation can be expressed as a coefficient, which ranges from -1 (perfect negative correlation) to 1 (perfect positive correlation), and 0 (no correlation).\\n\\nFor example:\\n\\n* A strong positive correlation would mean that as one variable increases, the other variable also tends to increase.\\n* A weak positive correlation would mean that as one variable increases, the other variable tends to increase, but not as strongly.\\n* A weak negative correlation would mean that as one variable increases, the other variable tends to decrease.\\n* A strong negative correlation would mean that as one variable increases, the other variable tends to decrease.\\n\\nCorrelation is often used in various fields, including:\\n\\n1. **Economics**: To analyze the relationship between economic indicators, such as GDP and inflation.\\n2. **Social sciences**: To study the relationship between variables like crime rates and population density.\\n3. **Business**: To analyze the relationship between sales and market trends.\\n4. **Health**: To study the relationship between physical activity and health outcomes.\\n\\nThere are different types of correlation, including:\\n\\n1. **Simple correlation**: A basic measure of correlation where the relationship is assumed to be linear.\\n2. **Multiple correlation**: A measure of correlation where the relationship is assumed to be non-linear.\\n3. **Partial correlation**: A measure of correlation where only one variable is considered in the analysis.\\n\\nUnderstanding correlation is essential in data analysis, as it helps researchers and analysts to identify patterns and relationships between variables, which can inform decision-making and policy development.', message=AIMessage(content='<|begin_of_text|><|start_header_id|>system<|end_header_id|>\\n\\nCutting Knowledge Date: December 2023\\nToday Date: 05 Dec 2024\\n\\nWhat is Regression?<|eot_id|><|start_header_id|>user<|end_header_id|>\\n\\nWhat is Correlation?<|eot_id|><|start_header_id|>assistant<|end_header_id|>\\n\\nCorrelation is a statistical term that refers to the relationship between two or more variables. It measures how closely two or more variables are related to each other, with a positive correlation indicating a positive relationship, a negative correlation indicating a negative relationship, and no correlation indicating no relationship.\\n\\nIn other words, correlation is a measure of how much two variables tend to change together. The strength of the correlation can be expressed as a coefficient, which ranges from -1 (perfect negative correlation) to 1 (perfect positive correlation), and 0 (no correlation).\\n\\nFor example:\\n\\n* A strong positive correlation would mean that as one variable increases, the other variable also tends to increase.\\n* A weak positive correlation would mean that as one variable increases, the other variable tends to increase, but not as strongly.\\n* A weak negative correlation would mean that as one variable increases, the other variable tends to decrease.\\n* A strong negative correlation would mean that as one variable increases, the other variable tends to decrease.\\n\\nCorrelation is often used in various fields, including:\\n\\n1. **Economics**: To analyze the relationship between economic indicators, such as GDP and inflation.\\n2. **Social sciences**: To study the relationship between variables like crime rates and population density.\\n3. **Business**: To analyze the relationship between sales and market trends.\\n4. **Health**: To study the relationship between physical activity and health outcomes.\\n\\nThere are different types of correlation, including:\\n\\n1. **Simple correlation**: A basic measure of correlation where the relationship is assumed to be linear.\\n2. **Multiple correlation**: A measure of correlation where the relationship is assumed to be non-linear.\\n3. **Partial correlation**: A measure of correlation where only one variable is considered in the analysis.\\n\\nUnderstanding correlation is essential in data analysis, as it helps researchers and analysts to identify patterns and relationships between variables, which can inform decision-making and policy development.', additional_kwargs={}, response_metadata={}, id='run-7c823b42-d7e7-4ba5-87a7-ee02d89f8c23-0'))]"
            ]
          },
          "metadata": {},
          "execution_count": 26
        }
      ]
    },
    {
      "cell_type": "code",
      "source": [
        "results.generations[0][0]"
      ],
      "metadata": {
        "colab": {
          "base_uri": "https://localhost:8080/"
        },
        "id": "Ek-q0fGNjIl-",
        "outputId": "183531f5-a11a-4109-e8b4-2091660e01b4"
      },
      "execution_count": 27,
      "outputs": [
        {
          "output_type": "execute_result",
          "data": {
            "text/plain": [
              "ChatGeneration(text='<|begin_of_text|><|start_header_id|>system<|end_header_id|>\\n\\nCutting Knowledge Date: December 2023\\nToday Date: 05 Dec 2024\\n\\nWhat is Regression?<|eot_id|><|start_header_id|>user<|end_header_id|>\\n\\nWhat is Correlation?<|eot_id|><|start_header_id|>assistant<|end_header_id|>\\n\\nCorrelation is a statistical term that refers to the relationship between two or more variables. It measures how closely two or more variables are related to each other, with a positive correlation indicating a positive relationship, a negative correlation indicating a negative relationship, and no correlation indicating no relationship.\\n\\nIn other words, correlation is a measure of how much two variables tend to change together. The strength of the correlation can be expressed as a coefficient, which ranges from -1 (perfect negative correlation) to 1 (perfect positive correlation), and 0 (no correlation).\\n\\nFor example:\\n\\n* A strong positive correlation would mean that as one variable increases, the other variable also tends to increase.\\n* A weak positive correlation would mean that as one variable increases, the other variable tends to increase, but not as strongly.\\n* A weak negative correlation would mean that as one variable increases, the other variable tends to decrease.\\n* A strong negative correlation would mean that as one variable increases, the other variable tends to decrease.\\n\\nCorrelation is often used in various fields, including:\\n\\n1. **Economics**: To analyze the relationship between economic indicators, such as GDP and inflation.\\n2. **Social sciences**: To study the relationship between variables like crime rates and population density.\\n3. **Business**: To analyze the relationship between sales and market trends.\\n4. **Health**: To study the relationship between physical activity and health outcomes.\\n\\nThere are different types of correlation, including:\\n\\n1. **Simple correlation**: A basic measure of correlation where the relationship is assumed to be linear.\\n2. **Multiple correlation**: A measure of correlation where the relationship is assumed to be non-linear.\\n3. **Partial correlation**: A measure of correlation where only one variable is considered in the analysis.\\n\\nUnderstanding correlation is essential in data analysis, as it helps researchers and analysts to identify patterns and relationships between variables, which can inform decision-making and policy development.', message=AIMessage(content='<|begin_of_text|><|start_header_id|>system<|end_header_id|>\\n\\nCutting Knowledge Date: December 2023\\nToday Date: 05 Dec 2024\\n\\nWhat is Regression?<|eot_id|><|start_header_id|>user<|end_header_id|>\\n\\nWhat is Correlation?<|eot_id|><|start_header_id|>assistant<|end_header_id|>\\n\\nCorrelation is a statistical term that refers to the relationship between two or more variables. It measures how closely two or more variables are related to each other, with a positive correlation indicating a positive relationship, a negative correlation indicating a negative relationship, and no correlation indicating no relationship.\\n\\nIn other words, correlation is a measure of how much two variables tend to change together. The strength of the correlation can be expressed as a coefficient, which ranges from -1 (perfect negative correlation) to 1 (perfect positive correlation), and 0 (no correlation).\\n\\nFor example:\\n\\n* A strong positive correlation would mean that as one variable increases, the other variable also tends to increase.\\n* A weak positive correlation would mean that as one variable increases, the other variable tends to increase, but not as strongly.\\n* A weak negative correlation would mean that as one variable increases, the other variable tends to decrease.\\n* A strong negative correlation would mean that as one variable increases, the other variable tends to decrease.\\n\\nCorrelation is often used in various fields, including:\\n\\n1. **Economics**: To analyze the relationship between economic indicators, such as GDP and inflation.\\n2. **Social sciences**: To study the relationship between variables like crime rates and population density.\\n3. **Business**: To analyze the relationship between sales and market trends.\\n4. **Health**: To study the relationship between physical activity and health outcomes.\\n\\nThere are different types of correlation, including:\\n\\n1. **Simple correlation**: A basic measure of correlation where the relationship is assumed to be linear.\\n2. **Multiple correlation**: A measure of correlation where the relationship is assumed to be non-linear.\\n3. **Partial correlation**: A measure of correlation where only one variable is considered in the analysis.\\n\\nUnderstanding correlation is essential in data analysis, as it helps researchers and analysts to identify patterns and relationships between variables, which can inform decision-making and policy development.', additional_kwargs={}, response_metadata={}, id='run-7c823b42-d7e7-4ba5-87a7-ee02d89f8c23-0'))"
            ]
          },
          "metadata": {},
          "execution_count": 27
        }
      ]
    },
    {
      "cell_type": "code",
      "source": [
        "results.generations[0][0].text"
      ],
      "metadata": {
        "colab": {
          "base_uri": "https://localhost:8080/",
          "height": 139
        },
        "id": "yWBEEwwCjJ9o",
        "outputId": "49a10c0c-fe36-4889-fd0d-020412a29bf6"
      },
      "execution_count": 28,
      "outputs": [
        {
          "output_type": "execute_result",
          "data": {
            "text/plain": [
              "'<|begin_of_text|><|start_header_id|>system<|end_header_id|>\\n\\nCutting Knowledge Date: December 2023\\nToday Date: 05 Dec 2024\\n\\nWhat is Regression?<|eot_id|><|start_header_id|>user<|end_header_id|>\\n\\nWhat is Correlation?<|eot_id|><|start_header_id|>assistant<|end_header_id|>\\n\\nCorrelation is a statistical term that refers to the relationship between two or more variables. It measures how closely two or more variables are related to each other, with a positive correlation indicating a positive relationship, a negative correlation indicating a negative relationship, and no correlation indicating no relationship.\\n\\nIn other words, correlation is a measure of how much two variables tend to change together. The strength of the correlation can be expressed as a coefficient, which ranges from -1 (perfect negative correlation) to 1 (perfect positive correlation), and 0 (no correlation).\\n\\nFor example:\\n\\n* A strong positive correlation would mean that as one variable increases, the other variable also tends to increase.\\n* A weak positive correlation would mean that as one variable increases, the other variable tends to increase, but not as strongly.\\n* A weak negative correlation would mean that as one variable increases, the other variable tends to decrease.\\n* A strong negative correlation would mean that as one variable increases, the other variable tends to decrease.\\n\\nCorrelation is often used in various fields, including:\\n\\n1. **Economics**: To analyze the relationship between economic indicators, such as GDP and inflation.\\n2. **Social sciences**: To study the relationship between variables like crime rates and population density.\\n3. **Business**: To analyze the relationship between sales and market trends.\\n4. **Health**: To study the relationship between physical activity and health outcomes.\\n\\nThere are different types of correlation, including:\\n\\n1. **Simple correlation**: A basic measure of correlation where the relationship is assumed to be linear.\\n2. **Multiple correlation**: A measure of correlation where the relationship is assumed to be non-linear.\\n3. **Partial correlation**: A measure of correlation where only one variable is considered in the analysis.\\n\\nUnderstanding correlation is essential in data analysis, as it helps researchers and analysts to identify patterns and relationships between variables, which can inform decision-making and policy development.'"
            ],
            "application/vnd.google.colaboratory.intrinsic+json": {
              "type": "string"
            }
          },
          "metadata": {},
          "execution_count": 28
        }
      ]
    },
    {
      "cell_type": "code",
      "source": [
        "print(results.generations[0][0].text)"
      ],
      "metadata": {
        "colab": {
          "base_uri": "https://localhost:8080/"
        },
        "id": "OSxTsz9UjQQK",
        "outputId": "b537240a-fcde-4f2b-f447-8ea229c07bfc"
      },
      "execution_count": 29,
      "outputs": [
        {
          "output_type": "stream",
          "name": "stdout",
          "text": [
            "<|begin_of_text|><|start_header_id|>system<|end_header_id|>\n",
            "\n",
            "Cutting Knowledge Date: December 2023\n",
            "Today Date: 05 Dec 2024\n",
            "\n",
            "What is Regression?<|eot_id|><|start_header_id|>user<|end_header_id|>\n",
            "\n",
            "What is Correlation?<|eot_id|><|start_header_id|>assistant<|end_header_id|>\n",
            "\n",
            "Correlation is a statistical term that refers to the relationship between two or more variables. It measures how closely two or more variables are related to each other, with a positive correlation indicating a positive relationship, a negative correlation indicating a negative relationship, and no correlation indicating no relationship.\n",
            "\n",
            "In other words, correlation is a measure of how much two variables tend to change together. The strength of the correlation can be expressed as a coefficient, which ranges from -1 (perfect negative correlation) to 1 (perfect positive correlation), and 0 (no correlation).\n",
            "\n",
            "For example:\n",
            "\n",
            "* A strong positive correlation would mean that as one variable increases, the other variable also tends to increase.\n",
            "* A weak positive correlation would mean that as one variable increases, the other variable tends to increase, but not as strongly.\n",
            "* A weak negative correlation would mean that as one variable increases, the other variable tends to decrease.\n",
            "* A strong negative correlation would mean that as one variable increases, the other variable tends to decrease.\n",
            "\n",
            "Correlation is often used in various fields, including:\n",
            "\n",
            "1. **Economics**: To analyze the relationship between economic indicators, such as GDP and inflation.\n",
            "2. **Social sciences**: To study the relationship between variables like crime rates and population density.\n",
            "3. **Business**: To analyze the relationship between sales and market trends.\n",
            "4. **Health**: To study the relationship between physical activity and health outcomes.\n",
            "\n",
            "There are different types of correlation, including:\n",
            "\n",
            "1. **Simple correlation**: A basic measure of correlation where the relationship is assumed to be linear.\n",
            "2. **Multiple correlation**: A measure of correlation where the relationship is assumed to be non-linear.\n",
            "3. **Partial correlation**: A measure of correlation where only one variable is considered in the analysis.\n",
            "\n",
            "Understanding correlation is essential in data analysis, as it helps researchers and analysts to identify patterns and relationships between variables, which can inform decision-making and policy development.\n"
          ]
        }
      ]
    },
    {
      "cell_type": "code",
      "source": [
        "results= chat.generate(\n",
        "    [[SystemMessage(content=\"What is Mean?\"),\n",
        "    HumanMessage(content= \"What is Standard Deviation?\")]],\n",
        "    temperatue= 2, presence_penalty= 2, max_tokens= 40\n",
        "    )"
      ],
      "metadata": {
        "colab": {
          "base_uri": "https://localhost:8080/"
        },
        "id": "MCX7Z_jqjT30",
        "outputId": "c6084852-4db3-4588-ffd4-a066814ecd5f"
      },
      "execution_count": 32,
      "outputs": [
        {
          "output_type": "stream",
          "name": "stderr",
          "text": [
            "/usr/local/lib/python3.10/dist-packages/transformers/generation/configuration_utils.py:590: UserWarning: `do_sample` is set to `False`. However, `temperature` is set to `0.6` -- this flag is only used in sample-based generation modes. You should set `do_sample=True` or unset `temperature`.\n",
            "  warnings.warn(\n",
            "/usr/local/lib/python3.10/dist-packages/transformers/generation/configuration_utils.py:595: UserWarning: `do_sample` is set to `False`. However, `top_p` is set to `0.9` -- this flag is only used in sample-based generation modes. You should set `do_sample=True` or unset `top_p`.\n",
            "  warnings.warn(\n",
            "Setting `pad_token_id` to `eos_token_id`:None for open-end generation.\n"
          ]
        }
      ]
    },
    {
      "cell_type": "code",
      "source": [
        "results.generations[0]"
      ],
      "metadata": {
        "colab": {
          "base_uri": "https://localhost:8080/"
        },
        "id": "zh2GDyejj5Gr",
        "outputId": "36879e18-98ea-4970-bf77-412b4ec42da6"
      },
      "execution_count": 47,
      "outputs": [
        {
          "output_type": "execute_result",
          "data": {
            "text/plain": [
              "[ChatGeneration(text=\"<|begin_of_text|><|start_header_id|>system<|end_header_id|>\\n\\nCutting Knowledge Date: December 2023\\nToday Date: 05 Dec 2024\\n\\nWhat is Mean?<|eot_id|><|start_header_id|>user<|end_header_id|>\\n\\nWhat is Standard Deviation?<|eot_id|><|start_header_id|>assistant<|end_header_id|>\\n\\nStandard deviation is a measure of the amount of variation or dispersion in a set of data. It represents how spread out the values are from the average value. In other words, it measures the amount of variation or dispersion in a dataset.\\n\\nStandard deviation is calculated by taking the square root of the variance, which is the average of the squared differences between each data point and the mean (average) of the dataset.\\n\\nMathematically, standard deviation is calculated as:\\n\\nStandard Deviation = √Variance\\n\\nWhere:\\n- Variance is the average of the squared differences between each data point and the mean.\\n\\nFor example, if you have a dataset with the following values:\\n\\n{2, 4, 6, 8, 10}\\n\\nThe mean of this dataset is (2 + 4 + 6 + 8 + 10) / 5 = 30 / 5 = 6.\\n\\nTo calculate the variance, you would take each value and subtract the mean, square it, and then average these squared differences. The result is:\\n\\n(2 - 6)^2 + (4 - 6)^2 + (6 - 6)^2 + (8 - 6)^2 + (10 - 6)^2\\n= (-4)^2 + (-2)^2 + 0^2 + 2^2 + 4^2\\n= 16 + 4 + 0 + 4 + 16\\n= 40\\n\\nThe variance is then the average of these squared differences, which is 40 / 5 = 8.\\n\\nFinally, the standard deviation is the square root of the variance, which is √8 ≈ 2.83.\\n\\nIn summary, standard deviation measures the amount of variation or dispersion in a dataset, and it's an important concept in statistics and data analysis.\", message=AIMessage(content=\"<|begin_of_text|><|start_header_id|>system<|end_header_id|>\\n\\nCutting Knowledge Date: December 2023\\nToday Date: 05 Dec 2024\\n\\nWhat is Mean?<|eot_id|><|start_header_id|>user<|end_header_id|>\\n\\nWhat is Standard Deviation?<|eot_id|><|start_header_id|>assistant<|end_header_id|>\\n\\nStandard deviation is a measure of the amount of variation or dispersion in a set of data. It represents how spread out the values are from the average value. In other words, it measures the amount of variation or dispersion in a dataset.\\n\\nStandard deviation is calculated by taking the square root of the variance, which is the average of the squared differences between each data point and the mean (average) of the dataset.\\n\\nMathematically, standard deviation is calculated as:\\n\\nStandard Deviation = √Variance\\n\\nWhere:\\n- Variance is the average of the squared differences between each data point and the mean.\\n\\nFor example, if you have a dataset with the following values:\\n\\n{2, 4, 6, 8, 10}\\n\\nThe mean of this dataset is (2 + 4 + 6 + 8 + 10) / 5 = 30 / 5 = 6.\\n\\nTo calculate the variance, you would take each value and subtract the mean, square it, and then average these squared differences. The result is:\\n\\n(2 - 6)^2 + (4 - 6)^2 + (6 - 6)^2 + (8 - 6)^2 + (10 - 6)^2\\n= (-4)^2 + (-2)^2 + 0^2 + 2^2 + 4^2\\n= 16 + 4 + 0 + 4 + 16\\n= 40\\n\\nThe variance is then the average of these squared differences, which is 40 / 5 = 8.\\n\\nFinally, the standard deviation is the square root of the variance, which is √8 ≈ 2.83.\\n\\nIn summary, standard deviation measures the amount of variation or dispersion in a dataset, and it's an important concept in statistics and data analysis.\", additional_kwargs={}, response_metadata={}, id='run-77946e42-67f0-477c-9568-567c92064762-0'))]"
            ]
          },
          "metadata": {},
          "execution_count": 47
        }
      ]
    },
    {
      "cell_type": "code",
      "source": [
        "pip install -U langchain-community"
      ],
      "metadata": {
        "colab": {
          "base_uri": "https://localhost:8080/"
        },
        "id": "zOtSH9gvl_p-",
        "outputId": "bb504c75-0c7a-4efb-a518-66f2843dbc66"
      },
      "execution_count": 50,
      "outputs": [
        {
          "output_type": "stream",
          "name": "stdout",
          "text": [
            "Collecting langchain-community\n",
            "  Downloading langchain_community-0.3.9-py3-none-any.whl.metadata (2.9 kB)\n",
            "Requirement already satisfied: PyYAML>=5.3 in /usr/local/lib/python3.10/dist-packages (from langchain-community) (6.0.2)\n",
            "Requirement already satisfied: SQLAlchemy<3,>=1.4 in /usr/local/lib/python3.10/dist-packages (from langchain-community) (2.0.36)\n",
            "Requirement already satisfied: aiohttp<4.0.0,>=3.8.3 in /usr/local/lib/python3.10/dist-packages (from langchain-community) (3.11.2)\n",
            "Collecting dataclasses-json<0.7,>=0.5.7 (from langchain-community)\n",
            "  Downloading dataclasses_json-0.6.7-py3-none-any.whl.metadata (25 kB)\n",
            "Collecting httpx-sse<0.5.0,>=0.4.0 (from langchain-community)\n",
            "  Downloading httpx_sse-0.4.0-py3-none-any.whl.metadata (9.0 kB)\n",
            "Collecting langchain<0.4.0,>=0.3.8 (from langchain-community)\n",
            "  Downloading langchain-0.3.9-py3-none-any.whl.metadata (7.1 kB)\n",
            "Collecting langchain-core<0.4.0,>=0.3.21 (from langchain-community)\n",
            "  Downloading langchain_core-0.3.21-py3-none-any.whl.metadata (6.3 kB)\n",
            "Requirement already satisfied: langsmith<0.2.0,>=0.1.125 in /usr/local/lib/python3.10/dist-packages (from langchain-community) (0.1.143)\n",
            "Requirement already satisfied: numpy<2,>=1.22.4 in /usr/local/lib/python3.10/dist-packages (from langchain-community) (1.26.4)\n",
            "Collecting pydantic-settings<3.0.0,>=2.4.0 (from langchain-community)\n",
            "  Downloading pydantic_settings-2.6.1-py3-none-any.whl.metadata (3.5 kB)\n",
            "Requirement already satisfied: requests<3,>=2 in /usr/local/lib/python3.10/dist-packages (from langchain-community) (2.32.3)\n",
            "Requirement already satisfied: tenacity!=8.4.0,<10,>=8.1.0 in /usr/local/lib/python3.10/dist-packages (from langchain-community) (9.0.0)\n",
            "Requirement already satisfied: aiohappyeyeballs>=2.3.0 in /usr/local/lib/python3.10/dist-packages (from aiohttp<4.0.0,>=3.8.3->langchain-community) (2.4.3)\n",
            "Requirement already satisfied: aiosignal>=1.1.2 in /usr/local/lib/python3.10/dist-packages (from aiohttp<4.0.0,>=3.8.3->langchain-community) (1.3.1)\n",
            "Requirement already satisfied: attrs>=17.3.0 in /usr/local/lib/python3.10/dist-packages (from aiohttp<4.0.0,>=3.8.3->langchain-community) (24.2.0)\n",
            "Requirement already satisfied: frozenlist>=1.1.1 in /usr/local/lib/python3.10/dist-packages (from aiohttp<4.0.0,>=3.8.3->langchain-community) (1.5.0)\n",
            "Requirement already satisfied: multidict<7.0,>=4.5 in /usr/local/lib/python3.10/dist-packages (from aiohttp<4.0.0,>=3.8.3->langchain-community) (6.1.0)\n",
            "Requirement already satisfied: propcache>=0.2.0 in /usr/local/lib/python3.10/dist-packages (from aiohttp<4.0.0,>=3.8.3->langchain-community) (0.2.0)\n",
            "Requirement already satisfied: yarl<2.0,>=1.17.0 in /usr/local/lib/python3.10/dist-packages (from aiohttp<4.0.0,>=3.8.3->langchain-community) (1.17.2)\n",
            "Requirement already satisfied: async-timeout<6.0,>=4.0 in /usr/local/lib/python3.10/dist-packages (from aiohttp<4.0.0,>=3.8.3->langchain-community) (4.0.3)\n",
            "Collecting marshmallow<4.0.0,>=3.18.0 (from dataclasses-json<0.7,>=0.5.7->langchain-community)\n",
            "  Downloading marshmallow-3.23.1-py3-none-any.whl.metadata (7.5 kB)\n",
            "Collecting typing-inspect<1,>=0.4.0 (from dataclasses-json<0.7,>=0.5.7->langchain-community)\n",
            "  Downloading typing_inspect-0.9.0-py3-none-any.whl.metadata (1.5 kB)\n",
            "Requirement already satisfied: langchain-text-splitters<0.4.0,>=0.3.0 in /usr/local/lib/python3.10/dist-packages (from langchain<0.4.0,>=0.3.8->langchain-community) (0.3.2)\n",
            "Requirement already satisfied: pydantic<3.0.0,>=2.7.4 in /usr/local/lib/python3.10/dist-packages (from langchain<0.4.0,>=0.3.8->langchain-community) (2.9.2)\n",
            "Requirement already satisfied: jsonpatch<2.0,>=1.33 in /usr/local/lib/python3.10/dist-packages (from langchain-core<0.4.0,>=0.3.21->langchain-community) (1.33)\n",
            "Requirement already satisfied: packaging<25,>=23.2 in /usr/local/lib/python3.10/dist-packages (from langchain-core<0.4.0,>=0.3.21->langchain-community) (24.2)\n",
            "Requirement already satisfied: typing-extensions>=4.7 in /usr/local/lib/python3.10/dist-packages (from langchain-core<0.4.0,>=0.3.21->langchain-community) (4.12.2)\n",
            "Requirement already satisfied: httpx<1,>=0.23.0 in /usr/local/lib/python3.10/dist-packages (from langsmith<0.2.0,>=0.1.125->langchain-community) (0.27.2)\n",
            "Requirement already satisfied: orjson<4.0.0,>=3.9.14 in /usr/local/lib/python3.10/dist-packages (from langsmith<0.2.0,>=0.1.125->langchain-community) (3.10.11)\n",
            "Requirement already satisfied: requests-toolbelt<2.0.0,>=1.0.0 in /usr/local/lib/python3.10/dist-packages (from langsmith<0.2.0,>=0.1.125->langchain-community) (1.0.0)\n",
            "Collecting python-dotenv>=0.21.0 (from pydantic-settings<3.0.0,>=2.4.0->langchain-community)\n",
            "  Downloading python_dotenv-1.0.1-py3-none-any.whl.metadata (23 kB)\n",
            "Requirement already satisfied: charset-normalizer<4,>=2 in /usr/local/lib/python3.10/dist-packages (from requests<3,>=2->langchain-community) (3.4.0)\n",
            "Requirement already satisfied: idna<4,>=2.5 in /usr/local/lib/python3.10/dist-packages (from requests<3,>=2->langchain-community) (3.10)\n",
            "Requirement already satisfied: urllib3<3,>=1.21.1 in /usr/local/lib/python3.10/dist-packages (from requests<3,>=2->langchain-community) (2.2.3)\n",
            "Requirement already satisfied: certifi>=2017.4.17 in /usr/local/lib/python3.10/dist-packages (from requests<3,>=2->langchain-community) (2024.8.30)\n",
            "Requirement already satisfied: greenlet!=0.4.17 in /usr/local/lib/python3.10/dist-packages (from SQLAlchemy<3,>=1.4->langchain-community) (3.1.1)\n",
            "Requirement already satisfied: anyio in /usr/local/lib/python3.10/dist-packages (from httpx<1,>=0.23.0->langsmith<0.2.0,>=0.1.125->langchain-community) (3.7.1)\n",
            "Requirement already satisfied: httpcore==1.* in /usr/local/lib/python3.10/dist-packages (from httpx<1,>=0.23.0->langsmith<0.2.0,>=0.1.125->langchain-community) (1.0.7)\n",
            "Requirement already satisfied: sniffio in /usr/local/lib/python3.10/dist-packages (from httpx<1,>=0.23.0->langsmith<0.2.0,>=0.1.125->langchain-community) (1.3.1)\n",
            "Requirement already satisfied: h11<0.15,>=0.13 in /usr/local/lib/python3.10/dist-packages (from httpcore==1.*->httpx<1,>=0.23.0->langsmith<0.2.0,>=0.1.125->langchain-community) (0.14.0)\n",
            "Requirement already satisfied: jsonpointer>=1.9 in /usr/local/lib/python3.10/dist-packages (from jsonpatch<2.0,>=1.33->langchain-core<0.4.0,>=0.3.21->langchain-community) (3.0.0)\n",
            "Requirement already satisfied: annotated-types>=0.6.0 in /usr/local/lib/python3.10/dist-packages (from pydantic<3.0.0,>=2.7.4->langchain<0.4.0,>=0.3.8->langchain-community) (0.7.0)\n",
            "Requirement already satisfied: pydantic-core==2.23.4 in /usr/local/lib/python3.10/dist-packages (from pydantic<3.0.0,>=2.7.4->langchain<0.4.0,>=0.3.8->langchain-community) (2.23.4)\n",
            "Collecting mypy-extensions>=0.3.0 (from typing-inspect<1,>=0.4.0->dataclasses-json<0.7,>=0.5.7->langchain-community)\n",
            "  Downloading mypy_extensions-1.0.0-py3-none-any.whl.metadata (1.1 kB)\n",
            "Requirement already satisfied: exceptiongroup in /usr/local/lib/python3.10/dist-packages (from anyio->httpx<1,>=0.23.0->langsmith<0.2.0,>=0.1.125->langchain-community) (1.2.2)\n",
            "Downloading langchain_community-0.3.9-py3-none-any.whl (2.4 MB)\n",
            "\u001b[2K   \u001b[90m━━━━━━━━━━━━━━━━━━━━━━━━━━━━━━━━━━━━━━━━\u001b[0m \u001b[32m2.4/2.4 MB\u001b[0m \u001b[31m27.7 MB/s\u001b[0m eta \u001b[36m0:00:00\u001b[0m\n",
            "\u001b[?25hDownloading dataclasses_json-0.6.7-py3-none-any.whl (28 kB)\n",
            "Downloading httpx_sse-0.4.0-py3-none-any.whl (7.8 kB)\n",
            "Downloading langchain-0.3.9-py3-none-any.whl (1.0 MB)\n",
            "\u001b[2K   \u001b[90m━━━━━━━━━━━━━━━━━━━━━━━━━━━━━━━━━━━━━━━━\u001b[0m \u001b[32m1.0/1.0 MB\u001b[0m \u001b[31m44.5 MB/s\u001b[0m eta \u001b[36m0:00:00\u001b[0m\n",
            "\u001b[?25hDownloading langchain_core-0.3.21-py3-none-any.whl (409 kB)\n",
            "\u001b[2K   \u001b[90m━━━━━━━━━━━━━━━━━━━━━━━━━━━━━━━━━━━━━━━━\u001b[0m \u001b[32m409.5/409.5 kB\u001b[0m \u001b[31m26.9 MB/s\u001b[0m eta \u001b[36m0:00:00\u001b[0m\n",
            "\u001b[?25hDownloading pydantic_settings-2.6.1-py3-none-any.whl (28 kB)\n",
            "Downloading marshmallow-3.23.1-py3-none-any.whl (49 kB)\n",
            "\u001b[2K   \u001b[90m━━━━━━━━━━━━━━━━━━━━━━━━━━━━━━━━━━━━━━━━\u001b[0m \u001b[32m49.5/49.5 kB\u001b[0m \u001b[31m4.8 MB/s\u001b[0m eta \u001b[36m0:00:00\u001b[0m\n",
            "\u001b[?25hDownloading python_dotenv-1.0.1-py3-none-any.whl (19 kB)\n",
            "Downloading typing_inspect-0.9.0-py3-none-any.whl (8.8 kB)\n",
            "Downloading mypy_extensions-1.0.0-py3-none-any.whl (4.7 kB)\n",
            "Installing collected packages: python-dotenv, mypy-extensions, marshmallow, httpx-sse, typing-inspect, pydantic-settings, dataclasses-json, langchain-core, langchain, langchain-community\n",
            "  Attempting uninstall: langchain-core\n",
            "    Found existing installation: langchain-core 0.3.19\n",
            "    Uninstalling langchain-core-0.3.19:\n",
            "      Successfully uninstalled langchain-core-0.3.19\n",
            "  Attempting uninstall: langchain\n",
            "    Found existing installation: langchain 0.3.7\n",
            "    Uninstalling langchain-0.3.7:\n",
            "      Successfully uninstalled langchain-0.3.7\n",
            "Successfully installed dataclasses-json-0.6.7 httpx-sse-0.4.0 langchain-0.3.9 langchain-community-0.3.9 langchain-core-0.3.21 marshmallow-3.23.1 mypy-extensions-1.0.0 pydantic-settings-2.6.1 python-dotenv-1.0.1 typing-inspect-0.9.0\n"
          ]
        }
      ]
    },
    {
      "cell_type": "code",
      "source": [
        "import langchain\n",
        "from langchain.cache import InMemoryCache\n",
        "langchain.llm_cache = InMemoryCache()"
      ],
      "metadata": {
        "id": "UrySnGHhkXqY"
      },
      "execution_count": 52,
      "outputs": []
    },
    {
      "cell_type": "code",
      "source": [
        "llm.predict(\"What is Deep Learning?\")"
      ],
      "metadata": {
        "colab": {
          "base_uri": "https://localhost:8080/",
          "height": 281
        },
        "id": "0jFRLOw1l2z-",
        "outputId": "d7461d73-56c0-4b6e-f141-6c1ebffdc093"
      },
      "execution_count": 53,
      "outputs": [
        {
          "output_type": "stream",
          "name": "stderr",
          "text": [
            "<ipython-input-53-2319d114ce55>:1: LangChainDeprecationWarning: The method `BaseLLM.predict` was deprecated in langchain-core 0.1.7 and will be removed in 1.0. Use :meth:`~invoke` instead.\n",
            "  llm.predict(\"What is Deep Learning?\")\n",
            "/usr/local/lib/python3.10/dist-packages/transformers/generation/configuration_utils.py:590: UserWarning: `do_sample` is set to `False`. However, `temperature` is set to `0.6` -- this flag is only used in sample-based generation modes. You should set `do_sample=True` or unset `temperature`.\n",
            "  warnings.warn(\n",
            "/usr/local/lib/python3.10/dist-packages/transformers/generation/configuration_utils.py:595: UserWarning: `do_sample` is set to `False`. However, `top_p` is set to `0.9` -- this flag is only used in sample-based generation modes. You should set `do_sample=True` or unset `top_p`.\n",
            "  warnings.warn(\n",
            "Setting `pad_token_id` to `eos_token_id`:None for open-end generation.\n"
          ]
        },
        {
          "output_type": "execute_result",
          "data": {
            "text/plain": [
              "'What is Deep Learning? and How Does it Work?\\nDeep learning is a subset of machine learning that uses artificial neural networks to analyze and interpret data. These neural networks are inspired by the structure and function of the human brain, which is composed of billions of interconnected neurons.\\n\\n**Key Components:**\\n\\n1. **Artificial Neural Networks (ANNs):** These are the building blocks of deep learning. ANNs consist of layers of interconnected nodes or \"neurons\" that process and transmit information.\\n2. **Activation Functions:** These are mathematical functions that introduce non-linearity into the model, allowing it to learn complex relationships between inputs and outputs.\\n3. **Backpropagation:** This is an optimization algorithm used to train the model by minimizing the error between predicted and actual outputs.\\n\\n**How Deep Learning Works:**\\n\\n1. **Data Collection:** A dataset is collected, which can be in the form of images, audio, text, or any other type of data.\\n2. **Preprocessing:** The data is preprocessed to ensure it is in a suitable format for training the model.\\n3. **Model Training:** The model is trained using a large dataset, where the goal is to minimize the error between predicted and actual outputs.\\n4. **Model Evaluation:** The trained model is evaluated on a separate test dataset to assess its performance.\\n5. **Model Deployment:** The trained model is deployed in a production environment, where it can be used to make predictions or decisions.\\n\\n**Types of Deep Learning:**\\n\\n1. **Convolutional Neural Networks (CNNs):** These are designed for image and video data, and are particularly effective for tasks such as image classification and object detection.\\n2. **Recurrent Neural Networks (RNNs):** These are designed for sequential data, such as text or speech, and are particularly effective for tasks such as language translation and speech recognition.\\n3. **Generative Adversarial Networks (GANs):** These are designed for generating new data samples, such as images or text, and are particularly effective for tasks such as image generation and text-to-image synthesis.\\n\\n**Advantages:**\\n\\n1. **Improved Accuracy:** Deep learning models can achieve state-of-the-art performance on many tasks, especially when compared to traditional machine learning methods.\\n2. **Flexibility:** Deep learning models can be applied to a wide range of tasks, including image classification, object detection, and natural language processing.\\n3. **Scalability:** Deep learning models can be easily scaled up to handle large datasets and complex tasks.\\n\\n**Challenges:**\\n\\n1. **Data Quality:** High-quality data is essential for training deep learning models, but collecting and preprocessing large datasets can be challenging.\\n2. **Overfitting:** Deep learning models can suffer from overfitting, where they become too specialized to the training data and fail to generalize well to new data.\\n3. **Interpretability:** Deep learning models can be difficult to interpret, making it challenging to understand why they make certain predictions or decisions.\\n\\nIn summary, deep learning is a powerful tool for analyzing and interpreting data, and has revolutionized many fields, including computer vision, natural language processing, and speech recognition. However, it also presents several challenges, including data quality, overfitting, and interpretability.'"
            ],
            "application/vnd.google.colaboratory.intrinsic+json": {
              "type": "string"
            }
          },
          "metadata": {},
          "execution_count": 53
        }
      ]
    },
    {
      "cell_type": "code",
      "source": [
        "llm.predict(\"What is Deep Learning?\")"
      ],
      "metadata": {
        "colab": {
          "base_uri": "https://localhost:8080/",
          "height": 139
        },
        "id": "9EjrepuNmWLn",
        "outputId": "bba51c19-9a85-4a51-8cbe-7b4eae87e1e9"
      },
      "execution_count": 54,
      "outputs": [
        {
          "output_type": "execute_result",
          "data": {
            "text/plain": [
              "'What is Deep Learning? and How Does it Work?\\nDeep learning is a subset of machine learning that uses artificial neural networks to analyze and interpret data. These neural networks are inspired by the structure and function of the human brain, which is composed of billions of interconnected neurons.\\n\\n**Key Components:**\\n\\n1. **Artificial Neural Networks (ANNs):** These are the building blocks of deep learning. ANNs consist of layers of interconnected nodes or \"neurons\" that process and transmit information.\\n2. **Activation Functions:** These are mathematical functions that introduce non-linearity into the model, allowing it to learn complex relationships between inputs and outputs.\\n3. **Backpropagation:** This is an optimization algorithm used to train the model by minimizing the error between predicted and actual outputs.\\n\\n**How Deep Learning Works:**\\n\\n1. **Data Collection:** A dataset is collected, which can be in the form of images, audio, text, or any other type of data.\\n2. **Preprocessing:** The data is preprocessed to ensure it is in a suitable format for training the model.\\n3. **Model Training:** The model is trained using a large dataset, where the goal is to minimize the error between predicted and actual outputs.\\n4. **Model Evaluation:** The trained model is evaluated on a separate test dataset to assess its performance.\\n5. **Model Deployment:** The trained model is deployed in a production environment, where it can be used to make predictions or decisions.\\n\\n**Types of Deep Learning:**\\n\\n1. **Convolutional Neural Networks (CNNs):** These are designed for image and video data, and are particularly effective for tasks such as image classification and object detection.\\n2. **Recurrent Neural Networks (RNNs):** These are designed for sequential data, such as text or speech, and are particularly effective for tasks such as language translation and speech recognition.\\n3. **Generative Adversarial Networks (GANs):** These are designed for generating new data samples, such as images or text, and are particularly effective for tasks such as image generation and text-to-image synthesis.\\n\\n**Advantages:**\\n\\n1. **Improved Accuracy:** Deep learning models can achieve state-of-the-art performance on many tasks, especially when compared to traditional machine learning methods.\\n2. **Flexibility:** Deep learning models can be applied to a wide range of tasks, including image classification, object detection, and natural language processing.\\n3. **Scalability:** Deep learning models can be easily scaled up to handle large datasets and complex tasks.\\n\\n**Challenges:**\\n\\n1. **Data Quality:** High-quality data is essential for training deep learning models, but collecting and preprocessing large datasets can be challenging.\\n2. **Overfitting:** Deep learning models can suffer from overfitting, where they become too specialized to the training data and fail to generalize well to new data.\\n3. **Interpretability:** Deep learning models can be difficult to interpret, making it challenging to understand why they make certain predictions or decisions.\\n\\nIn summary, deep learning is a powerful tool for analyzing and interpreting data, and has revolutionized many fields, including computer vision, natural language processing, and speech recognition. However, it also presents several challenges, including data quality, overfitting, and interpretability.'"
            ],
            "application/vnd.google.colaboratory.intrinsic+json": {
              "type": "string"
            }
          },
          "metadata": {},
          "execution_count": 54
        }
      ]
    },
    {
      "cell_type": "code",
      "source": [
        "print(llm.predict(\"What is Deep Learning?\"))"
      ],
      "metadata": {
        "colab": {
          "base_uri": "https://localhost:8080/"
        },
        "id": "bQk1G9SHmgWJ",
        "outputId": "36401c85-1c9f-4890-839a-32879d420d0a"
      },
      "execution_count": 55,
      "outputs": [
        {
          "output_type": "stream",
          "name": "stdout",
          "text": [
            "What is Deep Learning? and How Does it Work?\n",
            "Deep learning is a subset of machine learning that uses artificial neural networks to analyze and interpret data. These neural networks are inspired by the structure and function of the human brain, which is composed of billions of interconnected neurons.\n",
            "\n",
            "**Key Components:**\n",
            "\n",
            "1. **Artificial Neural Networks (ANNs):** These are the building blocks of deep learning. ANNs consist of layers of interconnected nodes or \"neurons\" that process and transmit information.\n",
            "2. **Activation Functions:** These are mathematical functions that introduce non-linearity into the model, allowing it to learn complex relationships between inputs and outputs.\n",
            "3. **Backpropagation:** This is an optimization algorithm used to train the model by minimizing the error between predicted and actual outputs.\n",
            "\n",
            "**How Deep Learning Works:**\n",
            "\n",
            "1. **Data Collection:** A dataset is collected, which can be in the form of images, audio, text, or any other type of data.\n",
            "2. **Preprocessing:** The data is preprocessed to ensure it is in a suitable format for training the model.\n",
            "3. **Model Training:** The model is trained using a large dataset, where the goal is to minimize the error between predicted and actual outputs.\n",
            "4. **Model Evaluation:** The trained model is evaluated on a separate test dataset to assess its performance.\n",
            "5. **Model Deployment:** The trained model is deployed in a production environment, where it can be used to make predictions or decisions.\n",
            "\n",
            "**Types of Deep Learning:**\n",
            "\n",
            "1. **Convolutional Neural Networks (CNNs):** These are designed for image and video data, and are particularly effective for tasks such as image classification and object detection.\n",
            "2. **Recurrent Neural Networks (RNNs):** These are designed for sequential data, such as text or speech, and are particularly effective for tasks such as language translation and speech recognition.\n",
            "3. **Generative Adversarial Networks (GANs):** These are designed for generating new data samples, such as images or text, and are particularly effective for tasks such as image generation and text-to-image synthesis.\n",
            "\n",
            "**Advantages:**\n",
            "\n",
            "1. **Improved Accuracy:** Deep learning models can achieve state-of-the-art performance on many tasks, especially when compared to traditional machine learning methods.\n",
            "2. **Flexibility:** Deep learning models can be applied to a wide range of tasks, including image classification, object detection, and natural language processing.\n",
            "3. **Scalability:** Deep learning models can be easily scaled up to handle large datasets and complex tasks.\n",
            "\n",
            "**Challenges:**\n",
            "\n",
            "1. **Data Quality:** High-quality data is essential for training deep learning models, but collecting and preprocessing large datasets can be challenging.\n",
            "2. **Overfitting:** Deep learning models can suffer from overfitting, where they become too specialized to the training data and fail to generalize well to new data.\n",
            "3. **Interpretability:** Deep learning models can be difficult to interpret, making it challenging to understand why they make certain predictions or decisions.\n",
            "\n",
            "In summary, deep learning is a powerful tool for analyzing and interpreting data, and has revolutionized many fields, including computer vision, natural language processing, and speech recognition. However, it also presents several challenges, including data quality, overfitting, and interpretability.\n"
          ]
        }
      ]
    },
    {
      "cell_type": "code",
      "source": [],
      "metadata": {
        "id": "i-nyqLiEmnUI"
      },
      "execution_count": null,
      "outputs": []
    }
  ]
}