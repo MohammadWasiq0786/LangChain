{
  "nbformat": 4,
  "nbformat_minor": 0,
  "metadata": {
    "colab": {
      "provenance": [],
      "gpuType": "T4"
    },
    "kernelspec": {
      "name": "python3",
      "display_name": "Python 3"
    },
    "language_info": {
      "name": "python"
    },
    "accelerator": "GPU",
    "widgets": {
      "application/vnd.jupyter.widget-state+json": {
        "e918867f8d9d49a684559c5a9ba758a6": {
          "model_module": "@jupyter-widgets/controls",
          "model_name": "HBoxModel",
          "model_module_version": "1.5.0",
          "state": {
            "_dom_classes": [],
            "_model_module": "@jupyter-widgets/controls",
            "_model_module_version": "1.5.0",
            "_model_name": "HBoxModel",
            "_view_count": null,
            "_view_module": "@jupyter-widgets/controls",
            "_view_module_version": "1.5.0",
            "_view_name": "HBoxView",
            "box_style": "",
            "children": [
              "IPY_MODEL_c27c1ce9ecd344259840d04dce028426",
              "IPY_MODEL_88f335f2792e42678024b9fc922ccf27",
              "IPY_MODEL_9fb05be5b25f45398c22e1ffd7bbb1a9"
            ],
            "layout": "IPY_MODEL_f5a4521b9d8d42ef9da7d719f3d2111b"
          }
        },
        "c27c1ce9ecd344259840d04dce028426": {
          "model_module": "@jupyter-widgets/controls",
          "model_name": "HTMLModel",
          "model_module_version": "1.5.0",
          "state": {
            "_dom_classes": [],
            "_model_module": "@jupyter-widgets/controls",
            "_model_module_version": "1.5.0",
            "_model_name": "HTMLModel",
            "_view_count": null,
            "_view_module": "@jupyter-widgets/controls",
            "_view_module_version": "1.5.0",
            "_view_name": "HTMLView",
            "description": "",
            "description_tooltip": null,
            "layout": "IPY_MODEL_5240d6580d044d7eb5d9abe5b924bbed",
            "placeholder": "​",
            "style": "IPY_MODEL_5fbcd673721541c1802bded832145dda",
            "value": "config.json: 100%"
          }
        },
        "88f335f2792e42678024b9fc922ccf27": {
          "model_module": "@jupyter-widgets/controls",
          "model_name": "FloatProgressModel",
          "model_module_version": "1.5.0",
          "state": {
            "_dom_classes": [],
            "_model_module": "@jupyter-widgets/controls",
            "_model_module_version": "1.5.0",
            "_model_name": "FloatProgressModel",
            "_view_count": null,
            "_view_module": "@jupyter-widgets/controls",
            "_view_module_version": "1.5.0",
            "_view_name": "ProgressView",
            "bar_style": "success",
            "description": "",
            "description_tooltip": null,
            "layout": "IPY_MODEL_3c50afef5ac4433ab05935d449aa0363",
            "max": 877,
            "min": 0,
            "orientation": "horizontal",
            "style": "IPY_MODEL_d0dea53156144a2cab29d729732be431",
            "value": 877
          }
        },
        "9fb05be5b25f45398c22e1ffd7bbb1a9": {
          "model_module": "@jupyter-widgets/controls",
          "model_name": "HTMLModel",
          "model_module_version": "1.5.0",
          "state": {
            "_dom_classes": [],
            "_model_module": "@jupyter-widgets/controls",
            "_model_module_version": "1.5.0",
            "_model_name": "HTMLModel",
            "_view_count": null,
            "_view_module": "@jupyter-widgets/controls",
            "_view_module_version": "1.5.0",
            "_view_name": "HTMLView",
            "description": "",
            "description_tooltip": null,
            "layout": "IPY_MODEL_66b468ff2d664974b62a7b6ae5d197f2",
            "placeholder": "​",
            "style": "IPY_MODEL_95d859c382ec4676b2e5dc3e6ceae6ab",
            "value": " 877/877 [00:00&lt;00:00, 26.5kB/s]"
          }
        },
        "f5a4521b9d8d42ef9da7d719f3d2111b": {
          "model_module": "@jupyter-widgets/base",
          "model_name": "LayoutModel",
          "model_module_version": "1.2.0",
          "state": {
            "_model_module": "@jupyter-widgets/base",
            "_model_module_version": "1.2.0",
            "_model_name": "LayoutModel",
            "_view_count": null,
            "_view_module": "@jupyter-widgets/base",
            "_view_module_version": "1.2.0",
            "_view_name": "LayoutView",
            "align_content": null,
            "align_items": null,
            "align_self": null,
            "border": null,
            "bottom": null,
            "display": null,
            "flex": null,
            "flex_flow": null,
            "grid_area": null,
            "grid_auto_columns": null,
            "grid_auto_flow": null,
            "grid_auto_rows": null,
            "grid_column": null,
            "grid_gap": null,
            "grid_row": null,
            "grid_template_areas": null,
            "grid_template_columns": null,
            "grid_template_rows": null,
            "height": null,
            "justify_content": null,
            "justify_items": null,
            "left": null,
            "margin": null,
            "max_height": null,
            "max_width": null,
            "min_height": null,
            "min_width": null,
            "object_fit": null,
            "object_position": null,
            "order": null,
            "overflow": null,
            "overflow_x": null,
            "overflow_y": null,
            "padding": null,
            "right": null,
            "top": null,
            "visibility": null,
            "width": null
          }
        },
        "5240d6580d044d7eb5d9abe5b924bbed": {
          "model_module": "@jupyter-widgets/base",
          "model_name": "LayoutModel",
          "model_module_version": "1.2.0",
          "state": {
            "_model_module": "@jupyter-widgets/base",
            "_model_module_version": "1.2.0",
            "_model_name": "LayoutModel",
            "_view_count": null,
            "_view_module": "@jupyter-widgets/base",
            "_view_module_version": "1.2.0",
            "_view_name": "LayoutView",
            "align_content": null,
            "align_items": null,
            "align_self": null,
            "border": null,
            "bottom": null,
            "display": null,
            "flex": null,
            "flex_flow": null,
            "grid_area": null,
            "grid_auto_columns": null,
            "grid_auto_flow": null,
            "grid_auto_rows": null,
            "grid_column": null,
            "grid_gap": null,
            "grid_row": null,
            "grid_template_areas": null,
            "grid_template_columns": null,
            "grid_template_rows": null,
            "height": null,
            "justify_content": null,
            "justify_items": null,
            "left": null,
            "margin": null,
            "max_height": null,
            "max_width": null,
            "min_height": null,
            "min_width": null,
            "object_fit": null,
            "object_position": null,
            "order": null,
            "overflow": null,
            "overflow_x": null,
            "overflow_y": null,
            "padding": null,
            "right": null,
            "top": null,
            "visibility": null,
            "width": null
          }
        },
        "5fbcd673721541c1802bded832145dda": {
          "model_module": "@jupyter-widgets/controls",
          "model_name": "DescriptionStyleModel",
          "model_module_version": "1.5.0",
          "state": {
            "_model_module": "@jupyter-widgets/controls",
            "_model_module_version": "1.5.0",
            "_model_name": "DescriptionStyleModel",
            "_view_count": null,
            "_view_module": "@jupyter-widgets/base",
            "_view_module_version": "1.2.0",
            "_view_name": "StyleView",
            "description_width": ""
          }
        },
        "3c50afef5ac4433ab05935d449aa0363": {
          "model_module": "@jupyter-widgets/base",
          "model_name": "LayoutModel",
          "model_module_version": "1.2.0",
          "state": {
            "_model_module": "@jupyter-widgets/base",
            "_model_module_version": "1.2.0",
            "_model_name": "LayoutModel",
            "_view_count": null,
            "_view_module": "@jupyter-widgets/base",
            "_view_module_version": "1.2.0",
            "_view_name": "LayoutView",
            "align_content": null,
            "align_items": null,
            "align_self": null,
            "border": null,
            "bottom": null,
            "display": null,
            "flex": null,
            "flex_flow": null,
            "grid_area": null,
            "grid_auto_columns": null,
            "grid_auto_flow": null,
            "grid_auto_rows": null,
            "grid_column": null,
            "grid_gap": null,
            "grid_row": null,
            "grid_template_areas": null,
            "grid_template_columns": null,
            "grid_template_rows": null,
            "height": null,
            "justify_content": null,
            "justify_items": null,
            "left": null,
            "margin": null,
            "max_height": null,
            "max_width": null,
            "min_height": null,
            "min_width": null,
            "object_fit": null,
            "object_position": null,
            "order": null,
            "overflow": null,
            "overflow_x": null,
            "overflow_y": null,
            "padding": null,
            "right": null,
            "top": null,
            "visibility": null,
            "width": null
          }
        },
        "d0dea53156144a2cab29d729732be431": {
          "model_module": "@jupyter-widgets/controls",
          "model_name": "ProgressStyleModel",
          "model_module_version": "1.5.0",
          "state": {
            "_model_module": "@jupyter-widgets/controls",
            "_model_module_version": "1.5.0",
            "_model_name": "ProgressStyleModel",
            "_view_count": null,
            "_view_module": "@jupyter-widgets/base",
            "_view_module_version": "1.2.0",
            "_view_name": "StyleView",
            "bar_color": null,
            "description_width": ""
          }
        },
        "66b468ff2d664974b62a7b6ae5d197f2": {
          "model_module": "@jupyter-widgets/base",
          "model_name": "LayoutModel",
          "model_module_version": "1.2.0",
          "state": {
            "_model_module": "@jupyter-widgets/base",
            "_model_module_version": "1.2.0",
            "_model_name": "LayoutModel",
            "_view_count": null,
            "_view_module": "@jupyter-widgets/base",
            "_view_module_version": "1.2.0",
            "_view_name": "LayoutView",
            "align_content": null,
            "align_items": null,
            "align_self": null,
            "border": null,
            "bottom": null,
            "display": null,
            "flex": null,
            "flex_flow": null,
            "grid_area": null,
            "grid_auto_columns": null,
            "grid_auto_flow": null,
            "grid_auto_rows": null,
            "grid_column": null,
            "grid_gap": null,
            "grid_row": null,
            "grid_template_areas": null,
            "grid_template_columns": null,
            "grid_template_rows": null,
            "height": null,
            "justify_content": null,
            "justify_items": null,
            "left": null,
            "margin": null,
            "max_height": null,
            "max_width": null,
            "min_height": null,
            "min_width": null,
            "object_fit": null,
            "object_position": null,
            "order": null,
            "overflow": null,
            "overflow_x": null,
            "overflow_y": null,
            "padding": null,
            "right": null,
            "top": null,
            "visibility": null,
            "width": null
          }
        },
        "95d859c382ec4676b2e5dc3e6ceae6ab": {
          "model_module": "@jupyter-widgets/controls",
          "model_name": "DescriptionStyleModel",
          "model_module_version": "1.5.0",
          "state": {
            "_model_module": "@jupyter-widgets/controls",
            "_model_module_version": "1.5.0",
            "_model_name": "DescriptionStyleModel",
            "_view_count": null,
            "_view_module": "@jupyter-widgets/base",
            "_view_module_version": "1.2.0",
            "_view_name": "StyleView",
            "description_width": ""
          }
        },
        "cccd08e9487746028c7826a501e02bd5": {
          "model_module": "@jupyter-widgets/controls",
          "model_name": "HBoxModel",
          "model_module_version": "1.5.0",
          "state": {
            "_dom_classes": [],
            "_model_module": "@jupyter-widgets/controls",
            "_model_module_version": "1.5.0",
            "_model_name": "HBoxModel",
            "_view_count": null,
            "_view_module": "@jupyter-widgets/controls",
            "_view_module_version": "1.5.0",
            "_view_name": "HBoxView",
            "box_style": "",
            "children": [
              "IPY_MODEL_f43b078f6c434ae1a51c7e3dad93ac73",
              "IPY_MODEL_452805daf1db40ba8cd1bf9b38420cc1",
              "IPY_MODEL_8d8d79c087ed483bb3367dbbed406836"
            ],
            "layout": "IPY_MODEL_56525ee82f7a48c5a1b774a9eac538bf"
          }
        },
        "f43b078f6c434ae1a51c7e3dad93ac73": {
          "model_module": "@jupyter-widgets/controls",
          "model_name": "HTMLModel",
          "model_module_version": "1.5.0",
          "state": {
            "_dom_classes": [],
            "_model_module": "@jupyter-widgets/controls",
            "_model_module_version": "1.5.0",
            "_model_name": "HTMLModel",
            "_view_count": null,
            "_view_module": "@jupyter-widgets/controls",
            "_view_module_version": "1.5.0",
            "_view_name": "HTMLView",
            "description": "",
            "description_tooltip": null,
            "layout": "IPY_MODEL_ee855fe9ca2646a09c1d9e6381aa41f4",
            "placeholder": "​",
            "style": "IPY_MODEL_ea95cc25f4614c8da6788841b1236aea",
            "value": "model.safetensors: 100%"
          }
        },
        "452805daf1db40ba8cd1bf9b38420cc1": {
          "model_module": "@jupyter-widgets/controls",
          "model_name": "FloatProgressModel",
          "model_module_version": "1.5.0",
          "state": {
            "_dom_classes": [],
            "_model_module": "@jupyter-widgets/controls",
            "_model_module_version": "1.5.0",
            "_model_name": "FloatProgressModel",
            "_view_count": null,
            "_view_module": "@jupyter-widgets/controls",
            "_view_module_version": "1.5.0",
            "_view_name": "ProgressView",
            "bar_style": "success",
            "description": "",
            "description_tooltip": null,
            "layout": "IPY_MODEL_ee93fd92711a4511b30832f77d12dfcc",
            "max": 2471645608,
            "min": 0,
            "orientation": "horizontal",
            "style": "IPY_MODEL_f3279586eb5e402f98350ce0989cff67",
            "value": 2471645608
          }
        },
        "8d8d79c087ed483bb3367dbbed406836": {
          "model_module": "@jupyter-widgets/controls",
          "model_name": "HTMLModel",
          "model_module_version": "1.5.0",
          "state": {
            "_dom_classes": [],
            "_model_module": "@jupyter-widgets/controls",
            "_model_module_version": "1.5.0",
            "_model_name": "HTMLModel",
            "_view_count": null,
            "_view_module": "@jupyter-widgets/controls",
            "_view_module_version": "1.5.0",
            "_view_name": "HTMLView",
            "description": "",
            "description_tooltip": null,
            "layout": "IPY_MODEL_1e57bad3ff7c40f29fd3dcfb6b14fb37",
            "placeholder": "​",
            "style": "IPY_MODEL_e9dd647fe6034d44acfa14683e7f2009",
            "value": " 2.47G/2.47G [00:58&lt;00:00, 42.6MB/s]"
          }
        },
        "56525ee82f7a48c5a1b774a9eac538bf": {
          "model_module": "@jupyter-widgets/base",
          "model_name": "LayoutModel",
          "model_module_version": "1.2.0",
          "state": {
            "_model_module": "@jupyter-widgets/base",
            "_model_module_version": "1.2.0",
            "_model_name": "LayoutModel",
            "_view_count": null,
            "_view_module": "@jupyter-widgets/base",
            "_view_module_version": "1.2.0",
            "_view_name": "LayoutView",
            "align_content": null,
            "align_items": null,
            "align_self": null,
            "border": null,
            "bottom": null,
            "display": null,
            "flex": null,
            "flex_flow": null,
            "grid_area": null,
            "grid_auto_columns": null,
            "grid_auto_flow": null,
            "grid_auto_rows": null,
            "grid_column": null,
            "grid_gap": null,
            "grid_row": null,
            "grid_template_areas": null,
            "grid_template_columns": null,
            "grid_template_rows": null,
            "height": null,
            "justify_content": null,
            "justify_items": null,
            "left": null,
            "margin": null,
            "max_height": null,
            "max_width": null,
            "min_height": null,
            "min_width": null,
            "object_fit": null,
            "object_position": null,
            "order": null,
            "overflow": null,
            "overflow_x": null,
            "overflow_y": null,
            "padding": null,
            "right": null,
            "top": null,
            "visibility": null,
            "width": null
          }
        },
        "ee855fe9ca2646a09c1d9e6381aa41f4": {
          "model_module": "@jupyter-widgets/base",
          "model_name": "LayoutModel",
          "model_module_version": "1.2.0",
          "state": {
            "_model_module": "@jupyter-widgets/base",
            "_model_module_version": "1.2.0",
            "_model_name": "LayoutModel",
            "_view_count": null,
            "_view_module": "@jupyter-widgets/base",
            "_view_module_version": "1.2.0",
            "_view_name": "LayoutView",
            "align_content": null,
            "align_items": null,
            "align_self": null,
            "border": null,
            "bottom": null,
            "display": null,
            "flex": null,
            "flex_flow": null,
            "grid_area": null,
            "grid_auto_columns": null,
            "grid_auto_flow": null,
            "grid_auto_rows": null,
            "grid_column": null,
            "grid_gap": null,
            "grid_row": null,
            "grid_template_areas": null,
            "grid_template_columns": null,
            "grid_template_rows": null,
            "height": null,
            "justify_content": null,
            "justify_items": null,
            "left": null,
            "margin": null,
            "max_height": null,
            "max_width": null,
            "min_height": null,
            "min_width": null,
            "object_fit": null,
            "object_position": null,
            "order": null,
            "overflow": null,
            "overflow_x": null,
            "overflow_y": null,
            "padding": null,
            "right": null,
            "top": null,
            "visibility": null,
            "width": null
          }
        },
        "ea95cc25f4614c8da6788841b1236aea": {
          "model_module": "@jupyter-widgets/controls",
          "model_name": "DescriptionStyleModel",
          "model_module_version": "1.5.0",
          "state": {
            "_model_module": "@jupyter-widgets/controls",
            "_model_module_version": "1.5.0",
            "_model_name": "DescriptionStyleModel",
            "_view_count": null,
            "_view_module": "@jupyter-widgets/base",
            "_view_module_version": "1.2.0",
            "_view_name": "StyleView",
            "description_width": ""
          }
        },
        "ee93fd92711a4511b30832f77d12dfcc": {
          "model_module": "@jupyter-widgets/base",
          "model_name": "LayoutModel",
          "model_module_version": "1.2.0",
          "state": {
            "_model_module": "@jupyter-widgets/base",
            "_model_module_version": "1.2.0",
            "_model_name": "LayoutModel",
            "_view_count": null,
            "_view_module": "@jupyter-widgets/base",
            "_view_module_version": "1.2.0",
            "_view_name": "LayoutView",
            "align_content": null,
            "align_items": null,
            "align_self": null,
            "border": null,
            "bottom": null,
            "display": null,
            "flex": null,
            "flex_flow": null,
            "grid_area": null,
            "grid_auto_columns": null,
            "grid_auto_flow": null,
            "grid_auto_rows": null,
            "grid_column": null,
            "grid_gap": null,
            "grid_row": null,
            "grid_template_areas": null,
            "grid_template_columns": null,
            "grid_template_rows": null,
            "height": null,
            "justify_content": null,
            "justify_items": null,
            "left": null,
            "margin": null,
            "max_height": null,
            "max_width": null,
            "min_height": null,
            "min_width": null,
            "object_fit": null,
            "object_position": null,
            "order": null,
            "overflow": null,
            "overflow_x": null,
            "overflow_y": null,
            "padding": null,
            "right": null,
            "top": null,
            "visibility": null,
            "width": null
          }
        },
        "f3279586eb5e402f98350ce0989cff67": {
          "model_module": "@jupyter-widgets/controls",
          "model_name": "ProgressStyleModel",
          "model_module_version": "1.5.0",
          "state": {
            "_model_module": "@jupyter-widgets/controls",
            "_model_module_version": "1.5.0",
            "_model_name": "ProgressStyleModel",
            "_view_count": null,
            "_view_module": "@jupyter-widgets/base",
            "_view_module_version": "1.2.0",
            "_view_name": "StyleView",
            "bar_color": null,
            "description_width": ""
          }
        },
        "1e57bad3ff7c40f29fd3dcfb6b14fb37": {
          "model_module": "@jupyter-widgets/base",
          "model_name": "LayoutModel",
          "model_module_version": "1.2.0",
          "state": {
            "_model_module": "@jupyter-widgets/base",
            "_model_module_version": "1.2.0",
            "_model_name": "LayoutModel",
            "_view_count": null,
            "_view_module": "@jupyter-widgets/base",
            "_view_module_version": "1.2.0",
            "_view_name": "LayoutView",
            "align_content": null,
            "align_items": null,
            "align_self": null,
            "border": null,
            "bottom": null,
            "display": null,
            "flex": null,
            "flex_flow": null,
            "grid_area": null,
            "grid_auto_columns": null,
            "grid_auto_flow": null,
            "grid_auto_rows": null,
            "grid_column": null,
            "grid_gap": null,
            "grid_row": null,
            "grid_template_areas": null,
            "grid_template_columns": null,
            "grid_template_rows": null,
            "height": null,
            "justify_content": null,
            "justify_items": null,
            "left": null,
            "margin": null,
            "max_height": null,
            "max_width": null,
            "min_height": null,
            "min_width": null,
            "object_fit": null,
            "object_position": null,
            "order": null,
            "overflow": null,
            "overflow_x": null,
            "overflow_y": null,
            "padding": null,
            "right": null,
            "top": null,
            "visibility": null,
            "width": null
          }
        },
        "e9dd647fe6034d44acfa14683e7f2009": {
          "model_module": "@jupyter-widgets/controls",
          "model_name": "DescriptionStyleModel",
          "model_module_version": "1.5.0",
          "state": {
            "_model_module": "@jupyter-widgets/controls",
            "_model_module_version": "1.5.0",
            "_model_name": "DescriptionStyleModel",
            "_view_count": null,
            "_view_module": "@jupyter-widgets/base",
            "_view_module_version": "1.2.0",
            "_view_name": "StyleView",
            "description_width": ""
          }
        },
        "aa13b116624e41fd985e87b6dc08b595": {
          "model_module": "@jupyter-widgets/controls",
          "model_name": "HBoxModel",
          "model_module_version": "1.5.0",
          "state": {
            "_dom_classes": [],
            "_model_module": "@jupyter-widgets/controls",
            "_model_module_version": "1.5.0",
            "_model_name": "HBoxModel",
            "_view_count": null,
            "_view_module": "@jupyter-widgets/controls",
            "_view_module_version": "1.5.0",
            "_view_name": "HBoxView",
            "box_style": "",
            "children": [
              "IPY_MODEL_160a691db2894a9a84b94acfebf885f5",
              "IPY_MODEL_4f0a8d42688d430c875a53e7087055bc",
              "IPY_MODEL_8f1d402dd5314395a310e7cc8ecdedb6"
            ],
            "layout": "IPY_MODEL_20a66f33babc450fa5abf6598ccf451f"
          }
        },
        "160a691db2894a9a84b94acfebf885f5": {
          "model_module": "@jupyter-widgets/controls",
          "model_name": "HTMLModel",
          "model_module_version": "1.5.0",
          "state": {
            "_dom_classes": [],
            "_model_module": "@jupyter-widgets/controls",
            "_model_module_version": "1.5.0",
            "_model_name": "HTMLModel",
            "_view_count": null,
            "_view_module": "@jupyter-widgets/controls",
            "_view_module_version": "1.5.0",
            "_view_name": "HTMLView",
            "description": "",
            "description_tooltip": null,
            "layout": "IPY_MODEL_58713fefc7f5405bbdc42bb8c6a19013",
            "placeholder": "​",
            "style": "IPY_MODEL_b27bb89532ab4d84969368d20b391e15",
            "value": "generation_config.json: 100%"
          }
        },
        "4f0a8d42688d430c875a53e7087055bc": {
          "model_module": "@jupyter-widgets/controls",
          "model_name": "FloatProgressModel",
          "model_module_version": "1.5.0",
          "state": {
            "_dom_classes": [],
            "_model_module": "@jupyter-widgets/controls",
            "_model_module_version": "1.5.0",
            "_model_name": "FloatProgressModel",
            "_view_count": null,
            "_view_module": "@jupyter-widgets/controls",
            "_view_module_version": "1.5.0",
            "_view_name": "ProgressView",
            "bar_style": "success",
            "description": "",
            "description_tooltip": null,
            "layout": "IPY_MODEL_4cacecb9b12145b183ecf7c6ff9cf4a1",
            "max": 189,
            "min": 0,
            "orientation": "horizontal",
            "style": "IPY_MODEL_fbe218f7e5814b76bfa6dfd4843d5a32",
            "value": 189
          }
        },
        "8f1d402dd5314395a310e7cc8ecdedb6": {
          "model_module": "@jupyter-widgets/controls",
          "model_name": "HTMLModel",
          "model_module_version": "1.5.0",
          "state": {
            "_dom_classes": [],
            "_model_module": "@jupyter-widgets/controls",
            "_model_module_version": "1.5.0",
            "_model_name": "HTMLModel",
            "_view_count": null,
            "_view_module": "@jupyter-widgets/controls",
            "_view_module_version": "1.5.0",
            "_view_name": "HTMLView",
            "description": "",
            "description_tooltip": null,
            "layout": "IPY_MODEL_b26ff8703c53488dbb74c16248a19b31",
            "placeholder": "​",
            "style": "IPY_MODEL_1e8635b4cf574fbea841b6d4e692acc0",
            "value": " 189/189 [00:00&lt;00:00, 6.32kB/s]"
          }
        },
        "20a66f33babc450fa5abf6598ccf451f": {
          "model_module": "@jupyter-widgets/base",
          "model_name": "LayoutModel",
          "model_module_version": "1.2.0",
          "state": {
            "_model_module": "@jupyter-widgets/base",
            "_model_module_version": "1.2.0",
            "_model_name": "LayoutModel",
            "_view_count": null,
            "_view_module": "@jupyter-widgets/base",
            "_view_module_version": "1.2.0",
            "_view_name": "LayoutView",
            "align_content": null,
            "align_items": null,
            "align_self": null,
            "border": null,
            "bottom": null,
            "display": null,
            "flex": null,
            "flex_flow": null,
            "grid_area": null,
            "grid_auto_columns": null,
            "grid_auto_flow": null,
            "grid_auto_rows": null,
            "grid_column": null,
            "grid_gap": null,
            "grid_row": null,
            "grid_template_areas": null,
            "grid_template_columns": null,
            "grid_template_rows": null,
            "height": null,
            "justify_content": null,
            "justify_items": null,
            "left": null,
            "margin": null,
            "max_height": null,
            "max_width": null,
            "min_height": null,
            "min_width": null,
            "object_fit": null,
            "object_position": null,
            "order": null,
            "overflow": null,
            "overflow_x": null,
            "overflow_y": null,
            "padding": null,
            "right": null,
            "top": null,
            "visibility": null,
            "width": null
          }
        },
        "58713fefc7f5405bbdc42bb8c6a19013": {
          "model_module": "@jupyter-widgets/base",
          "model_name": "LayoutModel",
          "model_module_version": "1.2.0",
          "state": {
            "_model_module": "@jupyter-widgets/base",
            "_model_module_version": "1.2.0",
            "_model_name": "LayoutModel",
            "_view_count": null,
            "_view_module": "@jupyter-widgets/base",
            "_view_module_version": "1.2.0",
            "_view_name": "LayoutView",
            "align_content": null,
            "align_items": null,
            "align_self": null,
            "border": null,
            "bottom": null,
            "display": null,
            "flex": null,
            "flex_flow": null,
            "grid_area": null,
            "grid_auto_columns": null,
            "grid_auto_flow": null,
            "grid_auto_rows": null,
            "grid_column": null,
            "grid_gap": null,
            "grid_row": null,
            "grid_template_areas": null,
            "grid_template_columns": null,
            "grid_template_rows": null,
            "height": null,
            "justify_content": null,
            "justify_items": null,
            "left": null,
            "margin": null,
            "max_height": null,
            "max_width": null,
            "min_height": null,
            "min_width": null,
            "object_fit": null,
            "object_position": null,
            "order": null,
            "overflow": null,
            "overflow_x": null,
            "overflow_y": null,
            "padding": null,
            "right": null,
            "top": null,
            "visibility": null,
            "width": null
          }
        },
        "b27bb89532ab4d84969368d20b391e15": {
          "model_module": "@jupyter-widgets/controls",
          "model_name": "DescriptionStyleModel",
          "model_module_version": "1.5.0",
          "state": {
            "_model_module": "@jupyter-widgets/controls",
            "_model_module_version": "1.5.0",
            "_model_name": "DescriptionStyleModel",
            "_view_count": null,
            "_view_module": "@jupyter-widgets/base",
            "_view_module_version": "1.2.0",
            "_view_name": "StyleView",
            "description_width": ""
          }
        },
        "4cacecb9b12145b183ecf7c6ff9cf4a1": {
          "model_module": "@jupyter-widgets/base",
          "model_name": "LayoutModel",
          "model_module_version": "1.2.0",
          "state": {
            "_model_module": "@jupyter-widgets/base",
            "_model_module_version": "1.2.0",
            "_model_name": "LayoutModel",
            "_view_count": null,
            "_view_module": "@jupyter-widgets/base",
            "_view_module_version": "1.2.0",
            "_view_name": "LayoutView",
            "align_content": null,
            "align_items": null,
            "align_self": null,
            "border": null,
            "bottom": null,
            "display": null,
            "flex": null,
            "flex_flow": null,
            "grid_area": null,
            "grid_auto_columns": null,
            "grid_auto_flow": null,
            "grid_auto_rows": null,
            "grid_column": null,
            "grid_gap": null,
            "grid_row": null,
            "grid_template_areas": null,
            "grid_template_columns": null,
            "grid_template_rows": null,
            "height": null,
            "justify_content": null,
            "justify_items": null,
            "left": null,
            "margin": null,
            "max_height": null,
            "max_width": null,
            "min_height": null,
            "min_width": null,
            "object_fit": null,
            "object_position": null,
            "order": null,
            "overflow": null,
            "overflow_x": null,
            "overflow_y": null,
            "padding": null,
            "right": null,
            "top": null,
            "visibility": null,
            "width": null
          }
        },
        "fbe218f7e5814b76bfa6dfd4843d5a32": {
          "model_module": "@jupyter-widgets/controls",
          "model_name": "ProgressStyleModel",
          "model_module_version": "1.5.0",
          "state": {
            "_model_module": "@jupyter-widgets/controls",
            "_model_module_version": "1.5.0",
            "_model_name": "ProgressStyleModel",
            "_view_count": null,
            "_view_module": "@jupyter-widgets/base",
            "_view_module_version": "1.2.0",
            "_view_name": "StyleView",
            "bar_color": null,
            "description_width": ""
          }
        },
        "b26ff8703c53488dbb74c16248a19b31": {
          "model_module": "@jupyter-widgets/base",
          "model_name": "LayoutModel",
          "model_module_version": "1.2.0",
          "state": {
            "_model_module": "@jupyter-widgets/base",
            "_model_module_version": "1.2.0",
            "_model_name": "LayoutModel",
            "_view_count": null,
            "_view_module": "@jupyter-widgets/base",
            "_view_module_version": "1.2.0",
            "_view_name": "LayoutView",
            "align_content": null,
            "align_items": null,
            "align_self": null,
            "border": null,
            "bottom": null,
            "display": null,
            "flex": null,
            "flex_flow": null,
            "grid_area": null,
            "grid_auto_columns": null,
            "grid_auto_flow": null,
            "grid_auto_rows": null,
            "grid_column": null,
            "grid_gap": null,
            "grid_row": null,
            "grid_template_areas": null,
            "grid_template_columns": null,
            "grid_template_rows": null,
            "height": null,
            "justify_content": null,
            "justify_items": null,
            "left": null,
            "margin": null,
            "max_height": null,
            "max_width": null,
            "min_height": null,
            "min_width": null,
            "object_fit": null,
            "object_position": null,
            "order": null,
            "overflow": null,
            "overflow_x": null,
            "overflow_y": null,
            "padding": null,
            "right": null,
            "top": null,
            "visibility": null,
            "width": null
          }
        },
        "1e8635b4cf574fbea841b6d4e692acc0": {
          "model_module": "@jupyter-widgets/controls",
          "model_name": "DescriptionStyleModel",
          "model_module_version": "1.5.0",
          "state": {
            "_model_module": "@jupyter-widgets/controls",
            "_model_module_version": "1.5.0",
            "_model_name": "DescriptionStyleModel",
            "_view_count": null,
            "_view_module": "@jupyter-widgets/base",
            "_view_module_version": "1.2.0",
            "_view_name": "StyleView",
            "description_width": ""
          }
        },
        "efc5cdde84e4432a9747e807a667e5ca": {
          "model_module": "@jupyter-widgets/controls",
          "model_name": "HBoxModel",
          "model_module_version": "1.5.0",
          "state": {
            "_dom_classes": [],
            "_model_module": "@jupyter-widgets/controls",
            "_model_module_version": "1.5.0",
            "_model_name": "HBoxModel",
            "_view_count": null,
            "_view_module": "@jupyter-widgets/controls",
            "_view_module_version": "1.5.0",
            "_view_name": "HBoxView",
            "box_style": "",
            "children": [
              "IPY_MODEL_9081a197c5774d4cb34e1657bf8c95cf",
              "IPY_MODEL_8a7c8fe7e43143f5a9bd82597ea531fd",
              "IPY_MODEL_0e435ab972b04acd9765a37aa26e81d5"
            ],
            "layout": "IPY_MODEL_28d7bc93f16248ac81e5d2aff07298f2"
          }
        },
        "9081a197c5774d4cb34e1657bf8c95cf": {
          "model_module": "@jupyter-widgets/controls",
          "model_name": "HTMLModel",
          "model_module_version": "1.5.0",
          "state": {
            "_dom_classes": [],
            "_model_module": "@jupyter-widgets/controls",
            "_model_module_version": "1.5.0",
            "_model_name": "HTMLModel",
            "_view_count": null,
            "_view_module": "@jupyter-widgets/controls",
            "_view_module_version": "1.5.0",
            "_view_name": "HTMLView",
            "description": "",
            "description_tooltip": null,
            "layout": "IPY_MODEL_5d19d428197e42869e2ce6f33adef0e8",
            "placeholder": "​",
            "style": "IPY_MODEL_574a1b0c05e14f3da1f3780ec19cddd2",
            "value": "tokenizer_config.json: 100%"
          }
        },
        "8a7c8fe7e43143f5a9bd82597ea531fd": {
          "model_module": "@jupyter-widgets/controls",
          "model_name": "FloatProgressModel",
          "model_module_version": "1.5.0",
          "state": {
            "_dom_classes": [],
            "_model_module": "@jupyter-widgets/controls",
            "_model_module_version": "1.5.0",
            "_model_name": "FloatProgressModel",
            "_view_count": null,
            "_view_module": "@jupyter-widgets/controls",
            "_view_module_version": "1.5.0",
            "_view_name": "ProgressView",
            "bar_style": "success",
            "description": "",
            "description_tooltip": null,
            "layout": "IPY_MODEL_f4fd8ce9e6e14f1396f11f788d8165d3",
            "max": 54528,
            "min": 0,
            "orientation": "horizontal",
            "style": "IPY_MODEL_0c5d04cecb3e40b896ab57d547dcd8a6",
            "value": 54528
          }
        },
        "0e435ab972b04acd9765a37aa26e81d5": {
          "model_module": "@jupyter-widgets/controls",
          "model_name": "HTMLModel",
          "model_module_version": "1.5.0",
          "state": {
            "_dom_classes": [],
            "_model_module": "@jupyter-widgets/controls",
            "_model_module_version": "1.5.0",
            "_model_name": "HTMLModel",
            "_view_count": null,
            "_view_module": "@jupyter-widgets/controls",
            "_view_module_version": "1.5.0",
            "_view_name": "HTMLView",
            "description": "",
            "description_tooltip": null,
            "layout": "IPY_MODEL_8240275ae84c418d9b45f505c8f9ee2b",
            "placeholder": "​",
            "style": "IPY_MODEL_a3ddfa2256e74b02b382726b87e1df2d",
            "value": " 54.5k/54.5k [00:00&lt;00:00, 1.33MB/s]"
          }
        },
        "28d7bc93f16248ac81e5d2aff07298f2": {
          "model_module": "@jupyter-widgets/base",
          "model_name": "LayoutModel",
          "model_module_version": "1.2.0",
          "state": {
            "_model_module": "@jupyter-widgets/base",
            "_model_module_version": "1.2.0",
            "_model_name": "LayoutModel",
            "_view_count": null,
            "_view_module": "@jupyter-widgets/base",
            "_view_module_version": "1.2.0",
            "_view_name": "LayoutView",
            "align_content": null,
            "align_items": null,
            "align_self": null,
            "border": null,
            "bottom": null,
            "display": null,
            "flex": null,
            "flex_flow": null,
            "grid_area": null,
            "grid_auto_columns": null,
            "grid_auto_flow": null,
            "grid_auto_rows": null,
            "grid_column": null,
            "grid_gap": null,
            "grid_row": null,
            "grid_template_areas": null,
            "grid_template_columns": null,
            "grid_template_rows": null,
            "height": null,
            "justify_content": null,
            "justify_items": null,
            "left": null,
            "margin": null,
            "max_height": null,
            "max_width": null,
            "min_height": null,
            "min_width": null,
            "object_fit": null,
            "object_position": null,
            "order": null,
            "overflow": null,
            "overflow_x": null,
            "overflow_y": null,
            "padding": null,
            "right": null,
            "top": null,
            "visibility": null,
            "width": null
          }
        },
        "5d19d428197e42869e2ce6f33adef0e8": {
          "model_module": "@jupyter-widgets/base",
          "model_name": "LayoutModel",
          "model_module_version": "1.2.0",
          "state": {
            "_model_module": "@jupyter-widgets/base",
            "_model_module_version": "1.2.0",
            "_model_name": "LayoutModel",
            "_view_count": null,
            "_view_module": "@jupyter-widgets/base",
            "_view_module_version": "1.2.0",
            "_view_name": "LayoutView",
            "align_content": null,
            "align_items": null,
            "align_self": null,
            "border": null,
            "bottom": null,
            "display": null,
            "flex": null,
            "flex_flow": null,
            "grid_area": null,
            "grid_auto_columns": null,
            "grid_auto_flow": null,
            "grid_auto_rows": null,
            "grid_column": null,
            "grid_gap": null,
            "grid_row": null,
            "grid_template_areas": null,
            "grid_template_columns": null,
            "grid_template_rows": null,
            "height": null,
            "justify_content": null,
            "justify_items": null,
            "left": null,
            "margin": null,
            "max_height": null,
            "max_width": null,
            "min_height": null,
            "min_width": null,
            "object_fit": null,
            "object_position": null,
            "order": null,
            "overflow": null,
            "overflow_x": null,
            "overflow_y": null,
            "padding": null,
            "right": null,
            "top": null,
            "visibility": null,
            "width": null
          }
        },
        "574a1b0c05e14f3da1f3780ec19cddd2": {
          "model_module": "@jupyter-widgets/controls",
          "model_name": "DescriptionStyleModel",
          "model_module_version": "1.5.0",
          "state": {
            "_model_module": "@jupyter-widgets/controls",
            "_model_module_version": "1.5.0",
            "_model_name": "DescriptionStyleModel",
            "_view_count": null,
            "_view_module": "@jupyter-widgets/base",
            "_view_module_version": "1.2.0",
            "_view_name": "StyleView",
            "description_width": ""
          }
        },
        "f4fd8ce9e6e14f1396f11f788d8165d3": {
          "model_module": "@jupyter-widgets/base",
          "model_name": "LayoutModel",
          "model_module_version": "1.2.0",
          "state": {
            "_model_module": "@jupyter-widgets/base",
            "_model_module_version": "1.2.0",
            "_model_name": "LayoutModel",
            "_view_count": null,
            "_view_module": "@jupyter-widgets/base",
            "_view_module_version": "1.2.0",
            "_view_name": "LayoutView",
            "align_content": null,
            "align_items": null,
            "align_self": null,
            "border": null,
            "bottom": null,
            "display": null,
            "flex": null,
            "flex_flow": null,
            "grid_area": null,
            "grid_auto_columns": null,
            "grid_auto_flow": null,
            "grid_auto_rows": null,
            "grid_column": null,
            "grid_gap": null,
            "grid_row": null,
            "grid_template_areas": null,
            "grid_template_columns": null,
            "grid_template_rows": null,
            "height": null,
            "justify_content": null,
            "justify_items": null,
            "left": null,
            "margin": null,
            "max_height": null,
            "max_width": null,
            "min_height": null,
            "min_width": null,
            "object_fit": null,
            "object_position": null,
            "order": null,
            "overflow": null,
            "overflow_x": null,
            "overflow_y": null,
            "padding": null,
            "right": null,
            "top": null,
            "visibility": null,
            "width": null
          }
        },
        "0c5d04cecb3e40b896ab57d547dcd8a6": {
          "model_module": "@jupyter-widgets/controls",
          "model_name": "ProgressStyleModel",
          "model_module_version": "1.5.0",
          "state": {
            "_model_module": "@jupyter-widgets/controls",
            "_model_module_version": "1.5.0",
            "_model_name": "ProgressStyleModel",
            "_view_count": null,
            "_view_module": "@jupyter-widgets/base",
            "_view_module_version": "1.2.0",
            "_view_name": "StyleView",
            "bar_color": null,
            "description_width": ""
          }
        },
        "8240275ae84c418d9b45f505c8f9ee2b": {
          "model_module": "@jupyter-widgets/base",
          "model_name": "LayoutModel",
          "model_module_version": "1.2.0",
          "state": {
            "_model_module": "@jupyter-widgets/base",
            "_model_module_version": "1.2.0",
            "_model_name": "LayoutModel",
            "_view_count": null,
            "_view_module": "@jupyter-widgets/base",
            "_view_module_version": "1.2.0",
            "_view_name": "LayoutView",
            "align_content": null,
            "align_items": null,
            "align_self": null,
            "border": null,
            "bottom": null,
            "display": null,
            "flex": null,
            "flex_flow": null,
            "grid_area": null,
            "grid_auto_columns": null,
            "grid_auto_flow": null,
            "grid_auto_rows": null,
            "grid_column": null,
            "grid_gap": null,
            "grid_row": null,
            "grid_template_areas": null,
            "grid_template_columns": null,
            "grid_template_rows": null,
            "height": null,
            "justify_content": null,
            "justify_items": null,
            "left": null,
            "margin": null,
            "max_height": null,
            "max_width": null,
            "min_height": null,
            "min_width": null,
            "object_fit": null,
            "object_position": null,
            "order": null,
            "overflow": null,
            "overflow_x": null,
            "overflow_y": null,
            "padding": null,
            "right": null,
            "top": null,
            "visibility": null,
            "width": null
          }
        },
        "a3ddfa2256e74b02b382726b87e1df2d": {
          "model_module": "@jupyter-widgets/controls",
          "model_name": "DescriptionStyleModel",
          "model_module_version": "1.5.0",
          "state": {
            "_model_module": "@jupyter-widgets/controls",
            "_model_module_version": "1.5.0",
            "_model_name": "DescriptionStyleModel",
            "_view_count": null,
            "_view_module": "@jupyter-widgets/base",
            "_view_module_version": "1.2.0",
            "_view_name": "StyleView",
            "description_width": ""
          }
        },
        "eb14748d1b6949828c9ba64896844420": {
          "model_module": "@jupyter-widgets/controls",
          "model_name": "HBoxModel",
          "model_module_version": "1.5.0",
          "state": {
            "_dom_classes": [],
            "_model_module": "@jupyter-widgets/controls",
            "_model_module_version": "1.5.0",
            "_model_name": "HBoxModel",
            "_view_count": null,
            "_view_module": "@jupyter-widgets/controls",
            "_view_module_version": "1.5.0",
            "_view_name": "HBoxView",
            "box_style": "",
            "children": [
              "IPY_MODEL_624a8508cd57434383bd652f04bb47cd",
              "IPY_MODEL_0c143ebe7faf4a749018e1689f6a19ed",
              "IPY_MODEL_2af84338d7f04dbda5cd5e6cd8dec3ae"
            ],
            "layout": "IPY_MODEL_d3380dfd7b164196919bf331e3116132"
          }
        },
        "624a8508cd57434383bd652f04bb47cd": {
          "model_module": "@jupyter-widgets/controls",
          "model_name": "HTMLModel",
          "model_module_version": "1.5.0",
          "state": {
            "_dom_classes": [],
            "_model_module": "@jupyter-widgets/controls",
            "_model_module_version": "1.5.0",
            "_model_name": "HTMLModel",
            "_view_count": null,
            "_view_module": "@jupyter-widgets/controls",
            "_view_module_version": "1.5.0",
            "_view_name": "HTMLView",
            "description": "",
            "description_tooltip": null,
            "layout": "IPY_MODEL_9a192c5221ef4d71808c7dae3e9fc40f",
            "placeholder": "​",
            "style": "IPY_MODEL_6455e9e3446b4dde900db1666c7af147",
            "value": "tokenizer.json: 100%"
          }
        },
        "0c143ebe7faf4a749018e1689f6a19ed": {
          "model_module": "@jupyter-widgets/controls",
          "model_name": "FloatProgressModel",
          "model_module_version": "1.5.0",
          "state": {
            "_dom_classes": [],
            "_model_module": "@jupyter-widgets/controls",
            "_model_module_version": "1.5.0",
            "_model_name": "FloatProgressModel",
            "_view_count": null,
            "_view_module": "@jupyter-widgets/controls",
            "_view_module_version": "1.5.0",
            "_view_name": "ProgressView",
            "bar_style": "success",
            "description": "",
            "description_tooltip": null,
            "layout": "IPY_MODEL_bb0f9580a7dc4f798d847807444218f3",
            "max": 9085657,
            "min": 0,
            "orientation": "horizontal",
            "style": "IPY_MODEL_86e1412b5dc94bfdb2930b97df0b8986",
            "value": 9085657
          }
        },
        "2af84338d7f04dbda5cd5e6cd8dec3ae": {
          "model_module": "@jupyter-widgets/controls",
          "model_name": "HTMLModel",
          "model_module_version": "1.5.0",
          "state": {
            "_dom_classes": [],
            "_model_module": "@jupyter-widgets/controls",
            "_model_module_version": "1.5.0",
            "_model_name": "HTMLModel",
            "_view_count": null,
            "_view_module": "@jupyter-widgets/controls",
            "_view_module_version": "1.5.0",
            "_view_name": "HTMLView",
            "description": "",
            "description_tooltip": null,
            "layout": "IPY_MODEL_fae304acc3054bd38c230427a3d38322",
            "placeholder": "​",
            "style": "IPY_MODEL_71fc6c8d5aeb495a9ad6f9da6222395f",
            "value": " 9.09M/9.09M [00:00&lt;00:00, 17.9MB/s]"
          }
        },
        "d3380dfd7b164196919bf331e3116132": {
          "model_module": "@jupyter-widgets/base",
          "model_name": "LayoutModel",
          "model_module_version": "1.2.0",
          "state": {
            "_model_module": "@jupyter-widgets/base",
            "_model_module_version": "1.2.0",
            "_model_name": "LayoutModel",
            "_view_count": null,
            "_view_module": "@jupyter-widgets/base",
            "_view_module_version": "1.2.0",
            "_view_name": "LayoutView",
            "align_content": null,
            "align_items": null,
            "align_self": null,
            "border": null,
            "bottom": null,
            "display": null,
            "flex": null,
            "flex_flow": null,
            "grid_area": null,
            "grid_auto_columns": null,
            "grid_auto_flow": null,
            "grid_auto_rows": null,
            "grid_column": null,
            "grid_gap": null,
            "grid_row": null,
            "grid_template_areas": null,
            "grid_template_columns": null,
            "grid_template_rows": null,
            "height": null,
            "justify_content": null,
            "justify_items": null,
            "left": null,
            "margin": null,
            "max_height": null,
            "max_width": null,
            "min_height": null,
            "min_width": null,
            "object_fit": null,
            "object_position": null,
            "order": null,
            "overflow": null,
            "overflow_x": null,
            "overflow_y": null,
            "padding": null,
            "right": null,
            "top": null,
            "visibility": null,
            "width": null
          }
        },
        "9a192c5221ef4d71808c7dae3e9fc40f": {
          "model_module": "@jupyter-widgets/base",
          "model_name": "LayoutModel",
          "model_module_version": "1.2.0",
          "state": {
            "_model_module": "@jupyter-widgets/base",
            "_model_module_version": "1.2.0",
            "_model_name": "LayoutModel",
            "_view_count": null,
            "_view_module": "@jupyter-widgets/base",
            "_view_module_version": "1.2.0",
            "_view_name": "LayoutView",
            "align_content": null,
            "align_items": null,
            "align_self": null,
            "border": null,
            "bottom": null,
            "display": null,
            "flex": null,
            "flex_flow": null,
            "grid_area": null,
            "grid_auto_columns": null,
            "grid_auto_flow": null,
            "grid_auto_rows": null,
            "grid_column": null,
            "grid_gap": null,
            "grid_row": null,
            "grid_template_areas": null,
            "grid_template_columns": null,
            "grid_template_rows": null,
            "height": null,
            "justify_content": null,
            "justify_items": null,
            "left": null,
            "margin": null,
            "max_height": null,
            "max_width": null,
            "min_height": null,
            "min_width": null,
            "object_fit": null,
            "object_position": null,
            "order": null,
            "overflow": null,
            "overflow_x": null,
            "overflow_y": null,
            "padding": null,
            "right": null,
            "top": null,
            "visibility": null,
            "width": null
          }
        },
        "6455e9e3446b4dde900db1666c7af147": {
          "model_module": "@jupyter-widgets/controls",
          "model_name": "DescriptionStyleModel",
          "model_module_version": "1.5.0",
          "state": {
            "_model_module": "@jupyter-widgets/controls",
            "_model_module_version": "1.5.0",
            "_model_name": "DescriptionStyleModel",
            "_view_count": null,
            "_view_module": "@jupyter-widgets/base",
            "_view_module_version": "1.2.0",
            "_view_name": "StyleView",
            "description_width": ""
          }
        },
        "bb0f9580a7dc4f798d847807444218f3": {
          "model_module": "@jupyter-widgets/base",
          "model_name": "LayoutModel",
          "model_module_version": "1.2.0",
          "state": {
            "_model_module": "@jupyter-widgets/base",
            "_model_module_version": "1.2.0",
            "_model_name": "LayoutModel",
            "_view_count": null,
            "_view_module": "@jupyter-widgets/base",
            "_view_module_version": "1.2.0",
            "_view_name": "LayoutView",
            "align_content": null,
            "align_items": null,
            "align_self": null,
            "border": null,
            "bottom": null,
            "display": null,
            "flex": null,
            "flex_flow": null,
            "grid_area": null,
            "grid_auto_columns": null,
            "grid_auto_flow": null,
            "grid_auto_rows": null,
            "grid_column": null,
            "grid_gap": null,
            "grid_row": null,
            "grid_template_areas": null,
            "grid_template_columns": null,
            "grid_template_rows": null,
            "height": null,
            "justify_content": null,
            "justify_items": null,
            "left": null,
            "margin": null,
            "max_height": null,
            "max_width": null,
            "min_height": null,
            "min_width": null,
            "object_fit": null,
            "object_position": null,
            "order": null,
            "overflow": null,
            "overflow_x": null,
            "overflow_y": null,
            "padding": null,
            "right": null,
            "top": null,
            "visibility": null,
            "width": null
          }
        },
        "86e1412b5dc94bfdb2930b97df0b8986": {
          "model_module": "@jupyter-widgets/controls",
          "model_name": "ProgressStyleModel",
          "model_module_version": "1.5.0",
          "state": {
            "_model_module": "@jupyter-widgets/controls",
            "_model_module_version": "1.5.0",
            "_model_name": "ProgressStyleModel",
            "_view_count": null,
            "_view_module": "@jupyter-widgets/base",
            "_view_module_version": "1.2.0",
            "_view_name": "StyleView",
            "bar_color": null,
            "description_width": ""
          }
        },
        "fae304acc3054bd38c230427a3d38322": {
          "model_module": "@jupyter-widgets/base",
          "model_name": "LayoutModel",
          "model_module_version": "1.2.0",
          "state": {
            "_model_module": "@jupyter-widgets/base",
            "_model_module_version": "1.2.0",
            "_model_name": "LayoutModel",
            "_view_count": null,
            "_view_module": "@jupyter-widgets/base",
            "_view_module_version": "1.2.0",
            "_view_name": "LayoutView",
            "align_content": null,
            "align_items": null,
            "align_self": null,
            "border": null,
            "bottom": null,
            "display": null,
            "flex": null,
            "flex_flow": null,
            "grid_area": null,
            "grid_auto_columns": null,
            "grid_auto_flow": null,
            "grid_auto_rows": null,
            "grid_column": null,
            "grid_gap": null,
            "grid_row": null,
            "grid_template_areas": null,
            "grid_template_columns": null,
            "grid_template_rows": null,
            "height": null,
            "justify_content": null,
            "justify_items": null,
            "left": null,
            "margin": null,
            "max_height": null,
            "max_width": null,
            "min_height": null,
            "min_width": null,
            "object_fit": null,
            "object_position": null,
            "order": null,
            "overflow": null,
            "overflow_x": null,
            "overflow_y": null,
            "padding": null,
            "right": null,
            "top": null,
            "visibility": null,
            "width": null
          }
        },
        "71fc6c8d5aeb495a9ad6f9da6222395f": {
          "model_module": "@jupyter-widgets/controls",
          "model_name": "DescriptionStyleModel",
          "model_module_version": "1.5.0",
          "state": {
            "_model_module": "@jupyter-widgets/controls",
            "_model_module_version": "1.5.0",
            "_model_name": "DescriptionStyleModel",
            "_view_count": null,
            "_view_module": "@jupyter-widgets/base",
            "_view_module_version": "1.2.0",
            "_view_name": "StyleView",
            "description_width": ""
          }
        },
        "3885ea1c97f54546a2028ee849f63cad": {
          "model_module": "@jupyter-widgets/controls",
          "model_name": "HBoxModel",
          "model_module_version": "1.5.0",
          "state": {
            "_dom_classes": [],
            "_model_module": "@jupyter-widgets/controls",
            "_model_module_version": "1.5.0",
            "_model_name": "HBoxModel",
            "_view_count": null,
            "_view_module": "@jupyter-widgets/controls",
            "_view_module_version": "1.5.0",
            "_view_name": "HBoxView",
            "box_style": "",
            "children": [
              "IPY_MODEL_0203ce2a78aa4da8af797ffa38b69b65",
              "IPY_MODEL_017bac886a1144b987823ed16779ab85",
              "IPY_MODEL_c564979e574448808784b8e68f21f351"
            ],
            "layout": "IPY_MODEL_c1cf61358ea747b089c594f4f7b0563d"
          }
        },
        "0203ce2a78aa4da8af797ffa38b69b65": {
          "model_module": "@jupyter-widgets/controls",
          "model_name": "HTMLModel",
          "model_module_version": "1.5.0",
          "state": {
            "_dom_classes": [],
            "_model_module": "@jupyter-widgets/controls",
            "_model_module_version": "1.5.0",
            "_model_name": "HTMLModel",
            "_view_count": null,
            "_view_module": "@jupyter-widgets/controls",
            "_view_module_version": "1.5.0",
            "_view_name": "HTMLView",
            "description": "",
            "description_tooltip": null,
            "layout": "IPY_MODEL_be4f3b8592794965b419a67c173ad16a",
            "placeholder": "​",
            "style": "IPY_MODEL_76d9642da17045c6bb63ab2e22de335d",
            "value": "special_tokens_map.json: 100%"
          }
        },
        "017bac886a1144b987823ed16779ab85": {
          "model_module": "@jupyter-widgets/controls",
          "model_name": "FloatProgressModel",
          "model_module_version": "1.5.0",
          "state": {
            "_dom_classes": [],
            "_model_module": "@jupyter-widgets/controls",
            "_model_module_version": "1.5.0",
            "_model_name": "FloatProgressModel",
            "_view_count": null,
            "_view_module": "@jupyter-widgets/controls",
            "_view_module_version": "1.5.0",
            "_view_name": "ProgressView",
            "bar_style": "success",
            "description": "",
            "description_tooltip": null,
            "layout": "IPY_MODEL_6f1bcc4a9b824aa8b9091e1916f78bb1",
            "max": 296,
            "min": 0,
            "orientation": "horizontal",
            "style": "IPY_MODEL_770208f404964f5789fe27adcf6add08",
            "value": 296
          }
        },
        "c564979e574448808784b8e68f21f351": {
          "model_module": "@jupyter-widgets/controls",
          "model_name": "HTMLModel",
          "model_module_version": "1.5.0",
          "state": {
            "_dom_classes": [],
            "_model_module": "@jupyter-widgets/controls",
            "_model_module_version": "1.5.0",
            "_model_name": "HTMLModel",
            "_view_count": null,
            "_view_module": "@jupyter-widgets/controls",
            "_view_module_version": "1.5.0",
            "_view_name": "HTMLView",
            "description": "",
            "description_tooltip": null,
            "layout": "IPY_MODEL_9e65b064a05b49c0b4b3bbc171b9bea1",
            "placeholder": "​",
            "style": "IPY_MODEL_c9453fce890141488e79b5c91f1a9c97",
            "value": " 296/296 [00:00&lt;00:00, 13.2kB/s]"
          }
        },
        "c1cf61358ea747b089c594f4f7b0563d": {
          "model_module": "@jupyter-widgets/base",
          "model_name": "LayoutModel",
          "model_module_version": "1.2.0",
          "state": {
            "_model_module": "@jupyter-widgets/base",
            "_model_module_version": "1.2.0",
            "_model_name": "LayoutModel",
            "_view_count": null,
            "_view_module": "@jupyter-widgets/base",
            "_view_module_version": "1.2.0",
            "_view_name": "LayoutView",
            "align_content": null,
            "align_items": null,
            "align_self": null,
            "border": null,
            "bottom": null,
            "display": null,
            "flex": null,
            "flex_flow": null,
            "grid_area": null,
            "grid_auto_columns": null,
            "grid_auto_flow": null,
            "grid_auto_rows": null,
            "grid_column": null,
            "grid_gap": null,
            "grid_row": null,
            "grid_template_areas": null,
            "grid_template_columns": null,
            "grid_template_rows": null,
            "height": null,
            "justify_content": null,
            "justify_items": null,
            "left": null,
            "margin": null,
            "max_height": null,
            "max_width": null,
            "min_height": null,
            "min_width": null,
            "object_fit": null,
            "object_position": null,
            "order": null,
            "overflow": null,
            "overflow_x": null,
            "overflow_y": null,
            "padding": null,
            "right": null,
            "top": null,
            "visibility": null,
            "width": null
          }
        },
        "be4f3b8592794965b419a67c173ad16a": {
          "model_module": "@jupyter-widgets/base",
          "model_name": "LayoutModel",
          "model_module_version": "1.2.0",
          "state": {
            "_model_module": "@jupyter-widgets/base",
            "_model_module_version": "1.2.0",
            "_model_name": "LayoutModel",
            "_view_count": null,
            "_view_module": "@jupyter-widgets/base",
            "_view_module_version": "1.2.0",
            "_view_name": "LayoutView",
            "align_content": null,
            "align_items": null,
            "align_self": null,
            "border": null,
            "bottom": null,
            "display": null,
            "flex": null,
            "flex_flow": null,
            "grid_area": null,
            "grid_auto_columns": null,
            "grid_auto_flow": null,
            "grid_auto_rows": null,
            "grid_column": null,
            "grid_gap": null,
            "grid_row": null,
            "grid_template_areas": null,
            "grid_template_columns": null,
            "grid_template_rows": null,
            "height": null,
            "justify_content": null,
            "justify_items": null,
            "left": null,
            "margin": null,
            "max_height": null,
            "max_width": null,
            "min_height": null,
            "min_width": null,
            "object_fit": null,
            "object_position": null,
            "order": null,
            "overflow": null,
            "overflow_x": null,
            "overflow_y": null,
            "padding": null,
            "right": null,
            "top": null,
            "visibility": null,
            "width": null
          }
        },
        "76d9642da17045c6bb63ab2e22de335d": {
          "model_module": "@jupyter-widgets/controls",
          "model_name": "DescriptionStyleModel",
          "model_module_version": "1.5.0",
          "state": {
            "_model_module": "@jupyter-widgets/controls",
            "_model_module_version": "1.5.0",
            "_model_name": "DescriptionStyleModel",
            "_view_count": null,
            "_view_module": "@jupyter-widgets/base",
            "_view_module_version": "1.2.0",
            "_view_name": "StyleView",
            "description_width": ""
          }
        },
        "6f1bcc4a9b824aa8b9091e1916f78bb1": {
          "model_module": "@jupyter-widgets/base",
          "model_name": "LayoutModel",
          "model_module_version": "1.2.0",
          "state": {
            "_model_module": "@jupyter-widgets/base",
            "_model_module_version": "1.2.0",
            "_model_name": "LayoutModel",
            "_view_count": null,
            "_view_module": "@jupyter-widgets/base",
            "_view_module_version": "1.2.0",
            "_view_name": "LayoutView",
            "align_content": null,
            "align_items": null,
            "align_self": null,
            "border": null,
            "bottom": null,
            "display": null,
            "flex": null,
            "flex_flow": null,
            "grid_area": null,
            "grid_auto_columns": null,
            "grid_auto_flow": null,
            "grid_auto_rows": null,
            "grid_column": null,
            "grid_gap": null,
            "grid_row": null,
            "grid_template_areas": null,
            "grid_template_columns": null,
            "grid_template_rows": null,
            "height": null,
            "justify_content": null,
            "justify_items": null,
            "left": null,
            "margin": null,
            "max_height": null,
            "max_width": null,
            "min_height": null,
            "min_width": null,
            "object_fit": null,
            "object_position": null,
            "order": null,
            "overflow": null,
            "overflow_x": null,
            "overflow_y": null,
            "padding": null,
            "right": null,
            "top": null,
            "visibility": null,
            "width": null
          }
        },
        "770208f404964f5789fe27adcf6add08": {
          "model_module": "@jupyter-widgets/controls",
          "model_name": "ProgressStyleModel",
          "model_module_version": "1.5.0",
          "state": {
            "_model_module": "@jupyter-widgets/controls",
            "_model_module_version": "1.5.0",
            "_model_name": "ProgressStyleModel",
            "_view_count": null,
            "_view_module": "@jupyter-widgets/base",
            "_view_module_version": "1.2.0",
            "_view_name": "StyleView",
            "bar_color": null,
            "description_width": ""
          }
        },
        "9e65b064a05b49c0b4b3bbc171b9bea1": {
          "model_module": "@jupyter-widgets/base",
          "model_name": "LayoutModel",
          "model_module_version": "1.2.0",
          "state": {
            "_model_module": "@jupyter-widgets/base",
            "_model_module_version": "1.2.0",
            "_model_name": "LayoutModel",
            "_view_count": null,
            "_view_module": "@jupyter-widgets/base",
            "_view_module_version": "1.2.0",
            "_view_name": "LayoutView",
            "align_content": null,
            "align_items": null,
            "align_self": null,
            "border": null,
            "bottom": null,
            "display": null,
            "flex": null,
            "flex_flow": null,
            "grid_area": null,
            "grid_auto_columns": null,
            "grid_auto_flow": null,
            "grid_auto_rows": null,
            "grid_column": null,
            "grid_gap": null,
            "grid_row": null,
            "grid_template_areas": null,
            "grid_template_columns": null,
            "grid_template_rows": null,
            "height": null,
            "justify_content": null,
            "justify_items": null,
            "left": null,
            "margin": null,
            "max_height": null,
            "max_width": null,
            "min_height": null,
            "min_width": null,
            "object_fit": null,
            "object_position": null,
            "order": null,
            "overflow": null,
            "overflow_x": null,
            "overflow_y": null,
            "padding": null,
            "right": null,
            "top": null,
            "visibility": null,
            "width": null
          }
        },
        "c9453fce890141488e79b5c91f1a9c97": {
          "model_module": "@jupyter-widgets/controls",
          "model_name": "DescriptionStyleModel",
          "model_module_version": "1.5.0",
          "state": {
            "_model_module": "@jupyter-widgets/controls",
            "_model_module_version": "1.5.0",
            "_model_name": "DescriptionStyleModel",
            "_view_count": null,
            "_view_module": "@jupyter-widgets/base",
            "_view_module_version": "1.2.0",
            "_view_name": "StyleView",
            "description_width": ""
          }
        }
      }
    }
  },
  "cells": [
    {
      "cell_type": "markdown",
      "source": [
        "# 2. LangChain Data Connections\n",
        "\n",
        "## 2.1 Document Loaders- Part One"
      ],
      "metadata": {
        "id": "K0duqfKKIz3Z"
      }
    },
    {
      "cell_type": "code",
      "source": [
        "!pip install -U langchain-community\n",
        "\n",
        "!pip install langchain-huggingface\n",
        "\n",
        "!pip install pypdf\n",
        "\n",
        "%pip install --upgrade --quiet  langchain-huggingface text-generation transformers google-search-results numexpr langchainhub sentencepiece jinja2 bitsandbytes accelerate\n"
      ],
      "metadata": {
        "colab": {
          "base_uri": "https://localhost:8080/"
        },
        "id": "MzY6AAvwKg66",
        "outputId": "8dd5588c-61fa-4f0b-cb2b-17fa1670d604"
      },
      "execution_count": 1,
      "outputs": [
        {
          "output_type": "stream",
          "name": "stdout",
          "text": [
            "Collecting langchain-community\n",
            "  Downloading langchain_community-0.3.11-py3-none-any.whl.metadata (2.9 kB)\n",
            "Requirement already satisfied: PyYAML>=5.3 in /usr/local/lib/python3.10/dist-packages (from langchain-community) (6.0.2)\n",
            "Requirement already satisfied: SQLAlchemy<3,>=1.4 in /usr/local/lib/python3.10/dist-packages (from langchain-community) (2.0.36)\n",
            "Requirement already satisfied: aiohttp<4.0.0,>=3.8.3 in /usr/local/lib/python3.10/dist-packages (from langchain-community) (3.11.9)\n",
            "Collecting dataclasses-json<0.7,>=0.5.7 (from langchain-community)\n",
            "  Downloading dataclasses_json-0.6.7-py3-none-any.whl.metadata (25 kB)\n",
            "Collecting httpx-sse<0.5.0,>=0.4.0 (from langchain-community)\n",
            "  Downloading httpx_sse-0.4.0-py3-none-any.whl.metadata (9.0 kB)\n",
            "Collecting langchain<0.4.0,>=0.3.11 (from langchain-community)\n",
            "  Downloading langchain-0.3.11-py3-none-any.whl.metadata (7.1 kB)\n",
            "Collecting langchain-core<0.4.0,>=0.3.24 (from langchain-community)\n",
            "  Downloading langchain_core-0.3.24-py3-none-any.whl.metadata (6.3 kB)\n",
            "Requirement already satisfied: langsmith<0.3,>=0.1.125 in /usr/local/lib/python3.10/dist-packages (from langchain-community) (0.1.147)\n",
            "Requirement already satisfied: numpy<2,>=1.22.4 in /usr/local/lib/python3.10/dist-packages (from langchain-community) (1.26.4)\n",
            "Collecting pydantic-settings<3.0.0,>=2.4.0 (from langchain-community)\n",
            "  Downloading pydantic_settings-2.6.1-py3-none-any.whl.metadata (3.5 kB)\n",
            "Requirement already satisfied: requests<3,>=2 in /usr/local/lib/python3.10/dist-packages (from langchain-community) (2.32.3)\n",
            "Requirement already satisfied: tenacity!=8.4.0,<10,>=8.1.0 in /usr/local/lib/python3.10/dist-packages (from langchain-community) (9.0.0)\n",
            "Requirement already satisfied: aiohappyeyeballs>=2.3.0 in /usr/local/lib/python3.10/dist-packages (from aiohttp<4.0.0,>=3.8.3->langchain-community) (2.4.4)\n",
            "Requirement already satisfied: aiosignal>=1.1.2 in /usr/local/lib/python3.10/dist-packages (from aiohttp<4.0.0,>=3.8.3->langchain-community) (1.3.1)\n",
            "Requirement already satisfied: async-timeout<6.0,>=4.0 in /usr/local/lib/python3.10/dist-packages (from aiohttp<4.0.0,>=3.8.3->langchain-community) (4.0.3)\n",
            "Requirement already satisfied: attrs>=17.3.0 in /usr/local/lib/python3.10/dist-packages (from aiohttp<4.0.0,>=3.8.3->langchain-community) (24.2.0)\n",
            "Requirement already satisfied: frozenlist>=1.1.1 in /usr/local/lib/python3.10/dist-packages (from aiohttp<4.0.0,>=3.8.3->langchain-community) (1.5.0)\n",
            "Requirement already satisfied: multidict<7.0,>=4.5 in /usr/local/lib/python3.10/dist-packages (from aiohttp<4.0.0,>=3.8.3->langchain-community) (6.1.0)\n",
            "Requirement already satisfied: propcache>=0.2.0 in /usr/local/lib/python3.10/dist-packages (from aiohttp<4.0.0,>=3.8.3->langchain-community) (0.2.1)\n",
            "Requirement already satisfied: yarl<2.0,>=1.17.0 in /usr/local/lib/python3.10/dist-packages (from aiohttp<4.0.0,>=3.8.3->langchain-community) (1.18.3)\n",
            "Collecting marshmallow<4.0.0,>=3.18.0 (from dataclasses-json<0.7,>=0.5.7->langchain-community)\n",
            "  Downloading marshmallow-3.23.1-py3-none-any.whl.metadata (7.5 kB)\n",
            "Collecting typing-inspect<1,>=0.4.0 (from dataclasses-json<0.7,>=0.5.7->langchain-community)\n",
            "  Downloading typing_inspect-0.9.0-py3-none-any.whl.metadata (1.5 kB)\n",
            "Requirement already satisfied: langchain-text-splitters<0.4.0,>=0.3.0 in /usr/local/lib/python3.10/dist-packages (from langchain<0.4.0,>=0.3.11->langchain-community) (0.3.2)\n",
            "Requirement already satisfied: pydantic<3.0.0,>=2.7.4 in /usr/local/lib/python3.10/dist-packages (from langchain<0.4.0,>=0.3.11->langchain-community) (2.10.3)\n",
            "Requirement already satisfied: jsonpatch<2.0,>=1.33 in /usr/local/lib/python3.10/dist-packages (from langchain-core<0.4.0,>=0.3.24->langchain-community) (1.33)\n",
            "Requirement already satisfied: packaging<25,>=23.2 in /usr/local/lib/python3.10/dist-packages (from langchain-core<0.4.0,>=0.3.24->langchain-community) (24.2)\n",
            "Requirement already satisfied: typing-extensions>=4.7 in /usr/local/lib/python3.10/dist-packages (from langchain-core<0.4.0,>=0.3.24->langchain-community) (4.12.2)\n",
            "Requirement already satisfied: httpx<1,>=0.23.0 in /usr/local/lib/python3.10/dist-packages (from langsmith<0.3,>=0.1.125->langchain-community) (0.28.0)\n",
            "Requirement already satisfied: orjson<4.0.0,>=3.9.14 in /usr/local/lib/python3.10/dist-packages (from langsmith<0.3,>=0.1.125->langchain-community) (3.10.12)\n",
            "Requirement already satisfied: requests-toolbelt<2.0.0,>=1.0.0 in /usr/local/lib/python3.10/dist-packages (from langsmith<0.3,>=0.1.125->langchain-community) (1.0.0)\n",
            "Collecting python-dotenv>=0.21.0 (from pydantic-settings<3.0.0,>=2.4.0->langchain-community)\n",
            "  Downloading python_dotenv-1.0.1-py3-none-any.whl.metadata (23 kB)\n",
            "Requirement already satisfied: charset-normalizer<4,>=2 in /usr/local/lib/python3.10/dist-packages (from requests<3,>=2->langchain-community) (3.4.0)\n",
            "Requirement already satisfied: idna<4,>=2.5 in /usr/local/lib/python3.10/dist-packages (from requests<3,>=2->langchain-community) (3.10)\n",
            "Requirement already satisfied: urllib3<3,>=1.21.1 in /usr/local/lib/python3.10/dist-packages (from requests<3,>=2->langchain-community) (2.2.3)\n",
            "Requirement already satisfied: certifi>=2017.4.17 in /usr/local/lib/python3.10/dist-packages (from requests<3,>=2->langchain-community) (2024.8.30)\n",
            "Requirement already satisfied: greenlet!=0.4.17 in /usr/local/lib/python3.10/dist-packages (from SQLAlchemy<3,>=1.4->langchain-community) (3.1.1)\n",
            "Requirement already satisfied: anyio in /usr/local/lib/python3.10/dist-packages (from httpx<1,>=0.23.0->langsmith<0.3,>=0.1.125->langchain-community) (3.7.1)\n",
            "Requirement already satisfied: httpcore==1.* in /usr/local/lib/python3.10/dist-packages (from httpx<1,>=0.23.0->langsmith<0.3,>=0.1.125->langchain-community) (1.0.7)\n",
            "Requirement already satisfied: h11<0.15,>=0.13 in /usr/local/lib/python3.10/dist-packages (from httpcore==1.*->httpx<1,>=0.23.0->langsmith<0.3,>=0.1.125->langchain-community) (0.14.0)\n",
            "Requirement already satisfied: jsonpointer>=1.9 in /usr/local/lib/python3.10/dist-packages (from jsonpatch<2.0,>=1.33->langchain-core<0.4.0,>=0.3.24->langchain-community) (3.0.0)\n",
            "Requirement already satisfied: annotated-types>=0.6.0 in /usr/local/lib/python3.10/dist-packages (from pydantic<3.0.0,>=2.7.4->langchain<0.4.0,>=0.3.11->langchain-community) (0.7.0)\n",
            "Requirement already satisfied: pydantic-core==2.27.1 in /usr/local/lib/python3.10/dist-packages (from pydantic<3.0.0,>=2.7.4->langchain<0.4.0,>=0.3.11->langchain-community) (2.27.1)\n",
            "Collecting mypy-extensions>=0.3.0 (from typing-inspect<1,>=0.4.0->dataclasses-json<0.7,>=0.5.7->langchain-community)\n",
            "  Downloading mypy_extensions-1.0.0-py3-none-any.whl.metadata (1.1 kB)\n",
            "Requirement already satisfied: sniffio>=1.1 in /usr/local/lib/python3.10/dist-packages (from anyio->httpx<1,>=0.23.0->langsmith<0.3,>=0.1.125->langchain-community) (1.3.1)\n",
            "Requirement already satisfied: exceptiongroup in /usr/local/lib/python3.10/dist-packages (from anyio->httpx<1,>=0.23.0->langsmith<0.3,>=0.1.125->langchain-community) (1.2.2)\n",
            "Downloading langchain_community-0.3.11-py3-none-any.whl (2.5 MB)\n",
            "\u001b[2K   \u001b[90m━━━━━━━━━━━━━━━━━━━━━━━━━━━━━━━━━━━━━━━━\u001b[0m \u001b[32m2.5/2.5 MB\u001b[0m \u001b[31m33.9 MB/s\u001b[0m eta \u001b[36m0:00:00\u001b[0m\n",
            "\u001b[?25hDownloading dataclasses_json-0.6.7-py3-none-any.whl (28 kB)\n",
            "Downloading httpx_sse-0.4.0-py3-none-any.whl (7.8 kB)\n",
            "Downloading langchain-0.3.11-py3-none-any.whl (1.0 MB)\n",
            "\u001b[2K   \u001b[90m━━━━━━━━━━━━━━━━━━━━━━━━━━━━━━━━━━━━━━━━\u001b[0m \u001b[32m1.0/1.0 MB\u001b[0m \u001b[31m27.5 MB/s\u001b[0m eta \u001b[36m0:00:00\u001b[0m\n",
            "\u001b[?25hDownloading langchain_core-0.3.24-py3-none-any.whl (410 kB)\n",
            "\u001b[2K   \u001b[90m━━━━━━━━━━━━━━━━━━━━━━━━━━━━━━━━━━━━━━━━\u001b[0m \u001b[32m410.6/410.6 kB\u001b[0m \u001b[31m24.5 MB/s\u001b[0m eta \u001b[36m0:00:00\u001b[0m\n",
            "\u001b[?25hDownloading pydantic_settings-2.6.1-py3-none-any.whl (28 kB)\n",
            "Downloading marshmallow-3.23.1-py3-none-any.whl (49 kB)\n",
            "\u001b[2K   \u001b[90m━━━━━━━━━━━━━━━━━━━━━━━━━━━━━━━━━━━━━━━━\u001b[0m \u001b[32m49.5/49.5 kB\u001b[0m \u001b[31m4.4 MB/s\u001b[0m eta \u001b[36m0:00:00\u001b[0m\n",
            "\u001b[?25hDownloading python_dotenv-1.0.1-py3-none-any.whl (19 kB)\n",
            "Downloading typing_inspect-0.9.0-py3-none-any.whl (8.8 kB)\n",
            "Downloading mypy_extensions-1.0.0-py3-none-any.whl (4.7 kB)\n",
            "Installing collected packages: python-dotenv, mypy-extensions, marshmallow, httpx-sse, typing-inspect, pydantic-settings, dataclasses-json, langchain-core, langchain, langchain-community\n",
            "  Attempting uninstall: langchain-core\n",
            "    Found existing installation: langchain-core 0.3.21\n",
            "    Uninstalling langchain-core-0.3.21:\n",
            "      Successfully uninstalled langchain-core-0.3.21\n",
            "  Attempting uninstall: langchain\n",
            "    Found existing installation: langchain 0.3.9\n",
            "    Uninstalling langchain-0.3.9:\n",
            "      Successfully uninstalled langchain-0.3.9\n",
            "Successfully installed dataclasses-json-0.6.7 httpx-sse-0.4.0 langchain-0.3.11 langchain-community-0.3.11 langchain-core-0.3.24 marshmallow-3.23.1 mypy-extensions-1.0.0 pydantic-settings-2.6.1 python-dotenv-1.0.1 typing-inspect-0.9.0\n",
            "Collecting langchain-huggingface\n",
            "  Downloading langchain_huggingface-0.1.2-py3-none-any.whl.metadata (1.3 kB)\n",
            "Requirement already satisfied: huggingface-hub>=0.23.0 in /usr/local/lib/python3.10/dist-packages (from langchain-huggingface) (0.26.3)\n",
            "Requirement already satisfied: langchain-core<0.4.0,>=0.3.15 in /usr/local/lib/python3.10/dist-packages (from langchain-huggingface) (0.3.24)\n",
            "Requirement already satisfied: sentence-transformers>=2.6.0 in /usr/local/lib/python3.10/dist-packages (from langchain-huggingface) (3.2.1)\n",
            "Requirement already satisfied: tokenizers>=0.19.1 in /usr/local/lib/python3.10/dist-packages (from langchain-huggingface) (0.20.3)\n",
            "Requirement already satisfied: transformers>=4.39.0 in /usr/local/lib/python3.10/dist-packages (from langchain-huggingface) (4.46.3)\n",
            "Requirement already satisfied: filelock in /usr/local/lib/python3.10/dist-packages (from huggingface-hub>=0.23.0->langchain-huggingface) (3.16.1)\n",
            "Requirement already satisfied: fsspec>=2023.5.0 in /usr/local/lib/python3.10/dist-packages (from huggingface-hub>=0.23.0->langchain-huggingface) (2024.10.0)\n",
            "Requirement already satisfied: packaging>=20.9 in /usr/local/lib/python3.10/dist-packages (from huggingface-hub>=0.23.0->langchain-huggingface) (24.2)\n",
            "Requirement already satisfied: pyyaml>=5.1 in /usr/local/lib/python3.10/dist-packages (from huggingface-hub>=0.23.0->langchain-huggingface) (6.0.2)\n",
            "Requirement already satisfied: requests in /usr/local/lib/python3.10/dist-packages (from huggingface-hub>=0.23.0->langchain-huggingface) (2.32.3)\n",
            "Requirement already satisfied: tqdm>=4.42.1 in /usr/local/lib/python3.10/dist-packages (from huggingface-hub>=0.23.0->langchain-huggingface) (4.66.6)\n",
            "Requirement already satisfied: typing-extensions>=3.7.4.3 in /usr/local/lib/python3.10/dist-packages (from huggingface-hub>=0.23.0->langchain-huggingface) (4.12.2)\n",
            "Requirement already satisfied: jsonpatch<2.0,>=1.33 in /usr/local/lib/python3.10/dist-packages (from langchain-core<0.4.0,>=0.3.15->langchain-huggingface) (1.33)\n",
            "Requirement already satisfied: langsmith<0.3,>=0.1.125 in /usr/local/lib/python3.10/dist-packages (from langchain-core<0.4.0,>=0.3.15->langchain-huggingface) (0.1.147)\n",
            "Requirement already satisfied: pydantic<3.0.0,>=2.5.2 in /usr/local/lib/python3.10/dist-packages (from langchain-core<0.4.0,>=0.3.15->langchain-huggingface) (2.10.3)\n",
            "Requirement already satisfied: tenacity!=8.4.0,<10.0.0,>=8.1.0 in /usr/local/lib/python3.10/dist-packages (from langchain-core<0.4.0,>=0.3.15->langchain-huggingface) (9.0.0)\n",
            "Requirement already satisfied: torch>=1.11.0 in /usr/local/lib/python3.10/dist-packages (from sentence-transformers>=2.6.0->langchain-huggingface) (2.5.1+cu121)\n",
            "Requirement already satisfied: scikit-learn in /usr/local/lib/python3.10/dist-packages (from sentence-transformers>=2.6.0->langchain-huggingface) (1.5.2)\n",
            "Requirement already satisfied: scipy in /usr/local/lib/python3.10/dist-packages (from sentence-transformers>=2.6.0->langchain-huggingface) (1.13.1)\n",
            "Requirement already satisfied: Pillow in /usr/local/lib/python3.10/dist-packages (from sentence-transformers>=2.6.0->langchain-huggingface) (11.0.0)\n",
            "Requirement already satisfied: numpy>=1.17 in /usr/local/lib/python3.10/dist-packages (from transformers>=4.39.0->langchain-huggingface) (1.26.4)\n",
            "Requirement already satisfied: regex!=2019.12.17 in /usr/local/lib/python3.10/dist-packages (from transformers>=4.39.0->langchain-huggingface) (2024.9.11)\n",
            "Requirement already satisfied: safetensors>=0.4.1 in /usr/local/lib/python3.10/dist-packages (from transformers>=4.39.0->langchain-huggingface) (0.4.5)\n",
            "Requirement already satisfied: jsonpointer>=1.9 in /usr/local/lib/python3.10/dist-packages (from jsonpatch<2.0,>=1.33->langchain-core<0.4.0,>=0.3.15->langchain-huggingface) (3.0.0)\n",
            "Requirement already satisfied: httpx<1,>=0.23.0 in /usr/local/lib/python3.10/dist-packages (from langsmith<0.3,>=0.1.125->langchain-core<0.4.0,>=0.3.15->langchain-huggingface) (0.28.0)\n",
            "Requirement already satisfied: orjson<4.0.0,>=3.9.14 in /usr/local/lib/python3.10/dist-packages (from langsmith<0.3,>=0.1.125->langchain-core<0.4.0,>=0.3.15->langchain-huggingface) (3.10.12)\n",
            "Requirement already satisfied: requests-toolbelt<2.0.0,>=1.0.0 in /usr/local/lib/python3.10/dist-packages (from langsmith<0.3,>=0.1.125->langchain-core<0.4.0,>=0.3.15->langchain-huggingface) (1.0.0)\n",
            "Requirement already satisfied: annotated-types>=0.6.0 in /usr/local/lib/python3.10/dist-packages (from pydantic<3.0.0,>=2.5.2->langchain-core<0.4.0,>=0.3.15->langchain-huggingface) (0.7.0)\n",
            "Requirement already satisfied: pydantic-core==2.27.1 in /usr/local/lib/python3.10/dist-packages (from pydantic<3.0.0,>=2.5.2->langchain-core<0.4.0,>=0.3.15->langchain-huggingface) (2.27.1)\n",
            "Requirement already satisfied: charset-normalizer<4,>=2 in /usr/local/lib/python3.10/dist-packages (from requests->huggingface-hub>=0.23.0->langchain-huggingface) (3.4.0)\n",
            "Requirement already satisfied: idna<4,>=2.5 in /usr/local/lib/python3.10/dist-packages (from requests->huggingface-hub>=0.23.0->langchain-huggingface) (3.10)\n",
            "Requirement already satisfied: urllib3<3,>=1.21.1 in /usr/local/lib/python3.10/dist-packages (from requests->huggingface-hub>=0.23.0->langchain-huggingface) (2.2.3)\n",
            "Requirement already satisfied: certifi>=2017.4.17 in /usr/local/lib/python3.10/dist-packages (from requests->huggingface-hub>=0.23.0->langchain-huggingface) (2024.8.30)\n",
            "Requirement already satisfied: networkx in /usr/local/lib/python3.10/dist-packages (from torch>=1.11.0->sentence-transformers>=2.6.0->langchain-huggingface) (3.4.2)\n",
            "Requirement already satisfied: jinja2 in /usr/local/lib/python3.10/dist-packages (from torch>=1.11.0->sentence-transformers>=2.6.0->langchain-huggingface) (3.1.4)\n",
            "Requirement already satisfied: sympy==1.13.1 in /usr/local/lib/python3.10/dist-packages (from torch>=1.11.0->sentence-transformers>=2.6.0->langchain-huggingface) (1.13.1)\n",
            "Requirement already satisfied: mpmath<1.4,>=1.1.0 in /usr/local/lib/python3.10/dist-packages (from sympy==1.13.1->torch>=1.11.0->sentence-transformers>=2.6.0->langchain-huggingface) (1.3.0)\n",
            "Requirement already satisfied: joblib>=1.2.0 in /usr/local/lib/python3.10/dist-packages (from scikit-learn->sentence-transformers>=2.6.0->langchain-huggingface) (1.4.2)\n",
            "Requirement already satisfied: threadpoolctl>=3.1.0 in /usr/local/lib/python3.10/dist-packages (from scikit-learn->sentence-transformers>=2.6.0->langchain-huggingface) (3.5.0)\n",
            "Requirement already satisfied: anyio in /usr/local/lib/python3.10/dist-packages (from httpx<1,>=0.23.0->langsmith<0.3,>=0.1.125->langchain-core<0.4.0,>=0.3.15->langchain-huggingface) (3.7.1)\n",
            "Requirement already satisfied: httpcore==1.* in /usr/local/lib/python3.10/dist-packages (from httpx<1,>=0.23.0->langsmith<0.3,>=0.1.125->langchain-core<0.4.0,>=0.3.15->langchain-huggingface) (1.0.7)\n",
            "Requirement already satisfied: h11<0.15,>=0.13 in /usr/local/lib/python3.10/dist-packages (from httpcore==1.*->httpx<1,>=0.23.0->langsmith<0.3,>=0.1.125->langchain-core<0.4.0,>=0.3.15->langchain-huggingface) (0.14.0)\n",
            "Requirement already satisfied: MarkupSafe>=2.0 in /usr/local/lib/python3.10/dist-packages (from jinja2->torch>=1.11.0->sentence-transformers>=2.6.0->langchain-huggingface) (3.0.2)\n",
            "Requirement already satisfied: sniffio>=1.1 in /usr/local/lib/python3.10/dist-packages (from anyio->httpx<1,>=0.23.0->langsmith<0.3,>=0.1.125->langchain-core<0.4.0,>=0.3.15->langchain-huggingface) (1.3.1)\n",
            "Requirement already satisfied: exceptiongroup in /usr/local/lib/python3.10/dist-packages (from anyio->httpx<1,>=0.23.0->langsmith<0.3,>=0.1.125->langchain-core<0.4.0,>=0.3.15->langchain-huggingface) (1.2.2)\n",
            "Downloading langchain_huggingface-0.1.2-py3-none-any.whl (21 kB)\n",
            "Installing collected packages: langchain-huggingface\n",
            "Successfully installed langchain-huggingface-0.1.2\n",
            "Collecting pypdf\n",
            "  Downloading pypdf-5.1.0-py3-none-any.whl.metadata (7.2 kB)\n",
            "Requirement already satisfied: typing_extensions>=4.0 in /usr/local/lib/python3.10/dist-packages (from pypdf) (4.12.2)\n",
            "Downloading pypdf-5.1.0-py3-none-any.whl (297 kB)\n",
            "\u001b[2K   \u001b[90m━━━━━━━━━━━━━━━━━━━━━━━━━━━━━━━━━━━━━━━━\u001b[0m \u001b[32m298.0/298.0 kB\u001b[0m \u001b[31m8.1 MB/s\u001b[0m eta \u001b[36m0:00:00\u001b[0m\n",
            "\u001b[?25hInstalling collected packages: pypdf\n",
            "Successfully installed pypdf-5.1.0\n",
            "\u001b[2K     \u001b[90m━━━━━━━━━━━━━━━━━━━━━━━━━━━━━━━━━━━━━━━━\u001b[0m \u001b[32m43.5/43.5 kB\u001b[0m \u001b[31m2.7 MB/s\u001b[0m eta \u001b[36m0:00:00\u001b[0m\n",
            "\u001b[?25h  Preparing metadata (setup.py) ... \u001b[?25l\u001b[?25hdone\n",
            "\u001b[2K   \u001b[90m━━━━━━━━━━━━━━━━━━━━━━━━━━━━━━━━━━━━━━━━\u001b[0m \u001b[32m10.1/10.1 MB\u001b[0m \u001b[31m86.5 MB/s\u001b[0m eta \u001b[36m0:00:00\u001b[0m\n",
            "\u001b[2K   \u001b[90m━━━━━━━━━━━━━━━━━━━━━━━━━━━━━━━━━━━━━━━━\u001b[0m \u001b[32m69.1/69.1 MB\u001b[0m \u001b[31m10.7 MB/s\u001b[0m eta \u001b[36m0:00:00\u001b[0m\n",
            "\u001b[2K   \u001b[90m━━━━━━━━━━━━━━━━━━━━━━━━━━━━━━━━━━━━━━━━\u001b[0m \u001b[32m336.3/336.3 kB\u001b[0m \u001b[31m24.4 MB/s\u001b[0m eta \u001b[36m0:00:00\u001b[0m\n",
            "\u001b[2K   \u001b[90m━━━━━━━━━━━━━━━━━━━━━━━━━━━━━━━━━━━━━━━━\u001b[0m \u001b[32m3.0/3.0 MB\u001b[0m \u001b[31m78.9 MB/s\u001b[0m eta \u001b[36m0:00:00\u001b[0m\n",
            "\u001b[?25h  Building wheel for google-search-results (setup.py) ... \u001b[?25l\u001b[?25hdone\n"
          ]
        }
      ]
    },
    {
      "cell_type": "code",
      "source": [
        "import shutil\n",
        "shutil.unpack_archive(\"/content/some_data.zip\", \"/content/\")"
      ],
      "metadata": {
        "id": "lnN9P3ANIYrg"
      },
      "execution_count": 2,
      "outputs": []
    },
    {
      "cell_type": "markdown",
      "source": [
        "### 2.2.1 CSV Loader"
      ],
      "metadata": {
        "id": "D8SvATgyLloD"
      }
    },
    {
      "cell_type": "code",
      "execution_count": 3,
      "metadata": {
        "id": "laLon08dITuf"
      },
      "outputs": [],
      "source": [
        "from langchain_community.document_loaders.csv_loader import CSVLoader\n",
        "\n",
        "loader = CSVLoader(file_path=\"/content/some_data/penguins.csv\")\n",
        "\n",
        "data = loader.load()"
      ]
    },
    {
      "cell_type": "code",
      "source": [
        "type(data[0])"
      ],
      "metadata": {
        "colab": {
          "base_uri": "https://localhost:8080/",
          "height": 186
        },
        "id": "hPvLqzIFKCAg",
        "outputId": "69706712-8317-4dc4-d6b0-86d701f4c582"
      },
      "execution_count": 4,
      "outputs": [
        {
          "output_type": "execute_result",
          "data": {
            "text/plain": [
              "langchain_core.documents.base.Document"
            ],
            "text/html": [
              "<div style=\"max-width:800px; border: 1px solid var(--colab-border-color);\"><style>\n",
              "      pre.function-repr-contents {\n",
              "        overflow-x: auto;\n",
              "        padding: 8px 12px;\n",
              "        max-height: 500px;\n",
              "      }\n",
              "\n",
              "      pre.function-repr-contents.function-repr-contents-collapsed {\n",
              "        cursor: pointer;\n",
              "        max-height: 100px;\n",
              "      }\n",
              "    </style>\n",
              "    <pre style=\"white-space: initial; background:\n",
              "         var(--colab-secondary-surface-color); padding: 8px 12px;\n",
              "         border-bottom: 1px solid var(--colab-border-color);\"><b>langchain_core.documents.base.Document</b><br/>def __init__(page_content: str, **kwargs: Any) -&gt; None</pre><pre class=\"function-repr-contents function-repr-contents-collapsed\" style=\"\"><a class=\"filepath\" style=\"display:none\" href=\"#\">/usr/local/lib/python3.10/dist-packages/langchain_core/documents/base.py</a>Class for storing a piece of text and associated metadata.\n",
              "\n",
              "Example:\n",
              "\n",
              "    .. code-block:: python\n",
              "\n",
              "        from langchain_core.documents import Document\n",
              "\n",
              "        document = Document(\n",
              "            page_content=&quot;Hello, world!&quot;,\n",
              "            metadata={&quot;source&quot;: &quot;https://example.com&quot;}\n",
              "        )</pre>\n",
              "      <script>\n",
              "      if (google.colab.kernel.accessAllowed && google.colab.files && google.colab.files.view) {\n",
              "        for (const element of document.querySelectorAll('.filepath')) {\n",
              "          element.style.display = 'block'\n",
              "          element.onclick = (event) => {\n",
              "            event.preventDefault();\n",
              "            event.stopPropagation();\n",
              "            google.colab.files.view(element.textContent, 262);\n",
              "          };\n",
              "        }\n",
              "      }\n",
              "      for (const element of document.querySelectorAll('.function-repr-contents')) {\n",
              "        element.onclick = (event) => {\n",
              "          event.preventDefault();\n",
              "          event.stopPropagation();\n",
              "          element.classList.toggle('function-repr-contents-collapsed');\n",
              "        };\n",
              "      }\n",
              "      </script>\n",
              "      </div>"
            ]
          },
          "metadata": {},
          "execution_count": 4
        }
      ]
    },
    {
      "cell_type": "code",
      "source": [
        "data[0]"
      ],
      "metadata": {
        "colab": {
          "base_uri": "https://localhost:8080/"
        },
        "id": "e6vTO4B9Kqrj",
        "outputId": "f27ef83d-ff9f-42e6-84ff-7f94fcd9dd49"
      },
      "execution_count": 5,
      "outputs": [
        {
          "output_type": "execute_result",
          "data": {
            "text/plain": [
              "Document(metadata={'source': '/content/some_data/penguins.csv', 'row': 0}, page_content='species: Adelie\\nisland: Torgersen\\nbill_length_mm: 39.1\\nbill_depth_mm: 18.7\\nflipper_length_mm: 181\\nbody_mass_g: 3750\\nsex: MALE')"
            ]
          },
          "metadata": {},
          "execution_count": 5
        }
      ]
    },
    {
      "cell_type": "code",
      "source": [
        "data[0].page_content"
      ],
      "metadata": {
        "colab": {
          "base_uri": "https://localhost:8080/",
          "height": 36
        },
        "id": "Lk_2lDuUKxc6",
        "outputId": "3953e951-4ac3-4b25-d04f-2eaa85564be5"
      },
      "execution_count": 6,
      "outputs": [
        {
          "output_type": "execute_result",
          "data": {
            "text/plain": [
              "'species: Adelie\\nisland: Torgersen\\nbill_length_mm: 39.1\\nbill_depth_mm: 18.7\\nflipper_length_mm: 181\\nbody_mass_g: 3750\\nsex: MALE'"
            ],
            "application/vnd.google.colaboratory.intrinsic+json": {
              "type": "string"
            }
          },
          "metadata": {},
          "execution_count": 6
        }
      ]
    },
    {
      "cell_type": "code",
      "source": [
        "print(data[0].page_content)"
      ],
      "metadata": {
        "colab": {
          "base_uri": "https://localhost:8080/"
        },
        "id": "YDdX0pDoK5nz",
        "outputId": "a265f86e-3b5b-413f-c332-ef13328c4264"
      },
      "execution_count": 7,
      "outputs": [
        {
          "output_type": "stream",
          "name": "stdout",
          "text": [
            "species: Adelie\n",
            "island: Torgersen\n",
            "bill_length_mm: 39.1\n",
            "bill_depth_mm: 18.7\n",
            "flipper_length_mm: 181\n",
            "body_mass_g: 3750\n",
            "sex: MALE\n"
          ]
        }
      ]
    },
    {
      "cell_type": "code",
      "source": [
        "print(data[2].metadata)"
      ],
      "metadata": {
        "colab": {
          "base_uri": "https://localhost:8080/"
        },
        "id": "iG8AYUp9K6_x",
        "outputId": "84cd09c2-92ba-445a-fa50-26d07f556627"
      },
      "execution_count": 8,
      "outputs": [
        {
          "output_type": "stream",
          "name": "stdout",
          "text": [
            "{'source': '/content/some_data/penguins.csv', 'row': 2}\n"
          ]
        }
      ]
    },
    {
      "cell_type": "markdown",
      "source": [
        "### 2.2.2 HTML Loader"
      ],
      "metadata": {
        "id": "AMNbYLZXLs8y"
      }
    },
    {
      "cell_type": "code",
      "source": [
        "from langchain_community.document_loaders import BSHTMLLoader"
      ],
      "metadata": {
        "id": "NcmUwh1aLAo0"
      },
      "execution_count": 9,
      "outputs": []
    },
    {
      "cell_type": "code",
      "source": [
        "loader= BSHTMLLoader(\"/content/some_data/some_website.html\")\n",
        "data= loader.load()\n",
        "\n",
        "data[0]"
      ],
      "metadata": {
        "colab": {
          "base_uri": "https://localhost:8080/"
        },
        "id": "RRzmtI94MWwr",
        "outputId": "41846a73-2b58-4b76-a1bd-c9090a53da66"
      },
      "execution_count": 10,
      "outputs": [
        {
          "output_type": "execute_result",
          "data": {
            "text/plain": [
              "Document(metadata={'source': '/content/some_data/some_website.html', 'title': ''}, page_content='Heading 1')"
            ]
          },
          "metadata": {},
          "execution_count": 10
        }
      ]
    },
    {
      "cell_type": "code",
      "source": [
        "data[0].page_content"
      ],
      "metadata": {
        "colab": {
          "base_uri": "https://localhost:8080/",
          "height": 36
        },
        "id": "BI-6TKBDMndF",
        "outputId": "715c9ad1-73fd-4a52-c42b-6cef93af10f2"
      },
      "execution_count": 11,
      "outputs": [
        {
          "output_type": "execute_result",
          "data": {
            "text/plain": [
              "'Heading 1'"
            ],
            "application/vnd.google.colaboratory.intrinsic+json": {
              "type": "string"
            }
          },
          "metadata": {},
          "execution_count": 11
        }
      ]
    },
    {
      "cell_type": "code",
      "source": [
        "print(data[0].page_content)"
      ],
      "metadata": {
        "colab": {
          "base_uri": "https://localhost:8080/"
        },
        "id": "O-1nHbmSMs1O",
        "outputId": "0e01d57c-2cda-4a36-d820-ad3efe773c82"
      },
      "execution_count": 12,
      "outputs": [
        {
          "output_type": "stream",
          "name": "stdout",
          "text": [
            "Heading 1\n"
          ]
        }
      ]
    },
    {
      "cell_type": "markdown",
      "source": [
        "### 2.2.3 PDF Loader"
      ],
      "metadata": {
        "id": "BxHVbRoNM0RN"
      }
    },
    {
      "cell_type": "code",
      "source": [
        "from langchain_community.document_loaders import PyPDFLoader\n",
        "\n",
        "loader= PyPDFLoader(\"/content/some_data/SomeReport.pdf\")\n",
        "data= loader.load()\n",
        "data[0]"
      ],
      "metadata": {
        "colab": {
          "base_uri": "https://localhost:8080/"
        },
        "id": "JxIdmXqJMuDu",
        "outputId": "f582cd52-d778-48c2-878b-a38f2448169f"
      },
      "execution_count": 13,
      "outputs": [
        {
          "output_type": "execute_result",
          "data": {
            "text/plain": [
              "Document(metadata={'source': '/content/some_data/SomeReport.pdf', 'page': 0}, page_content='Thisisthefirst linePDF.ThisisthesecondlineinthePDF.ThisisthethirdlineinthePDF.')"
            ]
          },
          "metadata": {},
          "execution_count": 13
        }
      ]
    },
    {
      "cell_type": "code",
      "source": [
        "pages= loader.load()\n",
        "pages"
      ],
      "metadata": {
        "colab": {
          "base_uri": "https://localhost:8080/"
        },
        "id": "WQ652JDONNEu",
        "outputId": "d3a78759-3a60-4868-f83c-15c83c648f8b"
      },
      "execution_count": 14,
      "outputs": [
        {
          "output_type": "execute_result",
          "data": {
            "text/plain": [
              "[Document(metadata={'source': '/content/some_data/SomeReport.pdf', 'page': 0}, page_content='Thisisthefirst linePDF.ThisisthesecondlineinthePDF.ThisisthethirdlineinthePDF.')]"
            ]
          },
          "metadata": {},
          "execution_count": 14
        }
      ]
    },
    {
      "cell_type": "code",
      "source": [
        "len(pages)"
      ],
      "metadata": {
        "colab": {
          "base_uri": "https://localhost:8080/"
        },
        "id": "gvSWP5BoOE5Y",
        "outputId": "f540ca45-0d87-4a19-e6e9-f47793e079b4"
      },
      "execution_count": 15,
      "outputs": [
        {
          "output_type": "execute_result",
          "data": {
            "text/plain": [
              "1"
            ]
          },
          "metadata": {},
          "execution_count": 15
        }
      ]
    },
    {
      "cell_type": "code",
      "source": [
        "pages[0].page_content"
      ],
      "metadata": {
        "colab": {
          "base_uri": "https://localhost:8080/",
          "height": 36
        },
        "id": "dDHVgXP_OGOJ",
        "outputId": "d894de82-779f-4fbe-a1ce-9d90230fa536"
      },
      "execution_count": 16,
      "outputs": [
        {
          "output_type": "execute_result",
          "data": {
            "text/plain": [
              "'Thisisthefirst linePDF.ThisisthesecondlineinthePDF.ThisisthethirdlineinthePDF.'"
            ],
            "application/vnd.google.colaboratory.intrinsic+json": {
              "type": "string"
            }
          },
          "metadata": {},
          "execution_count": 16
        }
      ]
    },
    {
      "cell_type": "code",
      "source": [
        "print(pages[0].page_content)"
      ],
      "metadata": {
        "colab": {
          "base_uri": "https://localhost:8080/"
        },
        "id": "Q5fr_hqZOIHQ",
        "outputId": "4e35a382-8e21-4e0b-c284-1c2f34f6b45d"
      },
      "execution_count": 17,
      "outputs": [
        {
          "output_type": "stream",
          "name": "stdout",
          "text": [
            "Thisisthefirst linePDF.ThisisthesecondlineinthePDF.ThisisthethirdlineinthePDF.\n"
          ]
        }
      ]
    },
    {
      "cell_type": "code",
      "source": [
        "print(pages[0].page_content.replace('linePDF', \"\") )"
      ],
      "metadata": {
        "colab": {
          "base_uri": "https://localhost:8080/"
        },
        "id": "dM-2joEIOKQQ",
        "outputId": "b606e9f2-f827-41fd-9303-a6fa7ee3789a"
      },
      "execution_count": 18,
      "outputs": [
        {
          "output_type": "stream",
          "name": "stdout",
          "text": [
            "Thisisthefirst .ThisisthesecondlineinthePDF.ThisisthethirdlineinthePDF.\n"
          ]
        }
      ]
    },
    {
      "cell_type": "markdown",
      "source": [
        "## 2.2 Document Loaders- Integrations"
      ],
      "metadata": {
        "id": "fVUYRoThO2aX"
      }
    },
    {
      "cell_type": "code",
      "source": [
        "from langchain_community.document_loaders import HNLoader\n",
        "\n",
        "loader= HNLoader(\"https://news.ycombinator.com/item?id=36697119\")\n",
        "\n",
        "data= loader.load()\n",
        "data[0]"
      ],
      "metadata": {
        "colab": {
          "base_uri": "https://localhost:8080/"
        },
        "id": "P87NgEosOcsV",
        "outputId": "5974a214-69f5-4d03-9550-587f3725d7cd"
      },
      "execution_count": 19,
      "outputs": [
        {
          "output_type": "stream",
          "name": "stderr",
          "text": [
            "WARNING:langchain_community.utils.user_agent:USER_AGENT environment variable not set, consider setting it to identify your requests.\n"
          ]
        },
        {
          "output_type": "execute_result",
          "data": {
            "text/plain": [
              "Document(metadata={'source': 'https://news.ycombinator.com/item?id=36697119', 'title': 'NotebookLM: An AI Notebook'}, page_content='endisneigh on July 12, 2023  \\n             | next [–] \\n\\nI wish the folks who clearly do not like Google would just not use their products instead of spamming every thread about how they will kill the product, true or not.——Anyway,It’s not clear which model they’re using for this. I assume whatever Bard is using, but who knows. This is relevant because depending on the intended experience the latency will matter.Overall it’s not a bad idea, but I do wonder what the monetization path will be for Google. I imagine this will be part of workspace. Perhaps they will add more tiers to include these offerings.I wish they shared a bit about how this will be differentiated from Bard. Is this simply a new front end to Bard? It’s really an open question. I haven’t seen many products that use LLMs that are better than the prompt response UX.The most interesting thing about this blog post is the “source grounding.” I’m curious if there’s actual engineering behind it, or is it prompt tweaking contextualized behind the scenes on a given doc.')"
            ]
          },
          "metadata": {},
          "execution_count": 19
        }
      ]
    },
    {
      "cell_type": "code",
      "source": [
        "print(data[0].page_content)"
      ],
      "metadata": {
        "colab": {
          "base_uri": "https://localhost:8080/"
        },
        "id": "saAnkmHWeDkG",
        "outputId": "634be4a6-5e54-4f6c-ef94-d984a2a5884e"
      },
      "execution_count": 20,
      "outputs": [
        {
          "output_type": "stream",
          "name": "stdout",
          "text": [
            "endisneigh on July 12, 2023  \n",
            "             | next [–] \n",
            "\n",
            "I wish the folks who clearly do not like Google would just not use their products instead of spamming every thread about how they will kill the product, true or not.——Anyway,It’s not clear which model they’re using for this. I assume whatever Bard is using, but who knows. This is relevant because depending on the intended experience the latency will matter.Overall it’s not a bad idea, but I do wonder what the monetization path will be for Google. I imagine this will be part of workspace. Perhaps they will add more tiers to include these offerings.I wish they shared a bit about how this will be differentiated from Bard. Is this simply a new front end to Bard? It’s really an open question. I haven’t seen many products that use LLMs that are better than the prompt response UX.The most interesting thing about this blog post is the “source grounding.” I’m curious if there’s actual engineering behind it, or is it prompt tweaking contextualized behind the scenes on a given doc.\n"
          ]
        }
      ]
    },
    {
      "cell_type": "code",
      "source": [
        "print(data[0].metadata)"
      ],
      "metadata": {
        "colab": {
          "base_uri": "https://localhost:8080/"
        },
        "id": "eAOcNASReyHD",
        "outputId": "a6e36213-ea87-46f6-d13c-d1149799b1b1"
      },
      "execution_count": 21,
      "outputs": [
        {
          "output_type": "stream",
          "name": "stdout",
          "text": [
            "{'source': 'https://news.ycombinator.com/item?id=36697119', 'title': 'NotebookLM: An AI Notebook'}\n"
          ]
        }
      ]
    },
    {
      "cell_type": "code",
      "source": [
        "from datetime import datetime\n",
        "import transformers, torch\n",
        "\n",
        "from langchain.prompts import (\n",
        "    ChatPromptTemplate,\n",
        "    PromptTemplate,\n",
        "    SystemMessagePromptTemplate,\n",
        "    AIMessagePromptTemplate,\n",
        "    HumanMessagePromptTemplate\n",
        ")\n",
        "\n",
        "from langchain.output_parsers import DatetimeOutputParser\n",
        "\n",
        "from huggingface_hub import login"
      ],
      "metadata": {
        "id": "grAp3-xwfO_G"
      },
      "execution_count": 22,
      "outputs": []
    },
    {
      "cell_type": "code",
      "source": [
        "from google.colab import userdata\n",
        "HUGGINGFACEHUB_API_TOKEN= userdata.get('HUGGING_FACE_API_KEY')\n",
        "\n",
        "login(token = HUGGINGFACEHUB_API_TOKEN)\n"
      ],
      "metadata": {
        "id": "s62GsmWqgkTU"
      },
      "execution_count": 23,
      "outputs": []
    },
    {
      "cell_type": "code",
      "source": [
        "human_prompt= HumanMessagePromptTemplate.from_template(\"Please give me a short summary od the folllowing Hacker News commens:\\n{commens}\")\n",
        "\n",
        "chat_prompt= ChatPromptTemplate.from_messages([human_prompt])"
      ],
      "metadata": {
        "id": "0X5NPsxCgkXh"
      },
      "execution_count": 24,
      "outputs": []
    },
    {
      "cell_type": "code",
      "source": [
        "from langchain_huggingface import ChatHuggingFace, HuggingFacePipeline"
      ],
      "metadata": {
        "id": "2Lw_H0CSjjiW"
      },
      "execution_count": 25,
      "outputs": []
    },
    {
      "cell_type": "code",
      "source": [
        "model_id = \"meta-llama/Llama-3.2-1B-Instruct\"\n",
        "pipe = transformers.pipeline(\n",
        "    \"text-generation\",\n",
        "    model=model_id,\n",
        "    torch_dtype=torch.bfloat16,\n",
        "    device_map=\"auto\",\n",
        "    max_new_tokens=2048,\n",
        "    do_sample=False,\n",
        "    repetition_penalty=1.03\n",
        ")\n",
        "pipe.tokenizer.pad_token = pipe.tokenizer.eos_token  # Set pad_token to eos_token\n",
        "\n",
        "model_kwargs = {'temperature':0.3}\n",
        "llm = HuggingFacePipeline(pipeline = pipe, model_kwargs = model_kwargs)\n",
        "\n",
        "model= ChatHuggingFace(llm=llm)"
      ],
      "metadata": {
        "colab": {
          "base_uri": "https://localhost:8080/",
          "height": 356,
          "referenced_widgets": [
            "e918867f8d9d49a684559c5a9ba758a6",
            "c27c1ce9ecd344259840d04dce028426",
            "88f335f2792e42678024b9fc922ccf27",
            "9fb05be5b25f45398c22e1ffd7bbb1a9",
            "f5a4521b9d8d42ef9da7d719f3d2111b",
            "5240d6580d044d7eb5d9abe5b924bbed",
            "5fbcd673721541c1802bded832145dda",
            "3c50afef5ac4433ab05935d449aa0363",
            "d0dea53156144a2cab29d729732be431",
            "66b468ff2d664974b62a7b6ae5d197f2",
            "95d859c382ec4676b2e5dc3e6ceae6ab",
            "cccd08e9487746028c7826a501e02bd5",
            "f43b078f6c434ae1a51c7e3dad93ac73",
            "452805daf1db40ba8cd1bf9b38420cc1",
            "8d8d79c087ed483bb3367dbbed406836",
            "56525ee82f7a48c5a1b774a9eac538bf",
            "ee855fe9ca2646a09c1d9e6381aa41f4",
            "ea95cc25f4614c8da6788841b1236aea",
            "ee93fd92711a4511b30832f77d12dfcc",
            "f3279586eb5e402f98350ce0989cff67",
            "1e57bad3ff7c40f29fd3dcfb6b14fb37",
            "e9dd647fe6034d44acfa14683e7f2009",
            "aa13b116624e41fd985e87b6dc08b595",
            "160a691db2894a9a84b94acfebf885f5",
            "4f0a8d42688d430c875a53e7087055bc",
            "8f1d402dd5314395a310e7cc8ecdedb6",
            "20a66f33babc450fa5abf6598ccf451f",
            "58713fefc7f5405bbdc42bb8c6a19013",
            "b27bb89532ab4d84969368d20b391e15",
            "4cacecb9b12145b183ecf7c6ff9cf4a1",
            "fbe218f7e5814b76bfa6dfd4843d5a32",
            "b26ff8703c53488dbb74c16248a19b31",
            "1e8635b4cf574fbea841b6d4e692acc0",
            "efc5cdde84e4432a9747e807a667e5ca",
            "9081a197c5774d4cb34e1657bf8c95cf",
            "8a7c8fe7e43143f5a9bd82597ea531fd",
            "0e435ab972b04acd9765a37aa26e81d5",
            "28d7bc93f16248ac81e5d2aff07298f2",
            "5d19d428197e42869e2ce6f33adef0e8",
            "574a1b0c05e14f3da1f3780ec19cddd2",
            "f4fd8ce9e6e14f1396f11f788d8165d3",
            "0c5d04cecb3e40b896ab57d547dcd8a6",
            "8240275ae84c418d9b45f505c8f9ee2b",
            "a3ddfa2256e74b02b382726b87e1df2d",
            "eb14748d1b6949828c9ba64896844420",
            "624a8508cd57434383bd652f04bb47cd",
            "0c143ebe7faf4a749018e1689f6a19ed",
            "2af84338d7f04dbda5cd5e6cd8dec3ae",
            "d3380dfd7b164196919bf331e3116132",
            "9a192c5221ef4d71808c7dae3e9fc40f",
            "6455e9e3446b4dde900db1666c7af147",
            "bb0f9580a7dc4f798d847807444218f3",
            "86e1412b5dc94bfdb2930b97df0b8986",
            "fae304acc3054bd38c230427a3d38322",
            "71fc6c8d5aeb495a9ad6f9da6222395f",
            "3885ea1c97f54546a2028ee849f63cad",
            "0203ce2a78aa4da8af797ffa38b69b65",
            "017bac886a1144b987823ed16779ab85",
            "c564979e574448808784b8e68f21f351",
            "c1cf61358ea747b089c594f4f7b0563d",
            "be4f3b8592794965b419a67c173ad16a",
            "76d9642da17045c6bb63ab2e22de335d",
            "6f1bcc4a9b824aa8b9091e1916f78bb1",
            "770208f404964f5789fe27adcf6add08",
            "9e65b064a05b49c0b4b3bbc171b9bea1",
            "c9453fce890141488e79b5c91f1a9c97"
          ]
        },
        "id": "TTeQ3MUWgG0U",
        "outputId": "c21ea6ab-1491-4809-9cdd-c88ae838f6f4"
      },
      "execution_count": 26,
      "outputs": [
        {
          "output_type": "stream",
          "name": "stderr",
          "text": [
            "/usr/local/lib/python3.10/dist-packages/huggingface_hub/utils/_auth.py:94: UserWarning: \n",
            "The secret `HF_TOKEN` does not exist in your Colab secrets.\n",
            "To authenticate with the Hugging Face Hub, create a token in your settings tab (https://huggingface.co/settings/tokens), set it as secret in your Google Colab and restart your session.\n",
            "You will be able to reuse this secret in all of your notebooks.\n",
            "Please note that authentication is recommended but still optional to access public models or datasets.\n",
            "  warnings.warn(\n"
          ]
        },
        {
          "output_type": "display_data",
          "data": {
            "text/plain": [
              "config.json:   0%|          | 0.00/877 [00:00<?, ?B/s]"
            ],
            "application/vnd.jupyter.widget-view+json": {
              "version_major": 2,
              "version_minor": 0,
              "model_id": "e918867f8d9d49a684559c5a9ba758a6"
            }
          },
          "metadata": {}
        },
        {
          "output_type": "display_data",
          "data": {
            "text/plain": [
              "model.safetensors:   0%|          | 0.00/2.47G [00:00<?, ?B/s]"
            ],
            "application/vnd.jupyter.widget-view+json": {
              "version_major": 2,
              "version_minor": 0,
              "model_id": "cccd08e9487746028c7826a501e02bd5"
            }
          },
          "metadata": {}
        },
        {
          "output_type": "display_data",
          "data": {
            "text/plain": [
              "generation_config.json:   0%|          | 0.00/189 [00:00<?, ?B/s]"
            ],
            "application/vnd.jupyter.widget-view+json": {
              "version_major": 2,
              "version_minor": 0,
              "model_id": "aa13b116624e41fd985e87b6dc08b595"
            }
          },
          "metadata": {}
        },
        {
          "output_type": "display_data",
          "data": {
            "text/plain": [
              "tokenizer_config.json:   0%|          | 0.00/54.5k [00:00<?, ?B/s]"
            ],
            "application/vnd.jupyter.widget-view+json": {
              "version_major": 2,
              "version_minor": 0,
              "model_id": "efc5cdde84e4432a9747e807a667e5ca"
            }
          },
          "metadata": {}
        },
        {
          "output_type": "display_data",
          "data": {
            "text/plain": [
              "tokenizer.json:   0%|          | 0.00/9.09M [00:00<?, ?B/s]"
            ],
            "application/vnd.jupyter.widget-view+json": {
              "version_major": 2,
              "version_minor": 0,
              "model_id": "eb14748d1b6949828c9ba64896844420"
            }
          },
          "metadata": {}
        },
        {
          "output_type": "display_data",
          "data": {
            "text/plain": [
              "special_tokens_map.json:   0%|          | 0.00/296 [00:00<?, ?B/s]"
            ],
            "application/vnd.jupyter.widget-view+json": {
              "version_major": 2,
              "version_minor": 0,
              "model_id": "3885ea1c97f54546a2028ee849f63cad"
            }
          },
          "metadata": {}
        },
        {
          "output_type": "stream",
          "name": "stderr",
          "text": [
            "Device set to use cuda:0\n"
          ]
        }
      ]
    },
    {
      "cell_type": "code",
      "source": [
        "result= model(chat_prompt.format_prompt(commens=data[0].page_content).to_messages())\n",
        "\n",
        "result.content"
      ],
      "metadata": {
        "colab": {
          "base_uri": "https://localhost:8080/",
          "height": 273
        },
        "id": "hVnl-vrOhlIo",
        "outputId": "4d460acd-2b1f-4586-e28b-0c4d6f8adef7"
      },
      "execution_count": 27,
      "outputs": [
        {
          "output_type": "stream",
          "name": "stderr",
          "text": [
            "<ipython-input-27-8c0d8d6dc93a>:1: LangChainDeprecationWarning: The method `BaseChatModel.__call__` was deprecated in langchain-core 0.1.7 and will be removed in 1.0. Use :meth:`~invoke` instead.\n",
            "  result= model(chat_prompt.format_prompt(commens=data[0].page_content).to_messages())\n",
            "/usr/local/lib/python3.10/dist-packages/transformers/generation/configuration_utils.py:628: UserWarning: `do_sample` is set to `False`. However, `temperature` is set to `0.6` -- this flag is only used in sample-based generation modes. You should set `do_sample=True` or unset `temperature`.\n",
            "  warnings.warn(\n",
            "/usr/local/lib/python3.10/dist-packages/transformers/generation/configuration_utils.py:633: UserWarning: `do_sample` is set to `False`. However, `top_p` is set to `0.9` -- this flag is only used in sample-based generation modes. You should set `do_sample=True` or unset `top_p`.\n",
            "  warnings.warn(\n",
            "Setting `pad_token_id` to `eos_token_id`:128001 for open-end generation.\n"
          ]
        },
        {
          "output_type": "execute_result",
          "data": {
            "text/plain": [
              "'<|begin_of_text|><|start_header_id|>system<|end_header_id|>\\n\\nCutting Knowledge Date: December 2023\\nToday Date: 11 Dec 2024\\n\\n<|eot_id|><|start_header_id|>user<|end_header_id|>\\n\\nPlease give me a short summary od the folllowing Hacker News commens:\\nendisneigh on July 12, 2023  \\n             | next [–] \\n\\nI wish the folks who clearly do not like Google would just not use their products instead of spamming every thread about how they will kill the product, true or not.——Anyway,It’s not clear which model they’re using for this. I assume whatever Bard is using, but who knows. This is relevant because depending on the intended experience the latency will matter.Overall it’s not a bad idea, but I do wonder what the monetization path will be for Google. I imagine this will be part of workspace. Perhaps they will add more tiers to include these offerings.I wish they shared a bit about how this will be differentiated from Bard. Is this simply a new front end to Bard? It’s really an open question. I haven’t seen many products that use LLMs that are better than the prompt response UX.The most interesting thing about this blog post is the “source grounding.” I’m curious if there’s actual engineering behind it, or is it prompt tweaking contextualized behind the scenes on a given doc.<|eot_id|><|start_header_id|>assistant<|end_header_id|>\\n\\nThe Hacker News article discusses the release of Google\\'s Bard AI tool, a conversational interface that allows users to interact with AI models like Google Assistant. The article highlights several points:\\n\\n1. **New interface**: The author notes that the exact model being used by Bard is unclear, but it\\'s likely Google\\'s own model, possibly a variant of the BERT (Bidirectional Encoder Representations from Transformers) architecture.\\n2. **Latency**: The author expresses concern about the potential impact on user experience, as latency can affect the overall performance of the tool.\\n3. **Monetization**: The author speculates that Google may use Bard as a platform for offering various services, including workspace integration, and plans to add more tiers to differentiate it from existing offerings.\\n4. **Source grounding**: The author questions whether the \"source grounding\" refers to the actual engineering behind the tool or if it\\'s just a feature tweak to the prompt response UX.\\n5. **Comparison to other LLMs**: The author notes that Bard\\'s performance is comparable to other LLMs, but wonders if it\\'s truly better than the prompt response UX.\\n\\nOverall, the article suggests that Google is exploring new ways to integrate AI into its products, including Bard, and is likely to offer various services and features in the future.'"
            ],
            "application/vnd.google.colaboratory.intrinsic+json": {
              "type": "string"
            }
          },
          "metadata": {},
          "execution_count": 27
        }
      ]
    },
    {
      "cell_type": "code",
      "source": [
        "print(result.content)"
      ],
      "metadata": {
        "colab": {
          "base_uri": "https://localhost:8080/"
        },
        "id": "VIiBOlWVmDO_",
        "outputId": "2acad540-6a19-4954-b4ce-892ad2eb2b80"
      },
      "execution_count": 28,
      "outputs": [
        {
          "output_type": "stream",
          "name": "stdout",
          "text": [
            "<|begin_of_text|><|start_header_id|>system<|end_header_id|>\n",
            "\n",
            "Cutting Knowledge Date: December 2023\n",
            "Today Date: 11 Dec 2024\n",
            "\n",
            "<|eot_id|><|start_header_id|>user<|end_header_id|>\n",
            "\n",
            "Please give me a short summary od the folllowing Hacker News commens:\n",
            "endisneigh on July 12, 2023  \n",
            "             | next [–] \n",
            "\n",
            "I wish the folks who clearly do not like Google would just not use their products instead of spamming every thread about how they will kill the product, true or not.——Anyway,It’s not clear which model they’re using for this. I assume whatever Bard is using, but who knows. This is relevant because depending on the intended experience the latency will matter.Overall it’s not a bad idea, but I do wonder what the monetization path will be for Google. I imagine this will be part of workspace. Perhaps they will add more tiers to include these offerings.I wish they shared a bit about how this will be differentiated from Bard. Is this simply a new front end to Bard? It’s really an open question. I haven’t seen many products that use LLMs that are better than the prompt response UX.The most interesting thing about this blog post is the “source grounding.” I’m curious if there’s actual engineering behind it, or is it prompt tweaking contextualized behind the scenes on a given doc.<|eot_id|><|start_header_id|>assistant<|end_header_id|>\n",
            "\n",
            "The Hacker News article discusses the release of Google's Bard AI tool, a conversational interface that allows users to interact with AI models like Google Assistant. The article highlights several points:\n",
            "\n",
            "1. **New interface**: The author notes that the exact model being used by Bard is unclear, but it's likely Google's own model, possibly a variant of the BERT (Bidirectional Encoder Representations from Transformers) architecture.\n",
            "2. **Latency**: The author expresses concern about the potential impact on user experience, as latency can affect the overall performance of the tool.\n",
            "3. **Monetization**: The author speculates that Google may use Bard as a platform for offering various services, including workspace integration, and plans to add more tiers to differentiate it from existing offerings.\n",
            "4. **Source grounding**: The author questions whether the \"source grounding\" refers to the actual engineering behind the tool or if it's just a feature tweak to the prompt response UX.\n",
            "5. **Comparison to other LLMs**: The author notes that Bard's performance is comparable to other LLMs, but wonders if it's truly better than the prompt response UX.\n",
            "\n",
            "Overall, the article suggests that Google is exploring new ways to integrate AI into its products, including Bard, and is likely to offer various services and features in the future.\n"
          ]
        }
      ]
    },
    {
      "cell_type": "markdown",
      "source": [
        "## 2.3 Document Loading-Exercise\n",
        "\n",
        "### Answering a Single Question\n",
        "\n",
        "Using the Wikipedia Document Loader Integration,can you make a function that accepts a famous historical figure name and a question about them, and then uses a ChatModel to answer questions with the additional context?\n",
        "\n"
      ],
      "metadata": {
        "id": "rArQh_lCoNxL"
      }
    },
    {
      "cell_type": "code",
      "source": [
        "!pip install wikipedia"
      ],
      "metadata": {
        "colab": {
          "base_uri": "https://localhost:8080/"
        },
        "id": "Stdrx2tmmMQr",
        "outputId": "c3067811-7757-45b0-e2ab-d41534ae6b96"
      },
      "execution_count": 30,
      "outputs": [
        {
          "output_type": "stream",
          "name": "stdout",
          "text": [
            "Collecting wikipedia\n",
            "  Downloading wikipedia-1.4.0.tar.gz (27 kB)\n",
            "  Preparing metadata (setup.py) ... \u001b[?25l\u001b[?25hdone\n",
            "Requirement already satisfied: beautifulsoup4 in /usr/local/lib/python3.10/dist-packages (from wikipedia) (4.12.3)\n",
            "Requirement already satisfied: requests<3.0.0,>=2.0.0 in /usr/local/lib/python3.10/dist-packages (from wikipedia) (2.32.3)\n",
            "Requirement already satisfied: charset-normalizer<4,>=2 in /usr/local/lib/python3.10/dist-packages (from requests<3.0.0,>=2.0.0->wikipedia) (3.4.0)\n",
            "Requirement already satisfied: idna<4,>=2.5 in /usr/local/lib/python3.10/dist-packages (from requests<3.0.0,>=2.0.0->wikipedia) (3.10)\n",
            "Requirement already satisfied: urllib3<3,>=1.21.1 in /usr/local/lib/python3.10/dist-packages (from requests<3.0.0,>=2.0.0->wikipedia) (2.2.3)\n",
            "Requirement already satisfied: certifi>=2017.4.17 in /usr/local/lib/python3.10/dist-packages (from requests<3.0.0,>=2.0.0->wikipedia) (2024.8.30)\n",
            "Requirement already satisfied: soupsieve>1.2 in /usr/local/lib/python3.10/dist-packages (from beautifulsoup4->wikipedia) (2.6)\n",
            "Building wheels for collected packages: wikipedia\n",
            "  Building wheel for wikipedia (setup.py) ... \u001b[?25l\u001b[?25hdone\n",
            "  Created wheel for wikipedia: filename=wikipedia-1.4.0-py3-none-any.whl size=11679 sha256=ebbfac6b419f610b1e07e9b8a2a7a28424b68f73268a8fbda00f839e90017960\n",
            "  Stored in directory: /root/.cache/pip/wheels/5e/b6/c5/93f3dec388ae76edc830cb42901bb0232504dfc0df02fc50de\n",
            "Successfully built wikipedia\n",
            "Installing collected packages: wikipedia\n",
            "Successfully installed wikipedia-1.4.0\n"
          ]
        }
      ]
    },
    {
      "cell_type": "code",
      "source": [
        "from langchain.document_loaders import WikipediaLoader\n",
        "\n",
        "def answer_question_about(person_name,question):\n",
        "    # Get Wikipedia Article\n",
        "    docs = WikipediaLoader(query=person_name,load_max_docs=1)\n",
        "    context_text = docs.load()[0].page_content\n",
        "\n",
        "    # Connect to OpenAI Model\n",
        "    model = ChatHuggingFace(llm=llm)\n",
        "\n",
        "    # Ask Model Question\n",
        "    human_prompt = HumanMessagePromptTemplate.from_template('Answer this question\\n{question}, here is some extra context:\\n{document}')\n",
        "\n",
        "    # Assemble chat prompt\n",
        "    chat_prompt = ChatPromptTemplate.from_messages([human_prompt])\n",
        "\n",
        "    #result\n",
        "    result = model.invoke(chat_prompt.format_prompt(question=question,document=context_text).to_messages())\n",
        "\n",
        "    print(result.content)"
      ],
      "metadata": {
        "id": "v8t_wBlNpQ9y"
      },
      "execution_count": 31,
      "outputs": []
    },
    {
      "cell_type": "code",
      "source": [
        "answer_question_about(\"Claude Shannon\",\"When was he born?\")"
      ],
      "metadata": {
        "colab": {
          "base_uri": "https://localhost:8080/"
        },
        "id": "IITS5POkpczd",
        "outputId": "d52015ab-6766-4849-9a86-d7b1420a2de6"
      },
      "execution_count": 32,
      "outputs": [
        {
          "output_type": "stream",
          "name": "stderr",
          "text": [
            "/usr/local/lib/python3.10/dist-packages/transformers/generation/configuration_utils.py:628: UserWarning: `do_sample` is set to `False`. However, `temperature` is set to `0.6` -- this flag is only used in sample-based generation modes. You should set `do_sample=True` or unset `temperature`.\n",
            "  warnings.warn(\n",
            "/usr/local/lib/python3.10/dist-packages/transformers/generation/configuration_utils.py:633: UserWarning: `do_sample` is set to `False`. However, `top_p` is set to `0.9` -- this flag is only used in sample-based generation modes. You should set `do_sample=True` or unset `top_p`.\n",
            "  warnings.warn(\n",
            "Setting `pad_token_id` to `eos_token_id`:128001 for open-end generation.\n"
          ]
        },
        {
          "output_type": "stream",
          "name": "stdout",
          "text": [
            "<|begin_of_text|><|start_header_id|>system<|end_header_id|>\n",
            "\n",
            "Cutting Knowledge Date: December 2023\n",
            "Today Date: 11 Dec 2024\n",
            "\n",
            "<|eot_id|><|start_header_id|>user<|end_header_id|>\n",
            "\n",
            "Answer this question\n",
            "When was he born?, here is some extra context:\n",
            "Claude Elwood Shannon (April 30, 1916 – February 24, 2001) was an American mathematician, electrical engineer, computer scientist, cryptographer and inventor known as the \"father of information theory\" and as the \"father of the Information Age\". Shannon was the first to describe the Boolean gates (electronic circuits) that are essential to all digital electronic circuits, and was one of the founding fathers of artificial intelligence. Shannon is credited with laying the foundations of the Information Age.\n",
            "At the University of Michigan, Shannon dual degreed, graduating with a Bachelor of Science in both electrical engineering and mathematics in 1936. A 21-year-old master's degree student at the Massachusetts Institute of Technology (MIT) in electrical engineering, his thesis concerned switching circuit theory, demonstrating that electrical applications of Boolean algebra could construct any logical numerical relationship, thereby establishing the theory behind digital computing and digital circuits. The thesis has been claimed to be the most important master's thesis of all time, having also been called the \"birth certificate of the digital revolution\", and winning the 1939 Alfred Noble Prize. He then graduated with a PhD in mathematics from MIT in 1940, with his thesis focused on genetics, with it deriving important results, but it went unpublished.\n",
            "Shannon contributed to the field of cryptanalysis for national defense of the United States during World War II, including his fundamental work on codebreaking and secure telecommunications, writing a paper which is considered one of the foundational pieces of modern cryptography, with his work described as \"a turning point, and marked the closure of classical cryptography and the beginning of modern cryptography.\" The work of Shannon is the foundation of secret-key cryptography, including the work of Horst Feistel, the Data Encryption Standard (DES), Advanced Encryption Standard (AES), and more. As a result, Shannon has been called the \"founding father of modern cryptography\".\n",
            "His mathematical theory of communication laid the foundations for the field of information theory, with his famous paper being called the \"Magna Carta of the Information Age\" by Scientific American, along with his work being described as being at \"the heart of today's digital information technology\". Robert G. Gallager referred to the paper as a \"blueprint for the digital era\". Regarding the influence that Shannon had on the digital age, Solomon W. Golomb remarked \"It's like saying how much influence the inventor of the alphabet has had on literature.\" Shannon's theory is widely used and has been fundamental to the success of many scientific endeavors, such as the invention of the compact disc, the development of the Internet, feasibility of mobile phones, the understanding of black holes, and more, and is at the intersection of numerous important fields. Shannon also formally introduced the term \"bit\".\n",
            "Shannon made numerous contributions to the field of artificial intelligence, writing papers on programming a computer for chess, which have been immensely influential. His Theseus machine was the first electrical device to learn by trial and error, being one of the first examples of artificial intelligence. He also co-organized and participated in the Dartmouth workshop of 1956, considered the founding event of the field of artificial intelligence.\n",
            "Rodney Brooks declared that Shannon was the 20th century engineer who contributed the most to 21st century technologies, and Solomon W. Golomb described the intellectual achievement of Shannon as \"one of the greatest of the twentieth century\". His achievements are considered to be on par with those of Albert Einstein, Sir Isaac Newton, and Charles Darwin.\n",
            "\n",
            "\n",
            "== Biography ==\n",
            "\n",
            "\n",
            "=== Childhood ===\n",
            "The Shannon family lived in Gaylord, Michigan, and Claude was born in a hospital in nearby Petoskey. His father, Claude Sr. (1862–1934), was a businessman and, for a while, a<|eot_id|><|start_header_id|>assistant<|end_header_id|>\n",
            "\n",
            "Claude Elwood Shannon was born on April 30, 1916.\n"
          ]
        }
      ]
    },
    {
      "cell_type": "code",
      "source": [
        "answer_question_about(\"Sir Syed Ahmed Khan\",\"When was he born?\")"
      ],
      "metadata": {
        "colab": {
          "base_uri": "https://localhost:8080/"
        },
        "id": "duEX5hk1pgGP",
        "outputId": "cea5644a-b884-438f-e13f-92ce878db7df"
      },
      "execution_count": 34,
      "outputs": [
        {
          "output_type": "stream",
          "name": "stderr",
          "text": [
            "/usr/local/lib/python3.10/dist-packages/transformers/generation/configuration_utils.py:628: UserWarning: `do_sample` is set to `False`. However, `temperature` is set to `0.6` -- this flag is only used in sample-based generation modes. You should set `do_sample=True` or unset `temperature`.\n",
            "  warnings.warn(\n",
            "/usr/local/lib/python3.10/dist-packages/transformers/generation/configuration_utils.py:633: UserWarning: `do_sample` is set to `False`. However, `top_p` is set to `0.9` -- this flag is only used in sample-based generation modes. You should set `do_sample=True` or unset `top_p`.\n",
            "  warnings.warn(\n",
            "Setting `pad_token_id` to `eos_token_id`:128001 for open-end generation.\n"
          ]
        },
        {
          "output_type": "stream",
          "name": "stdout",
          "text": [
            "<|begin_of_text|><|start_header_id|>system<|end_header_id|>\n",
            "\n",
            "Cutting Knowledge Date: December 2023\n",
            "Today Date: 11 Dec 2024\n",
            "\n",
            "<|eot_id|><|start_header_id|>user<|end_header_id|>\n",
            "\n",
            "Answer this question\n",
            "When was he born?, here is some extra context:\n",
            "Sir Syed Ahmad Khan  (17 October 1817 – 27 March 1898), also spelled Sayyid Ahmad Khan, was an Indian Muslim reformer, philosopher, and educationist in nineteenth-century British India. \n",
            "Though initially espousing Hindu–Muslim unity, he later became the pioneer of Muslim nationalism in India and is widely credited as the father of the two-nation theory, which formed the basis of the Pakistan movement. Born into a family with strong ties to the Mughal court, Ahmad studied science and the Quran within the court. He was awarded an honorary LLD from the University of Edinburgh in 1889.\n",
            "In 1838, Syed Ahmad entered the service of East India Company and went on to become a judge at a Small Causes Court in 1867, retiring from this position in 1876. During the Indian Mutiny of 1857, he remained loyal to the British Raj and was noted for his actions in saving European lives. After the rebellion, he penned the booklet The Causes of the Indian Mutiny – a daring critique, at the time, of various British policies that he blamed for causing the revolt. Believing that the future of Muslims was threatened by the rigidity of their orthodox outlook, Sir Ahmad began promoting Western–style scientific education by founding modern schools and journals and organizing Islamic entrepreneurs. Victoria School at Ghazipur in 1863, and a scientific society for Muslims in 1864. In 1875, founded the Muhammadan Anglo-Oriental College, the first Muslim university in Southern Asia. During his career, Syed repeatedly called upon Muslims to loyally serve the British Raj and promoted the adoption of Urdu as the lingua franca of all Indian Muslims. Syed criticized the Indian National Congress.\n",
            "Sir Syed maintains a strong legacy in Pakistan and among Indian Muslims. He became a source of inspiration for the Pakistan Movement and its activists, including Allama Iqbal and Muhammad Ali Jinnah. His advocacy of Islam's rationalist tradition, and a broader, radical reinterpretation of the Quran to make it compatible with science and modernity, continues to influence the global Islamic reformation. Many universities and public buildings in Pakistan bear Sir Syed's name. Aligarh Muslim University celebrated Sir Syed's 200th birth centenary with much enthusiasm on 17 October 2017.\n",
            "\n",
            "\n",
            "== Early life ==\n",
            "Do not show the face of Islam to others; instead show your face as the follower of true Islam representing character, knowledge, tolerance and piety.\n",
            "Syed Ahmad Taqvi 'Khan Bahadur' was born on 17 October 1817 to Syed Muhammad Muttaqi and Aziz-un-Nisa in Delhi, which was the capital of the Mughal Empire during the reign of Mughal Emperor Akbar II. Many generations of his family had been highly connected with the Mughal administration. His maternal grandfather Khwaja Fariduddin served as Wazir in the court of Emperor Akbar Shah II. His paternal grandfather Syed Hadi Jawwad bin Imaduddin held a mansab (lit. General) – a high-ranking administrative position - and the honorary name of \"Mir Jawwad Ali Khan\" in the court of Emperor Alamgir II. Sir Syed's father, Syed  Muhammad Muttaqi, was personally close to Emperor Akbar Shah II and served as his personal adviser. However, Syed Ahmad was born at a time when his father was involved in regional insurrections aided and led by the East India Company, which had replaced the power traditionally held by the Mughal state, reducing its monarch to a figurehead.\n",
            "Syed Ahmad was the youngest of three siblings. With his elder brother Syed Muhammad bin Muttaqi Khan and elder sister Safiyatun Nisa, Sir Syed was raised in the house of his maternal grandfather in a wealthy area of the city. They were raised in strict accordance with Mughal noble traditions and they were exposed to politics. Their mother Aziz-un-Nisa played a formative role in Sir Syed's early life, raising him with rigid discipline and a strong emphasis on modern education.\n",
            "\n",
            "\n",
            "== Education ==\n",
            "Sir Syed's education was initiated by Shah Ghulam Ali, his father's spiritual mentor in 1822.<|eot_id|><|start_header_id|>assistant<|end_header_id|>\n",
            "\n",
            "He was born on 17 October 1817.\n"
          ]
        }
      ]
    },
    {
      "cell_type": "markdown",
      "source": [
        "## 2.4 Document Transformers"
      ],
      "metadata": {
        "id": "U1lRs6biwqDi"
      }
    },
    {
      "cell_type": "code",
      "source": [
        "with open('/content/some_data/FDR_State_of_Union_1944.txt') as file:\n",
        "    speech_text = file.read()"
      ],
      "metadata": {
        "id": "mE2s32gnplPv"
      },
      "execution_count": 35,
      "outputs": []
    },
    {
      "cell_type": "code",
      "source": [
        "# Characters\n",
        "len(speech_text)"
      ],
      "metadata": {
        "colab": {
          "base_uri": "https://localhost:8080/"
        },
        "id": "79m9pWg2xKg8",
        "outputId": "4616e2c6-86e5-4a9c-ad36-d9987d4abe9e"
      },
      "execution_count": 36,
      "outputs": [
        {
          "output_type": "execute_result",
          "data": {
            "text/plain": [
              "21927"
            ]
          },
          "metadata": {},
          "execution_count": 36
        }
      ]
    },
    {
      "cell_type": "code",
      "source": [
        "# Words\n",
        "len(speech_text.split())"
      ],
      "metadata": {
        "colab": {
          "base_uri": "https://localhost:8080/"
        },
        "id": "3J0i12lPxM0R",
        "outputId": "f5f6ed79-4da4-48cc-bbf7-eaa3b71e133e"
      },
      "execution_count": 37,
      "outputs": [
        {
          "output_type": "execute_result",
          "data": {
            "text/plain": [
              "3750"
            ]
          },
          "metadata": {},
          "execution_count": 37
        }
      ]
    },
    {
      "cell_type": "markdown",
      "source": [
        "### Split by Character"
      ],
      "metadata": {
        "id": "5-7s8eVJxUOn"
      }
    },
    {
      "cell_type": "code",
      "source": [
        "from langchain.text_splitter import CharacterTextSplitter\n",
        "\n",
        "text_splitter = CharacterTextSplitter(separator=\"\\n\\n\",chunk_size=1000) #1000 is default value\n",
        "\n",
        "texts = text_splitter.create_documents([speech_text])\n",
        "print(type(texts))\n",
        "print('\\n')\n",
        "print(texts[0])"
      ],
      "metadata": {
        "colab": {
          "base_uri": "https://localhost:8080/"
        },
        "id": "66p97Aq9xPIq",
        "outputId": "b0545625-0568-4a97-eaab-fbbd643f9bda"
      },
      "execution_count": 38,
      "outputs": [
        {
          "output_type": "stream",
          "name": "stdout",
          "text": [
            "<class 'list'>\n",
            "\n",
            "\n",
            "page_content='This Nation in the past two years has become an active partner in the world's greatest war against human slavery.\n",
            "\n",
            "We have joined with like-minded people in order to defend ourselves in a world that has been gravely threatened with gangster rule.\n",
            "\n",
            "But I do not think that any of us Americans can be content with mere survival. Sacrifices that we and our allies are making impose upon us all a sacred obligation to see to it that out of this war we and our children will gain something better than mere survival.\n",
            "\n",
            "We are united in determination that this war shall not be followed by another interim which leads to new disaster- that we shall not repeat the tragic errors of ostrich isolationism—that we shall not repeat the excesses of the wild twenties when this Nation went for a joy ride on a roller coaster which ended in a tragic crash.'\n"
          ]
        }
      ]
    },
    {
      "cell_type": "code",
      "source": [
        "len(texts[0].page_content)"
      ],
      "metadata": {
        "colab": {
          "base_uri": "https://localhost:8080/"
        },
        "id": "pNH6snE9xcwP",
        "outputId": "eed73380-897b-4244-80f1-f177dec7dbf6"
      },
      "execution_count": 39,
      "outputs": [
        {
          "output_type": "execute_result",
          "data": {
            "text/plain": [
              "841"
            ]
          },
          "metadata": {},
          "execution_count": 39
        }
      ]
    },
    {
      "cell_type": "code",
      "source": [
        "texts[1]"
      ],
      "metadata": {
        "colab": {
          "base_uri": "https://localhost:8080/"
        },
        "id": "YUnj1GAHxgM1",
        "outputId": "858ced9e-18df-4117-a56f-6c16d0f6868e"
      },
      "execution_count": 40,
      "outputs": [
        {
          "output_type": "execute_result",
          "data": {
            "text/plain": [
              "Document(metadata={}, page_content='When Mr. Hull went to Moscow in October, and when I went to Cairo and Teheran in November, we knew that we were in agreement with our allies in our common determination to fight and win this war. But there were many vital questions concerning the future peace, and they were discussed in an atmosphere of complete candor and harmony.\\n\\nIn the last war such discussions, such meetings, did not even begin until the shooting had stopped and the delegates began to assemble at the peace table. There had been no previous opportunities for man-to-man discussions which lead to meetings of minds. The result was a peace which was not a peace. That was a mistake which we are not repeating in this war.\\n\\nAnd right here I want to address a word or two to some suspicious souls who are fearful that Mr. Hull or I have made \"commitments\" for the future which might pledge this Nation to secret treaties, or to enacting the role of Santa Claus.')"
            ]
          },
          "metadata": {},
          "execution_count": 40
        }
      ]
    },
    {
      "cell_type": "code",
      "source": [
        "len(texts[1].page_content)"
      ],
      "metadata": {
        "colab": {
          "base_uri": "https://localhost:8080/"
        },
        "id": "irQlSpbCxipq",
        "outputId": "808afc89-4961-4078-e328-91ad82a24cf6"
      },
      "execution_count": 41,
      "outputs": [
        {
          "output_type": "execute_result",
          "data": {
            "text/plain": [
              "933"
            ]
          },
          "metadata": {},
          "execution_count": 41
        }
      ]
    },
    {
      "cell_type": "code",
      "source": [
        "type(texts[0])"
      ],
      "metadata": {
        "colab": {
          "base_uri": "https://localhost:8080/",
          "height": 186
        },
        "id": "EYSZXZcYxkkW",
        "outputId": "5d404c32-8cbf-43ba-ad20-6fbd03e3fae4"
      },
      "execution_count": 42,
      "outputs": [
        {
          "output_type": "execute_result",
          "data": {
            "text/plain": [
              "langchain_core.documents.base.Document"
            ],
            "text/html": [
              "<div style=\"max-width:800px; border: 1px solid var(--colab-border-color);\"><style>\n",
              "      pre.function-repr-contents {\n",
              "        overflow-x: auto;\n",
              "        padding: 8px 12px;\n",
              "        max-height: 500px;\n",
              "      }\n",
              "\n",
              "      pre.function-repr-contents.function-repr-contents-collapsed {\n",
              "        cursor: pointer;\n",
              "        max-height: 100px;\n",
              "      }\n",
              "    </style>\n",
              "    <pre style=\"white-space: initial; background:\n",
              "         var(--colab-secondary-surface-color); padding: 8px 12px;\n",
              "         border-bottom: 1px solid var(--colab-border-color);\"><b>langchain_core.documents.base.Document</b><br/>def __init__(page_content: str, **kwargs: Any) -&gt; None</pre><pre class=\"function-repr-contents function-repr-contents-collapsed\" style=\"\"><a class=\"filepath\" style=\"display:none\" href=\"#\">/usr/local/lib/python3.10/dist-packages/langchain_core/documents/base.py</a>Class for storing a piece of text and associated metadata.\n",
              "\n",
              "Example:\n",
              "\n",
              "    .. code-block:: python\n",
              "\n",
              "        from langchain_core.documents import Document\n",
              "\n",
              "        document = Document(\n",
              "            page_content=&quot;Hello, world!&quot;,\n",
              "            metadata={&quot;source&quot;: &quot;https://example.com&quot;}\n",
              "        )</pre>\n",
              "      <script>\n",
              "      if (google.colab.kernel.accessAllowed && google.colab.files && google.colab.files.view) {\n",
              "        for (const element of document.querySelectorAll('.filepath')) {\n",
              "          element.style.display = 'block'\n",
              "          element.onclick = (event) => {\n",
              "            event.preventDefault();\n",
              "            event.stopPropagation();\n",
              "            google.colab.files.view(element.textContent, 262);\n",
              "          };\n",
              "        }\n",
              "      }\n",
              "      for (const element of document.querySelectorAll('.function-repr-contents')) {\n",
              "        element.onclick = (event) => {\n",
              "          event.preventDefault();\n",
              "          event.stopPropagation();\n",
              "          element.classList.toggle('function-repr-contents-collapsed');\n",
              "        };\n",
              "      }\n",
              "      </script>\n",
              "      </div>"
            ]
          },
          "metadata": {},
          "execution_count": 42
        }
      ]
    },
    {
      "cell_type": "code",
      "source": [
        "text_splitter = CharacterTextSplitter(separator=\"\\n\\n\") #chunk_size is minimum length, notice at 2000 still contains a \\n\\n"
      ],
      "metadata": {
        "id": "u1ABRPgmxmsE"
      },
      "execution_count": 43,
      "outputs": []
    },
    {
      "cell_type": "markdown",
      "source": [
        "### Split by Token\n",
        "\n",
        "Most LLMs operate on a token limit (although some price based on characters!). Let's explore how to split based on tokens."
      ],
      "metadata": {
        "id": "S32Ws-kWxxTy"
      }
    },
    {
      "cell_type": "code",
      "source": [
        "!pip install tiktoken"
      ],
      "metadata": {
        "colab": {
          "base_uri": "https://localhost:8080/"
        },
        "id": "1BAysKUtxr_u",
        "outputId": "fd3ba4cd-9460-4ba8-c940-942356273848"
      },
      "execution_count": 46,
      "outputs": [
        {
          "output_type": "stream",
          "name": "stdout",
          "text": [
            "Collecting tiktoken\n",
            "  Downloading tiktoken-0.8.0-cp310-cp310-manylinux_2_17_x86_64.manylinux2014_x86_64.whl.metadata (6.6 kB)\n",
            "Requirement already satisfied: regex>=2022.1.18 in /usr/local/lib/python3.10/dist-packages (from tiktoken) (2024.9.11)\n",
            "Requirement already satisfied: requests>=2.26.0 in /usr/local/lib/python3.10/dist-packages (from tiktoken) (2.32.3)\n",
            "Requirement already satisfied: charset-normalizer<4,>=2 in /usr/local/lib/python3.10/dist-packages (from requests>=2.26.0->tiktoken) (3.4.0)\n",
            "Requirement already satisfied: idna<4,>=2.5 in /usr/local/lib/python3.10/dist-packages (from requests>=2.26.0->tiktoken) (3.10)\n",
            "Requirement already satisfied: urllib3<3,>=1.21.1 in /usr/local/lib/python3.10/dist-packages (from requests>=2.26.0->tiktoken) (2.2.3)\n",
            "Requirement already satisfied: certifi>=2017.4.17 in /usr/local/lib/python3.10/dist-packages (from requests>=2.26.0->tiktoken) (2024.8.30)\n",
            "Downloading tiktoken-0.8.0-cp310-cp310-manylinux_2_17_x86_64.manylinux2014_x86_64.whl (1.2 MB)\n",
            "\u001b[?25l   \u001b[90m━━━━━━━━━━━━━━━━━━━━━━━━━━━━━━━━━━━━━━━━\u001b[0m \u001b[32m0.0/1.2 MB\u001b[0m \u001b[31m?\u001b[0m eta \u001b[36m-:--:--\u001b[0m\r\u001b[2K   \u001b[91m━━━━━━━━━━━━━\u001b[0m\u001b[91m╸\u001b[0m\u001b[90m━━━━━━━━━━━━━━━━━━━━━━━━━━\u001b[0m \u001b[32m0.4/1.2 MB\u001b[0m \u001b[31m11.9 MB/s\u001b[0m eta \u001b[36m0:00:01\u001b[0m\r\u001b[2K   \u001b[90m━━━━━━━━━━━━━━━━━━━━━━━━━━━━━━━━━━━━━━━━\u001b[0m \u001b[32m1.2/1.2 MB\u001b[0m \u001b[31m19.4 MB/s\u001b[0m eta \u001b[36m0:00:00\u001b[0m\n",
            "\u001b[?25hInstalling collected packages: tiktoken\n",
            "Successfully installed tiktoken-0.8.0\n"
          ]
        }
      ]
    },
    {
      "cell_type": "code",
      "source": [
        "text_splitter = CharacterTextSplitter.from_tiktoken_encoder(chunk_size = 500) #now chunk size is a hard length based on tokens\n",
        "\n",
        "texts = text_splitter.split_text(speech_text)\n",
        "\n",
        "texts[0]"
      ],
      "metadata": {
        "colab": {
          "base_uri": "https://localhost:8080/",
          "height": 126
        },
        "id": "IqUPn_bdx5n4",
        "outputId": "f0a2beea-f5d6-4731-ee1e-44212481ab25"
      },
      "execution_count": 47,
      "outputs": [
        {
          "output_type": "execute_result",
          "data": {
            "text/plain": [
              "'This Nation in the past two years has become an active partner in the world\\'s greatest war against human slavery.\\n\\nWe have joined with like-minded people in order to defend ourselves in a world that has been gravely threatened with gangster rule.\\n\\nBut I do not think that any of us Americans can be content with mere survival. Sacrifices that we and our allies are making impose upon us all a sacred obligation to see to it that out of this war we and our children will gain something better than mere survival.\\n\\nWe are united in determination that this war shall not be followed by another interim which leads to new disaster- that we shall not repeat the tragic errors of ostrich isolationism—that we shall not repeat the excesses of the wild twenties when this Nation went for a joy ride on a roller coaster which ended in a tragic crash.\\n\\nWhen Mr. Hull went to Moscow in October, and when I went to Cairo and Teheran in November, we knew that we were in agreement with our allies in our common determination to fight and win this war. But there were many vital questions concerning the future peace, and they were discussed in an atmosphere of complete candor and harmony.\\n\\nIn the last war such discussions, such meetings, did not even begin until the shooting had stopped and the delegates began to assemble at the peace table. There had been no previous opportunities for man-to-man discussions which lead to meetings of minds. The result was a peace which was not a peace. That was a mistake which we are not repeating in this war.\\n\\nAnd right here I want to address a word or two to some suspicious souls who are fearful that Mr. Hull or I have made \"commitments\" for the future which might pledge this Nation to secret treaties, or to enacting the role of Santa Claus.\\n\\nTo such suspicious souls—using a polite terminology—I wish to say that Mr. Churchill, and Marshal Stalin, and Generalissimo Chiang Kai-shek are all thoroughly conversant with the provisions of our Constitution. And so is Mr. Hull. And so am I.\\n\\nOf course we made some commitments. We most certainly committed ourselves to very large and very specific military plans which require the use of all Allied forces to bring about the defeat of our enemies at the earliest possible time.\\n\\nBut there were no secret treaties or political or financial commitments.'"
            ],
            "application/vnd.google.colaboratory.intrinsic+json": {
              "type": "string"
            }
          },
          "metadata": {},
          "execution_count": 47
        }
      ]
    },
    {
      "cell_type": "code",
      "source": [
        "print(texts[0])"
      ],
      "metadata": {
        "colab": {
          "base_uri": "https://localhost:8080/"
        },
        "id": "8FXueF8YyKEt",
        "outputId": "28b91516-361f-4761-a4c4-e80f2cd6f94b"
      },
      "execution_count": 48,
      "outputs": [
        {
          "output_type": "stream",
          "name": "stdout",
          "text": [
            "This Nation in the past two years has become an active partner in the world's greatest war against human slavery.\n",
            "\n",
            "We have joined with like-minded people in order to defend ourselves in a world that has been gravely threatened with gangster rule.\n",
            "\n",
            "But I do not think that any of us Americans can be content with mere survival. Sacrifices that we and our allies are making impose upon us all a sacred obligation to see to it that out of this war we and our children will gain something better than mere survival.\n",
            "\n",
            "We are united in determination that this war shall not be followed by another interim which leads to new disaster- that we shall not repeat the tragic errors of ostrich isolationism—that we shall not repeat the excesses of the wild twenties when this Nation went for a joy ride on a roller coaster which ended in a tragic crash.\n",
            "\n",
            "When Mr. Hull went to Moscow in October, and when I went to Cairo and Teheran in November, we knew that we were in agreement with our allies in our common determination to fight and win this war. But there were many vital questions concerning the future peace, and they were discussed in an atmosphere of complete candor and harmony.\n",
            "\n",
            "In the last war such discussions, such meetings, did not even begin until the shooting had stopped and the delegates began to assemble at the peace table. There had been no previous opportunities for man-to-man discussions which lead to meetings of minds. The result was a peace which was not a peace. That was a mistake which we are not repeating in this war.\n",
            "\n",
            "And right here I want to address a word or two to some suspicious souls who are fearful that Mr. Hull or I have made \"commitments\" for the future which might pledge this Nation to secret treaties, or to enacting the role of Santa Claus.\n",
            "\n",
            "To such suspicious souls—using a polite terminology—I wish to say that Mr. Churchill, and Marshal Stalin, and Generalissimo Chiang Kai-shek are all thoroughly conversant with the provisions of our Constitution. And so is Mr. Hull. And so am I.\n",
            "\n",
            "Of course we made some commitments. We most certainly committed ourselves to very large and very specific military plans which require the use of all Allied forces to bring about the defeat of our enemies at the earliest possible time.\n",
            "\n",
            "But there were no secret treaties or political or financial commitments.\n"
          ]
        }
      ]
    },
    {
      "cell_type": "markdown",
      "source": [
        "## 2.5 Text Embedding"
      ],
      "metadata": {
        "id": "LsjLOAZAyYE6"
      }
    },
    {
      "cell_type": "code",
      "source": [
        "from langchain_huggingface import HuggingFaceEndpointEmbeddings"
      ],
      "metadata": {
        "id": "S_HpQ9niyQAB"
      },
      "execution_count": 49,
      "outputs": []
    },
    {
      "cell_type": "markdown",
      "source": [],
      "metadata": {
        "id": "hwbqNcxC0VPM"
      }
    },
    {
      "cell_type": "code",
      "source": [
        "embeddings = HuggingFaceEndpointEmbeddings()\n",
        "\n",
        "text = \"Some normal text to send to HuggingFace to be embedded into a N dimensional vector\"\n",
        "embedded_text = embeddings.embed_query(text)"
      ],
      "metadata": {
        "id": "wm0msdY6zZIm"
      },
      "execution_count": 50,
      "outputs": []
    },
    {
      "cell_type": "code",
      "source": [
        "len(embedded_text)"
      ],
      "metadata": {
        "colab": {
          "base_uri": "https://localhost:8080/"
        },
        "id": "2s-bDHhazlTh",
        "outputId": "6f81d0c3-9ad9-4359-8105-b1171bd95d23"
      },
      "execution_count": 51,
      "outputs": [
        {
          "output_type": "execute_result",
          "data": {
            "text/plain": [
              "768"
            ]
          },
          "metadata": {},
          "execution_count": 51
        }
      ]
    },
    {
      "cell_type": "code",
      "source": [
        "type(embedded_text)"
      ],
      "metadata": {
        "colab": {
          "base_uri": "https://localhost:8080/"
        },
        "id": "3v3rAteizoCv",
        "outputId": "4732e3d0-e1b1-4f36-9ed5-8eb48382981f"
      },
      "execution_count": 53,
      "outputs": [
        {
          "output_type": "execute_result",
          "data": {
            "text/plain": [
              "list"
            ]
          },
          "metadata": {},
          "execution_count": 53
        }
      ]
    },
    {
      "cell_type": "code",
      "source": [
        "embedded_text"
      ],
      "metadata": {
        "colab": {
          "base_uri": "https://localhost:8080/"
        },
        "id": "fWHqcpJezqd5",
        "outputId": "1f42a541-2523-4d9d-f595-0bd91d5ca4dd"
      },
      "execution_count": 54,
      "outputs": [
        {
          "output_type": "execute_result",
          "data": {
            "text/plain": [
              "[0.004949941299855709,\n",
              " -0.09036538749933243,\n",
              " 0.033517297357320786,\n",
              " 0.04772819206118584,\n",
              " 0.00046301184920594096,\n",
              " -0.015059658326208591,\n",
              " 0.022206567227840424,\n",
              " 0.04581836983561516,\n",
              " 0.02590547315776348,\n",
              " -0.005945858545601368,\n",
              " 0.0576605498790741,\n",
              " -0.006703817751258612,\n",
              " 0.015377691015601158,\n",
              " 0.0994846448302269,\n",
              " 0.027705617249011993,\n",
              " -0.07304739952087402,\n",
              " -0.009852216579020023,\n",
              " 0.00907804910093546,\n",
              " -0.023950597271323204,\n",
              " -0.012014308013021946,\n",
              " 0.03965994343161583,\n",
              " 0.025049377232789993,\n",
              " 0.03476591408252716,\n",
              " -0.029564108699560165,\n",
              " -0.04743170365691185,\n",
              " 0.012300660833716393,\n",
              " -0.0520654171705246,\n",
              " 0.040178146213293076,\n",
              " 0.05418189987540245,\n",
              " -0.0060868337750434875,\n",
              " -0.05054939165711403,\n",
              " 0.025791829451918602,\n",
              " 0.06063239648938179,\n",
              " -0.020883619785308838,\n",
              " 1.3422913980321027e-06,\n",
              " -0.0013402157928794622,\n",
              " -0.0440213680267334,\n",
              " 0.0282267015427351,\n",
              " -0.0132039375603199,\n",
              " 0.034439679235219955,\n",
              " 0.07715262472629547,\n",
              " -0.05318794772028923,\n",
              " -0.02803763374686241,\n",
              " -0.01989378035068512,\n",
              " -0.0015122127952054143,\n",
              " -0.009087310172617435,\n",
              " 0.016213053837418556,\n",
              " 0.023215681314468384,\n",
              " 0.0812162309885025,\n",
              " -0.023811647668480873,\n",
              " -0.018596578389406204,\n",
              " 0.00652973260730505,\n",
              " 0.023047108203172684,\n",
              " 0.006435476243495941,\n",
              " -0.012889895588159561,\n",
              " 0.005318375304341316,\n",
              " 0.010666325688362122,\n",
              " -0.019120512530207634,\n",
              " -0.015043536201119423,\n",
              " 0.1062513142824173,\n",
              " -0.03043568879365921,\n",
              " 0.015117092058062553,\n",
              " -0.004280895926058292,\n",
              " -0.0320470854640007,\n",
              " 0.12326643615961075,\n",
              " 0.06679214537143707,\n",
              " -0.024033693596720695,\n",
              " 0.054958075284957886,\n",
              " -0.048496779054403305,\n",
              " 0.05662744119763374,\n",
              " -0.026980528607964516,\n",
              " 0.020749637857079506,\n",
              " 0.017824776470661163,\n",
              " -0.023012584075331688,\n",
              " 0.008040460757911205,\n",
              " -0.02424468845129013,\n",
              " -0.021245993673801422,\n",
              " -0.03865203633904457,\n",
              " -0.003726998111233115,\n",
              " -0.0058927834033966064,\n",
              " -0.011232085525989532,\n",
              " 0.020058581605553627,\n",
              " -0.014287073165178299,\n",
              " -0.03788941353559494,\n",
              " -0.045910775661468506,\n",
              " -0.07139021903276443,\n",
              " -0.0006609738920815289,\n",
              " -0.02373659424483776,\n",
              " 0.015315703116357327,\n",
              " -0.028230560943484306,\n",
              " 2.136448529199697e-06,\n",
              " -0.001646768650971353,\n",
              " 0.025508299469947815,\n",
              " -0.029072852805256844,\n",
              " 0.03414115309715271,\n",
              " 0.021598882973194122,\n",
              " 0.009123371914029121,\n",
              " -0.0673336610198021,\n",
              " 0.00770213408395648,\n",
              " -0.0788121446967125,\n",
              " 0.08055271208286285,\n",
              " 0.02574736997485161,\n",
              " 0.01576857641339302,\n",
              " 0.013705841265618801,\n",
              " -0.05092238634824753,\n",
              " -0.023844018578529358,\n",
              " -0.03310202434659004,\n",
              " 0.0023284228518605232,\n",
              " -0.021509379148483276,\n",
              " 0.013640502467751503,\n",
              " 0.01755938120186329,\n",
              " -0.037977732717990875,\n",
              " -0.037742968648672104,\n",
              " 0.031178640201687813,\n",
              " -0.021892938762903214,\n",
              " -0.029019370675086975,\n",
              " -0.04582306742668152,\n",
              " 0.03437892720103264,\n",
              " 0.033797431737184525,\n",
              " 0.02651877887547016,\n",
              " 0.002019816543906927,\n",
              " 0.0014160432619974017,\n",
              " -0.008938301354646683,\n",
              " 0.014524353668093681,\n",
              " 0.01673221029341221,\n",
              " -0.042444858700037,\n",
              " 0.006558847147971392,\n",
              " -0.052588436752557755,\n",
              " -0.003479792270809412,\n",
              " -0.02938673086464405,\n",
              " -0.0278328750282526,\n",
              " 0.058916907757520676,\n",
              " 0.08780146390199661,\n",
              " -0.009538399055600166,\n",
              " -0.021429583430290222,\n",
              " -0.014217996969819069,\n",
              " -0.013345243409276009,\n",
              " -0.06786185503005981,\n",
              " 0.05172964558005333,\n",
              " 0.022706888616085052,\n",
              " -0.08904703706502914,\n",
              " 0.0363144725561142,\n",
              " 0.028365911915898323,\n",
              " -0.020906297490000725,\n",
              " 0.017134806141257286,\n",
              " -0.012221572920680046,\n",
              " -0.012240138836205006,\n",
              " 0.005536414682865143,\n",
              " 0.004579436965286732,\n",
              " -0.0018496187403798103,\n",
              " -0.03050405904650688,\n",
              " 0.031645193696022034,\n",
              " 0.0017534509534016252,\n",
              " -0.03618597984313965,\n",
              " 0.02811846137046814,\n",
              " -0.016502998769283295,\n",
              " 0.06585589796304703,\n",
              " -0.03450207784771919,\n",
              " -0.028216306120157242,\n",
              " 0.027353299781680107,\n",
              " 0.024993781000375748,\n",
              " 0.007145209237933159,\n",
              " 0.00934450514614582,\n",
              " 0.019268950447440147,\n",
              " 0.05914938449859619,\n",
              " 0.0036495982203632593,\n",
              " -0.040027547627687454,\n",
              " -0.025997092947363853,\n",
              " 0.08582033216953278,\n",
              " 0.026724493131041527,\n",
              " -0.002115095965564251,\n",
              " 0.05981044843792915,\n",
              " 0.008697050623595715,\n",
              " -0.01868613436818123,\n",
              " -0.0016400618478655815,\n",
              " 0.09739004820585251,\n",
              " -0.03075152076780796,\n",
              " 0.02357996255159378,\n",
              " 0.05364279821515083,\n",
              " 0.05600208416581154,\n",
              " -0.021829258650541306,\n",
              " -0.0006946584908291698,\n",
              " -0.01504813227802515,\n",
              " 0.02661164663732052,\n",
              " -0.028564736247062683,\n",
              " -0.023088328540325165,\n",
              " 0.05969483032822609,\n",
              " 0.01965991221368313,\n",
              " -0.04696667939424515,\n",
              " -0.0012512330431491137,\n",
              " -0.010967288166284561,\n",
              " -0.049993254244327545,\n",
              " 0.051502421498298645,\n",
              " -0.03229483217000961,\n",
              " 0.029227346181869507,\n",
              " 0.0004839487955905497,\n",
              " -0.06563800573348999,\n",
              " -0.057022977620363235,\n",
              " -0.03517226129770279,\n",
              " -0.05028660595417023,\n",
              " 0.031446781009435654,\n",
              " 0.034617356956005096,\n",
              " 0.016486821696162224,\n",
              " 0.023636259138584137,\n",
              " -0.017548497766256332,\n",
              " -0.041281286627054214,\n",
              " -0.017808519303798676,\n",
              " -0.018005823716521263,\n",
              " 0.04126478359103203,\n",
              " 0.036311764270067215,\n",
              " 0.0011111730709671974,\n",
              " 0.02697508968412876,\n",
              " 0.0003912969841621816,\n",
              " -0.04696396738290787,\n",
              " 0.011641968041658401,\n",
              " 0.0032350916881114244,\n",
              " 0.0012319721281528473,\n",
              " 0.02807958982884884,\n",
              " -0.026234742254018784,\n",
              " 0.03757321462035179,\n",
              " -0.03066486492753029,\n",
              " 0.0011052553309127688,\n",
              " 0.038800302892923355,\n",
              " 0.03143420070409775,\n",
              " -0.03364268317818642,\n",
              " -0.0357808917760849,\n",
              " -0.013712440617382526,\n",
              " 0.011002038605511189,\n",
              " 0.01844554953277111,\n",
              " 0.04191410914063454,\n",
              " 0.02318011224269867,\n",
              " -0.003439520252868533,\n",
              " 0.07181379199028015,\n",
              " -0.03481185436248779,\n",
              " -0.09140358120203018,\n",
              " -0.00018946400086861104,\n",
              " -0.061334028840065,\n",
              " 0.017858197912573814,\n",
              " -0.017426054924726486,\n",
              " -0.017692117020487785,\n",
              " -0.02176569774746895,\n",
              " -0.034349750727415085,\n",
              " -0.028876719996333122,\n",
              " 0.010339607484638691,\n",
              " 0.003762748558074236,\n",
              " -0.014041234739124775,\n",
              " 0.0014793885638937354,\n",
              " -0.003187489928677678,\n",
              " -0.06386858969926834,\n",
              " 0.02962374873459339,\n",
              " -0.0010296665132045746,\n",
              " 0.0015640066703781486,\n",
              " 0.0032225949689745903,\n",
              " 0.007323417346924543,\n",
              " 0.038682688027620316,\n",
              " -0.01922956295311451,\n",
              " 0.019183512777090073,\n",
              " 0.011138884350657463,\n",
              " -0.05141346529126167,\n",
              " -0.03355051204562187,\n",
              " 0.028156768530607224,\n",
              " -0.013506020419299603,\n",
              " 0.00793060939759016,\n",
              " -0.0036734924651682377,\n",
              " 0.015482030808925629,\n",
              " 0.03576704487204552,\n",
              " -0.03451579064130783,\n",
              " -0.05552958324551582,\n",
              " -0.03172683343291283,\n",
              " 0.007550762966275215,\n",
              " -0.012787198647856712,\n",
              " 0.0032359377946704626,\n",
              " 0.016639836132526398,\n",
              " 0.02866586111485958,\n",
              " 0.010258892551064491,\n",
              " -0.08040615171194077,\n",
              " 0.02059839852154255,\n",
              " 0.017090898007154465,\n",
              " -0.04843677580356598,\n",
              " 0.042136017233133316,\n",
              " 0.004368554800748825,\n",
              " 0.013891380280256271,\n",
              " -0.018235038965940475,\n",
              " -0.0049757626838982105,\n",
              " -0.03093476966023445,\n",
              " 0.019992930814623833,\n",
              " 0.013378727249801159,\n",
              " -0.04952229931950569,\n",
              " -0.026287836953997612,\n",
              " -0.06979604065418243,\n",
              " -0.046198997646570206,\n",
              " -0.02229633927345276,\n",
              " -0.010814517736434937,\n",
              " -0.059565335512161255,\n",
              " -0.0051686423830688,\n",
              " -0.0634915754199028,\n",
              " 0.052797507494688034,\n",
              " 0.06678269803524017,\n",
              " 0.013247724622488022,\n",
              " -0.019586021080613136,\n",
              " -0.024592800065875053,\n",
              " 0.034818440675735474,\n",
              " 0.0021905084140598774,\n",
              " 0.006379497237503529,\n",
              " -0.08263260126113892,\n",
              " 0.06627870351076126,\n",
              " 0.005923131015151739,\n",
              " 0.0020010159350931644,\n",
              " 0.01361957285553217,\n",
              " 0.031291622668504715,\n",
              " 0.017374442890286446,\n",
              " 0.03179299086332321,\n",
              " -0.08140622079372406,\n",
              " 0.018785571679472923,\n",
              " 0.054873816668987274,\n",
              " 0.03201247751712799,\n",
              " -0.04510878771543503,\n",
              " -0.026444032788276672,\n",
              " -0.0015606086235493422,\n",
              " -0.026172807440161705,\n",
              " 0.030667787417769432,\n",
              " 0.020208673551678658,\n",
              " 0.04504425451159477,\n",
              " -0.009019169956445694,\n",
              " -0.044175323098897934,\n",
              " 0.03466952219605446,\n",
              " -0.014704733155667782,\n",
              " -0.027499806135892868,\n",
              " 0.045316290110349655,\n",
              " -0.04463434964418411,\n",
              " 0.0228115227073431,\n",
              " -0.025221344083547592,\n",
              " -0.016116442158818245,\n",
              " 0.014205923303961754,\n",
              " 0.02817130647599697,\n",
              " 0.015670472756028175,\n",
              " 0.014162667095661163,\n",
              " -0.007402300834655762,\n",
              " 0.01271901372820139,\n",
              " 0.006441020872443914,\n",
              " 0.016052303835749626,\n",
              " -0.0420919805765152,\n",
              " 0.013155939057469368,\n",
              " -0.032059188932180405,\n",
              " -0.012954030185937881,\n",
              " -0.05798855051398277,\n",
              " -0.007703158538788557,\n",
              " -0.04033691808581352,\n",
              " 0.02673267386853695,\n",
              " 0.019730346277356148,\n",
              " 0.013441300950944424,\n",
              " 0.013974004425108433,\n",
              " -0.020420150831341743,\n",
              " -0.005339873488992453,\n",
              " -0.016653697937726974,\n",
              " -0.017277928069233894,\n",
              " -0.034864652901887894,\n",
              " 0.019267991185188293,\n",
              " -0.05510612204670906,\n",
              " 0.014562868513166904,\n",
              " -0.01219311635941267,\n",
              " 0.03205600008368492,\n",
              " -0.06502049416303635,\n",
              " 0.025476565584540367,\n",
              " 0.02836543694138527,\n",
              " 0.01618369296193123,\n",
              " 0.003174732206389308,\n",
              " 0.06751038134098053,\n",
              " -0.020530954003334045,\n",
              " -0.011177301406860352,\n",
              " 0.001869560917839408,\n",
              " 0.04799725115299225,\n",
              " -0.0049344561994075775,\n",
              " 0.001495503936894238,\n",
              " 0.01918068900704384,\n",
              " 0.05496101826429367,\n",
              " 0.026411190629005432,\n",
              " -0.04919549077749252,\n",
              " 0.07838788628578186,\n",
              " -0.018481651321053505,\n",
              " 0.014718296006321907,\n",
              " -0.009084152057766914,\n",
              " 0.032869432121515274,\n",
              " -0.014084044843912125,\n",
              " 0.0158180370926857,\n",
              " 0.06444258242845535,\n",
              " -0.005765297915786505,\n",
              " -0.008047780022025108,\n",
              " -0.035915203392505646,\n",
              " 0.017141032963991165,\n",
              " 0.024614987894892693,\n",
              " 0.008220843970775604,\n",
              " -0.024118930101394653,\n",
              " -0.0595802441239357,\n",
              " -0.002337806159630418,\n",
              " 0.052895549684762955,\n",
              " -0.03606851026415825,\n",
              " -0.026016244664788246,\n",
              " 0.03485320881009102,\n",
              " -0.025359349325299263,\n",
              " 0.023618396371603012,\n",
              " 0.030918525531888008,\n",
              " -0.001073448802344501,\n",
              " -0.013963758945465088,\n",
              " 0.009191911667585373,\n",
              " 0.008901627734303474,\n",
              " -0.04929175227880478,\n",
              " 0.06916049122810364,\n",
              " 0.005759130697697401,\n",
              " -0.04171407222747803,\n",
              " -0.06352958083152771,\n",
              " 0.033858440816402435,\n",
              " -0.001739014289341867,\n",
              " -0.03434750437736511,\n",
              " 0.04324491322040558,\n",
              " -0.005677980836480856,\n",
              " 0.01750381663441658,\n",
              " -0.0036973219830542803,\n",
              " 0.022628173232078552,\n",
              " 0.023703958839178085,\n",
              " 0.019429083913564682,\n",
              " -0.030702762305736542,\n",
              " 0.06534553319215775,\n",
              " 0.0294044092297554,\n",
              " 0.0293074119836092,\n",
              " 0.003224976360797882,\n",
              " 0.015094714239239693,\n",
              " -0.01999884471297264,\n",
              " 0.02310546487569809,\n",
              " -0.03534455969929695,\n",
              " -0.020279113203287125,\n",
              " 0.01126858126372099,\n",
              " -0.018174225464463234,\n",
              " 0.07411674410104752,\n",
              " 0.05078012868762016,\n",
              " -0.07437703013420105,\n",
              " -0.0042115626856684685,\n",
              " -0.012257426977157593,\n",
              " -0.012958517298102379,\n",
              " -0.0712008848786354,\n",
              " 0.04964520409703255,\n",
              " 0.0560239739716053,\n",
              " 0.09135019034147263,\n",
              " 0.034007832407951355,\n",
              " 0.006264129187911749,\n",
              " 0.04639432206749916,\n",
              " -0.007765668444335461,\n",
              " -0.04448585957288742,\n",
              " -0.03790954872965813,\n",
              " 0.016808032989501953,\n",
              " 0.030945615842938423,\n",
              " 0.048383377492427826,\n",
              " 0.03883039951324463,\n",
              " -0.04939612001180649,\n",
              " -0.016414707526564598,\n",
              " -0.006802322808653116,\n",
              " -0.023954732343554497,\n",
              " 0.08461566269397736,\n",
              " -0.022066745907068253,\n",
              " 0.027490578591823578,\n",
              " 0.035483647137880325,\n",
              " 0.027277816087007523,\n",
              " 0.018672803416848183,\n",
              " -0.008975174278020859,\n",
              " 0.014702259562909603,\n",
              " 0.02843940258026123,\n",
              " 0.049307651817798615,\n",
              " -0.005202861037105322,\n",
              " -0.0010840854374691844,\n",
              " 0.020313454791903496,\n",
              " -0.010936683043837547,\n",
              " 0.02200225181877613,\n",
              " -0.01014578528702259,\n",
              " -0.006795455235987902,\n",
              " -0.00652282452210784,\n",
              " -0.0026947432197630405,\n",
              " -0.027845390141010284,\n",
              " 0.050092440098524094,\n",
              " -0.02347872592508793,\n",
              " -0.029599593952298164,\n",
              " -0.026258863508701324,\n",
              " -0.029960207641124725,\n",
              " -0.037036310881376266,\n",
              " -0.09503519535064697,\n",
              " -0.0018102788599207997,\n",
              " -0.011054705828428268,\n",
              " -0.042446527630090714,\n",
              " -0.0005430052406154573,\n",
              " -0.05387478321790695,\n",
              " 0.0363897904753685,\n",
              " -0.060385897755622864,\n",
              " 0.0012481376761570573,\n",
              " -0.021716106683015823,\n",
              " -0.04354582726955414,\n",
              " -0.03241477906703949,\n",
              " 0.049244340509176254,\n",
              " 0.015627704560756683,\n",
              " -0.008195508271455765,\n",
              " -0.0161506999284029,\n",
              " -0.009304435923695564,\n",
              " 0.0020262517500668764,\n",
              " 0.022661715745925903,\n",
              " -0.006740289274603128,\n",
              " -0.024564577266573906,\n",
              " -0.0369071401655674,\n",
              " -0.031304001808166504,\n",
              " -0.03910393267869949,\n",
              " 0.0013405140489339828,\n",
              " 0.048759739845991135,\n",
              " -0.03588554635643959,\n",
              " -0.0004623093700502068,\n",
              " 0.036629851907491684,\n",
              " -0.04507088661193848,\n",
              " -0.005540264304727316,\n",
              " -0.011824377812445164,\n",
              " -0.04156947508454323,\n",
              " -0.04270779713988304,\n",
              " 0.031068118289113045,\n",
              " -0.028924090787768364,\n",
              " -0.0032791232224553823,\n",
              " 0.021298933774232864,\n",
              " 0.006015377584844828,\n",
              " 0.028339870274066925,\n",
              " -0.028742659837007523,\n",
              " -0.04878872260451317,\n",
              " 0.0829726904630661,\n",
              " 0.006220832467079163,\n",
              " -0.01859075389802456,\n",
              " -0.03840773552656174,\n",
              " -0.06952334940433502,\n",
              " -0.058763861656188965,\n",
              " -0.006172115448862314,\n",
              " 0.0367589108645916,\n",
              " -0.006752330344170332,\n",
              " -0.0301201194524765,\n",
              " 0.035293444991111755,\n",
              " 0.11249633133411407,\n",
              " 0.039053577929735184,\n",
              " 0.000717504124622792,\n",
              " -0.02989242598414421,\n",
              " -0.06666740775108337,\n",
              " -0.03137337043881416,\n",
              " 0.04828569293022156,\n",
              " -0.012091552838683128,\n",
              " -0.03642921894788742,\n",
              " -0.024079816415905952,\n",
              " 0.013630231842398643,\n",
              " -0.04073791950941086,\n",
              " -2.7343603505869396e-05,\n",
              " 0.023145176470279694,\n",
              " 0.036382999271154404,\n",
              " 0.049126122146844864,\n",
              " -0.04569370672106743,\n",
              " -0.05013255029916763,\n",
              " 0.03995390236377716,\n",
              " -5.646023895932237e-33,\n",
              " -0.017981423065066338,\n",
              " -0.019809843972325325,\n",
              " -0.07995576411485672,\n",
              " 0.015648072585463524,\n",
              " -0.026868030428886414,\n",
              " 0.05734032392501831,\n",
              " -0.005081420298665762,\n",
              " 0.021260777488350868,\n",
              " 0.041685473173856735,\n",
              " 0.009272484108805656,\n",
              " 0.013778922148048878,\n",
              " -0.010407524183392525,\n",
              " 0.0063092708587646484,\n",
              " -0.01774238795042038,\n",
              " -0.04879707098007202,\n",
              " 0.005715299863368273,\n",
              " -0.01068617682904005,\n",
              " -0.02063019946217537,\n",
              " -8.576709660701454e-05,\n",
              " 0.025550151243805885,\n",
              " 0.023387370631098747,\n",
              " 0.023267637938261032,\n",
              " 0.035217542201280594,\n",
              " -0.08645664155483246,\n",
              " 0.045526545494794846,\n",
              " -0.011322340928018093,\n",
              " -0.013397987000644207,\n",
              " 0.031904224306344986,\n",
              " 0.029313186183571815,\n",
              " -0.014425525441765785,\n",
              " -0.032217852771282196,\n",
              " 0.026212826371192932,\n",
              " -0.025573760271072388,\n",
              " 0.037320371717214584,\n",
              " 0.040471967309713364,\n",
              " 0.13435891270637512,\n",
              " -0.012589658610522747,\n",
              " -0.021752022206783295,\n",
              " -0.004949870053678751,\n",
              " -0.023561041802167892,\n",
              " -0.011584637686610222,\n",
              " 0.04926835373044014,\n",
              " -0.06705872714519501,\n",
              " -0.05225658789277077,\n",
              " 0.01568657159805298,\n",
              " 0.017153171822428703,\n",
              " 0.02689535915851593,\n",
              " 0.05304376035928726,\n",
              " -0.002852889010682702,\n",
              " 0.0620671883225441,\n",
              " -0.02048390917479992,\n",
              " 0.00971868447959423,\n",
              " 0.02801230177283287,\n",
              " 0.0002021499240072444,\n",
              " 0.013722610659897327,\n",
              " -0.019313132390379906,\n",
              " 0.033460140228271484,\n",
              " -0.0019920968916267157,\n",
              " 0.004309157840907574,\n",
              " -0.027415703982114792,\n",
              " -0.04039352014660835,\n",
              " -0.013666191138327122,\n",
              " -0.00991578958928585,\n",
              " -0.08237408101558685,\n",
              " 0.012982460670173168,\n",
              " 0.04362841323018074,\n",
              " 0.03837531805038452,\n",
              " -0.013840153813362122,\n",
              " -0.05862845107913017,\n",
              " -0.014215386472642422,\n",
              " 0.03156939148902893,\n",
              " -0.00869295746088028,\n",
              " 0.05142427608370781,\n",
              " 0.015299957245588303,\n",
              " 0.0015371824847534299,\n",
              " -0.0046673547476530075,\n",
              " 0.03163054212927818,\n",
              " -0.01576901786029339,\n",
              " 0.006458735559135675,\n",
              " -0.055148154497146606,\n",
              " 0.00430675595998764,\n",
              " -0.01681279018521309,\n",
              " -0.009286020882427692,\n",
              " -0.07774726301431656,\n",
              " 0.00027510622749105096,\n",
              " 0.010872534476220608,\n",
              " 0.03823816403746605,\n",
              " -0.05908844247460365,\n",
              " 0.01900596357882023,\n",
              " 0.016333777457475662,\n",
              " -0.05074955150485039,\n",
              " 0.005064830183982849,\n",
              " 0.0016196140786632895,\n",
              " 0.06576880067586899,\n",
              " -0.05041325092315674,\n",
              " -0.02983381226658821,\n",
              " 0.026189401745796204,\n",
              " 0.044584933668375015,\n",
              " 0.008956434205174446,\n",
              " 0.005016436334699392,\n",
              " 0.02870028093457222,\n",
              " -0.05255996435880661,\n",
              " 0.0389951691031456,\n",
              " -0.0170381348580122,\n",
              " 0.031963638961315155,\n",
              " -0.024390537291765213,\n",
              " 0.007337394170463085,\n",
              " 0.07563327997922897,\n",
              " -0.07061868906021118,\n",
              " 0.0007682729628868401,\n",
              " -0.002740622730925679,\n",
              " -0.017761988565325737,\n",
              " -0.017411474138498306,\n",
              " 0.0711037665605545,\n",
              " 0.019689705222845078,\n",
              " 0.005876897368580103,\n",
              " 0.004991676192730665,\n",
              " -0.015492263250052929,\n",
              " 0.02305387333035469,\n",
              " 0.01388619001954794,\n",
              " -0.02307477593421936,\n",
              " -0.03175332024693489,\n",
              " -0.01304114144295454,\n",
              " 0.0010660040425136685,\n",
              " -0.05317600816488266,\n",
              " 0.0028000357560813427,\n",
              " 0.0040055979043245316,\n",
              " -0.013680312782526016,\n",
              " 0.05782933533191681,\n",
              " -0.02134554460644722,\n",
              " -0.0008020080858841538,\n",
              " -0.001473576296120882,\n",
              " 2.0974489700620325e-07,\n",
              " -0.021011097356677055,\n",
              " 0.09011034667491913,\n",
              " 0.014911930076777935,\n",
              " -0.009247828274965286,\n",
              " 0.005040267016738653,\n",
              " 0.0004737446433864534,\n",
              " 0.03631638363003731,\n",
              " 0.0270098727196455,\n",
              " -0.04931410402059555,\n",
              " -0.013153962790966034,\n",
              " 0.011833768337965012,\n",
              " -0.029718458652496338,\n",
              " 0.0309477336704731,\n",
              " -0.010929424315690994,\n",
              " -0.07365863025188446,\n",
              " 0.010376240126788616,\n",
              " -0.016986746340990067,\n",
              " -0.03585994616150856,\n",
              " 0.006814700551331043,\n",
              " 0.005443238653242588,\n",
              " 0.05542171001434326,\n",
              " 0.05197906866669655,\n",
              " 0.03675168752670288,\n",
              " 0.017565060406923294,\n",
              " 0.02054513432085514,\n",
              " -0.004010528791695833,\n",
              " 0.008584536612033844,\n",
              " 0.01909382827579975,\n",
              " 0.06379503011703491,\n",
              " -0.058051109313964844,\n",
              " -0.03481801971793175,\n",
              " -0.08571753650903702,\n",
              " -0.04191574826836586,\n",
              " 0.03251262381672859,\n",
              " -0.023868944495916367,\n",
              " -0.026636557653546333,\n",
              " 0.023993460461497307,\n",
              " 0.09464119374752045,\n",
              " -0.04446892812848091,\n",
              " 0.10069960355758667,\n",
              " -0.009308692999184132,\n",
              " 0.022804327309131622,\n",
              " -0.032238975167274475,\n",
              " -0.09158367663621902,\n",
              " -0.01754828169941902,\n",
              " -0.017100682482123375,\n",
              " -0.03593067452311516,\n",
              " -0.019562197849154472,\n",
              " 0.005070548038929701,\n",
              " 0.02560807392001152,\n",
              " -0.004347171168774366,\n",
              " 0.02122451364994049,\n",
              " 0.010982651263475418,\n",
              " 0.03548084571957588,\n",
              " 0.015925683081150055,\n",
              " -0.016036715358495712,\n",
              " 0.08481569588184357,\n",
              " -0.046328604221343994,\n",
              " -0.023707371205091476,\n",
              " -0.03265780955553055,\n",
              " -0.005906342063099146,\n",
              " -0.013473143801093102,\n",
              " -0.04335794597864151,\n",
              " 0.08260943740606308,\n",
              " 0.03446830436587334,\n",
              " -0.05933469161391258,\n",
              " 0.00825473666191101,\n",
              " 2.5763745905578826e-34,\n",
              " -0.002052401890978217,\n",
              " -0.021219000220298767,\n",
              " -0.008915240876376629,\n",
              " 0.04341460019350052,\n",
              " -0.0275270976126194,\n",
              " 0.016713416203856468,\n",
              " 0.07786638289690018,\n",
              " 0.03319203853607178,\n",
              " 0.04062199220061302,\n",
              " -0.03711364418268204,\n",
              " -0.051270775496959686]"
            ]
          },
          "metadata": {},
          "execution_count": 54
        }
      ]
    },
    {
      "cell_type": "code",
      "source": [
        "from langchain.document_loaders import CSVLoader\n",
        "\n",
        "loader = CSVLoader('/content/some_data/penguins.csv')\n",
        "data = loader.load()\n",
        "type(data)"
      ],
      "metadata": {
        "colab": {
          "base_uri": "https://localhost:8080/"
        },
        "id": "-G0ZbSP7zvSU",
        "outputId": "eddd3c94-1cc3-44fe-9baa-5d888bc57a2c"
      },
      "execution_count": 55,
      "outputs": [
        {
          "output_type": "execute_result",
          "data": {
            "text/plain": [
              "list"
            ]
          },
          "metadata": {},
          "execution_count": 55
        }
      ]
    },
    {
      "cell_type": "code",
      "source": [
        "type(data[0])"
      ],
      "metadata": {
        "colab": {
          "base_uri": "https://localhost:8080/",
          "height": 186
        },
        "id": "WvrKP0tYz7or",
        "outputId": "9d5f7da5-97a3-41ad-80d8-fae74e4d1b26"
      },
      "execution_count": 56,
      "outputs": [
        {
          "output_type": "execute_result",
          "data": {
            "text/plain": [
              "langchain_core.documents.base.Document"
            ],
            "text/html": [
              "<div style=\"max-width:800px; border: 1px solid var(--colab-border-color);\"><style>\n",
              "      pre.function-repr-contents {\n",
              "        overflow-x: auto;\n",
              "        padding: 8px 12px;\n",
              "        max-height: 500px;\n",
              "      }\n",
              "\n",
              "      pre.function-repr-contents.function-repr-contents-collapsed {\n",
              "        cursor: pointer;\n",
              "        max-height: 100px;\n",
              "      }\n",
              "    </style>\n",
              "    <pre style=\"white-space: initial; background:\n",
              "         var(--colab-secondary-surface-color); padding: 8px 12px;\n",
              "         border-bottom: 1px solid var(--colab-border-color);\"><b>langchain_core.documents.base.Document</b><br/>def __init__(page_content: str, **kwargs: Any) -&gt; None</pre><pre class=\"function-repr-contents function-repr-contents-collapsed\" style=\"\"><a class=\"filepath\" style=\"display:none\" href=\"#\">/usr/local/lib/python3.10/dist-packages/langchain_core/documents/base.py</a>Class for storing a piece of text and associated metadata.\n",
              "\n",
              "Example:\n",
              "\n",
              "    .. code-block:: python\n",
              "\n",
              "        from langchain_core.documents import Document\n",
              "\n",
              "        document = Document(\n",
              "            page_content=&quot;Hello, world!&quot;,\n",
              "            metadata={&quot;source&quot;: &quot;https://example.com&quot;}\n",
              "        )</pre>\n",
              "      <script>\n",
              "      if (google.colab.kernel.accessAllowed && google.colab.files && google.colab.files.view) {\n",
              "        for (const element of document.querySelectorAll('.filepath')) {\n",
              "          element.style.display = 'block'\n",
              "          element.onclick = (event) => {\n",
              "            event.preventDefault();\n",
              "            event.stopPropagation();\n",
              "            google.colab.files.view(element.textContent, 262);\n",
              "          };\n",
              "        }\n",
              "      }\n",
              "      for (const element of document.querySelectorAll('.function-repr-contents')) {\n",
              "        element.onclick = (event) => {\n",
              "          event.preventDefault();\n",
              "          event.stopPropagation();\n",
              "          element.classList.toggle('function-repr-contents-collapsed');\n",
              "        };\n",
              "      }\n",
              "      </script>\n",
              "      </div>"
            ]
          },
          "metadata": {},
          "execution_count": 56
        }
      ]
    },
    {
      "cell_type": "code",
      "source": [
        "embedded_docs = embeddings.embed_documents([text.page_content for text in data])\n",
        "len(embedded_docs)"
      ],
      "metadata": {
        "colab": {
          "base_uri": "https://localhost:8080/"
        },
        "id": "f6rIOCd4z9lJ",
        "outputId": "0ccb20d0-16a8-4ff9-a969-bb1b49062fea"
      },
      "execution_count": 57,
      "outputs": [
        {
          "output_type": "execute_result",
          "data": {
            "text/plain": [
              "344"
            ]
          },
          "metadata": {},
          "execution_count": 57
        }
      ]
    },
    {
      "cell_type": "code",
      "source": [
        "embedded_docs[0]"
      ],
      "metadata": {
        "colab": {
          "base_uri": "https://localhost:8080/"
        },
        "id": "utPCfQho0BbK",
        "outputId": "3fd7719d-eacc-4623-ca6e-4584025ff00a"
      },
      "execution_count": 58,
      "outputs": [
        {
          "output_type": "execute_result",
          "data": {
            "text/plain": [
              "[-0.027352802455425262,\n",
              " -0.036917831748723984,\n",
              " -0.03590505197644234,\n",
              " 0.009211929515004158,\n",
              " 0.00165270094294101,\n",
              " 0.02790483832359314,\n",
              " 0.002255707047879696,\n",
              " -0.008324633352458477,\n",
              " -0.009058556519448757,\n",
              " -0.03702937066555023,\n",
              " 0.013744198717176914,\n",
              " -0.04401655122637749,\n",
              " 0.024496985599398613,\n",
              " 0.028067421168088913,\n",
              " 0.0417213998734951,\n",
              " -0.06683307141065598,\n",
              " 0.001699102227576077,\n",
              " -0.022302016615867615,\n",
              " 0.05401366204023361,\n",
              " -0.03177244961261749,\n",
              " -0.05885764956474304,\n",
              " -0.01217932440340519,\n",
              " 0.00040497261215932667,\n",
              " 0.042519710958004,\n",
              " 0.06876108795404434,\n",
              " 0.012316877953708172,\n",
              " -0.018557345494627953,\n",
              " -0.03424752876162529,\n",
              " -0.013751906342804432,\n",
              " -0.004968185909092426,\n",
              " 0.0420905277132988,\n",
              " -0.05936693772673607,\n",
              " 0.033222783356904984,\n",
              " 0.034923166036605835,\n",
              " 1.5628227174602216e-06,\n",
              " -0.03546127304434776,\n",
              " 0.020496303215622902,\n",
              " 0.039654117077589035,\n",
              " -0.02284879982471466,\n",
              " 0.015524029731750488,\n",
              " -0.007634408306330442,\n",
              " -0.011128480546176434,\n",
              " 0.03167540952563286,\n",
              " -0.030600817874073982,\n",
              " 0.01623208448290825,\n",
              " -0.05559540539979935,\n",
              " -0.0067815943621098995,\n",
              " -0.03550608828663826,\n",
              " -0.01773558370769024,\n",
              " 0.02882389910519123,\n",
              " 0.0026527117006480694,\n",
              " -0.02329075336456299,\n",
              " 0.009570044465363026,\n",
              " -0.0029133784119039774,\n",
              " 0.13087108731269836,\n",
              " -0.03386547416448593,\n",
              " 0.013045398518443108,\n",
              " 0.026837002485990524,\n",
              " -0.021740412339568138,\n",
              " 0.04652250185608864,\n",
              " 0.0006968065863475204,\n",
              " 0.03111898899078369,\n",
              " 0.019089961424469948,\n",
              " -0.003042414551600814,\n",
              " -0.017502091825008392,\n",
              " -0.024082034826278687,\n",
              " 0.02677971124649048,\n",
              " -0.0507698580622673,\n",
              " 0.07812841236591339,\n",
              " 0.014869855716824532,\n",
              " 0.08495163172483444,\n",
              " 0.00636933371424675,\n",
              " -0.03636416792869568,\n",
              " 0.07696737349033356,\n",
              " -0.009879873134195805,\n",
              " -0.028257040306925774,\n",
              " -0.006482507102191448,\n",
              " 0.06791850179433823,\n",
              " 0.04335504397749901,\n",
              " -0.04522356018424034,\n",
              " -0.0130254365503788,\n",
              " 0.005835150834172964,\n",
              " -0.016162894666194916,\n",
              " -0.009154459461569786,\n",
              " -0.0635925829410553,\n",
              " 0.06331609189510345,\n",
              " 0.0070301322266459465,\n",
              " -0.006922532804310322,\n",
              " 0.013939368538558483,\n",
              " -0.020994780585169792,\n",
              " -0.010830771178007126,\n",
              " 0.029469113796949387,\n",
              " -0.005679274443536997,\n",
              " 0.03350771591067314,\n",
              " 0.009681204333901405,\n",
              " -0.008846870623528957,\n",
              " 0.029377492144703865,\n",
              " -0.15869465470314026,\n",
              " 0.05900922045111656,\n",
              " -0.047688502818346024,\n",
              " 0.04728075861930847,\n",
              " -0.0032868010457605124,\n",
              " -0.10390938818454742,\n",
              " 0.02916524186730385,\n",
              " -0.060265395790338516,\n",
              " 0.04515945911407471,\n",
              " -0.015442154370248318,\n",
              " -0.023016702383756638,\n",
              " -0.0025023422203958035,\n",
              " -0.0017822962254285812,\n",
              " 0.03809572011232376,\n",
              " -0.004864819347858429,\n",
              " -0.026726307347416878,\n",
              " -0.017252525314688683,\n",
              " 0.040014710277318954,\n",
              " -0.011694109998643398,\n",
              " 0.050836388021707535,\n",
              " -0.05686547979712486,\n",
              " 0.039200302213430405,\n",
              " 0.0071014901623129845,\n",
              " 0.01255741622298956,\n",
              " 0.027663208544254303,\n",
              " 0.03291996568441391,\n",
              " 0.03678325563669205,\n",
              " -0.035678088665008545,\n",
              " -0.0029313797131180763,\n",
              " -0.0006547797238454223,\n",
              " -0.08518126606941223,\n",
              " 0.0008021543035283685,\n",
              " 0.0379771813750267,\n",
              " 0.005911701358854771,\n",
              " -0.0270734503865242,\n",
              " 0.022168273106217384,\n",
              " -0.1030733585357666,\n",
              " -0.007008588872849941,\n",
              " 0.025872403755784035,\n",
              " 0.0008285713847726583,\n",
              " -0.0163214560598135,\n",
              " 0.0737231895327568,\n",
              " 0.014292854815721512,\n",
              " -0.036906346678733826,\n",
              " -0.018000001087784767,\n",
              " 0.002004064852371812,\n",
              " 0.02452368289232254,\n",
              " 0.011307107284665108,\n",
              " 0.0012585994554683566,\n",
              " -0.025413908064365387,\n",
              " -0.0562417171895504,\n",
              " 0.0013245043810456991,\n",
              " -0.05857543647289276,\n",
              " 0.012422062456607819,\n",
              " 0.010203513316810131,\n",
              " -0.008540683425962925,\n",
              " 0.01990003138780594,\n",
              " 0.028368724510073662,\n",
              " 0.002486622426658869,\n",
              " 0.004888817667961121,\n",
              " -0.015580246224999428,\n",
              " 0.018513916060328484,\n",
              " 0.026955828070640564,\n",
              " 0.02700856886804104,\n",
              " -0.06638888269662857,\n",
              " -0.06305473297834396,\n",
              " -0.00948750227689743,\n",
              " 0.04783891141414642,\n",
              " -0.03761829063296318,\n",
              " 0.0029635995160788298,\n",
              " 0.006926277186721563,\n",
              " 0.063970185816288,\n",
              " -0.04383954778313637,\n",
              " 0.001848557498306036,\n",
              " 0.003616432659327984,\n",
              " 0.0621730238199234,\n",
              " -0.057556502521038055,\n",
              " -0.002478986280038953,\n",
              " -0.0353880450129509,\n",
              " -0.03351942449808121,\n",
              " -0.01498058158904314,\n",
              " 0.051577165722846985,\n",
              " -0.003076673485338688,\n",
              " 0.020900586619973183,\n",
              " -0.061683494597673416,\n",
              " 0.02137840911746025,\n",
              " 0.004643780644983053,\n",
              " 0.046500638127326965,\n",
              " 0.027975983917713165,\n",
              " -0.01318171713501215,\n",
              " 0.03390486165881157,\n",
              " 0.02069118432700634,\n",
              " -0.007585774641484022,\n",
              " 0.0035812368150800467,\n",
              " -0.008517526090145111,\n",
              " -0.022668402642011642,\n",
              " 0.01971915364265442,\n",
              " -0.014086397364735603,\n",
              " 0.023419290781021118,\n",
              " 0.023848524317145348,\n",
              " -0.007791477255523205,\n",
              " -0.012674656696617603,\n",
              " 0.05437750741839409,\n",
              " 0.044193144887685776,\n",
              " -0.00037534197326749563,\n",
              " 0.0346217006444931,\n",
              " -0.014902791008353233,\n",
              " 0.04985903203487396,\n",
              " 0.011931187473237514,\n",
              " -0.03581424057483673,\n",
              " -0.003656579414382577,\n",
              " -0.03319966420531273,\n",
              " 0.006606528535485268,\n",
              " 0.057483602315187454,\n",
              " -0.054231468588113785,\n",
              " -0.005761636421084404,\n",
              " -0.01430433802306652,\n",
              " -0.03941749036312103,\n",
              " 0.025616586208343506,\n",
              " 0.00859756674617529,\n",
              " -0.01107188779860735,\n",
              " 0.06793608516454697,\n",
              " 0.044389158487319946,\n",
              " 0.023283403366804123,\n",
              " -0.06861907243728638,\n",
              " 0.002834946382790804,\n",
              " 0.02146415412425995,\n",
              " 0.04965009540319443,\n",
              " 7.021140481811017e-05,\n",
              " -0.010861965827643871,\n",
              " -0.004123939201235771,\n",
              " 0.028009474277496338,\n",
              " -0.0440475270152092,\n",
              " -0.03391936048865318,\n",
              " 0.01240047812461853,\n",
              " -0.014072809368371964,\n",
              " 0.026860639452934265,\n",
              " -0.03751111403107643,\n",
              " -0.020971840247511864,\n",
              " 0.03726489096879959,\n",
              " 0.020353281870484352,\n",
              " 0.04233613610267639,\n",
              " -0.025441156700253487,\n",
              " 0.024784531444311142,\n",
              " -0.044282250106334686,\n",
              " 0.03386326879262924,\n",
              " 0.006103739142417908,\n",
              " -0.02665647864341736,\n",
              " -0.03529049828648567,\n",
              " -0.00308428518474102,\n",
              " 0.05753493309020996,\n",
              " 0.039148636162281036,\n",
              " -0.011468510143458843,\n",
              " -0.007963684387505054,\n",
              " 0.01496185828000307,\n",
              " 0.009481523185968399,\n",
              " 0.03371650353074074,\n",
              " -0.004379297606647015,\n",
              " -0.08233688026666641,\n",
              " -0.028529511764645576,\n",
              " -0.028141476213932037,\n",
              " -0.09609954059123993,\n",
              " 0.012946727685630322,\n",
              " -0.04882919415831566,\n",
              " -0.006847133859992027,\n",
              " -0.023220280185341835,\n",
              " 0.03548620641231537,\n",
              " 0.03280717879533768,\n",
              " 0.04452339932322502,\n",
              " -0.026024654507637024,\n",
              " 0.045546866953372955,\n",
              " -0.09333356469869614,\n",
              " 0.0458996519446373,\n",
              " 5.161452281754464e-05,\n",
              " -0.027178755030035973,\n",
              " 0.053593773394823074,\n",
              " 0.008582735434174538,\n",
              " 0.030019298195838928,\n",
              " -0.03262187913060188,\n",
              " -0.013090118765830994,\n",
              " -0.051552996039390564,\n",
              " -0.013710357248783112,\n",
              " -0.0357540100812912,\n",
              " 0.009760154411196709,\n",
              " 0.0022559380158782005,\n",
              " -0.041183874011039734,\n",
              " -0.013334006071090698,\n",
              " 0.028300654143095016,\n",
              " 0.002968067303299904,\n",
              " -0.0273146852850914,\n",
              " -0.05113542824983597,\n",
              " -0.025682464241981506,\n",
              " -0.013893636874854565,\n",
              " -0.0652720034122467,\n",
              " -0.008812452666461468,\n",
              " -0.020368488505482674,\n",
              " -0.007669924292713404,\n",
              " 0.036158155649900436,\n",
              " -0.002199963666498661,\n",
              " 0.03275159001350403,\n",
              " 0.022621478885412216,\n",
              " 0.07054679840803146,\n",
              " 0.03575850650668144,\n",
              " -0.02658545970916748,\n",
              " 0.009364109486341476,\n",
              " -0.07336350530385971,\n",
              " 0.015963537618517876,\n",
              " -0.03124036267399788,\n",
              " 0.04226136580109596,\n",
              " 0.036266300827264786,\n",
              " -0.012895490974187851,\n",
              " -0.031056303530931473,\n",
              " 0.011831621639430523,\n",
              " -0.016660530120134354,\n",
              " -0.006122488062828779,\n",
              " 0.021795621141791344,\n",
              " -0.0008093023207038641,\n",
              " 0.03629637509584427,\n",
              " -0.010101157240569592,\n",
              " -0.05587547644972801,\n",
              " 0.10264915227890015,\n",
              " -0.0076308357529342175,\n",
              " 0.03893662616610527,\n",
              " -0.017956310883164406,\n",
              " -0.0032966099679470062,\n",
              " -0.015919748693704605,\n",
              " 0.016990622505545616,\n",
              " -0.036873746663331985,\n",
              " -0.032662030309438705,\n",
              " 0.006818684283643961,\n",
              " 0.013085628859698772,\n",
              " 0.06263577938079834,\n",
              " 0.03379684314131737,\n",
              " 0.03243307024240494,\n",
              " 0.010917102918028831,\n",
              " 0.028655271977186203,\n",
              " 0.03612499684095383,\n",
              " 0.02091616578400135,\n",
              " 0.03622359409928322,\n",
              " -0.04059810936450958,\n",
              " -0.0028332266956567764,\n",
              " -0.0032539244275540113,\n",
              " 0.011834265664219856,\n",
              " 0.0036366237327456474,\n",
              " 0.020557193085551262,\n",
              " -0.03529058024287224,\n",
              " 0.00432171393185854,\n",
              " -0.01991548016667366,\n",
              " -0.0137863764539361,\n",
              " 0.02057557925581932,\n",
              " -0.07149054855108261,\n",
              " -0.060384951531887054,\n",
              " -0.03862365707755089,\n",
              " 0.06717953085899353,\n",
              " 0.01676321029663086,\n",
              " 0.027766358107328415,\n",
              " -0.010082886554300785,\n",
              " -0.033760614693164825,\n",
              " -0.02019871585071087,\n",
              " 0.045561350882053375,\n",
              " -0.04088549315929413,\n",
              " -0.019562439993023872,\n",
              " 0.08883233368396759,\n",
              " 0.044222697615623474,\n",
              " -0.0193698201328516,\n",
              " -0.1070445105433464,\n",
              " 0.07107071578502655,\n",
              " 0.05122765153646469,\n",
              " -0.01722487434744835,\n",
              " -0.0509658046066761,\n",
              " -0.015109974890947342,\n",
              " 0.015699610114097595,\n",
              " -0.019038312137126923,\n",
              " 0.029420841485261917,\n",
              " 0.02292107604444027,\n",
              " -0.03166744485497475,\n",
              " 0.03478413447737694,\n",
              " 0.005574298556894064,\n",
              " -0.023809539154171944,\n",
              " 0.0074148960411548615,\n",
              " 0.002822018228471279,\n",
              " 0.020125040784478188,\n",
              " 0.03721560537815094,\n",
              " -0.0035817231982946396,\n",
              " 0.045114915817976,\n",
              " 0.03963384032249451,\n",
              " -0.002933691255748272,\n",
              " -0.002702241064980626,\n",
              " -0.027529213577508926,\n",
              " -0.03269655629992485,\n",
              " -0.03202103450894356,\n",
              " 0.0013991508167237043,\n",
              " -0.037801630795001984,\n",
              " 0.0369296669960022,\n",
              " 0.041099339723587036,\n",
              " 0.03873873129487038,\n",
              " -0.02755311317741871,\n",
              " -0.003937753848731518,\n",
              " -0.05231444537639618,\n",
              " 0.013373657129704952,\n",
              " 0.008533021435141563,\n",
              " -0.0020446255803108215,\n",
              " 0.0024056825786828995,\n",
              " 0.005889554973691702,\n",
              " 0.027248648926615715,\n",
              " 0.022593867033720016,\n",
              " 0.011103430762887001,\n",
              " -0.0190334003418684,\n",
              " -0.07301073521375656,\n",
              " 0.02789878658950329,\n",
              " 0.051553498953580856,\n",
              " 0.0071852318942546844,\n",
              " -0.025541162118315697,\n",
              " -0.02363334596157074,\n",
              " 0.03753875195980072,\n",
              " -0.02171993814408779,\n",
              " 0.0245752464979887,\n",
              " -0.0017480028327554464,\n",
              " -0.001517580822110176,\n",
              " -0.016017375513911247,\n",
              " -0.013759160414338112,\n",
              " -0.014368590898811817,\n",
              " 0.03613876923918724,\n",
              " 0.006207641214132309,\n",
              " 0.062250908464193344,\n",
              " -0.0065700588747859,\n",
              " 0.010357550345361233,\n",
              " 0.03606114163994789,\n",
              " -0.012596599757671356,\n",
              " -0.007781673222780228,\n",
              " -0.0185066070407629,\n",
              " 0.005276859272271395,\n",
              " 0.05140133574604988,\n",
              " 0.046613167971372604,\n",
              " -0.007136375177651644,\n",
              " -0.017888927832245827,\n",
              " 0.0027557581197470427,\n",
              " -0.06768035143613815,\n",
              " 0.005628394894301891,\n",
              " -0.0028336348477751017,\n",
              " 0.024700405076146126,\n",
              " 0.13075028359889984,\n",
              " -0.022626077756285667,\n",
              " 0.026803016662597656,\n",
              " 0.042370233684778214,\n",
              " 0.03213579207658768,\n",
              " 0.03763745352625847,\n",
              " -0.030649496242403984,\n",
              " -0.036065056920051575,\n",
              " -0.009563122875988483,\n",
              " -0.02407100982964039,\n",
              " -0.022558730095624924,\n",
              " -0.06734509766101837,\n",
              " -0.018159400671720505,\n",
              " -0.023844780400395393,\n",
              " -0.03438812866806984,\n",
              " -0.000743442156817764,\n",
              " 0.0020589521154761314,\n",
              " 0.009237879887223244,\n",
              " 0.00703071616590023,\n",
              " 0.022989047691226006,\n",
              " -0.01681695505976677,\n",
              " 0.025885388255119324,\n",
              " 0.056921664625406265,\n",
              " 0.030939709395170212,\n",
              " -0.08633800595998764,\n",
              " -0.04584638029336929,\n",
              " 0.027639253064990044,\n",
              " -0.08382876217365265,\n",
              " -0.012721767649054527,\n",
              " -0.0012669283896684647,\n",
              " -0.00021823543647769839,\n",
              " 0.012988654896616936,\n",
              " -0.02471344545483589,\n",
              " 0.0173081886023283,\n",
              " -0.015221919864416122,\n",
              " -0.0157211534678936,\n",
              " 0.02798691764473915,\n",
              " -0.07602804899215698,\n",
              " -0.023685796186327934,\n",
              " -0.006129244342446327,\n",
              " -0.027577243745326996,\n",
              " -0.012072128243744373,\n",
              " 0.07546430081129074,\n",
              " 0.01792118325829506,\n",
              " -0.05469208210706711,\n",
              " 0.010763927362859249,\n",
              " -0.0013616479700431228,\n",
              " -0.041559457778930664,\n",
              " 0.0123025206848979,\n",
              " 0.03605078533291817,\n",
              " -0.030442584306001663,\n",
              " -0.013704905286431313,\n",
              " -0.00030068878550082445,\n",
              " 0.026835616677999496,\n",
              " 0.0061349752359092236,\n",
              " 0.04181942716240883,\n",
              " -0.0266373623162508,\n",
              " -0.04062346741557121,\n",
              " 0.02936456725001335,\n",
              " -0.005973311141133308,\n",
              " 0.013316730037331581,\n",
              " -0.04682871326804161,\n",
              " 0.032509732991456985,\n",
              " 0.014034111052751541,\n",
              " 0.002327125985175371,\n",
              " -0.002408011816442013,\n",
              " 0.03435216471552849,\n",
              " 0.02589219994843006,\n",
              " 0.001632964820601046,\n",
              " -0.06118994578719139,\n",
              " -0.0068644811399281025,\n",
              " -0.018830010667443275,\n",
              " -0.015309163369238377,\n",
              " 0.002166175749152899,\n",
              " 0.01960103213787079,\n",
              " 0.008840901777148247,\n",
              " -0.02789825201034546,\n",
              " -0.008350265212357044,\n",
              " -0.05859775468707085,\n",
              " -0.03062390722334385,\n",
              " -0.007404015865176916,\n",
              " 0.02431100606918335,\n",
              " -0.021534327417612076,\n",
              " 0.016507649794220924,\n",
              " 0.02997707575559616,\n",
              " -0.014256256632506847,\n",
              " -0.024437058717012405,\n",
              " 0.024527328088879585,\n",
              " 0.02617441490292549,\n",
              " -0.024314643815159798,\n",
              " -0.024180689826607704,\n",
              " 0.04910877346992493,\n",
              " 0.03886803239583969,\n",
              " 0.026709023863077164,\n",
              " 0.03851454332470894,\n",
              " 0.000617395038716495,\n",
              " -0.018731290474534035,\n",
              " 0.0618283674120903,\n",
              " -0.030253209173679352,\n",
              " -0.050366491079330444,\n",
              " 0.012180954217910767,\n",
              " -0.06849940121173859,\n",
              " -0.01013614609837532,\n",
              " -0.06885302066802979,\n",
              " -0.09615955501794815,\n",
              " 0.018878411501646042,\n",
              " 0.03708527609705925,\n",
              " 0.06509329378604889,\n",
              " -0.03729069605469704,\n",
              " -0.044319529086351395,\n",
              " -0.0032509544398635626,\n",
              " -0.03401561081409454,\n",
              " 0.029397936537861824,\n",
              " -0.05640316754579544,\n",
              " -0.03471303731203079,\n",
              " -0.012311224825680256,\n",
              " -0.03236611187458038,\n",
              " -4.8175409876024584e-33,\n",
              " -0.030063459649682045,\n",
              " -0.0005038530798628926,\n",
              " -0.03008068911731243,\n",
              " -0.043672289699316025,\n",
              " 0.0010164632694795728,\n",
              " 0.03989554941654205,\n",
              " 0.052669133991003036,\n",
              " 0.029919162392616272,\n",
              " -0.02055525779724121,\n",
              " -0.0160901490598917,\n",
              " 0.027766508981585503,\n",
              " 0.004124630242586136,\n",
              " 0.01124969869852066,\n",
              " -0.015893645584583282,\n",
              " -0.0011413844767957926,\n",
              " 0.018091248348355293,\n",
              " 0.023024117574095726,\n",
              " -0.02331646904349327,\n",
              " -0.032972391694784164,\n",
              " -0.035779278725385666,\n",
              " -0.046574581414461136,\n",
              " -0.004602937959134579,\n",
              " 0.04300443455576897,\n",
              " 0.024822810664772987,\n",
              " 0.08720798790454865,\n",
              " 0.025020906701683998,\n",
              " 0.003915046341717243,\n",
              " 0.035160038620233536,\n",
              " -0.03954601660370827,\n",
              " -0.025830453261733055,\n",
              " -0.003475766396149993,\n",
              " 0.010762544348835945,\n",
              " -0.018668826669454575,\n",
              " 0.031062740832567215,\n",
              " 0.02331782877445221,\n",
              " -0.03794514760375023,\n",
              " -0.04163379222154617,\n",
              " -0.03011692687869072,\n",
              " 0.025157086551189423,\n",
              " 0.0010575356427580118,\n",
              " 0.10517324507236481,\n",
              " -0.010320471599698067,\n",
              " -0.0033477875404059887,\n",
              " -0.019108187407255173,\n",
              " -0.016117282211780548,\n",
              " -0.06677890568971634,\n",
              " 0.0020395279861986637,\n",
              " -0.03194082900881767,\n",
              " 0.027704231441020966,\n",
              " 0.080381378531456,\n",
              " 0.02956443279981613,\n",
              " -0.019774047657847404,\n",
              " -0.012151867151260376,\n",
              " -0.05982844531536102,\n",
              " 0.05068931356072426,\n",
              " -0.01761472411453724,\n",
              " 0.04116450995206833,\n",
              " -0.018860219046473503,\n",
              " -0.014329705387353897,\n",
              " 0.02808389440178871,\n",
              " 0.045203402638435364,\n",
              " -0.05665142834186554,\n",
              " 0.018546290695667267,\n",
              " -0.016059743240475655,\n",
              " 0.00021833223581779748,\n",
              " 0.029183750972151756,\n",
              " 0.11766623705625534,\n",
              " 0.0495370551943779,\n",
              " -0.027600642293691635,\n",
              " 0.03425160050392151,\n",
              " -0.009044741280376911,\n",
              " 0.08862747251987457,\n",
              " 0.002515142085030675,\n",
              " -0.06982215493917465,\n",
              " 0.02228955551981926,\n",
              " 0.01744074746966362,\n",
              " 0.058328695595264435,\n",
              " 0.050704069435596466,\n",
              " 0.0624009370803833,\n",
              " -0.027646319940686226,\n",
              " -0.013869850896298885,\n",
              " -0.003685428062453866,\n",
              " -0.04293162748217583,\n",
              " -0.008841877803206444,\n",
              " -0.003101938171312213,\n",
              " -0.07553130388259888,\n",
              " 0.02200745977461338,\n",
              " -0.0075026461854577065,\n",
              " 0.00040404079481959343,\n",
              " 0.011619857512414455,\n",
              " 0.021470993757247925,\n",
              " 0.02810361608862877,\n",
              " -0.008557263761758804,\n",
              " 0.012804401107132435,\n",
              " 0.026173872873187065,\n",
              " -0.07334409654140472,\n",
              " 0.06720276921987534,\n",
              " -0.026634149253368378,\n",
              " 0.026141416281461716,\n",
              " -0.036018118262290955,\n",
              " 0.07490161061286926,\n",
              " -0.018337922170758247,\n",
              " 0.006957536097615957,\n",
              " 0.09687066078186035,\n",
              " -0.007011764217168093,\n",
              " -0.021935326978564262,\n",
              " -0.009791192598640919,\n",
              " 0.02038600668311119,\n",
              " -0.009736677631735802,\n",
              " -0.03572911024093628,\n",
              " -0.012282080017030239,\n",
              " -0.04015924409031868,\n",
              " -0.002139013260602951,\n",
              " 0.038513559848070145,\n",
              " -0.017246052622795105,\n",
              " -0.029103588312864304,\n",
              " 0.033665530383586884,\n",
              " -0.0007953311433084309,\n",
              " 0.023451346904039383,\n",
              " -0.048986390233039856,\n",
              " -0.010908002965152264,\n",
              " -0.035581331700086594,\n",
              " -0.0117128761485219,\n",
              " 0.03019842505455017,\n",
              " -0.040208328515291214,\n",
              " -0.0018848020117729902,\n",
              " 0.02120271511375904,\n",
              " 0.030550487339496613,\n",
              " -0.024901919066905975,\n",
              " 0.04162822663784027,\n",
              " -0.0019417536677792668,\n",
              " 0.021513035520911217,\n",
              " 2.2340256577990658e-07,\n",
              " 0.022322392091155052,\n",
              " -0.04542176425457001,\n",
              " 0.00422670179978013,\n",
              " -0.051775164902210236,\n",
              " 0.028639309108257294,\n",
              " 0.008972877636551857,\n",
              " 0.013244368135929108,\n",
              " -0.0491926483809948,\n",
              " -0.01706443913280964,\n",
              " -0.06753712892532349,\n",
              " 0.02404976636171341,\n",
              " 0.025218209251761436,\n",
              " -0.03207765147089958,\n",
              " 0.010441834107041359,\n",
              " 0.035940058529376984,\n",
              " -0.053815942257642746,\n",
              " 0.019416790455579758,\n",
              " -0.05427319556474686,\n",
              " -0.019766492769122124,\n",
              " -0.029552841559052467,\n",
              " -0.01988930068910122,\n",
              " 0.0035217381082475185,\n",
              " 0.027272190898656845,\n",
              " -0.01722070761024952,\n",
              " 0.006221655290573835,\n",
              " -0.01759929582476616,\n",
              " -0.021860254928469658,\n",
              " -0.04862428084015846,\n",
              " 0.02449422888457775,\n",
              " -0.018433498218655586,\n",
              " 0.014241666533052921,\n",
              " 0.022036628797650337,\n",
              " 0.07066840678453445,\n",
              " -0.02401110529899597,\n",
              " 0.015545784495770931,\n",
              " -0.02587803639471531,\n",
              " -0.0048077707178890705,\n",
              " -0.03863596171140671,\n",
              " 0.05141410604119301,\n",
              " 0.10241840779781342,\n",
              " -0.0016352421371266246,\n",
              " -0.004716785158962011,\n",
              " 0.00025347928749397397,\n",
              " -0.09906458109617233,\n",
              " -0.0027733396273106337,\n",
              " 0.008091108873486519,\n",
              " -0.010718940757215023,\n",
              " 0.019370226189494133,\n",
              " -0.008535986766219139,\n",
              " 0.01709160767495632,\n",
              " -0.04384497553110123,\n",
              " -0.034542515873909,\n",
              " 0.06197229027748108,\n",
              " -0.0053132991306483746,\n",
              " 0.023758919909596443,\n",
              " -0.03158855438232422,\n",
              " 0.03807459771633148,\n",
              " -0.012682132422924042,\n",
              " -0.002307769376784563,\n",
              " 0.04210375249385834,\n",
              " -0.003587279235944152,\n",
              " -0.020389866083860397,\n",
              " -8.528319449396804e-05,\n",
              " 0.037280164659023285,\n",
              " 0.035788025707006454,\n",
              " -0.05692368373274803,\n",
              " 0.03203514963388443,\n",
              " 1.8442909433676664e-34,\n",
              " -0.03206983953714371,\n",
              " -0.014004068449139595,\n",
              " -0.01406641211360693,\n",
              " 0.0239295344799757,\n",
              " -0.045066218823194504,\n",
              " -0.055367838591337204,\n",
              " 0.11433417350053787,\n",
              " -0.04560229554772377,\n",
              " 0.013256078585982323,\n",
              " 0.03750509023666382,\n",
              " -0.01863665133714676]"
            ]
          },
          "metadata": {},
          "execution_count": 58
        }
      ]
    },
    {
      "cell_type": "markdown",
      "source": [
        "## 2.6 Vector Store\n",
        "\n",
        "#  Vector Store\n",
        "\n",
        "Let's save our embeddings using Chroma and also discover new tools available for us.\n",
        "\n",
        "----\n",
        "\n",
        "#### Quick Note to users, check the GitHub if you have installation issues, since pydantic, langchain, and chroma sometimes are out of sync and need specific version numbers to play nicely together. There was an error occuring in June of 2023, installing this specific version of pydantic solved it, but make sure to double check GitHub issues first.\n",
        "\n",
        "For example:\n",
        "* https://github.com/hwchase17/langchain/issues/5113\n",
        "* https://github.com/hwchase17/langchain/issues/7548\n",
        "#### Also don't forget to restart your kernel!\n",
        "---"
      ],
      "metadata": {
        "id": "_7-xw3hC0Yzx"
      }
    },
    {
      "cell_type": "code",
      "source": [
        "# !apt install chromadb\n",
        "!pip uninstall chromadb\n",
        "\n",
        "!pip install chromadb"
      ],
      "metadata": {
        "colab": {
          "base_uri": "https://localhost:8080/"
        },
        "id": "FG7c7BAw0wRZ",
        "outputId": "06655a67-ccc2-4a63-fa77-ef3373a38817"
      },
      "execution_count": 73,
      "outputs": [
        {
          "output_type": "stream",
          "name": "stdout",
          "text": [
            "Found existing installation: chromadb 0.3.26\n",
            "Uninstalling chromadb-0.3.26:\n",
            "  Would remove:\n",
            "    /usr/local/lib/python3.10/dist-packages/chromadb-0.3.26.dist-info/*\n",
            "    /usr/local/lib/python3.10/dist-packages/chromadb/*\n",
            "Proceed (Y/n)? Y\n",
            "  Successfully uninstalled chromadb-0.3.26\n",
            "Collecting chromadb\n",
            "  Downloading chromadb-0.5.23-py3-none-any.whl.metadata (6.8 kB)\n",
            "Collecting build>=1.0.3 (from chromadb)\n",
            "  Downloading build-1.2.2.post1-py3-none-any.whl.metadata (6.5 kB)\n",
            "Requirement already satisfied: pydantic>=1.9 in /usr/local/lib/python3.10/dist-packages (from chromadb) (2.10.3)\n",
            "Collecting chroma-hnswlib==0.7.6 (from chromadb)\n",
            "  Downloading chroma_hnswlib-0.7.6-cp310-cp310-manylinux_2_17_x86_64.manylinux2014_x86_64.whl.metadata (252 bytes)\n",
            "Requirement already satisfied: fastapi>=0.95.2 in /usr/local/lib/python3.10/dist-packages (from chromadb) (0.115.6)\n",
            "Requirement already satisfied: uvicorn>=0.18.3 in /usr/local/lib/python3.10/dist-packages (from uvicorn[standard]>=0.18.3->chromadb) (0.32.1)\n",
            "Requirement already satisfied: numpy>=1.22.5 in /usr/local/lib/python3.10/dist-packages (from chromadb) (1.26.4)\n",
            "Requirement already satisfied: posthog>=2.4.0 in /usr/local/lib/python3.10/dist-packages (from chromadb) (3.7.4)\n",
            "Requirement already satisfied: typing_extensions>=4.5.0 in /usr/local/lib/python3.10/dist-packages (from chromadb) (4.12.2)\n",
            "Requirement already satisfied: onnxruntime>=1.14.1 in /usr/local/lib/python3.10/dist-packages (from chromadb) (1.20.1)\n",
            "Requirement already satisfied: opentelemetry-api>=1.2.0 in /usr/local/lib/python3.10/dist-packages (from chromadb) (1.28.2)\n",
            "Collecting opentelemetry-exporter-otlp-proto-grpc>=1.2.0 (from chromadb)\n",
            "  Downloading opentelemetry_exporter_otlp_proto_grpc-1.28.2-py3-none-any.whl.metadata (2.2 kB)\n",
            "Collecting opentelemetry-instrumentation-fastapi>=0.41b0 (from chromadb)\n",
            "  Downloading opentelemetry_instrumentation_fastapi-0.49b2-py3-none-any.whl.metadata (2.1 kB)\n",
            "Requirement already satisfied: opentelemetry-sdk>=1.2.0 in /usr/local/lib/python3.10/dist-packages (from chromadb) (1.28.2)\n",
            "Collecting tokenizers<=0.20.3,>=0.13.2 (from chromadb)\n",
            "  Downloading tokenizers-0.20.3-cp310-cp310-manylinux_2_17_x86_64.manylinux2014_x86_64.whl.metadata (6.7 kB)\n",
            "Collecting pypika>=0.48.9 (from chromadb)\n",
            "  Downloading PyPika-0.48.9.tar.gz (67 kB)\n",
            "\u001b[2K     \u001b[90m━━━━━━━━━━━━━━━━━━━━━━━━━━━━━━━━━━━━━━━━\u001b[0m \u001b[32m67.3/67.3 kB\u001b[0m \u001b[31m3.1 MB/s\u001b[0m eta \u001b[36m0:00:00\u001b[0m\n",
            "\u001b[?25h  Installing build dependencies ... \u001b[?25l\u001b[?25hdone\n",
            "  Getting requirements to build wheel ... \u001b[?25l\u001b[?25hdone\n",
            "  Preparing metadata (pyproject.toml) ... \u001b[?25l\u001b[?25hdone\n",
            "Requirement already satisfied: tqdm>=4.65.0 in /usr/local/lib/python3.10/dist-packages (from chromadb) (4.66.6)\n",
            "Requirement already satisfied: overrides>=7.3.1 in /usr/local/lib/python3.10/dist-packages (from chromadb) (7.7.0)\n",
            "Requirement already satisfied: importlib-resources in /usr/local/lib/python3.10/dist-packages (from chromadb) (6.4.5)\n",
            "Requirement already satisfied: grpcio>=1.58.0 in /usr/local/lib/python3.10/dist-packages (from chromadb) (1.68.1)\n",
            "Collecting bcrypt>=4.0.1 (from chromadb)\n",
            "  Downloading bcrypt-4.2.1-cp39-abi3-manylinux_2_28_x86_64.whl.metadata (9.8 kB)\n",
            "Requirement already satisfied: typer>=0.9.0 in /usr/local/lib/python3.10/dist-packages (from chromadb) (0.15.0)\n",
            "Collecting kubernetes>=28.1.0 (from chromadb)\n",
            "  Downloading kubernetes-31.0.0-py2.py3-none-any.whl.metadata (1.5 kB)\n",
            "Requirement already satisfied: tenacity>=8.2.3 in /usr/local/lib/python3.10/dist-packages (from chromadb) (9.0.0)\n",
            "Requirement already satisfied: PyYAML>=6.0.0 in /usr/local/lib/python3.10/dist-packages (from chromadb) (6.0.2)\n",
            "Collecting mmh3>=4.0.1 (from chromadb)\n",
            "  Downloading mmh3-5.0.1-cp310-cp310-manylinux_2_5_x86_64.manylinux1_x86_64.manylinux_2_17_x86_64.manylinux2014_x86_64.whl.metadata (14 kB)\n",
            "Requirement already satisfied: orjson>=3.9.12 in /usr/local/lib/python3.10/dist-packages (from chromadb) (3.10.12)\n",
            "Requirement already satisfied: httpx>=0.27.0 in /usr/local/lib/python3.10/dist-packages (from chromadb) (0.28.0)\n",
            "Requirement already satisfied: rich>=10.11.0 in /usr/local/lib/python3.10/dist-packages (from chromadb) (13.9.4)\n",
            "Requirement already satisfied: packaging>=19.1 in /usr/local/lib/python3.10/dist-packages (from build>=1.0.3->chromadb) (24.2)\n",
            "Collecting pyproject_hooks (from build>=1.0.3->chromadb)\n",
            "  Downloading pyproject_hooks-1.2.0-py3-none-any.whl.metadata (1.3 kB)\n",
            "Requirement already satisfied: tomli>=1.1.0 in /usr/local/lib/python3.10/dist-packages (from build>=1.0.3->chromadb) (2.2.1)\n",
            "Requirement already satisfied: starlette<0.42.0,>=0.40.0 in /usr/local/lib/python3.10/dist-packages (from fastapi>=0.95.2->chromadb) (0.41.3)\n",
            "Requirement already satisfied: anyio in /usr/local/lib/python3.10/dist-packages (from httpx>=0.27.0->chromadb) (3.7.1)\n",
            "Requirement already satisfied: certifi in /usr/local/lib/python3.10/dist-packages (from httpx>=0.27.0->chromadb) (2024.8.30)\n",
            "Requirement already satisfied: httpcore==1.* in /usr/local/lib/python3.10/dist-packages (from httpx>=0.27.0->chromadb) (1.0.7)\n",
            "Requirement already satisfied: idna in /usr/local/lib/python3.10/dist-packages (from httpx>=0.27.0->chromadb) (3.10)\n",
            "Requirement already satisfied: h11<0.15,>=0.13 in /usr/local/lib/python3.10/dist-packages (from httpcore==1.*->httpx>=0.27.0->chromadb) (0.14.0)\n",
            "Requirement already satisfied: six>=1.9.0 in /usr/local/lib/python3.10/dist-packages (from kubernetes>=28.1.0->chromadb) (1.16.0)\n",
            "Requirement already satisfied: python-dateutil>=2.5.3 in /usr/local/lib/python3.10/dist-packages (from kubernetes>=28.1.0->chromadb) (2.8.2)\n",
            "Requirement already satisfied: google-auth>=1.0.1 in /usr/local/lib/python3.10/dist-packages (from kubernetes>=28.1.0->chromadb) (2.27.0)\n",
            "Requirement already satisfied: websocket-client!=0.40.0,!=0.41.*,!=0.42.*,>=0.32.0 in /usr/local/lib/python3.10/dist-packages (from kubernetes>=28.1.0->chromadb) (1.8.0)\n",
            "Requirement already satisfied: requests in /usr/local/lib/python3.10/dist-packages (from kubernetes>=28.1.0->chromadb) (2.32.3)\n",
            "Requirement already satisfied: requests-oauthlib in /usr/local/lib/python3.10/dist-packages (from kubernetes>=28.1.0->chromadb) (1.3.1)\n",
            "Requirement already satisfied: oauthlib>=3.2.2 in /usr/local/lib/python3.10/dist-packages (from kubernetes>=28.1.0->chromadb) (3.2.2)\n",
            "Requirement already satisfied: urllib3>=1.24.2 in /usr/local/lib/python3.10/dist-packages (from kubernetes>=28.1.0->chromadb) (2.2.3)\n",
            "Collecting durationpy>=0.7 (from kubernetes>=28.1.0->chromadb)\n",
            "  Downloading durationpy-0.9-py3-none-any.whl.metadata (338 bytes)\n",
            "Requirement already satisfied: coloredlogs in /usr/local/lib/python3.10/dist-packages (from onnxruntime>=1.14.1->chromadb) (15.0.1)\n",
            "Requirement already satisfied: flatbuffers in /usr/local/lib/python3.10/dist-packages (from onnxruntime>=1.14.1->chromadb) (24.3.25)\n",
            "Requirement already satisfied: protobuf in /usr/local/lib/python3.10/dist-packages (from onnxruntime>=1.14.1->chromadb) (4.25.5)\n",
            "Requirement already satisfied: sympy in /usr/local/lib/python3.10/dist-packages (from onnxruntime>=1.14.1->chromadb) (1.13.1)\n",
            "Requirement already satisfied: deprecated>=1.2.6 in /usr/local/lib/python3.10/dist-packages (from opentelemetry-api>=1.2.0->chromadb) (1.2.15)\n",
            "Requirement already satisfied: importlib-metadata<=8.5.0,>=6.0 in /usr/local/lib/python3.10/dist-packages (from opentelemetry-api>=1.2.0->chromadb) (8.5.0)\n",
            "Requirement already satisfied: googleapis-common-protos~=1.52 in /usr/local/lib/python3.10/dist-packages (from opentelemetry-exporter-otlp-proto-grpc>=1.2.0->chromadb) (1.66.0)\n",
            "Collecting opentelemetry-exporter-otlp-proto-common==1.28.2 (from opentelemetry-exporter-otlp-proto-grpc>=1.2.0->chromadb)\n",
            "  Downloading opentelemetry_exporter_otlp_proto_common-1.28.2-py3-none-any.whl.metadata (1.8 kB)\n",
            "Collecting opentelemetry-proto==1.28.2 (from opentelemetry-exporter-otlp-proto-grpc>=1.2.0->chromadb)\n",
            "  Downloading opentelemetry_proto-1.28.2-py3-none-any.whl.metadata (2.3 kB)\n",
            "Collecting protobuf (from onnxruntime>=1.14.1->chromadb)\n",
            "  Downloading protobuf-5.29.1-cp38-abi3-manylinux2014_x86_64.whl.metadata (592 bytes)\n",
            "Collecting opentelemetry-instrumentation-asgi==0.49b2 (from opentelemetry-instrumentation-fastapi>=0.41b0->chromadb)\n",
            "  Downloading opentelemetry_instrumentation_asgi-0.49b2-py3-none-any.whl.metadata (1.9 kB)\n",
            "Collecting opentelemetry-instrumentation==0.49b2 (from opentelemetry-instrumentation-fastapi>=0.41b0->chromadb)\n",
            "  Downloading opentelemetry_instrumentation-0.49b2-py3-none-any.whl.metadata (6.1 kB)\n",
            "Requirement already satisfied: opentelemetry-semantic-conventions==0.49b2 in /usr/local/lib/python3.10/dist-packages (from opentelemetry-instrumentation-fastapi>=0.41b0->chromadb) (0.49b2)\n",
            "Collecting opentelemetry-util-http==0.49b2 (from opentelemetry-instrumentation-fastapi>=0.41b0->chromadb)\n",
            "  Downloading opentelemetry_util_http-0.49b2-py3-none-any.whl.metadata (2.5 kB)\n",
            "Requirement already satisfied: wrapt<2.0.0,>=1.0.0 in /usr/local/lib/python3.10/dist-packages (from opentelemetry-instrumentation==0.49b2->opentelemetry-instrumentation-fastapi>=0.41b0->chromadb) (1.17.0)\n",
            "Collecting asgiref~=3.0 (from opentelemetry-instrumentation-asgi==0.49b2->opentelemetry-instrumentation-fastapi>=0.41b0->chromadb)\n",
            "  Downloading asgiref-3.8.1-py3-none-any.whl.metadata (9.3 kB)\n",
            "Requirement already satisfied: monotonic>=1.5 in /usr/local/lib/python3.10/dist-packages (from posthog>=2.4.0->chromadb) (1.6)\n",
            "Requirement already satisfied: backoff>=1.10.0 in /usr/local/lib/python3.10/dist-packages (from posthog>=2.4.0->chromadb) (2.2.1)\n",
            "Requirement already satisfied: annotated-types>=0.6.0 in /usr/local/lib/python3.10/dist-packages (from pydantic>=1.9->chromadb) (0.7.0)\n",
            "Requirement already satisfied: pydantic-core==2.27.1 in /usr/local/lib/python3.10/dist-packages (from pydantic>=1.9->chromadb) (2.27.1)\n",
            "Requirement already satisfied: markdown-it-py>=2.2.0 in /usr/local/lib/python3.10/dist-packages (from rich>=10.11.0->chromadb) (3.0.0)\n",
            "Requirement already satisfied: pygments<3.0.0,>=2.13.0 in /usr/local/lib/python3.10/dist-packages (from rich>=10.11.0->chromadb) (2.18.0)\n",
            "Requirement already satisfied: huggingface-hub<1.0,>=0.16.4 in /usr/local/lib/python3.10/dist-packages (from tokenizers<=0.20.3,>=0.13.2->chromadb) (0.26.3)\n",
            "Requirement already satisfied: click>=8.0.0 in /usr/local/lib/python3.10/dist-packages (from typer>=0.9.0->chromadb) (8.1.7)\n",
            "Requirement already satisfied: shellingham>=1.3.0 in /usr/local/lib/python3.10/dist-packages (from typer>=0.9.0->chromadb) (1.5.4)\n",
            "Requirement already satisfied: httptools>=0.6.3 in /usr/local/lib/python3.10/dist-packages (from uvicorn[standard]>=0.18.3->chromadb) (0.6.4)\n",
            "Requirement already satisfied: python-dotenv>=0.13 in /usr/local/lib/python3.10/dist-packages (from uvicorn[standard]>=0.18.3->chromadb) (1.0.1)\n",
            "Requirement already satisfied: uvloop!=0.15.0,!=0.15.1,>=0.14.0 in /usr/local/lib/python3.10/dist-packages (from uvicorn[standard]>=0.18.3->chromadb) (0.21.0)\n",
            "Requirement already satisfied: watchfiles>=0.13 in /usr/local/lib/python3.10/dist-packages (from uvicorn[standard]>=0.18.3->chromadb) (1.0.3)\n",
            "Requirement already satisfied: websockets>=10.4 in /usr/local/lib/python3.10/dist-packages (from uvicorn[standard]>=0.18.3->chromadb) (14.1)\n",
            "Requirement already satisfied: cachetools<6.0,>=2.0.0 in /usr/local/lib/python3.10/dist-packages (from google-auth>=1.0.1->kubernetes>=28.1.0->chromadb) (5.5.0)\n",
            "Requirement already satisfied: pyasn1-modules>=0.2.1 in /usr/local/lib/python3.10/dist-packages (from google-auth>=1.0.1->kubernetes>=28.1.0->chromadb) (0.4.1)\n",
            "Requirement already satisfied: rsa<5,>=3.1.4 in /usr/local/lib/python3.10/dist-packages (from google-auth>=1.0.1->kubernetes>=28.1.0->chromadb) (4.9)\n",
            "Requirement already satisfied: filelock in /usr/local/lib/python3.10/dist-packages (from huggingface-hub<1.0,>=0.16.4->tokenizers<=0.20.3,>=0.13.2->chromadb) (3.16.1)\n",
            "Requirement already satisfied: fsspec>=2023.5.0 in /usr/local/lib/python3.10/dist-packages (from huggingface-hub<1.0,>=0.16.4->tokenizers<=0.20.3,>=0.13.2->chromadb) (2024.10.0)\n",
            "Requirement already satisfied: zipp>=3.20 in /usr/local/lib/python3.10/dist-packages (from importlib-metadata<=8.5.0,>=6.0->opentelemetry-api>=1.2.0->chromadb) (3.21.0)\n",
            "Requirement already satisfied: mdurl~=0.1 in /usr/local/lib/python3.10/dist-packages (from markdown-it-py>=2.2.0->rich>=10.11.0->chromadb) (0.1.2)\n",
            "Requirement already satisfied: charset-normalizer<4,>=2 in /usr/local/lib/python3.10/dist-packages (from requests->kubernetes>=28.1.0->chromadb) (3.4.0)\n",
            "Requirement already satisfied: sniffio>=1.1 in /usr/local/lib/python3.10/dist-packages (from anyio->httpx>=0.27.0->chromadb) (1.3.1)\n",
            "Requirement already satisfied: exceptiongroup in /usr/local/lib/python3.10/dist-packages (from anyio->httpx>=0.27.0->chromadb) (1.2.2)\n",
            "Requirement already satisfied: humanfriendly>=9.1 in /usr/local/lib/python3.10/dist-packages (from coloredlogs->onnxruntime>=1.14.1->chromadb) (10.0)\n",
            "Requirement already satisfied: mpmath<1.4,>=1.1.0 in /usr/local/lib/python3.10/dist-packages (from sympy->onnxruntime>=1.14.1->chromadb) (1.3.0)\n",
            "Requirement already satisfied: pyasn1<0.7.0,>=0.4.6 in /usr/local/lib/python3.10/dist-packages (from pyasn1-modules>=0.2.1->google-auth>=1.0.1->kubernetes>=28.1.0->chromadb) (0.6.1)\n",
            "Downloading chromadb-0.5.23-py3-none-any.whl (628 kB)\n",
            "\u001b[2K   \u001b[90m━━━━━━━━━━━━━━━━━━━━━━━━━━━━━━━━━━━━━━━━\u001b[0m \u001b[32m628.3/628.3 kB\u001b[0m \u001b[31m19.6 MB/s\u001b[0m eta \u001b[36m0:00:00\u001b[0m\n",
            "\u001b[?25hDownloading chroma_hnswlib-0.7.6-cp310-cp310-manylinux_2_17_x86_64.manylinux2014_x86_64.whl (2.4 MB)\n",
            "\u001b[2K   \u001b[90m━━━━━━━━━━━━━━━━━━━━━━━━━━━━━━━━━━━━━━━━\u001b[0m \u001b[32m2.4/2.4 MB\u001b[0m \u001b[31m46.9 MB/s\u001b[0m eta \u001b[36m0:00:00\u001b[0m\n",
            "\u001b[?25hDownloading bcrypt-4.2.1-cp39-abi3-manylinux_2_28_x86_64.whl (278 kB)\n",
            "\u001b[2K   \u001b[90m━━━━━━━━━━━━━━━━━━━━━━━━━━━━━━━━━━━━━━━━\u001b[0m \u001b[32m278.6/278.6 kB\u001b[0m \u001b[31m21.0 MB/s\u001b[0m eta \u001b[36m0:00:00\u001b[0m\n",
            "\u001b[?25hDownloading build-1.2.2.post1-py3-none-any.whl (22 kB)\n",
            "Downloading kubernetes-31.0.0-py2.py3-none-any.whl (1.9 MB)\n",
            "\u001b[2K   \u001b[90m━━━━━━━━━━━━━━━━━━━━━━━━━━━━━━━━━━━━━━━━\u001b[0m \u001b[32m1.9/1.9 MB\u001b[0m \u001b[31m67.6 MB/s\u001b[0m eta \u001b[36m0:00:00\u001b[0m\n",
            "\u001b[?25hDownloading mmh3-5.0.1-cp310-cp310-manylinux_2_5_x86_64.manylinux1_x86_64.manylinux_2_17_x86_64.manylinux2014_x86_64.whl (93 kB)\n",
            "\u001b[2K   \u001b[90m━━━━━━━━━━━━━━━━━━━━━━━━━━━━━━━━━━━━━━━━\u001b[0m \u001b[32m93.2/93.2 kB\u001b[0m \u001b[31m8.6 MB/s\u001b[0m eta \u001b[36m0:00:00\u001b[0m\n",
            "\u001b[?25hDownloading opentelemetry_exporter_otlp_proto_grpc-1.28.2-py3-none-any.whl (18 kB)\n",
            "Downloading opentelemetry_exporter_otlp_proto_common-1.28.2-py3-none-any.whl (18 kB)\n",
            "Downloading opentelemetry_proto-1.28.2-py3-none-any.whl (55 kB)\n",
            "\u001b[2K   \u001b[90m━━━━━━━━━━━━━━━━━━━━━━━━━━━━━━━━━━━━━━━━\u001b[0m \u001b[32m55.8/55.8 kB\u001b[0m \u001b[31m5.0 MB/s\u001b[0m eta \u001b[36m0:00:00\u001b[0m\n",
            "\u001b[?25hDownloading opentelemetry_instrumentation_fastapi-0.49b2-py3-none-any.whl (12 kB)\n",
            "Downloading opentelemetry_instrumentation-0.49b2-py3-none-any.whl (30 kB)\n",
            "Downloading opentelemetry_instrumentation_asgi-0.49b2-py3-none-any.whl (16 kB)\n",
            "Downloading opentelemetry_util_http-0.49b2-py3-none-any.whl (6.9 kB)\n",
            "Downloading tokenizers-0.20.3-cp310-cp310-manylinux_2_17_x86_64.manylinux2014_x86_64.whl (3.0 MB)\n",
            "\u001b[2K   \u001b[90m━━━━━━━━━━━━━━━━━━━━━━━━━━━━━━━━━━━━━━━━\u001b[0m \u001b[32m3.0/3.0 MB\u001b[0m \u001b[31m74.8 MB/s\u001b[0m eta \u001b[36m0:00:00\u001b[0m\n",
            "\u001b[?25hDownloading durationpy-0.9-py3-none-any.whl (3.5 kB)\n",
            "Downloading protobuf-5.29.1-cp38-abi3-manylinux2014_x86_64.whl (319 kB)\n",
            "\u001b[2K   \u001b[90m━━━━━━━━━━━━━━━━━━━━━━━━━━━━━━━━━━━━━━━━\u001b[0m \u001b[32m319.7/319.7 kB\u001b[0m \u001b[31m25.7 MB/s\u001b[0m eta \u001b[36m0:00:00\u001b[0m\n",
            "\u001b[?25hDownloading pyproject_hooks-1.2.0-py3-none-any.whl (10 kB)\n",
            "Downloading asgiref-3.8.1-py3-none-any.whl (23 kB)\n",
            "Building wheels for collected packages: pypika\n",
            "  Building wheel for pypika (pyproject.toml) ... \u001b[?25l\u001b[?25hdone\n",
            "  Created wheel for pypika: filename=PyPika-0.48.9-py2.py3-none-any.whl size=53725 sha256=634f48980fe0bcbefc66734d77fcc7732207f4f07a22c5e4c5887342ba0a2a08\n",
            "  Stored in directory: /root/.cache/pip/wheels/e1/26/51/d0bffb3d2fd82256676d7ad3003faea3bd6dddc9577af665f4\n",
            "Successfully built pypika\n",
            "Installing collected packages: pypika, durationpy, pyproject_hooks, protobuf, opentelemetry-util-http, mmh3, chroma-hnswlib, bcrypt, asgiref, opentelemetry-proto, build, tokenizers, opentelemetry-exporter-otlp-proto-common, kubernetes, opentelemetry-instrumentation, opentelemetry-instrumentation-asgi, opentelemetry-exporter-otlp-proto-grpc, opentelemetry-instrumentation-fastapi, chromadb\n",
            "  Attempting uninstall: protobuf\n",
            "    Found existing installation: protobuf 4.25.5\n",
            "    Uninstalling protobuf-4.25.5:\n",
            "      Successfully uninstalled protobuf-4.25.5\n",
            "  Attempting uninstall: tokenizers\n",
            "    Found existing installation: tokenizers 0.21.0\n",
            "    Uninstalling tokenizers-0.21.0:\n",
            "      Successfully uninstalled tokenizers-0.21.0\n",
            "\u001b[31mERROR: pip's dependency resolver does not currently take into account all the packages that are installed. This behaviour is the source of the following dependency conflicts.\n",
            "tensorflow 2.17.1 requires protobuf!=4.21.0,!=4.21.1,!=4.21.2,!=4.21.3,!=4.21.4,!=4.21.5,<5.0.0dev,>=3.20.3, but you have protobuf 5.29.1 which is incompatible.\n",
            "tensorflow-metadata 1.13.1 requires protobuf<5,>=3.20.3, but you have protobuf 5.29.1 which is incompatible.\n",
            "transformers 4.47.0 requires tokenizers<0.22,>=0.21, but you have tokenizers 0.20.3 which is incompatible.\u001b[0m\u001b[31m\n",
            "\u001b[0mSuccessfully installed asgiref-3.8.1 bcrypt-4.2.1 build-1.2.2.post1 chroma-hnswlib-0.7.6 chromadb-0.5.23 durationpy-0.9 kubernetes-31.0.0 mmh3-5.0.1 opentelemetry-exporter-otlp-proto-common-1.28.2 opentelemetry-exporter-otlp-proto-grpc-1.28.2 opentelemetry-instrumentation-0.49b2 opentelemetry-instrumentation-asgi-0.49b2 opentelemetry-instrumentation-fastapi-0.49b2 opentelemetry-proto-1.28.2 opentelemetry-util-http-0.49b2 protobuf-5.29.1 pypika-0.48.9 pyproject_hooks-1.2.0 tokenizers-0.20.3\n"
          ]
        }
      ]
    },
    {
      "cell_type": "code",
      "source": [
        "# HERE ARE THE VERSION NUMBERS THAT WORKED FOR ME:\n",
        "# CAREFUL WITH PYDANTIC, DO IT LAST SINCE CHROMA AND LANGCHAIN AUTO INSTALL IT AS A DEPENDENCY\n",
        "# Use this to install specific versions numbers:\n",
        "# !pip install package_name==0.3.26\n",
        "import chromadb\n",
        "print(chromadb.__version__)\n",
        "import langchain\n",
        "print(langchain.__version__)\n",
        "import pydantic\n",
        "print(pydantic.__version__)"
      ],
      "metadata": {
        "colab": {
          "base_uri": "https://localhost:8080/"
        },
        "id": "4eu6_S1u0EQ3",
        "outputId": "bcbb4aeb-1776-42e8-f6da-882cb98fad17"
      },
      "execution_count": 75,
      "outputs": [
        {
          "output_type": "stream",
          "name": "stdout",
          "text": [
            "0.5.23\n",
            "0.3.11\n",
            "2.10.3\n"
          ]
        }
      ]
    },
    {
      "cell_type": "code",
      "source": [
        "from langchain_huggingface import HuggingFaceEndpointEmbeddings\n",
        "from langchain.text_splitter import CharacterTextSplitter\n",
        "from langchain.vectorstores import Chroma\n",
        "from langchain.document_loaders import TextLoader"
      ],
      "metadata": {
        "id": "qBpPGLDl0cq_"
      },
      "execution_count": 76,
      "outputs": []
    },
    {
      "cell_type": "markdown",
      "source": [
        "#### Load Document and Split (even if under context window, still recommended)"
      ],
      "metadata": {
        "id": "YrsO9urQ1kFh"
      }
    },
    {
      "cell_type": "code",
      "source": [
        "# load the document and split it into chunks\n",
        "loader = TextLoader(\"/content/some_data/FDR_State_of_Union_1944.txt\")\n",
        "documents = loader.load()\n",
        "\n",
        "# split it into chunks\n",
        "text_splitter = CharacterTextSplitter.from_tiktoken_encoder(chunk_size=500)\n",
        "docs = text_splitter.split_documents(documents)"
      ],
      "metadata": {
        "id": "KB-MH3x91X3L"
      },
      "execution_count": 66,
      "outputs": []
    },
    {
      "cell_type": "markdown",
      "source": [
        "### 1.0.2. Connect to HuggingFace for Embeddings"
      ],
      "metadata": {
        "id": "8WDquLeQ1y0u"
      }
    },
    {
      "cell_type": "code",
      "source": [
        "embedding_function= HuggingFaceEndpointEmbeddings()"
      ],
      "metadata": {
        "id": "t-6JL2mj1v6o"
      },
      "execution_count": 77,
      "outputs": []
    },
    {
      "cell_type": "markdown",
      "source": [
        "####  Pass Embeddings and Docs into Chroma"
      ],
      "metadata": {
        "id": "9J7kdET51-k_"
      }
    },
    {
      "cell_type": "code",
      "source": [
        "# load it into Chroma\n",
        "db = Chroma.from_documents(docs, embedding_function,persist_directory='/content/speech_embedding_db')"
      ],
      "metadata": {
        "id": "1FGcrnHJ2AtS"
      },
      "execution_count": 78,
      "outputs": []
    },
    {
      "cell_type": "markdown",
      "source": [
        "#### Save the new embeddings to disk"
      ],
      "metadata": {
        "id": "YKrPrwRS2Dj7"
      }
    },
    {
      "cell_type": "code",
      "source": [
        "# Helpful to force a save\n",
        "db.persist()"
      ],
      "metadata": {
        "colab": {
          "base_uri": "https://localhost:8080/"
        },
        "id": "ghb7z9dL3GTn",
        "outputId": "4531c70d-6abe-4533-eb82-b71118487a6f"
      },
      "execution_count": 79,
      "outputs": [
        {
          "output_type": "stream",
          "name": "stderr",
          "text": [
            "<ipython-input-79-9ffd9455183f>:2: LangChainDeprecationWarning: Since Chroma 0.4.x the manual persistence method is no longer supported as docs are automatically persisted.\n",
            "  db.persist()\n"
          ]
        }
      ]
    },
    {
      "cell_type": "markdown",
      "source": [
        "#### Load Embeddings from Disk"
      ],
      "metadata": {
        "id": "nuQ3nWme3LVJ"
      }
    },
    {
      "cell_type": "code",
      "source": [
        "db_connection = Chroma(persist_directory='/content/speech_embedding_db', embedding_function=embedding_function)"
      ],
      "metadata": {
        "colab": {
          "base_uri": "https://localhost:8080/"
        },
        "id": "kFskf_9M3IPQ",
        "outputId": "ec254b28-37c8-4221-b7a9-f3e479104176"
      },
      "execution_count": 80,
      "outputs": [
        {
          "output_type": "stream",
          "name": "stderr",
          "text": [
            "<ipython-input-80-04f38f45cb72>:1: LangChainDeprecationWarning: The class `Chroma` was deprecated in LangChain 0.2.9 and will be removed in 1.0. An updated version of the class exists in the :class:`~langchain-chroma package and should be used instead. To use it run `pip install -U :class:`~langchain-chroma` and import as `from :class:`~langchain_chroma import Chroma``.\n",
            "  db_connection = Chroma(persist_directory='/content/speech_embedding_db', embedding_function=embedding_function)\n"
          ]
        }
      ]
    },
    {
      "cell_type": "code",
      "source": [
        "# WATCH THE VIDEO TO TRULY UNDERSTAND WHY YOU MAY NOT WANT TO DO DIRECT QUESTIONS!\n",
        "new_doc = \"What did FDR say about the cost of food law?\"\n",
        "\n",
        "docs = db_connection.similarity_search(new_doc)\n",
        "print(docs[0].page_content)"
      ],
      "metadata": {
        "colab": {
          "base_uri": "https://localhost:8080/"
        },
        "id": "d5wy-0QB3TOW",
        "outputId": "a8d5d92f-4f88-49a5-bb27-f2a938383713"
      },
      "execution_count": 81,
      "outputs": [
        {
          "output_type": "stream",
          "name": "stdout",
          "text": [
            "That is the way to fight and win a war—all out—and not with half-an-eye on the battlefronts abroad and the other eye-and-a-half on personal, selfish, or political interests here at home.\n",
            "\n",
            "Therefore, in order to concentrate all our energies and resources on winning the war, and to maintain a fair and stable economy at home, I recommend that the Congress adopt:\n",
            "\n",
            "(1) A realistic tax law—which will tax all unreasonable profits, both individual and corporate, and reduce the ultimate cost of the war to our sons and daughters. The tax bill now under consideration by the Congress does not begin to meet this test.\n",
            "\n",
            "(2) A continuation of the law for the renegotiation of war contracts—which will prevent exorbitant profits and assure fair prices to the Government. For two long years I have pleaded with the Congress to take undue profits out of war.\n",
            "\n",
            "(3) A cost of food law—which will enable the Government (a) to place a reasonable floor under the prices the farmer may expect for his production; and (b) to place a ceiling on the prices a consumer will have to pay for the food he buys. This should apply to necessities only; and will require public funds to carry out. It will cost in appropriations about one percent of the present annual cost of the war.\n",
            "\n",
            "(4) Early reenactment of. the stabilization statute of October, 1942. This expires June 30, 1944, and if it is not extended well in advance, the country might just as well expect price chaos by summer.\n",
            "\n",
            "(5) A national service law- which, for the duration of the war, will prevent strikes, and, with certain appropriate exceptions, will make available for war production or for any other essential services every able-bodied adult in this Nation.\n",
            "\n",
            "These five measures together form a just and equitable whole. I would not recommend a national service law unless the other laws were passed to keep down the cost of living, to share equitably the burdens of taxation, to hold the stabilization line, and to prevent undue profits.\n",
            "\n",
            "The Federal Government already has the basic power to draft capital and property of all kinds for war purposes on a basis of just compensation.\n"
          ]
        }
      ]
    },
    {
      "cell_type": "markdown",
      "source": [
        "#### Add New Document"
      ],
      "metadata": {
        "id": "9V1n36nY3gTw"
      }
    },
    {
      "cell_type": "code",
      "source": [
        "# load the document and split it into chunks\n",
        "loader = TextLoader(\"/content/some_data/Lincoln_State_of_Union_1862.txt\")\n",
        "documents = loader.load()\n",
        "\n",
        "# split it into chunks\n",
        "text_splitter = CharacterTextSplitter.from_tiktoken_encoder(chunk_size=500)\n",
        "docs = text_splitter.split_documents(documents)"
      ],
      "metadata": {
        "colab": {
          "base_uri": "https://localhost:8080/"
        },
        "id": "EiQY-Wxa3aAN",
        "outputId": "425f0968-214d-4968-d48e-6431debc4f1c"
      },
      "execution_count": 82,
      "outputs": [
        {
          "output_type": "stream",
          "name": "stderr",
          "text": [
            "WARNING:langchain_text_splitters.base:Created a chunk of size 608, which is longer than the specified 500\n",
            "WARNING:langchain_text_splitters.base:Created a chunk of size 539, which is longer than the specified 500\n",
            "WARNING:langchain_text_splitters.base:Created a chunk of size 686, which is longer than the specified 500\n"
          ]
        }
      ]
    },
    {
      "cell_type": "code",
      "source": [
        "# load it into Chroma\n",
        "db = Chroma.from_documents(docs, embedding_function,persist_directory='./speech_embedding_db')\n",
        "\n",
        "docs = db.similarity_search('slavery')\n",
        "docs[0].page_content"
      ],
      "metadata": {
        "colab": {
          "base_uri": "https://localhost:8080/",
          "height": 126
        },
        "id": "Kq5TMGg53r5t",
        "outputId": "c4b20d0b-bf9d-47dd-dd66-ba27289b0f0b"
      },
      "execution_count": 83,
      "outputs": [
        {
          "output_type": "execute_result",
          "data": {
            "text/plain": [
              "'In this view I recommend the adoption of the following resolution and articles amendatory to the Constitution of the United States:\\n\\nResolved by the Senate and House of Representatives of the United States of America in Congress assembled (two-thirds of both Houses concurring), That the following articles be proposed to the legislatures (or conventions) of the several States as amendments to the Constitution of the United States, all or any of which articles, when ratified by three-fourths of the said legislatures (or conventions ), to be valid as part or parts of the said Constitution, viz:\\nART.--. Every State wherein slavery now exists which shall abolish the same therein at any time or times before the 1st day of January., A. D. 1900, shall receive compensation from the United States as follows, to wit:\\nThe President of the United States shall deliver to every such State bonds of the United States bearing interest at the rate of per cent per annum to an amount equal to the aggregate sum of____for each slave shown to have been therein by the Eighth Census of the United States, said bonds to be delivered to such State by installments or in one parcel at the completion of the abolishment, accordingly as the same shall have been gradual or at one time within such State; and interest shall begin to run upon any such bond only from the proper time of its delivery as aforesaid. Any State having received bonds as aforesaid and afterwards reintroducing or tolerating slavery therein shall refund to the United States the bonds so received, or the value thereof, and all interest paid thereon.\\nART—All slaves who shall have enjoyed actual freedom by the chances of the war at any time before the end of the rebellion shall be forever free; but all owners of such who shall not have been disloyal shall be compensated for them at the same rates as is provided for States adopting abolishment of slavery, but in such way that no slave shall be twice accounted for.\\nART.--Congress may appropriate money and otherwise provide for colonizing free colored persons with their own consent at any place or places without the United States.\\nI beg indulgence to discuss these proposed articles at some length. Without slavery the rebellion could never have existed; without slavery it could not continue.'"
            ],
            "application/vnd.google.colaboratory.intrinsic+json": {
              "type": "string"
            }
          },
          "metadata": {},
          "execution_count": 83
        }
      ]
    },
    {
      "cell_type": "code",
      "source": [
        "print(docs[0].page_content)"
      ],
      "metadata": {
        "colab": {
          "base_uri": "https://localhost:8080/"
        },
        "id": "86vEGt8O3z2S",
        "outputId": "63f4d614-33ed-4b56-f9f6-d0618a996ef4"
      },
      "execution_count": 84,
      "outputs": [
        {
          "output_type": "stream",
          "name": "stdout",
          "text": [
            "In this view I recommend the adoption of the following resolution and articles amendatory to the Constitution of the United States:\n",
            "\n",
            "Resolved by the Senate and House of Representatives of the United States of America in Congress assembled (two-thirds of both Houses concurring), That the following articles be proposed to the legislatures (or conventions) of the several States as amendments to the Constitution of the United States, all or any of which articles, when ratified by three-fourths of the said legislatures (or conventions ), to be valid as part or parts of the said Constitution, viz:\n",
            "ART.--. Every State wherein slavery now exists which shall abolish the same therein at any time or times before the 1st day of January., A. D. 1900, shall receive compensation from the United States as follows, to wit:\n",
            "The President of the United States shall deliver to every such State bonds of the United States bearing interest at the rate of per cent per annum to an amount equal to the aggregate sum of____for each slave shown to have been therein by the Eighth Census of the United States, said bonds to be delivered to such State by installments or in one parcel at the completion of the abolishment, accordingly as the same shall have been gradual or at one time within such State; and interest shall begin to run upon any such bond only from the proper time of its delivery as aforesaid. Any State having received bonds as aforesaid and afterwards reintroducing or tolerating slavery therein shall refund to the United States the bonds so received, or the value thereof, and all interest paid thereon.\n",
            "ART—All slaves who shall have enjoyed actual freedom by the chances of the war at any time before the end of the rebellion shall be forever free; but all owners of such who shall not have been disloyal shall be compensated for them at the same rates as is provided for States adopting abolishment of slavery, but in such way that no slave shall be twice accounted for.\n",
            "ART.--Congress may appropriate money and otherwise provide for colonizing free colored persons with their own consent at any place or places without the United States.\n",
            "I beg indulgence to discuss these proposed articles at some length. Without slavery the rebellion could never have existed; without slavery it could not continue.\n"
          ]
        }
      ]
    },
    {
      "cell_type": "markdown",
      "source": [
        "## 2.7 Vector Store Retriever\n",
        "\n",
        "We already saw this object type in the previous lecture, let's review a few more of its properties:"
      ],
      "metadata": {
        "id": "Xr8pkHi14Rco"
      }
    },
    {
      "cell_type": "code",
      "source": [
        "# Build a sample vectorDB\n",
        "from langchain.vectorstores import Chroma\n",
        "from langchain.document_loaders import WikipediaLoader\n",
        "from langchain_huggingface import HuggingFaceEndpointEmbeddings\n",
        "from langchain.text_splitter import CharacterTextSplitter"
      ],
      "metadata": {
        "id": "OtrEcSTa35Sw"
      },
      "execution_count": 85,
      "outputs": []
    },
    {
      "cell_type": "code",
      "source": [
        "embedding_function = HuggingFaceEndpointEmbeddings()\n",
        "\n",
        "db_connection = Chroma(persist_directory='/content/mk_ultra',embedding_function=embedding_function)\n",
        "retriever = db_connection.as_retriever()"
      ],
      "metadata": {
        "id": "iu7Bn4Ou4nsf"
      },
      "execution_count": 86,
      "outputs": []
    },
    {
      "cell_type": "code",
      "source": [
        "search_kwargs = {\"score_threshold\":0.8, \"k\":4}\n",
        "docs = retriever.invoke(\"President\", search_kwargs=search_kwargs)\n",
        "print(len(docs))"
      ],
      "metadata": {
        "colab": {
          "base_uri": "https://localhost:8080/"
        },
        "id": "ZAH0T4DL44Zk",
        "outputId": "c3ddd16a-b29e-4261-a65e-909626cc50c9"
      },
      "execution_count": 88,
      "outputs": [
        {
          "output_type": "stream",
          "name": "stdout",
          "text": [
            "0\n"
          ]
        }
      ]
    },
    {
      "cell_type": "code",
      "source": [],
      "metadata": {
        "id": "9mIxClgZ4_dH"
      },
      "execution_count": null,
      "outputs": []
    }
  ]
}